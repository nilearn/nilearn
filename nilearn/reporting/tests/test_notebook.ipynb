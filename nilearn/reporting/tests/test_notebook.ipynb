{
 "cells": [
  {
   "cell_type": "code",
   "execution_count": null,
   "metadata": {},
   "outputs": [],
   "source": [
    "from nilearn.datasets import load_sample_motor_activation_image\n",
    "from nilearn.maskers import NiftiMasker\n",
    "\n",
    "stat_img = load_sample_motor_activation_image()\n",
    "\n",
    "nifti_masker = NiftiMasker()\n",
    "nifti_masker.fit(stat_img)\n",
    "nifti_masker_report = nifti_masker.generate_report()\n",
    "nifti_masker_report"
   ]
  }
 ],
 "metadata": {
  "kernelspec": {
   "display_name": "base",
   "language": "python",
   "name": "python3"
  },
  "language_info": {
   "codemirror_mode": {
    "name": "ipython",
    "version": 3
   },
   "file_extension": ".py",
   "mimetype": "text/x-python",
   "name": "python",
   "nbconvert_exporter": "python",
   "pygments_lexer": "ipython3",
   "version": "3.12.9"
  }
 },
 "nbformat": 4,
 "nbformat_minor": 2
}
