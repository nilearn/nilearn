{
  "cells": [
    {
      "cell_type": "code",
      "execution_count": null,
      "metadata": {
        "collapsed": false
      },
      "outputs": [],
      "source": [
        "%matplotlib inline"
      ]
    },
    {
      "cell_type": "markdown",
      "metadata": {},
      "source": [
        "\n# Computing a connectome with sparse inverse covariance\n\nThis example constructs a functional connectome using the sparse inverse\ncovariance.\n\nWe use the [MSDL atlas](https://team.inria.fr/parietal/18-2/spatial_patterns/spatial-patterns-in-resting-state/)\nof functional regions in movie watching, and the\n:class:`nilearn.maskers.NiftiMapsMasker` to extract time series.\n\nNote that the inverse covariance (or precision) contains values that can\nbe linked to *negated* partial correlations, so we negated it for\ndisplay.\n\nAs the MSDL atlas comes with (x, y, z) :term:`MNI` coordinates for\nthe different regions, we can visualize the matrix as a graph of\ninteraction in a brain. To avoid having too dense a graph, we\nrepresent only the 20% edges with the highest values.\n\n.. include:: ../../../examples/masker_note.rst\n"
      ]
    },
    {
      "cell_type": "markdown",
      "metadata": {},
      "source": [
        "## Retrieve the atlas and the data\n\n"
      ]
    },
    {
      "cell_type": "code",
      "execution_count": null,
      "metadata": {
        "collapsed": false
      },
      "outputs": [],
      "source": [
        "from nilearn import datasets\natlas = datasets.fetch_atlas_msdl()\n# Loading atlas image stored in 'maps'\natlas_filename = atlas['maps']\n# Loading atlas data stored in 'labels'\nlabels = atlas['labels']\n\n# Loading the functional datasets\ndata = datasets.fetch_development_fmri(n_subjects=1)\n\n# print basic information on the dataset\nprint('First subject functional nifti images (4D) are at: %s' %\n      data.func[0])  # 4D data"
      ]
    },
    {
      "cell_type": "markdown",
      "metadata": {},
      "source": [
        "## Extract time series\n\n"
      ]
    },
    {
      "cell_type": "code",
      "execution_count": null,
      "metadata": {
        "collapsed": false
      },
      "outputs": [],
      "source": [
        "from nilearn.maskers import NiftiMapsMasker\nmasker = NiftiMapsMasker(maps_img=atlas_filename, standardize=True,\n                         memory='nilearn_cache', verbose=5)\n\ntime_series = masker.fit_transform(data.func[0],\n                                   confounds=data.confounds)"
      ]
    },
    {
      "cell_type": "markdown",
      "metadata": {},
      "source": [
        "## Compute the sparse inverse covariance\n\n"
      ]
    },
    {
      "cell_type": "code",
      "execution_count": null,
      "metadata": {
        "collapsed": false
      },
      "outputs": [],
      "source": [
        "try:\n    from sklearn.covariance import GraphicalLassoCV\nexcept ImportError:\n    # for Scitkit-Learn < v0.20.0\n    from sklearn.covariance import GraphLassoCV as GraphicalLassoCV\n\nestimator = GraphicalLassoCV()\nestimator.fit(time_series)"
      ]
    },
    {
      "cell_type": "markdown",
      "metadata": {},
      "source": [
        "## Display the connectome matrix\n\n"
      ]
    },
    {
      "cell_type": "code",
      "execution_count": null,
      "metadata": {
        "collapsed": false
      },
      "outputs": [],
      "source": [
        "from nilearn import plotting\n# Display the covariance\n\n# The covariance can be found at estimator.covariance_\nplotting.plot_matrix(estimator.covariance_, labels=labels,\n                     figure=(9, 7), vmax=1, vmin=-1,\n                     title='Covariance')"
      ]
    },
    {
      "cell_type": "markdown",
      "metadata": {},
      "source": [
        "## And now display the corresponding graph\n\n"
      ]
    },
    {
      "cell_type": "code",
      "execution_count": null,
      "metadata": {
        "collapsed": false
      },
      "outputs": [],
      "source": [
        "coords = atlas.region_coords\n\nplotting.plot_connectome(estimator.covariance_, coords,\n                         title='Covariance')"
      ]
    },
    {
      "cell_type": "markdown",
      "metadata": {},
      "source": [
        "## Display the sparse inverse covariance\nwe negate it to get partial correlations\n\n"
      ]
    },
    {
      "cell_type": "code",
      "execution_count": null,
      "metadata": {
        "collapsed": false
      },
      "outputs": [],
      "source": [
        "plotting.plot_matrix(-estimator.precision_, labels=labels,\n                     figure=(9, 7), vmax=1, vmin=-1,\n                     title='Sparse inverse covariance')"
      ]
    },
    {
      "cell_type": "markdown",
      "metadata": {},
      "source": [
        "## And now display the corresponding graph\n\n"
      ]
    },
    {
      "cell_type": "code",
      "execution_count": null,
      "metadata": {
        "collapsed": false
      },
      "outputs": [],
      "source": [
        "plotting.plot_connectome(-estimator.precision_, coords,\n                         title='Sparse inverse covariance')\n\nplotting.show()"
      ]
    },
    {
      "cell_type": "markdown",
      "metadata": {},
      "source": [
        "## 3D visualization in a web browser\nAn alternative to :func:`nilearn.plotting.plot_connectome` is to use\n:func:`nilearn.plotting.view_connectome` that gives more interactive\nvisualizations in a web browser. See `interactive-connectome-plotting`\nfor more details.\n\n"
      ]
    },
    {
      "cell_type": "code",
      "execution_count": null,
      "metadata": {
        "collapsed": false
      },
      "outputs": [],
      "source": [
        "view = plotting.view_connectome(-estimator.precision_, coords)\n\n# In a Jupyter notebook, if ``view`` is the output of a cell, it will\n# be displayed below the cell\nview"
      ]
    },
    {
      "cell_type": "code",
      "execution_count": null,
      "metadata": {
        "collapsed": false
      },
      "outputs": [],
      "source": [
        "# uncomment this to open the plot in a web browser:\n# view.open_in_browser()"
      ]
    }
  ],
  "metadata": {
    "kernelspec": {
      "display_name": "Python 3",
      "language": "python",
      "name": "python3"
    },
    "language_info": {
      "codemirror_mode": {
        "name": "ipython",
        "version": 3
      },
      "file_extension": ".py",
      "mimetype": "text/x-python",
      "name": "python",
      "nbconvert_exporter": "python",
      "pygments_lexer": "ipython3",
      "version": "3.10.4"
    }
  },
  "nbformat": 4,
  "nbformat_minor": 0
}