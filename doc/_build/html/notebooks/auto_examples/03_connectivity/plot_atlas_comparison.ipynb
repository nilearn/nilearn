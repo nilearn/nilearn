{
  "cells": [
    {
      "cell_type": "code",
      "execution_count": null,
      "metadata": {
        "collapsed": false
      },
      "outputs": [],
      "source": [
        "%matplotlib inline"
      ]
    },
    {
      "cell_type": "markdown",
      "metadata": {},
      "source": [
        "\n# Comparing connectomes on different reference atlases\n\nThis examples shows how to turn a parcellation into connectome for\nvisualization. This requires choosing centers for each parcel\nor network, via :func:`nilearn.plotting.find_parcellation_cut_coords` for\nparcellation based on labels and\n:func:`nilearn.plotting.find_probabilistic_atlas_cut_coords` for\nparcellation based on probabilistic values.\n\nIn the intermediary steps, we make use of\n:class:`nilearn.maskers.MultiNiftiLabelsMasker` and\n:class:`nilearn.maskers.MultiNiftiMapsMasker` to extract time series from nifti\nobjects from multiple subjects using different parcellation atlases.\n\nThe time series of all subjects of the brain development dataset are\nconcatenated and given directly to\n:class:`nilearn.connectome.ConnectivityMeasure` for computing parcel-wise\ncorrelation matrices for each atlas across all subjects.\n\nMean correlation matrix is displayed on glass brain on extracted coordinates.\n\n# author: Amadeus Kanaan\n\n.. include:: ../../../examples/masker_note.rst\n"
      ]
    },
    {
      "cell_type": "markdown",
      "metadata": {},
      "source": [
        "## Load atlases\n\n"
      ]
    },
    {
      "cell_type": "code",
      "execution_count": null,
      "metadata": {
        "collapsed": false
      },
      "outputs": [],
      "source": [
        "from nilearn import datasets\n\nyeo = datasets.fetch_atlas_yeo_2011()\nprint('Yeo atlas nifti image (3D) with 17 parcels and liberal mask is located '\n      'at: %s' % yeo['thick_17'])"
      ]
    },
    {
      "cell_type": "markdown",
      "metadata": {},
      "source": [
        "## Load functional data\n\n"
      ]
    },
    {
      "cell_type": "code",
      "execution_count": null,
      "metadata": {
        "collapsed": false
      },
      "outputs": [],
      "source": [
        "data = datasets.fetch_development_fmri(n_subjects=10)\n\nprint('Functional nifti images (4D, e.g., one subject) are located at : %r'\n      % data['func'][0])\nprint('Counfound csv files (of same subject) are located at : %r'\n      % data['confounds'][0])"
      ]
    },
    {
      "cell_type": "markdown",
      "metadata": {},
      "source": [
        "## Extract coordinates on Yeo atlas - parcellations\n\n"
      ]
    },
    {
      "cell_type": "code",
      "execution_count": null,
      "metadata": {
        "collapsed": false
      },
      "outputs": [],
      "source": [
        "from nilearn.maskers import MultiNiftiLabelsMasker\nfrom nilearn.connectome import ConnectivityMeasure\n\n# ConenctivityMeasure from Nilearn uses simple 'correlation' to compute\n# connectivity matrices for all subjects in a list\nconnectome_measure = ConnectivityMeasure(kind='correlation')\n\n# useful for plotting connectivity interactions on glass brain\nfrom nilearn import plotting\n\n# create masker using MultiNiftiLabelsMasker to extract functional data within\n# atlas parcels from multiple subjects using parallelization to speed up the\n# computation\nmasker = MultiNiftiLabelsMasker(labels_img=yeo['thick_17'], standardize=True,\n                                memory='nilearn_cache', n_jobs=2)\n\n# extract time series from all subjects\ntime_series = masker.fit_transform(data.func, confounds=data.confounds)\n\n# calculate correlation matrices across subjects and display\ncorrelation_matrices = connectome_measure.fit_transform(time_series)\n\n# Mean correlation matrix across 10 subjects can be grabbed like this,\n# using connectome measure object\nmean_correlation_matrix = connectome_measure.mean_\n\n# grab center coordinates for atlas labels\ncoordinates = plotting.find_parcellation_cut_coords(labels_img=yeo['thick_17'])\n\n# plot connectome with 80% edge strength in the connectivity\nplotting.plot_connectome(mean_correlation_matrix, coordinates,\n                         edge_threshold=\"80%\",\n                         title='Yeo Atlas 17 thick (func)')"
      ]
    },
    {
      "cell_type": "markdown",
      "metadata": {},
      "source": [
        "## Plot a directed connectome - asymmetric connectivity measure\nIn this section, we use the lag-1 correlation as the connectivity\nmeasure, which leads to an asymmetric connectivity matrix.\nThe plot_connectome function accepts both symmetric and asymmetric\nmatrices, but plot the latter as a directed graph.\n\n"
      ]
    },
    {
      "cell_type": "code",
      "execution_count": null,
      "metadata": {
        "collapsed": false
      },
      "outputs": [],
      "source": [
        "import numpy as np\n\n# Define a custom function to compute lag correlation on the time series\ndef lag_correlation(time_series, lag):\n    n_subjects = len(time_series)\n    n_samples, n_features = time_series[0].shape\n    lag_cor = np.zeros((n_subjects, n_features, n_features))\n    for subject, serie in enumerate(time_series):\n        for i in range(n_features):\n            for j in range(n_features):\n                if lag == 0:\n                    lag_cor[subject, i, j] = np.corrcoef(serie[:, i],\n                                                         serie[:, j])[0, 1]\n                else:\n                    lag_cor[subject, i, j] = np.corrcoef(serie[lag:, i],\n                                                         serie[:-lag, j])[0, 1]\n    return np.mean(lag_cor, axis=0)\n\n# Compute lag-0 and lag-1 correlations and plot associated connectomes\nfor lag in [0, 1]:\n    lag_correlation_matrix = lag_correlation(time_series, lag)\n    plotting.plot_connectome(lag_correlation_matrix, coordinates,\n                             edge_threshold=\"90%\",\n                             title='Lag-{} correlation'.format(\n                                 lag))"
      ]
    },
    {
      "cell_type": "markdown",
      "metadata": {},
      "source": [
        "## Load probabilistic atlases - extracting coordinates on brain maps\n\n"
      ]
    },
    {
      "cell_type": "code",
      "execution_count": null,
      "metadata": {
        "collapsed": false
      },
      "outputs": [],
      "source": [
        "dim = 64\ndifumo = datasets.fetch_atlas_difumo(\n    dimension=dim, resolution_mm=2, legacy_format=False\n)"
      ]
    },
    {
      "cell_type": "markdown",
      "metadata": {},
      "source": [
        "## Iterate over fetched atlases to extract coordinates - probabilistic\n\n"
      ]
    },
    {
      "cell_type": "code",
      "execution_count": null,
      "metadata": {
        "collapsed": false
      },
      "outputs": [],
      "source": [
        "from nilearn.maskers import MultiNiftiMapsMasker\n\n# create masker using MultiNiftiMapsMasker to extract functional data within\n# atlas parcels from multiple subjects using parallelization to speed up the\n# # computation\nmasker = MultiNiftiMapsMasker(maps_img=difumo.maps, standardize=True,\n                              memory='nilearn_cache', n_jobs=2)\n\n# extract time series from all subjects\ntime_series = masker.fit_transform(data.func, confounds=data.confounds)\n\n# calculate correlation matrices across subjects and display\ncorrelation_matrices = connectome_measure.fit_transform(time_series)\n\n# Mean correlation matrix across 10 subjects can be grabbed like this,\n# using connectome measure object\nmean_correlation_matrix = connectome_measure.mean_\n\n# grab center coordinates for probabilistic atlas\ncoordinates = plotting.find_probabilistic_atlas_cut_coords(maps_img=difumo.maps)\n\n# plot connectome with 85% edge strength in the connectivity\nplotting.plot_connectome(mean_correlation_matrix, coordinates,\n                         edge_threshold=\"85%\",\n                         title='DiFuMo with {0} dimensions (probabilistic)'.format(dim))\nplotting.show()"
      ]
    }
  ],
  "metadata": {
    "kernelspec": {
      "display_name": "Python 3",
      "language": "python",
      "name": "python3"
    },
    "language_info": {
      "codemirror_mode": {
        "name": "ipython",
        "version": 3
      },
      "file_extension": ".py",
      "mimetype": "text/x-python",
      "name": "python",
      "nbconvert_exporter": "python",
      "pygments_lexer": "ipython3",
      "version": "3.10.4"
    }
  },
  "nbformat": 4,
  "nbformat_minor": 0
}