{
  "cells": [
    {
      "cell_type": "code",
      "execution_count": null,
      "metadata": {
        "collapsed": false
      },
      "outputs": [],
      "source": [
        "%matplotlib inline"
      ]
    },
    {
      "cell_type": "markdown",
      "metadata": {},
      "source": [
        "\n# Statistical testing of a second-level analysis\n\nPerform a one-sample t-test on a bunch of images (a.k.a. second-level analysis\nin fMRI) and threshold the resulting statistical map.\n\nThis example is based on the so-called localizer dataset.\nIt shows activation related to a mental computation task, as opposed to\nnarrative sentence reading/listening.\n"
      ]
    },
    {
      "cell_type": "markdown",
      "metadata": {},
      "source": [
        "## Prepare some images for a simple t test\nThis is a simple manually performed second level analysis.\n\n"
      ]
    },
    {
      "cell_type": "code",
      "execution_count": null,
      "metadata": {
        "collapsed": false
      },
      "outputs": [],
      "source": [
        "from nilearn import datasets\nn_samples = 20\nlocalizer_dataset = datasets.fetch_localizer_calculation_task(\n    n_subjects=n_samples, legacy_format=False\n)"
      ]
    },
    {
      "cell_type": "markdown",
      "metadata": {},
      "source": [
        "Get the set of individual statstical maps (contrast estimates)\n\n"
      ]
    },
    {
      "cell_type": "code",
      "execution_count": null,
      "metadata": {
        "collapsed": false
      },
      "outputs": [],
      "source": [
        "cmap_filenames = localizer_dataset.cmaps"
      ]
    },
    {
      "cell_type": "markdown",
      "metadata": {},
      "source": [
        "## Perform the second level analysis\n\nFirst, we define a design matrix for the model. As the model is trivial\n(one-sample test), the design matrix is just one column with ones.\n\n"
      ]
    },
    {
      "cell_type": "code",
      "execution_count": null,
      "metadata": {
        "collapsed": false
      },
      "outputs": [],
      "source": [
        "import pandas as pd\ndesign_matrix = pd.DataFrame([1] * n_samples, columns=['intercept'])"
      ]
    },
    {
      "cell_type": "markdown",
      "metadata": {},
      "source": [
        "Next, we specify and estimate the model.\n\n"
      ]
    },
    {
      "cell_type": "code",
      "execution_count": null,
      "metadata": {
        "collapsed": false
      },
      "outputs": [],
      "source": [
        "from nilearn.glm.second_level import SecondLevelModel\nsecond_level_model = SecondLevelModel().fit(\n    cmap_filenames, design_matrix=design_matrix)"
      ]
    },
    {
      "cell_type": "markdown",
      "metadata": {},
      "source": [
        "Compute the only possible contrast: the one-sample test. Since there\nis only one possible contrast, we don't need to specify it in detail.\n\n"
      ]
    },
    {
      "cell_type": "code",
      "execution_count": null,
      "metadata": {
        "collapsed": false
      },
      "outputs": [],
      "source": [
        "z_map = second_level_model.compute_contrast(output_type='z_score')"
      ]
    },
    {
      "cell_type": "markdown",
      "metadata": {},
      "source": [
        "Threshold the resulting map without multiple comparisons correction,\nabs(z) > 3.29 (equivalent to p < 0.001), cluster size > 10 voxels.\n\n"
      ]
    },
    {
      "cell_type": "code",
      "execution_count": null,
      "metadata": {
        "collapsed": false
      },
      "outputs": [],
      "source": [
        "from nilearn.image import threshold_img\nthresholded_map = threshold_img(\n    z_map,\n    threshold=3.29,\n    cluster_threshold=10,\n    two_sided=True,\n)"
      ]
    },
    {
      "cell_type": "markdown",
      "metadata": {},
      "source": [
        "This is equivalent to thresholding a z-statistic image with a\nfalse positive rate < .001, cluster size > 10 voxels.\n\n"
      ]
    },
    {
      "cell_type": "code",
      "execution_count": null,
      "metadata": {
        "collapsed": false
      },
      "outputs": [],
      "source": [
        "from nilearn.glm import threshold_stats_img\nthresholded_map1, threshold1 = threshold_stats_img(\n    z_map,\n    alpha=.001,\n    height_control='fpr',\n    cluster_threshold=10,\n    two_sided=True,\n)"
      ]
    },
    {
      "cell_type": "markdown",
      "metadata": {},
      "source": [
        "Now use FDR <.05 (False Discovery Rate) and no cluster-level threshold.\n\n"
      ]
    },
    {
      "cell_type": "code",
      "execution_count": null,
      "metadata": {
        "collapsed": false
      },
      "outputs": [],
      "source": [
        "thresholded_map2, threshold2 = threshold_stats_img(\n    z_map, alpha=.05, height_control='fdr')\nprint('The FDR=.05 threshold is %.3g' % threshold2)"
      ]
    },
    {
      "cell_type": "markdown",
      "metadata": {},
      "source": [
        "Now use FWER <.05 (Family-Wise Error Rate) and no cluster-level\nthreshold. As the data has not been intensively smoothed, we can\nuse a simple Bonferroni correction.\n\n"
      ]
    },
    {
      "cell_type": "code",
      "execution_count": null,
      "metadata": {
        "collapsed": false
      },
      "outputs": [],
      "source": [
        "thresholded_map3, threshold3 = threshold_stats_img(\n    z_map, alpha=.05, height_control='bonferroni')\nprint('The p<.05 Bonferroni-corrected threshold is %.3g' % threshold3)"
      ]
    },
    {
      "cell_type": "markdown",
      "metadata": {},
      "source": [
        "## Visualize the results\n\nFirst, the unthresholded map.\n\n"
      ]
    },
    {
      "cell_type": "code",
      "execution_count": null,
      "metadata": {
        "collapsed": false
      },
      "outputs": [],
      "source": [
        "from nilearn import plotting\ndisplay = plotting.plot_stat_map(z_map, title='Raw z map')"
      ]
    },
    {
      "cell_type": "markdown",
      "metadata": {},
      "source": [
        "Second, the p<.001 uncorrected-thresholded map (with only clusters > 10\nvoxels).\n\n"
      ]
    },
    {
      "cell_type": "code",
      "execution_count": null,
      "metadata": {
        "collapsed": false
      },
      "outputs": [],
      "source": [
        "plotting.plot_stat_map(\n    thresholded_map1, cut_coords=display.cut_coords, threshold=threshold1,\n    title='Thresholded z map, fpr <.001, clusters > 10 voxels')"
      ]
    },
    {
      "cell_type": "markdown",
      "metadata": {},
      "source": [
        "Third, the fdr-thresholded map.\n\n"
      ]
    },
    {
      "cell_type": "code",
      "execution_count": null,
      "metadata": {
        "collapsed": false
      },
      "outputs": [],
      "source": [
        "plotting.plot_stat_map(thresholded_map2, cut_coords=display.cut_coords,\n                       title='Thresholded z map, expected fdr = .05',\n                       threshold=threshold2)"
      ]
    },
    {
      "cell_type": "markdown",
      "metadata": {},
      "source": [
        "Fourth, the Bonferroni-thresholded map.\n\n"
      ]
    },
    {
      "cell_type": "code",
      "execution_count": null,
      "metadata": {
        "collapsed": false
      },
      "outputs": [],
      "source": [
        "plotting.plot_stat_map(thresholded_map3, cut_coords=display.cut_coords,\n                       title='Thresholded z map, expected fwer < .05',\n                       threshold=threshold3)"
      ]
    },
    {
      "cell_type": "markdown",
      "metadata": {},
      "source": [
        "These different thresholds correspond to different statistical\nguarantees: in the FWER-corrected image there is only a\nprobability smaller than .05 of observing any false positive voxel. In the\nFDR-corrected image, 5% of the voxels found are likely to be false\npositive. In the uncorrected image, one expects a few tens of false\npositive voxels.\n\n"
      ]
    },
    {
      "cell_type": "code",
      "execution_count": null,
      "metadata": {
        "collapsed": false
      },
      "outputs": [],
      "source": [
        "plotting.show()"
      ]
    }
  ],
  "metadata": {
    "kernelspec": {
      "display_name": "Python 3",
      "language": "python",
      "name": "python3"
    },
    "language_info": {
      "codemirror_mode": {
        "name": "ipython",
        "version": 3
      },
      "file_extension": ".py",
      "mimetype": "text/x-python",
      "name": "python",
      "nbconvert_exporter": "python",
      "pygments_lexer": "ipython3",
      "version": "3.10.4"
    }
  },
  "nbformat": 4,
  "nbformat_minor": 0
}