{
  "cells": [
    {
      "cell_type": "code",
      "execution_count": null,
      "metadata": {
        "collapsed": false
      },
      "outputs": [],
      "source": [
        "%matplotlib inline"
      ]
    },
    {
      "cell_type": "markdown",
      "metadata": {},
      "source": [
        "\n# Second-level fMRI model: true positive proportion in clusters\n\nThis script showcases the so-called \"All resolution inference\" procedure, in\nwhich the proportion of true discoveries in arbitrary clusters is estimated.\nThe clusters can be defined from the input image, i.e. in a circular way, as\nthe error control accounts for arbitrary cluster selection.\n\nRosenblatt JD, Finos L, Weeda WD, Solari A, Goeman JJ. All-Resolutions\nInference for brain imaging. Neuroimage. 2018 Nov 1;181:786-796. doi:\n10.1016/j.neuroimage.2018.07.060\n"
      ]
    },
    {
      "cell_type": "markdown",
      "metadata": {},
      "source": [
        "## Fetch dataset\nWe download a list of left vs right button press contrasts from a\nlocalizer dataset. Note that we fetch individual t-maps that represent the\nBOLD activity estimate divided by the uncertainty about this estimate.\n\n"
      ]
    },
    {
      "cell_type": "code",
      "execution_count": null,
      "metadata": {
        "collapsed": false
      },
      "outputs": [],
      "source": [
        "from nilearn.datasets import fetch_localizer_contrasts\nn_subjects = 16\ndata = fetch_localizer_contrasts(\n    [\"left vs right button press\"], n_subjects,\n    get_tmaps=True, legacy_format=False\n)\nfrom nilearn import plotting"
      ]
    },
    {
      "cell_type": "markdown",
      "metadata": {},
      "source": [
        "## Estimate second level model\nWe define the input maps and the design matrix for the second level model\nand fit it.\n\n"
      ]
    },
    {
      "cell_type": "code",
      "execution_count": null,
      "metadata": {
        "collapsed": false
      },
      "outputs": [],
      "source": [
        "import pandas as pd\nsecond_level_input = data['cmaps']\ndesign_matrix = pd.DataFrame([1] * len(second_level_input),\n                             columns=['intercept'])"
      ]
    },
    {
      "cell_type": "markdown",
      "metadata": {},
      "source": [
        "Model specification and fit\n\n"
      ]
    },
    {
      "cell_type": "code",
      "execution_count": null,
      "metadata": {
        "collapsed": false
      },
      "outputs": [],
      "source": [
        "from nilearn.glm.second_level import SecondLevelModel\nsecond_level_model = SecondLevelModel(smoothing_fwhm=8.0)\nsecond_level_model = second_level_model.fit(second_level_input,\n                                            design_matrix=design_matrix)"
      ]
    },
    {
      "cell_type": "markdown",
      "metadata": {},
      "source": [
        "To estimate the contrast is very simple. We can just provide the column\nname of the design matrix.\n\n"
      ]
    },
    {
      "cell_type": "code",
      "execution_count": null,
      "metadata": {
        "collapsed": false
      },
      "outputs": [],
      "source": [
        "z_map = second_level_model.compute_contrast(output_type='z_score')"
      ]
    },
    {
      "cell_type": "markdown",
      "metadata": {},
      "source": [
        "We threshold the second level contrast at uncorrected p < 0.001 and plot\n\n"
      ]
    },
    {
      "cell_type": "code",
      "execution_count": null,
      "metadata": {
        "collapsed": false
      },
      "outputs": [],
      "source": [
        "from scipy.stats import norm\np_val = 0.001\np001_uncorrected = norm.isf(p_val)\n\nfrom nilearn.glm import cluster_level_inference\nproportion_true_discoveries_img = cluster_level_inference(\n    z_map, threshold=[3, 4, 5], alpha=.05)\n\nplotting.plot_stat_map(\n    proportion_true_discoveries_img, threshold=0.,\n    display_mode='z', vmax=1, colorbar=True,\n    title='group left-right button press, proportion true positives')\n\nplotting.plot_stat_map(\n    z_map, threshold=p001_uncorrected, colorbar=True, display_mode='z',\n    title='group left-right button press (uncorrected p < 0.001)')\n\n\nplotting.show()"
      ]
    }
  ],
  "metadata": {
    "kernelspec": {
      "display_name": "Python 3",
      "language": "python",
      "name": "python3"
    },
    "language_info": {
      "codemirror_mode": {
        "name": "ipython",
        "version": 3
      },
      "file_extension": ".py",
      "mimetype": "text/x-python",
      "name": "python",
      "nbconvert_exporter": "python",
      "pygments_lexer": "ipython3",
      "version": "3.10.4"
    }
  },
  "nbformat": 4,
  "nbformat_minor": 0
}