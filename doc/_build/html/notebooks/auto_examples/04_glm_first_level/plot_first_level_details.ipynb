{
  "cells": [
    {
      "cell_type": "code",
      "execution_count": null,
      "metadata": {
        "collapsed": false
      },
      "outputs": [],
      "source": [
        "%matplotlib inline"
      ]
    },
    {
      "cell_type": "markdown",
      "metadata": {},
      "source": [
        "# Understanding parameters of the first-level model\n\nIn this tutorial, we study how first-level models are parametrized for fMRI\ndata analysis and clarify the impact of these parameters on the results of the\nanalysis.\n\nWe use an exploratory approach, in which we incrementally include some new\nfeatures in the analysis and inspect the outcome, i.e. the resulting brain\nmaps.\n\nReaders without prior experience in fMRI data analysis should first run the\n`sphx_glr_auto_examples_00_tutorials_plot_single_subject_single_run.py`\ntutorial to get a bit more familiar with the base concepts,\nand only then run this tutorial example.\n"
      ]
    },
    {
      "cell_type": "markdown",
      "metadata": {},
      "source": [
        "## Retrieving the data\n\nWe use a so-called localizer dataset, which consists in a 5-minutes\nacquisition of a fast event-related dataset.\n\n\n"
      ]
    },
    {
      "cell_type": "code",
      "execution_count": null,
      "metadata": {
        "collapsed": false
      },
      "outputs": [],
      "source": [
        "from nilearn.datasets import func\ndata = func.fetch_localizer_first_level()\nfmri_img = data.epi_img"
      ]
    },
    {
      "cell_type": "markdown",
      "metadata": {},
      "source": [
        "Define the paradigm that will be used. Here, we just need to get the provided\nfile.\n\nThis task, described in Pinel et al., BMC neuroscience 2007 probes basic\nfunctions, such as button presses with the left or right hand, viewing\nhorizontal and vertical checkerboards, reading and listening to short\nsentences, and mental computations (subractions).\n\nVisual stimuli were displayed in four 250-ms epochs, separated by 100ms\nintervals (i.e., 1.3s in total). Auditory stimuli were drawn from a recorded\nmale voice (i.e., a total of 1.6s for motor instructions, 1.2-1.7s for\nsentences, and 1.2-1.3s for subtractions). The auditory or visual stimuli\nwere shown to the participants for passive listening or viewing or responses\nvia button presses in event-related paradigms.  Post-scan questions verified\nthat the experimental tasks were understood and followed correctly.\n\nThis task comprises 10 conditions:\n\n* audio_left_hand_button_press: Left-hand three-times button press, indicated by auditory instruction\n* audio_right_hand_button_press: Right-hand three-times button press, indicated by auditory instruction\n* visual_left_hand_button_press: Left-hand three-times button press, indicated by visual instruction\n* visual_right_hand_button_press:  Right-hand three-times button press, indicated by visual instruction\n* horizontal_checkerboard: Visualization of flashing horizontal checkerboards\n* vertical_checkerboard: Visualization of flashing vertical checkerboards\n* sentence_listening: Listen to narrative sentences\n* sentence_reading: Read narrative sentences\n* audio_computation: Mental subtraction, indicated by auditory instruction\n* visual_computation: Mental subtraction, indicated by visual instruction\n\n\n"
      ]
    },
    {
      "cell_type": "code",
      "execution_count": null,
      "metadata": {
        "collapsed": false
      },
      "outputs": [],
      "source": [
        "t_r = 2.4\nevents_file = data['events']\nimport pandas as pd\nevents = pd.read_table(events_file)\nevents"
      ]
    },
    {
      "cell_type": "markdown",
      "metadata": {},
      "source": [
        "## Running a basic model\n\nFirst we specify a linear model.\nThe .fit() functionality of FirstLevelModel function creates the design\nmatrix and the beta maps.\n\n\n"
      ]
    },
    {
      "cell_type": "code",
      "execution_count": null,
      "metadata": {
        "collapsed": false
      },
      "outputs": [],
      "source": [
        "from nilearn.glm.first_level import FirstLevelModel\nfirst_level_model = FirstLevelModel(t_r)\nfirst_level_model = first_level_model.fit(fmri_img, events=events)\ndesign_matrix = first_level_model.design_matrices_[0]"
      ]
    },
    {
      "cell_type": "markdown",
      "metadata": {},
      "source": [
        "Let us take a look at the design matrix: it has 10 main columns corresponding\nto 10 experimental conditions, followed by 3 columns describing low-frequency\nsignals (drifts) and a constant regressor.\n\n"
      ]
    },
    {
      "cell_type": "code",
      "execution_count": null,
      "metadata": {
        "collapsed": false
      },
      "outputs": [],
      "source": [
        "from nilearn.plotting import plot_design_matrix\nplot_design_matrix(design_matrix)\nimport matplotlib.pyplot as plt\nplt.show()"
      ]
    },
    {
      "cell_type": "markdown",
      "metadata": {},
      "source": [
        "Specification of the contrasts.\n\nFor this, let's create a function that, given the design matrix, generates\nthe corresponding contrasts.  This will be useful to repeat contrast\nspecification when we change the design matrix.\n\n"
      ]
    },
    {
      "cell_type": "code",
      "execution_count": null,
      "metadata": {
        "collapsed": false
      },
      "outputs": [],
      "source": [
        "import numpy as np\n\ndef make_localizer_contrasts(design_matrix):\n    \"\"\" returns a dictionary of four contrasts, given the design matrix\"\"\"\n\n    # first generate canonical contrasts\n    contrast_matrix = np.eye(design_matrix.shape[1])\n    contrasts = dict([(column, contrast_matrix[i])\n                      for i, column in enumerate(design_matrix.columns)])\n\n    contrasts['audio'] = (\n        contrasts['audio_left_hand_button_press']\n        + contrasts['audio_right_hand_button_press']\n        + contrasts['audio_computation']\n        + contrasts['sentence_listening'])\n\n    # one contrast adding all conditions involving instructions reading\n    contrasts['visual'] = (\n        contrasts['visual_left_hand_button_press']\n        + contrasts['visual_right_hand_button_press']\n        + contrasts['visual_computation']\n        + contrasts['sentence_reading'])\n\n    # one contrast adding all conditions involving computation\n    contrasts['computation'] = (contrasts['visual_computation']\n                                + contrasts['audio_computation'])\n\n    # one contrast adding all conditions involving sentences\n    contrasts['sentences'] = (contrasts['sentence_listening']\n                              + contrasts['sentence_reading'])\n\n    # Short dictionary of more relevant contrasts\n    contrasts = {\n        'left - right button press': (\n            contrasts['audio_left_hand_button_press']\n            - contrasts['audio_right_hand_button_press']\n            + contrasts['visual_left_hand_button_press']\n            - contrasts['visual_right_hand_button_press']\n        ),\n        'audio - visual': contrasts['audio'] - contrasts['visual'],\n        'computation - sentences': (contrasts['computation'] -\n                                    contrasts['sentences']\n        ),\n        'horizontal-vertical': (contrasts['horizontal_checkerboard'] -\n                                contrasts['vertical_checkerboard'])\n    }\n    return contrasts"
      ]
    },
    {
      "cell_type": "markdown",
      "metadata": {},
      "source": [
        "Let's look at these computed contrasts:\n\n* 'left - right button press': probes motor activity in left versus right button presses\n* 'horizontal-vertical': probes the differential activity in viewing a horizontal vs vertical checkerboard\n* 'audio - visual': probes the difference of activity between listening to some content or reading the same type of content (instructions, stories)\n* 'computation - sentences': looks at the activity when performing a mental comptation task  versus simply reading sentences.\n\n\n"
      ]
    },
    {
      "cell_type": "code",
      "execution_count": null,
      "metadata": {
        "collapsed": false
      },
      "outputs": [],
      "source": [
        "contrasts = make_localizer_contrasts(design_matrix)\nfrom nilearn.plotting import plot_contrast_matrix\nfor key, values in contrasts.items():\n    plot_contrast_matrix(values, design_matrix=design_matrix)\n    plt.suptitle(key)\n\nplt.show()"
      ]
    },
    {
      "cell_type": "markdown",
      "metadata": {},
      "source": [
        "## A first contrast estimation and plotting\n\nAs this script will be repeated several times, we encapsulate model\nfitting and plotting in a function that we call when needed.\n\n\n"
      ]
    },
    {
      "cell_type": "code",
      "execution_count": null,
      "metadata": {
        "collapsed": false
      },
      "outputs": [],
      "source": [
        "from nilearn import plotting\n\ndef plot_contrast(first_level_model):\n    \"\"\" Given a first model, specify, estimate and plot the main contrasts\"\"\"\n    design_matrix = first_level_model.design_matrices_[0]\n    # Call the contrast specification within the function\n    contrasts = make_localizer_contrasts(design_matrix)\n    fig = plt.figure(figsize=(11, 3))\n    # compute the per-contrast z-map\n    for index, (contrast_id, contrast_val) in enumerate(contrasts.items()):\n        ax = plt.subplot(1, len(contrasts), 1 + index)\n        z_map = first_level_model.compute_contrast(\n            contrast_val, output_type='z_score')\n        plotting.plot_stat_map(\n            z_map, display_mode='z', threshold=3.0, title=contrast_id,\n            axes=ax, cut_coords=1)"
      ]
    },
    {
      "cell_type": "markdown",
      "metadata": {},
      "source": [
        "Let's run the model and look at the outcome.\n\n"
      ]
    },
    {
      "cell_type": "code",
      "execution_count": null,
      "metadata": {
        "collapsed": false
      },
      "outputs": [],
      "source": [
        "plot_contrast(first_level_model)\nplt.show()"
      ]
    },
    {
      "cell_type": "markdown",
      "metadata": {},
      "source": [
        "## Changing the drift model\n\nThe drift model is a set of slow oscillating functions\n(Discrete Cosine transform) with a cut-off frequency. To remove\nspurious low-frequency effects related to heart rate, breathing and\nslow drifts in the scanner signal, the standard cutoff frequency\nis 1/128 Hz ~ 0.01Hz. This is the default value set in the FirstLevelModel\nfunction. Depending on the design of the experiment, the user may want to\nchange this value. The cutoff period (1/high_pass) should be set as the\nlongest period between two trials of the same condition multiplied by 2.\nFor instance, if the longest period is 32s, the high_pass frequency shall be\n1/64 Hz ~ 0.016 Hz. Note that the design matrix has more columns to model\ndrifts in the data.\n\n"
      ]
    },
    {
      "cell_type": "code",
      "execution_count": null,
      "metadata": {
        "collapsed": false
      },
      "outputs": [],
      "source": [
        "first_level_model = FirstLevelModel(t_r, high_pass=.016)\nfirst_level_model = first_level_model.fit(fmri_img, events=events)\ndesign_matrix = first_level_model.design_matrices_[0]\nplot_design_matrix(design_matrix)"
      ]
    },
    {
      "cell_type": "markdown",
      "metadata": {},
      "source": [
        "Does the model perform worse or better ?\n\n"
      ]
    },
    {
      "cell_type": "code",
      "execution_count": null,
      "metadata": {
        "collapsed": false
      },
      "outputs": [],
      "source": [
        "plot_contrast(first_level_model)\nplt.show()"
      ]
    },
    {
      "cell_type": "markdown",
      "metadata": {},
      "source": [
        "We notice however that this model performs rather poorly.\n\nAnother solution is to remove these drift terms. Maybe they're simply\nuseless. This is done by setting drift_model to None.\n\n"
      ]
    },
    {
      "cell_type": "code",
      "execution_count": null,
      "metadata": {
        "collapsed": false
      },
      "outputs": [],
      "source": [
        "first_level_model = FirstLevelModel(t_r, drift_model=None)\nfirst_level_model = first_level_model.fit(fmri_img, events=events)\ndesign_matrix = first_level_model.design_matrices_[0]\nplot_design_matrix(design_matrix)\nplot_contrast(first_level_model)\nplt.show()"
      ]
    },
    {
      "cell_type": "markdown",
      "metadata": {},
      "source": [
        "Is it better than the original? No!\n\nNote that the design matrix has changed with no drift columns.\nthe event columns, on the other hand, haven't changed.\n\nAnother alternative to get a drift model is to specify a set of polynomials.\nLet's take a basis of 5 polynomials.\n\n"
      ]
    },
    {
      "cell_type": "code",
      "execution_count": null,
      "metadata": {
        "collapsed": false
      },
      "outputs": [],
      "source": [
        "first_level_model = FirstLevelModel(t_r, drift_model='polynomial',\n                                    drift_order=5)\nfirst_level_model = first_level_model.fit(fmri_img, events=events)\ndesign_matrix = first_level_model.design_matrices_[0]\nplot_design_matrix(design_matrix)\nplot_contrast(first_level_model)\nplt.show()"
      ]
    },
    {
      "cell_type": "markdown",
      "metadata": {},
      "source": [
        "Is it good? No better, no worse. Let's turn to another parameter.\n\n"
      ]
    },
    {
      "cell_type": "markdown",
      "metadata": {},
      "source": [
        "## Changing the hemodynamic response model\n\nThis is the filter used to convert the event sequence into a\nreference BOLD signal for the design matrix.\n\nThe first thing that we can do is to change the default model (the\nso-called Glover hrf) for the so-called canonical model of SPM\n--which has a slightly weaker undershoot component.\n\n"
      ]
    },
    {
      "cell_type": "code",
      "execution_count": null,
      "metadata": {
        "collapsed": false
      },
      "outputs": [],
      "source": [
        "first_level_model = FirstLevelModel(t_r, hrf_model='spm')\nfirst_level_model = first_level_model.fit(fmri_img, events=events)\ndesign_matrix = first_level_model.design_matrices_[0]\nplot_design_matrix(design_matrix)\nplot_contrast(first_level_model)\nplt.show()"
      ]
    },
    {
      "cell_type": "markdown",
      "metadata": {},
      "source": [
        "No strong --positive or negative-- effect.\n\n"
      ]
    },
    {
      "cell_type": "markdown",
      "metadata": {},
      "source": [
        "### Adding a time derivative to the design\n\nThere seems to be something here. Maybe we could try to go one step further:\nusing not only the so-called canonical hrf, but also its time derivative.\nNote that in that case, we still perform the contrasts and obtain statistical\nsignificance for the main effect --- not the time derivative. This means that\nthe inclusion of a time derivative in the design matrix has the sole effect\nof discounting timing misspecification from the error term, which would\ndecrease the estimated variance and enhance the statistical significance of\nthe effect. Is that the case?\n\n"
      ]
    },
    {
      "cell_type": "code",
      "execution_count": null,
      "metadata": {
        "collapsed": false
      },
      "outputs": [],
      "source": [
        "first_level_model = FirstLevelModel(t_r, hrf_model='spm + derivative')\nfirst_level_model = first_level_model.fit(fmri_img, events=events)\ndesign_matrix = first_level_model.design_matrices_[0]\nplot_design_matrix(design_matrix)\nplot_contrast(first_level_model)\nplt.show()"
      ]
    },
    {
      "cell_type": "markdown",
      "metadata": {},
      "source": [
        "Not a huge effect, but rather positive overall. We could keep that one.\n\nNote that a benefit of this approach is that we can test which voxels are\nwell explained by the derivative term, hinting at misfit regions, a\npossibly valuable information. This is implemented by an F-test on\nthe time derivative regressors.\n\n"
      ]
    },
    {
      "cell_type": "code",
      "execution_count": null,
      "metadata": {
        "collapsed": false
      },
      "outputs": [],
      "source": [
        "contrast_val = np.eye(design_matrix.shape[1])[1:21:2]\nplot_contrast_matrix(contrast_val, design_matrix)\n\nz_map = first_level_model.compute_contrast(\n    contrast_val, output_type='z_score')\nplotting.plot_stat_map(\n    z_map, display_mode='z', threshold=3.0, title='effect of time derivatives')\nplt.show()"
      ]
    },
    {
      "cell_type": "markdown",
      "metadata": {},
      "source": [
        "There seems to be something here. Maybe we could adjust the\ntiming, by increasing the slice_time_ref parameter from 0 to 0.5. Now the\nreference for model sampling is not the beginning of the volume\nacquisition, but the middle of it.\n\n"
      ]
    },
    {
      "cell_type": "code",
      "execution_count": null,
      "metadata": {
        "collapsed": false
      },
      "outputs": [],
      "source": [
        "first_level_model = FirstLevelModel(t_r, hrf_model='spm + derivative',\n                                    slice_time_ref=0.5)\nfirst_level_model = first_level_model.fit(fmri_img, events=events)\nz_map = first_level_model.compute_contrast(\n    contrast_val, output_type='z_score')\nplotting.plot_stat_map(\n    z_map, display_mode='z', threshold=3.0,\n    title='effect of time derivatives after model shift')\nplt.show()"
      ]
    },
    {
      "cell_type": "markdown",
      "metadata": {},
      "source": [
        "The time derivatives regressors capture less signal: it's better like that.\n\n"
      ]
    },
    {
      "cell_type": "markdown",
      "metadata": {},
      "source": [
        "We can also consider adding the so-called dispersion derivative to\ncapture some mis-specification in the shape of the hrf.\n\nThis is done by specifying `hrf_model='spm + derivative + dispersion'`.\n\n\n"
      ]
    },
    {
      "cell_type": "code",
      "execution_count": null,
      "metadata": {
        "collapsed": false
      },
      "outputs": [],
      "source": [
        "first_level_model = FirstLevelModel(t_r, slice_time_ref=0.5,\n                                    hrf_model='spm + derivative + dispersion')\nfirst_level_model = first_level_model.fit(fmri_img, events=events)\ndesign_matrix = first_level_model.design_matrices_[0]\nplot_design_matrix(design_matrix)\nplot_contrast(first_level_model)\nplt.show()"
      ]
    },
    {
      "cell_type": "markdown",
      "metadata": {},
      "source": [
        "Not a huge effect. For the sake of simplicity and readability, we\ncan drop that one.\n\n"
      ]
    },
    {
      "cell_type": "markdown",
      "metadata": {},
      "source": [
        "## The noise model: ar(1), ols, or higher order ar?\n\nSo far,we have implicitly used a lag-1 autoregressive model---aka\nar(1)---for the temporal structure of the noise. An alternative\nchoice is to use an ordinary least squares model (ols) that assumes\nno temporal structure (time-independent noise) or\nto use an autoregressive model with a higher order,\nfor example a third order autoregressive model---aka ar(3).\n\nFirst we recompute using the `spm + derivative` hrf model, the\nslice_time_ref parameter chosen above, and explicitly set\nthe noise model to be ar(1).\n\n"
      ]
    },
    {
      "cell_type": "code",
      "execution_count": null,
      "metadata": {
        "collapsed": false
      },
      "outputs": [],
      "source": [
        "first_level_model = FirstLevelModel(t_r, slice_time_ref=0.5,\n                                    hrf_model='spm + derivative',\n                                    noise_model='ar1')\nfirst_level_model = first_level_model.fit(fmri_img, events=events)\nplot_contrast(first_level_model)\nplt.show()"
      ]
    },
    {
      "cell_type": "markdown",
      "metadata": {},
      "source": [
        "Next we change the noise model to ols and observe the difference\nrelative to the ar(1) model.\n\n"
      ]
    },
    {
      "cell_type": "code",
      "execution_count": null,
      "metadata": {
        "collapsed": false
      },
      "outputs": [],
      "source": [
        "first_level_model = FirstLevelModel(t_r, slice_time_ref=0.5,\n                                    hrf_model='spm + derivative',\n                                    noise_model='ols')\nfirst_level_model = first_level_model.fit(fmri_img, events=events)\nplot_contrast(first_level_model)\nplt.show()"
      ]
    },
    {
      "cell_type": "markdown",
      "metadata": {},
      "source": [
        "While the difference is not obvious you should rather stick to the\nar(1) model, which is arguably more accurate.\n\nAlternatively we can include more terms in the autoregressive model to\naccount for greater temporal complexity in the noise structure.\n\n"
      ]
    },
    {
      "cell_type": "code",
      "execution_count": null,
      "metadata": {
        "collapsed": false
      },
      "outputs": [],
      "source": [
        "first_level_model = FirstLevelModel(t_r, slice_time_ref=0.5,\n                                    hrf_model='spm + derivative',\n                                    noise_model='ar3')\nfirst_level_model = first_level_model.fit(fmri_img, events=events)\nplot_contrast(first_level_model)\nplt.show()"
      ]
    },
    {
      "cell_type": "markdown",
      "metadata": {},
      "source": [
        "This noise model arguably reduces the amount of spurious activity.\nHowever, as the difference is not obvious you may wish to stick to the\nar(1) model, which is computationally more efficient.\n\n"
      ]
    },
    {
      "cell_type": "markdown",
      "metadata": {},
      "source": [
        "## Removing confounds\n\nA problematic feature of fMRI is the presence of uncontrolled\nconfounds in the data, due to scanner instabilities (spikes) or\nphysiological phenomena, such as motion, heart and\nrespiration-related blood oxygenation fluctuations.  Side\nmeasurements are sometimes acquired to characterize these\neffects. Here we don't have access to those.  What we can do instead\nis to estimate confounding effects from the data themselves, using\nthe CompCor approach, and take those into account in the model.\n\nFor this we rely on the so-called\n:func:`~nilearn.image.high_variance_confounds` routine of Nilearn.\n\n"
      ]
    },
    {
      "cell_type": "code",
      "execution_count": null,
      "metadata": {
        "collapsed": false
      },
      "outputs": [],
      "source": [
        "from nilearn.image import high_variance_confounds\nconfounds = pd.DataFrame(high_variance_confounds(fmri_img, percentile=1))\nfirst_level_model = FirstLevelModel(t_r, hrf_model='spm + derivative',\n                                    slice_time_ref=0.5)\nfirst_level_model = first_level_model.fit(fmri_img, events=events,\n                                          confounds=confounds)\ndesign_matrix = first_level_model.design_matrices_[0]\nplot_design_matrix(design_matrix)\nplot_contrast(first_level_model)\nplt.show()"
      ]
    },
    {
      "cell_type": "markdown",
      "metadata": {},
      "source": [
        "Note the five additional columns in the design matrix.\n\nThe effect on the activation maps is complex: auditory/visual effects are\nkilled, probably because they were somewhat colinear to the confounds. On the\nother hand, some of the maps become cleaner (horizontal-vertical,\ncomputation) after this addition.\n\n"
      ]
    },
    {
      "cell_type": "markdown",
      "metadata": {},
      "source": [
        "## Volume censoring\n\nVolume censoring is a common way to remove non-steady state volumes, or\nhigh-motion volumes in scrubbing based noise removal strategies. In this\nscenario, we can apply a sample mask along the time dimension to exclude\nunwanted volumes. When using :term:`fMRIPrep` outputs from 1.4.x series or\nabove, wecan use the :func:`~nilearn.interfaces.fmriprep.load_confounds`\nfunction of Nilearn to retrieve sample masks based on the given scrubbing\nthreshold and the non-steady state columns.\nFor non-fMRIPrep output, we can still define a sample mask. Here we apply a\nsample mask that removes the first 50 volumes.\n\n\n"
      ]
    },
    {
      "cell_type": "code",
      "execution_count": null,
      "metadata": {
        "collapsed": false
      },
      "outputs": [],
      "source": [
        "sample_masks = np.arange(events.shape[0])[50:]\nfirst_level_model = FirstLevelModel(t_r, hrf_model='spm + derivative',\n                                    slice_time_ref=0.5)\nfirst_level_model = first_level_model.fit(fmri_img, events=events,\n                                          sample_masks=sample_masks)\ndesign_matrix = first_level_model.design_matrices_[0]\nplot_design_matrix(design_matrix)\nplt.show()"
      ]
    },
    {
      "cell_type": "markdown",
      "metadata": {},
      "source": [
        "Note the significantly shorter design matrix compared to the previous\nexamples.\n\n"
      ]
    },
    {
      "cell_type": "markdown",
      "metadata": {},
      "source": [
        "## Smoothing\n\nSmoothing is a regularization of the model. It has two benefits:\ndecrease the noise level in images, and reduce the discrepancy\nbetween individuals. The drawback is that it biases the shape and\nposition of activation. Here, we simply illustrate the statistical\ngains.  We use a mild smoothing of 5mm\n:term:`full-width at half maximum<FWHM>` (:term:`FWHM`).\n\n"
      ]
    },
    {
      "cell_type": "code",
      "execution_count": null,
      "metadata": {
        "collapsed": false
      },
      "outputs": [],
      "source": [
        "first_level_model = FirstLevelModel(\n    t_r, hrf_model='spm + derivative', smoothing_fwhm=5,\n    slice_time_ref=0.5).fit(fmri_img, events=events, confounds=confounds)\ndesign_matrix = first_level_model.design_matrices_[0]\nplot_design_matrix(design_matrix)\nplot_contrast(first_level_model)\nplt.show()"
      ]
    },
    {
      "cell_type": "markdown",
      "metadata": {},
      "source": [
        "The design is unchanged but the maps are smoother and more contrasted.\n\n\n"
      ]
    },
    {
      "cell_type": "markdown",
      "metadata": {},
      "source": [
        "## Masking\n\nMasking consists in selecting the region of the image on which the\nmodel is run: it is useless to run it outside of the brain.\n\nThe approach taken by FirstLeveModel is to estimate it from the fMRI\ndata itself when no mask is explicitly provided.  Since the data\nhave been resampled into MNI space, we can use instead a mask of the\ngrey matter in MNI space. The benefit is that it makes voxel-level\ncomparisons easier across subjects and datasets, and removes\nnon-grey matter regions, in which no BOLD signal is expected.  The\ndownside is that the mask may not fit very well this particular\ndata.\n\n"
      ]
    },
    {
      "cell_type": "code",
      "execution_count": null,
      "metadata": {
        "collapsed": false
      },
      "outputs": [],
      "source": [
        "data_mask = first_level_model.masker_.mask_img_\nfrom nilearn.datasets import fetch_icbm152_brain_gm_mask\nicbm_mask = fetch_icbm152_brain_gm_mask()\n\nfrom nilearn.plotting import plot_roi\nplt.figure(figsize=(16, 4))\nax = plt.subplot(121)\nplot_roi(icbm_mask, title='ICBM mask', axes=ax)\nax = plt.subplot(122)\nplot_roi(data_mask, title='Data-driven mask', axes=ax)\nplt.show()"
      ]
    },
    {
      "cell_type": "markdown",
      "metadata": {},
      "source": [
        "For the sake of time saving, we resample icbm_mask to our data.\nFor this we call the resample_to_img routine of Nilearn.\nWe use interpolation = 'nearest' to keep the mask as a binary image.\n\n"
      ]
    },
    {
      "cell_type": "code",
      "execution_count": null,
      "metadata": {
        "collapsed": false
      },
      "outputs": [],
      "source": [
        "from nilearn.image import resample_to_img\nresampled_icbm_mask = resample_to_img(icbm_mask, data_mask,\n                                      interpolation='nearest')"
      ]
    },
    {
      "cell_type": "markdown",
      "metadata": {},
      "source": [
        "Impact on the first-level model.\n\n"
      ]
    },
    {
      "cell_type": "code",
      "execution_count": null,
      "metadata": {
        "collapsed": false
      },
      "outputs": [],
      "source": [
        "first_level_model = FirstLevelModel(\n    t_r, hrf_model='spm + derivative', smoothing_fwhm=5, slice_time_ref=0.5,\n    mask_img=resampled_icbm_mask).fit(\n        fmri_img, events=events, confounds=confounds)\ndesign_matrix = first_level_model.design_matrices_[0]\nplot_design_matrix(design_matrix)\nplot_contrast(first_level_model)\nplt.show()"
      ]
    },
    {
      "cell_type": "markdown",
      "metadata": {},
      "source": [
        "Note that it removed spurious spots in the white matter.\n\n"
      ]
    },
    {
      "cell_type": "markdown",
      "metadata": {},
      "source": [
        "## Conclusion\n\nInterestingly, the model used here seems quite resilient to\nmanipulation of modeling parameters: this is reassuring. It shows\nthat Nilearn defaults ('cosine' drift, cutoff=128s, 'glover' hrf,\nar(1) model) are actually reasonable.  Note that these conclusions\nare specific to this dataset and may vary with other ones.\n\n"
      ]
    }
  ],
  "metadata": {
    "kernelspec": {
      "display_name": "Python 3",
      "language": "python",
      "name": "python3"
    },
    "language_info": {
      "codemirror_mode": {
        "name": "ipython",
        "version": 3
      },
      "file_extension": ".py",
      "mimetype": "text/x-python",
      "name": "python",
      "nbconvert_exporter": "python",
      "pygments_lexer": "ipython3",
      "version": "3.10.4"
    }
  },
  "nbformat": 4,
  "nbformat_minor": 0
}