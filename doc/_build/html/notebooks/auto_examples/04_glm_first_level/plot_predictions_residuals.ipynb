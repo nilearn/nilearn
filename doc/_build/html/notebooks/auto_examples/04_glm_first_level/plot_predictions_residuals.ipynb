{
  "cells": [
    {
      "cell_type": "code",
      "execution_count": null,
      "metadata": {
        "collapsed": false
      },
      "outputs": [],
      "source": [
        "%matplotlib inline"
      ]
    },
    {
      "cell_type": "markdown",
      "metadata": {},
      "source": [
        "\n# Predicted time series and residuals\n\nHere we fit a First Level GLM with the `minimize_memory`-argument set to\n`False`.\nBy doing so, the `FirstLevelModel`-object stores the residuals, which we can\nthen inspect.\nAlso, the predicted time series can be extracted, which is useful to assess the\nquality of the model fit.\n\n.. include:: ../../../examples/masker_note.rst\n"
      ]
    },
    {
      "cell_type": "markdown",
      "metadata": {},
      "source": [
        "## Import modules\n\n"
      ]
    },
    {
      "cell_type": "code",
      "execution_count": null,
      "metadata": {
        "collapsed": false
      },
      "outputs": [],
      "source": [
        "from nilearn.datasets import fetch_spm_auditory\nfrom nilearn import image\nfrom nilearn import masking\nimport pandas as pd\n\n\n# load fMRI data\nsubject_data = fetch_spm_auditory()\nfmri_img = image.concat_imgs(subject_data.func)\n\n# Make an average\nmean_img = image.mean_img(fmri_img)\nmask = masking.compute_epi_mask(mean_img)\n\n# Clean and smooth data\nfmri_img = image.clean_img(fmri_img, standardize=False)\nfmri_img = image.smooth_img(fmri_img, 5.)\n\n# load events\nevents = pd.read_table(subject_data['events'])"
      ]
    },
    {
      "cell_type": "markdown",
      "metadata": {},
      "source": [
        "## Fit model\nNote that `minimize_memory` is set to `False` so that `FirstLevelModel`\nstores the residuals.\n`signal_scaling` is set to False, so we keep the same scaling as the\noriginal data in `fmri_img`.\n\n"
      ]
    },
    {
      "cell_type": "code",
      "execution_count": null,
      "metadata": {
        "collapsed": false
      },
      "outputs": [],
      "source": [
        "from nilearn.glm.first_level import FirstLevelModel\n\nfmri_glm = FirstLevelModel(t_r=7,\n                           drift_model='cosine',\n                           signal_scaling=False,\n                           mask_img=mask,\n                           minimize_memory=False)\n\nfmri_glm = fmri_glm.fit(fmri_img, events)"
      ]
    },
    {
      "cell_type": "markdown",
      "metadata": {},
      "source": [
        "## Calculate and plot contrast\n\n"
      ]
    },
    {
      "cell_type": "code",
      "execution_count": null,
      "metadata": {
        "collapsed": false
      },
      "outputs": [],
      "source": [
        "from nilearn import plotting\n\nz_map = fmri_glm.compute_contrast('active - rest')\n\nplotting.plot_stat_map(z_map, bg_img=mean_img, threshold=3.1)"
      ]
    },
    {
      "cell_type": "markdown",
      "metadata": {},
      "source": [
        "## Extract the largest clusters\n\n"
      ]
    },
    {
      "cell_type": "code",
      "execution_count": null,
      "metadata": {
        "collapsed": false
      },
      "outputs": [],
      "source": [
        "from nilearn.reporting import get_clusters_table\nfrom nilearn.maskers import NiftiSpheresMasker\n\ntable = get_clusters_table(z_map, stat_threshold=3.1,\n                           cluster_threshold=20)\ntable.set_index('Cluster ID', drop=True)\ntable.head()\n\n# get the 6 largest clusters' max x, y, and z coordinates\ncoords = table.loc[range(1, 7), ['X', 'Y', 'Z']].values\n\n# extract time series from each coordinate\nmasker = NiftiSpheresMasker(coords)\nreal_timeseries = masker.fit_transform(fmri_img)\npredicted_timeseries = masker.fit_transform(fmri_glm.predicted[0])"
      ]
    },
    {
      "cell_type": "markdown",
      "metadata": {},
      "source": [
        "## Plot predicted and actual time series for 6 most significant clusters\n\n"
      ]
    },
    {
      "cell_type": "code",
      "execution_count": null,
      "metadata": {
        "collapsed": false
      },
      "outputs": [],
      "source": [
        "import matplotlib.pyplot as plt\n\n# colors for each of the clusters\ncolors = ['blue', 'navy', 'purple', 'magenta', 'olive', 'teal']\n# plot the time series and corresponding locations\nfig1, axs1 = plt.subplots(2, 6)\nfor i in range(0, 6):\n    # plotting time series\n    axs1[0, i].set_title('Cluster peak {}\\n'.format(coords[i]))\n    axs1[0, i].plot(real_timeseries[:, i], c=colors[i], lw=2)\n    axs1[0, i].plot(predicted_timeseries[:, i], c='r', ls='--', lw=2)\n    axs1[0, i].set_xlabel('Time')\n    axs1[0, i].set_ylabel('Signal intensity', labelpad=0)\n    # plotting image below the time series\n    roi_img = plotting.plot_stat_map(\n        z_map, cut_coords=[coords[i][2]], threshold=3.1, figure=fig1,\n        axes=axs1[1, i], display_mode='z', colorbar=False, bg_img=mean_img)\n    roi_img.add_markers([coords[i]], colors[i], 300)\nfig1.set_size_inches(24, 14)"
      ]
    },
    {
      "cell_type": "markdown",
      "metadata": {},
      "source": [
        "## Get residuals\n\n"
      ]
    },
    {
      "cell_type": "code",
      "execution_count": null,
      "metadata": {
        "collapsed": false
      },
      "outputs": [],
      "source": [
        "resid = masker.fit_transform(fmri_glm.residuals[0])"
      ]
    },
    {
      "cell_type": "markdown",
      "metadata": {},
      "source": [
        "## Plot distribution of residuals\nNote that residuals are not really distributed normally.\n\n"
      ]
    },
    {
      "cell_type": "code",
      "execution_count": null,
      "metadata": {
        "collapsed": false
      },
      "outputs": [],
      "source": [
        "fig2, axs2 = plt.subplots(2, 3)\naxs2 = axs2.flatten()\nfor i in range(0, 6):\n    axs2[i].set_title('Cluster peak {}\\n'.format(coords[i]))\n    axs2[i].hist(resid[:, i], color=colors[i])\n    print('Mean residuals: {}'.format(resid[:, i].mean()))\n\nfig2.set_size_inches(12, 7)\nfig2.tight_layout()"
      ]
    },
    {
      "cell_type": "markdown",
      "metadata": {},
      "source": [
        "## Plot R-squared\nBecause we stored the residuals, we can plot the R-squared: the proportion of\nexplained variance of the GLM as a whole. Note that the R-squared is markedly\nlower deep down the brain, where there is more physiological noise and we are\nfurther away from the receive coils. However, R-Squared should be interpreted\nwith a grain of salt. The R-squared value will necessarily increase with the\naddition of more factors (such as rest, active, drift, motion) into the GLM.\nAdditionally, we are looking at the overall fit of the model, so we are\nunable to say whether a voxel/region has a large R-squared value because the\nvoxel/region is responsive to the experiment (such as active or rest) or\nbecause the voxel/region fits the noise factors (such as drift or motion)\nthat could be present in the GLM. To isolate the influence of the experiment,\nwe can use an F-test as shown in the next section.\n\n"
      ]
    },
    {
      "cell_type": "code",
      "execution_count": null,
      "metadata": {
        "collapsed": false
      },
      "outputs": [],
      "source": [
        "plotting.plot_stat_map(fmri_glm.r_square[0], bg_img=mean_img, threshold=.1,\n                       display_mode='z', cut_coords=7)"
      ]
    },
    {
      "cell_type": "markdown",
      "metadata": {},
      "source": [
        "## Calculate and Plot F-test\nThe F-test tells you how well the GLM fits effects of interest such as the\nactive and rest conditions together. This is different from R-squared, which\ntells you how well the overall GLM fits the data, including active, rest and\nall the other columns in the design matrix such as drift and motion.\n\n"
      ]
    },
    {
      "cell_type": "code",
      "execution_count": null,
      "metadata": {
        "collapsed": false
      },
      "outputs": [],
      "source": [
        "import numpy as np\n\ndesign_matrix = fmri_glm.design_matrices_[0]\n\n# contrast with a one for \"active\" and zero everywhere else\nactive = np.array([1 if c == 'active' else 0 for c in design_matrix.columns])\n\n# contrast with a one for \"rest\" and zero everywhere else\nrest = np.array([1 if c == 'rest' else 0 for c in design_matrix.columns])\n\neffects_of_interest = np.vstack((active, rest))\n# f-test for rest and activity\nz_map_ftest = fmri_glm.compute_contrast(\n    effects_of_interest,\n    stat_type='F',\n    output_type='z_score')\n\nplotting.plot_stat_map(z_map_ftest, bg_img=mean_img, threshold=3.1,\n                       display_mode='z', cut_coords=7)"
      ]
    }
  ],
  "metadata": {
    "kernelspec": {
      "display_name": "Python 3",
      "language": "python",
      "name": "python3"
    },
    "language_info": {
      "codemirror_mode": {
        "name": "ipython",
        "version": 3
      },
      "file_extension": ".py",
      "mimetype": "text/x-python",
      "name": "python",
      "nbconvert_exporter": "python",
      "pygments_lexer": "ipython3",
      "version": "3.10.4"
    }
  },
  "nbformat": 4,
  "nbformat_minor": 0
}