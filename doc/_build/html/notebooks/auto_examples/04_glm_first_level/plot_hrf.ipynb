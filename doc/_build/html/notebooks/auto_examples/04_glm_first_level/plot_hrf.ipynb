{
  "cells": [
    {
      "cell_type": "code",
      "execution_count": null,
      "metadata": {
        "collapsed": false
      },
      "outputs": [],
      "source": [
        "%matplotlib inline"
      ]
    },
    {
      "cell_type": "markdown",
      "metadata": {},
      "source": [
        "\n# Example of MRI response functions\n\nWithin this example we are going to plot the hemodynamic response function\n(:term:`HRF`) model in :term:`SPM` together with the :term:`HRF` shape\nproposed by G.Glover, as well as\ntheir time and dispersion derivatives.\nWe also illustrate how users can input a custom response function,\nwhich can for instance be useful when dealing with non human primate data\nacquired using a contrast agent. In our case, we input a custom response\nfunction for MION, a common\n[agent](https://en.wikipedia.org/wiki/MRI_contrast_agent) used to\nenhance contrast on MRI images of monkeys.\n\nThe :term:`HRF` is the filter which couples neural responses to the\nmetabolic-related changes in the MRI signal. :term:`HRF` models\nare simply phenomenological.\n\nIn current analysis frameworks, the choice of :term:`HRF` model is essentially\nleft to the user. Fortunately, using the :term:`SPM` or\nGlover model does not make a huge\ndifference. Adding derivatives should be considered whenever timing\ninformation has some degree of uncertainty, and is actually useful to detect\ntiming issues.\n\nThis example requires matplotlib and scipy.\n"
      ]
    },
    {
      "cell_type": "markdown",
      "metadata": {},
      "source": [
        "## Define stimulus parameters and response models\n\nTo get an impulse response, we simulate a single event occurring at time t=0,\nwith duration 1s.\n\n"
      ]
    },
    {
      "cell_type": "code",
      "execution_count": null,
      "metadata": {
        "collapsed": false
      },
      "outputs": [],
      "source": [
        "import numpy as np\n\ntime_length = 30.0\nframe_times = np.linspace(0, time_length, 61)\nonset, amplitude, duration = 0.0, 1.0, 1.0\nexp_condition = np.array((onset, duration, amplitude)).reshape(3, 1)"
      ]
    },
    {
      "cell_type": "markdown",
      "metadata": {},
      "source": [
        "Make a time array of this condition for display:\n\n"
      ]
    },
    {
      "cell_type": "code",
      "execution_count": null,
      "metadata": {
        "collapsed": false
      },
      "outputs": [],
      "source": [
        "stim = np.zeros_like(frame_times)\nstim[(frame_times > onset) * (frame_times <= onset + duration)] = amplitude"
      ]
    },
    {
      "cell_type": "markdown",
      "metadata": {},
      "source": [
        "Define custom response functions for MION. Custom response\nfunctions should at least take tr and oversampling as arguments:\n\n"
      ]
    },
    {
      "cell_type": "code",
      "execution_count": null,
      "metadata": {
        "collapsed": false
      },
      "outputs": [],
      "source": [
        "from scipy.stats import gamma\n\n\ndef mion_response_function(tr, oversampling=16, onset=0.0):\n    \"\"\"Implementation of the MION response function model.\n    Parameters\n    ----------\n    tr: float\n        scan repeat time, in seconds\n    oversampling: int, optional\n        temporal oversampling factor\n    onset: float, optional\n        hrf onset time, in seconds\n\n    Returns\n    -------\n    response_function: array of shape(length / tr * oversampling, dtype=float)\n        response_function sampling on the oversampled time grid\n    \"\"\"\n    dt = tr / oversampling\n    time_stamps = np.linspace(\n        0, time_length, np.rint(time_length / dt).astype(int)\n    )\n    time_stamps -= onset\n\n    # parameters of the gamma function\n    delay = 1.55\n    dispersion = 5.5\n\n    response_function = gamma.pdf(time_stamps, delay, loc=0, scale=dispersion)\n    response_function /= response_function.sum()\n    response_function *= -1\n\n    return response_function\n\n\ndef mion_time_derivative(tr, oversampling=16.0):\n    \"\"\"Implementation of the MION time derivative response function model.\n    Parameters\n    ----------\n    tr: float\n        scan repeat time, in seconds\n    oversampling: int, optional\n        temporal oversampling factor, optional\n\n    Returns\n    -------\n    drf: array of shape(time_length / tr * oversampling, dtype=float)\n        derived_response_function sampling on the provided grid\n    \"\"\"\n    do = 0.1\n    drf = (\n        mion_response_function(tr, oversampling)\n        - mion_response_function(tr, oversampling, do)\n    ) / do\n\n    return drf"
      ]
    },
    {
      "cell_type": "markdown",
      "metadata": {},
      "source": [
        "Define response function models to be displayed:\n\n"
      ]
    },
    {
      "cell_type": "code",
      "execution_count": null,
      "metadata": {
        "collapsed": false
      },
      "outputs": [],
      "source": [
        "rf_models = [\n    (\"spm + derivative + dispersion\", \"SPM HRF\", None),\n    (\"glover + derivative + dispersion\", \"Glover HRF\", None),\n    (\n        [mion_response_function, mion_time_derivative],\n        \"Mion RF + derivative\",\n        [\"main\", \"main_derivative\"],\n    ),\n]"
      ]
    },
    {
      "cell_type": "markdown",
      "metadata": {},
      "source": [
        "## Sample and plot response functions\n\n"
      ]
    },
    {
      "cell_type": "code",
      "execution_count": null,
      "metadata": {
        "collapsed": false
      },
      "outputs": [],
      "source": [
        "import matplotlib.pyplot as plt\nfrom nilearn.glm.first_level import compute_regressor\n\noversampling = 16\n\nfig = plt.figure(figsize=(9, 4))\nfor i, (rf_model, model_title, labels) in enumerate(rf_models):\n    # compute signal of interest by convolution\n    signal, _labels = compute_regressor(\n        exp_condition,\n        rf_model,\n        frame_times,\n        con_id=\"main\",\n        oversampling=oversampling,\n    )\n\n    # plot signal\n    plt.subplot(1, len(rf_models), i + 1)\n    plt.fill(frame_times, stim, \"k\", alpha=0.5, label=\"stimulus\")\n    for j in range(signal.shape[1]):\n        plt.plot(\n            frame_times,\n            signal.T[j],\n            label=(\n                labels[j]\n                if labels is not None\n                else (_labels[j] if _labels is not None else None)\n            ),\n        )\n    plt.xlabel(\"time (s)\")\n    plt.legend(loc=1)\n    plt.title(model_title)\n\n# adjust plot\nplt.subplots_adjust(bottom=0.12)\nplt.show()"
      ]
    }
  ],
  "metadata": {
    "kernelspec": {
      "display_name": "Python 3",
      "language": "python",
      "name": "python3"
    },
    "language_info": {
      "codemirror_mode": {
        "name": "ipython",
        "version": 3
      },
      "file_extension": ".py",
      "mimetype": "text/x-python",
      "name": "python",
      "nbconvert_exporter": "python",
      "pygments_lexer": "ipython3",
      "version": "3.10.4"
    }
  },
  "nbformat": 4,
  "nbformat_minor": 0
}