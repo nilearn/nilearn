{
  "cells": [
    {
      "cell_type": "code",
      "execution_count": null,
      "metadata": {
        "collapsed": false
      },
      "outputs": [],
      "source": [
        "%matplotlib inline"
      ]
    },
    {
      "cell_type": "markdown",
      "metadata": {},
      "source": [
        "\n# Functional connectivity predicts age group\n\nThis example compares different kinds of functional connectivity between\nregions of interest : correlation, partial correlation, and tangent space\nembedding.\n\nThe resulting connectivity coefficients can be used to\ndiscriminate children from adults. In general, the tangent space embedding\n**outperforms** the standard correlations: see [Dadi et al 2019](https://www.sciencedirect.com/science/article/pii/S1053811919301594)\nfor a careful study.\n\n.. include:: ../../../examples/masker_note.rst\n"
      ]
    },
    {
      "cell_type": "markdown",
      "metadata": {},
      "source": [
        "## Load brain development fMRI dataset and MSDL atlas\nWe study only 60 subjects from the dataset, to save computation time.\n\n"
      ]
    },
    {
      "cell_type": "code",
      "execution_count": null,
      "metadata": {
        "collapsed": false
      },
      "outputs": [],
      "source": [
        "from nilearn import datasets\n\ndevelopment_dataset = datasets.fetch_development_fmri(n_subjects=60)"
      ]
    },
    {
      "cell_type": "markdown",
      "metadata": {},
      "source": [
        "We use probabilistic regions of interest (ROIs) from the MSDL atlas.\n\n"
      ]
    },
    {
      "cell_type": "code",
      "execution_count": null,
      "metadata": {
        "collapsed": false
      },
      "outputs": [],
      "source": [
        "from nilearn.maskers import NiftiMapsMasker\n\nmsdl_data = datasets.fetch_atlas_msdl()\nmsdl_coords = msdl_data.region_coords\n\nmasker = NiftiMapsMasker(\n    msdl_data.maps, resampling_target=\"data\", t_r=2, detrend=True,\n    low_pass=.1, high_pass=.01, memory='nilearn_cache', memory_level=1).fit()\nmasked_data = [masker.transform(func, confounds) for\n               (func, confounds) in zip(\n                   development_dataset.func, development_dataset.confounds)]"
      ]
    },
    {
      "cell_type": "markdown",
      "metadata": {},
      "source": [
        "## What kind of connectivity is most powerful for classification?\nwe will use connectivity matrices as features to distinguish children from\nadults. We use cross-validation and measure classification accuracy to\ncompare the different kinds of connectivity matrices.\n\n"
      ]
    },
    {
      "cell_type": "code",
      "execution_count": null,
      "metadata": {
        "collapsed": false
      },
      "outputs": [],
      "source": [
        "# prepare the classification pipeline\nfrom sklearn.pipeline import Pipeline\nfrom nilearn.connectome import ConnectivityMeasure\nfrom sklearn.svm import LinearSVC\nfrom sklearn.dummy import DummyClassifier\nfrom sklearn.model_selection import GridSearchCV\n\nkinds = ['correlation', 'partial correlation', 'tangent']\n\npipe = Pipeline(\n    [('connectivity', ConnectivityMeasure(vectorize=True)),\n     ('classifier', GridSearchCV(LinearSVC(), {'C': [.1, 1., 10.]}, cv=5))])\n\nparam_grid = [\n    {'classifier': [DummyClassifier(strategy='most_frequent')]},\n    {'connectivity__kind': kinds}\n]"
      ]
    },
    {
      "cell_type": "markdown",
      "metadata": {},
      "source": [
        "We use random splits of the subjects into training/testing sets.\nStratifiedShuffleSplit allows preserving the proportion of children in the\ntest set.\n\n"
      ]
    },
    {
      "cell_type": "code",
      "execution_count": null,
      "metadata": {
        "collapsed": false
      },
      "outputs": [],
      "source": [
        "from sklearn.model_selection import GridSearchCV, StratifiedShuffleSplit\nfrom sklearn.preprocessing import LabelEncoder\n\ngroups = [pheno['Child_Adult'] for pheno in development_dataset.phenotypic]\nclasses = LabelEncoder().fit_transform(groups)\n\ncv = StratifiedShuffleSplit(n_splits=30, random_state=0, test_size=10)\ngs = GridSearchCV(pipe, param_grid, scoring='accuracy', cv=cv, verbose=1,\n                  refit=False, n_jobs=8)\ngs.fit(masked_data, classes)\nmean_scores = gs.cv_results_['mean_test_score']\nscores_std = gs.cv_results_['std_test_score']"
      ]
    },
    {
      "cell_type": "markdown",
      "metadata": {},
      "source": [
        "display the results\n\n"
      ]
    },
    {
      "cell_type": "code",
      "execution_count": null,
      "metadata": {
        "collapsed": false
      },
      "outputs": [],
      "source": [
        "from matplotlib import pyplot as plt\n\nplt.figure(figsize=(6, 4))\npositions = [.1, .2, .3, .4]\nplt.barh(positions, mean_scores, align='center', height=.05, xerr=scores_std)\nyticks = ['dummy'] + list(gs.cv_results_['param_connectivity__kind'].data[1:])\nyticks = [t.replace(' ', '\\n') for t in yticks]\nplt.yticks(positions, yticks)\nplt.xlabel('Classification accuracy')\nplt.gca().grid(True)\nplt.gca().set_axisbelow(True)\nplt.tight_layout()"
      ]
    },
    {
      "cell_type": "markdown",
      "metadata": {},
      "source": [
        "This is a small example to showcase nilearn features. In practice such\ncomparisons need to be performed on much larger cohorts and several\ndatasets.\n[Dadi et al 2019](https://www.sciencedirect.com/science/article/pii/S1053811919301594)\nShowed that across many cohorts and clinical questions, the tangent\nkind should be preferred.\n\n"
      ]
    },
    {
      "cell_type": "code",
      "execution_count": null,
      "metadata": {
        "collapsed": false
      },
      "outputs": [],
      "source": [
        "plt.show()"
      ]
    }
  ],
  "metadata": {
    "kernelspec": {
      "display_name": "Python 3",
      "language": "python",
      "name": "python3"
    },
    "language_info": {
      "codemirror_mode": {
        "name": "ipython",
        "version": 3
      },
      "file_extension": ".py",
      "mimetype": "text/x-python",
      "name": "python",
      "nbconvert_exporter": "python",
      "pygments_lexer": "ipython3",
      "version": "3.10.4"
    }
  },
  "nbformat": 4,
  "nbformat_minor": 0
}