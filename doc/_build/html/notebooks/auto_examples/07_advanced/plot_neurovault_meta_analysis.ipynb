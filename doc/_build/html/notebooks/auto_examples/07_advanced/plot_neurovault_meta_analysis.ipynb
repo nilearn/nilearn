{
  "cells": [
    {
      "cell_type": "code",
      "execution_count": null,
      "metadata": {
        "collapsed": false
      },
      "outputs": [],
      "source": [
        "%matplotlib inline"
      ]
    },
    {
      "cell_type": "markdown",
      "metadata": {},
      "source": [
        "\n# NeuroVault meta-analysis of stop-go paradigm studies.\n\nThis example shows how to download statistical maps from\nNeuroVault\n\nSee :func:`nilearn.datasets.fetch_neurovault_ids`\ndocumentation for more details.\n"
      ]
    },
    {
      "cell_type": "code",
      "execution_count": null,
      "metadata": {
        "collapsed": false
      },
      "outputs": [],
      "source": [
        "# Author: Ben Cipollini\n# License: BSD\nimport scipy\n\nfrom nilearn.datasets import fetch_neurovault_ids\nfrom nilearn import plotting\nfrom nilearn.image import new_img_like, load_img, math_img, get_data"
      ]
    },
    {
      "cell_type": "markdown",
      "metadata": {},
      "source": [
        "## Fetch images for \"successful stop minus go\"-like protocols.\n\n"
      ]
    },
    {
      "cell_type": "code",
      "execution_count": null,
      "metadata": {
        "collapsed": false
      },
      "outputs": [],
      "source": [
        "# These are the images we are interested in,\n# in order to save time we specify their ids explicitly.\nstop_go_image_ids = (151, 3041, 3042, 2676, 2675, 2818, 2834)\n\n# These ids were determined by querying neurovault like this:\n\n# from nilearn.datasets import fetch_neurovault, neurovault\n\n# nv_data = fetch_neurovault(\n#     max_images=7,\n#     cognitive_paradigm_cogatlas=neurovault.Contains('stop signal'),\n#     contrast_definition=neurovault.Contains('succ', 'stop', 'go'),\n#     map_type='T map')\n\n# print([meta['id'] for meta in nv_data['images_meta']])\n\n\nnv_data = fetch_neurovault_ids(image_ids=stop_go_image_ids)\n\nimages_meta = nv_data['images_meta']\ncollections = nv_data['collections_meta']"
      ]
    },
    {
      "cell_type": "markdown",
      "metadata": {},
      "source": [
        "## Visualize the data\n\n"
      ]
    },
    {
      "cell_type": "code",
      "execution_count": null,
      "metadata": {
        "collapsed": false
      },
      "outputs": [],
      "source": [
        "print('\\nplotting glass brain for collected images\\n')\n\nfor im in images_meta:\n    plotting.plot_glass_brain(\n        im['absolute_path'],\n        title='image {0}: {1}'.format(im['id'], im['contrast_definition']))"
      ]
    },
    {
      "cell_type": "markdown",
      "metadata": {},
      "source": [
        "## Compute statistics\n\n"
      ]
    },
    {
      "cell_type": "code",
      "execution_count": null,
      "metadata": {
        "collapsed": false
      },
      "outputs": [],
      "source": [
        "def t_to_z(t_scores, deg_of_freedom):\n    p_values = scipy.stats.t.sf(t_scores, df=deg_of_freedom)\n    z_values = scipy.stats.norm.isf(p_values)\n    return z_values\n\n\n# Compute z values\nmean_maps = []\nz_imgs = []\ncurrent_collection = None\n\nprint(\"\\nComputing maps...\")\n\n\n# convert t to z for all images\nfor this_meta in images_meta:\n    if this_meta['collection_id'] != current_collection:\n        print(\"\\n\\nCollection {0}:\".format(this_meta['id']))\n        current_collection = this_meta['collection_id']\n\n    # Load and validate the downloaded image.\n    t_img = load_img(this_meta['absolute_path'])\n    deg_of_freedom = this_meta['number_of_subjects'] - 2\n    print(\"     Image {1}: degrees of freedom: {2}\".format(\n        \"\", this_meta['id'], deg_of_freedom))\n\n    # Convert data, create new image.\n    z_img = new_img_like(\n        t_img, t_to_z(get_data(t_img), deg_of_freedom=deg_of_freedom))\n\n    z_imgs.append(z_img)"
      ]
    },
    {
      "cell_type": "markdown",
      "metadata": {},
      "source": [
        "## Plot the combined z maps\n\n"
      ]
    },
    {
      "cell_type": "code",
      "execution_count": null,
      "metadata": {
        "collapsed": false
      },
      "outputs": [],
      "source": [
        "cut_coords = [-15, -8, 6, 30, 46, 62]\nmeta_analysis_img = math_img(\n    'np.sum(z_imgs, axis=3) / np.sqrt(z_imgs.shape[3])',\n    z_imgs=z_imgs)\n\nplotting.plot_stat_map(meta_analysis_img, display_mode='z', threshold=6,\n                       cut_coords=cut_coords, vmax=12)\n\n\nplotting.show()"
      ]
    }
  ],
  "metadata": {
    "kernelspec": {
      "display_name": "Python 3",
      "language": "python",
      "name": "python3"
    },
    "language_info": {
      "codemirror_mode": {
        "name": "ipython",
        "version": 3
      },
      "file_extension": ".py",
      "mimetype": "text/x-python",
      "name": "python",
      "nbconvert_exporter": "python",
      "pygments_lexer": "ipython3",
      "version": "3.10.4"
    }
  },
  "nbformat": 4,
  "nbformat_minor": 0
}