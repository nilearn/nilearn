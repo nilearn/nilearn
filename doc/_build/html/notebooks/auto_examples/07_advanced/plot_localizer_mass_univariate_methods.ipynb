{
  "cells": [
    {
      "cell_type": "code",
      "execution_count": null,
      "metadata": {
        "collapsed": false
      },
      "outputs": [],
      "source": [
        "%matplotlib inline"
      ]
    },
    {
      "cell_type": "markdown",
      "metadata": {},
      "source": [
        "\n# Massively univariate analysis of a motor task from the Localizer dataset\n\nThis example shows the results obtained in a massively univariate\nanalysis performed at the inter-subject level with various methods.\nWe use the [left button press (auditory cue)] task from the Localizer\ndataset and seek association between the contrast values and a variate\nthat measures the speed of pseudo-word reading. No confounding variate\nis included in the model.\n\n1. A standard :term:`ANOVA` is performed. Data smoothed at 5\n   :term:`voxels<voxel>` :term:`FWHM` are used.\n\n2. A permuted Ordinary Least Squares algorithm is run at each :term:`voxel`.\n   Data smoothed at 5 :term:`voxels<voxel>` :term:`FWHM` are used.\n\n.. include:: ../../../examples/masker_note.rst\n"
      ]
    },
    {
      "cell_type": "code",
      "execution_count": null,
      "metadata": {
        "collapsed": false
      },
      "outputs": [],
      "source": [
        "# Author: Virgile Fritsch, <virgile.fritsch@inria.fr>, May. 2014\nimport numpy as np\nimport matplotlib.pyplot as plt\nfrom nilearn import datasets\nfrom nilearn.maskers import NiftiMasker\nfrom nilearn.mass_univariate import permuted_ols"
      ]
    },
    {
      "cell_type": "markdown",
      "metadata": {},
      "source": [
        "Load Localizer contrast\n\n"
      ]
    },
    {
      "cell_type": "code",
      "execution_count": null,
      "metadata": {
        "collapsed": false
      },
      "outputs": [],
      "source": [
        "n_samples = 94\nlocalizer_dataset = datasets.fetch_localizer_contrasts(\n    ['left button press (auditory cue)'],\n    n_subjects=n_samples, legacy_format=False\n)\n\n# print basic information on the dataset\nprint('First contrast nifti image (3D) is located at: %s' %\n      localizer_dataset.cmaps[0])\n\ntested_var = localizer_dataset.ext_vars['pseudo']\n# Quality check / Remove subjects with bad tested variate\nmask_quality_check = np.where(\n    np.logical_not(np.isnan(tested_var))\n)[0]\nn_samples = mask_quality_check.size\ncontrast_map_filenames = [localizer_dataset.cmaps[i]\n                          for i in mask_quality_check]\ntested_var = tested_var[mask_quality_check].values.reshape((-1, 1))\nprint(\"Actual number of subjects after quality check: %d\" % n_samples)"
      ]
    },
    {
      "cell_type": "markdown",
      "metadata": {},
      "source": [
        "Mask data\n\n"
      ]
    },
    {
      "cell_type": "code",
      "execution_count": null,
      "metadata": {
        "collapsed": false
      },
      "outputs": [],
      "source": [
        "nifti_masker = NiftiMasker(\n    smoothing_fwhm=5,\n    memory='nilearn_cache', memory_level=1)  # cache options\nfmri_masked = nifti_masker.fit_transform(contrast_map_filenames)"
      ]
    },
    {
      "cell_type": "markdown",
      "metadata": {},
      "source": [
        "Anova (parametric F-scores)\n\n"
      ]
    },
    {
      "cell_type": "code",
      "execution_count": null,
      "metadata": {
        "collapsed": false
      },
      "outputs": [],
      "source": [
        "from sklearn.feature_selection import f_regression\n\n_, pvals_anova = f_regression(fmri_masked, tested_var, center=True)\npvals_anova *= fmri_masked.shape[1]\npvals_anova[np.isnan(pvals_anova)] = 1\npvals_anova[pvals_anova > 1] = 1\nneg_log_pvals_anova = - np.log10(pvals_anova)\nneg_log_pvals_anova_unmasked = nifti_masker.inverse_transform(\n    neg_log_pvals_anova)"
      ]
    },
    {
      "cell_type": "markdown",
      "metadata": {},
      "source": [
        "Perform massively univariate analysis with permuted OLS\n\nThis method will produce both voxel-level FWE-corrected -log10 p-values and\n:term:`TFCE`-based FWE-corrected -log10 p-values.\n\n<div class=\"alert alert-info\"><h4>Note</h4><p>:func:`~nilearn.mass_univariate.permuted_ols` can support a wide range\n  of analysis designs, depending on the ``tested_var``.\n  For example, if you wished to perform a one-sample test, you could\n  simply provide an array of ones (e.g., ``np.ones(n_samples)``).</p></div>\n\n"
      ]
    },
    {
      "cell_type": "code",
      "execution_count": null,
      "metadata": {
        "collapsed": false
      },
      "outputs": [],
      "source": [
        "ols_outputs = permuted_ols(\n    tested_var,  # this is equivalent to the design matrix, in array form\n    fmri_masked,\n    model_intercept=True,\n    masker=nifti_masker,\n    tfce=True,\n    n_perm=200,  # 200 for the sake of time. Ideally, this should be 10000.\n    verbose=1,  # display progress bar\n    n_jobs=1,  # can be changed to use more CPUs\n    output_type='dict',\n)\nneg_log_pvals_permuted_ols_unmasked = nifti_masker.inverse_transform(\n    ols_outputs['logp_max_t'][0, :]  # select first regressor\n)\nneg_log_pvals_tfce_unmasked = nifti_masker.inverse_transform(\n    ols_outputs['logp_max_tfce'][0, :]  # select first regressor\n)"
      ]
    },
    {
      "cell_type": "markdown",
      "metadata": {},
      "source": [
        "Visualization\n\n"
      ]
    },
    {
      "cell_type": "code",
      "execution_count": null,
      "metadata": {
        "collapsed": false
      },
      "outputs": [],
      "source": [
        "from nilearn import plotting\nfrom nilearn.image import get_data\n\n# Various plotting parameters\nz_slice = 12  # plotted slice\nthreshold = - np.log10(0.1)  # 10% corrected\n\nvmax = max(\n    np.amax(ols_outputs['logp_max_t']),\n    np.amax(neg_log_pvals_anova),\n    np.amax(ols_outputs['logp_max_tfce']),\n)\n\nimages_to_plot = {\n    \"Parametric Test\\n(Bonferroni FWE)\": neg_log_pvals_anova_unmasked,\n    \"Permutation Test\\n(Max t-statistic FWE)\": (\n        neg_log_pvals_permuted_ols_unmasked\n    ),\n    \"Permutation Test\\n(Max TFCE FWE)\": neg_log_pvals_tfce_unmasked,\n}\n\nfig, axes = plt.subplots(figsize=(12, 3), ncols=3)\nfor i_col, (title, img) in enumerate(images_to_plot.items()):\n    ax = axes[i_col]\n    n_detections = (get_data(img) > threshold).sum()\n    new_title = title + f\"\\n{n_detections} sig. voxels\"\n\n    plotting.plot_glass_brain(\n        img,\n        colorbar=True,\n        vmax=vmax,\n        display_mode='z',\n        plot_abs=False,\n        cut_coords=[12],\n        threshold=threshold,\n        figure=fig,\n        axes=ax,\n    )\n    ax.set_title(new_title)\n\nfig.suptitle(\n    \"Group left button press ($-\\\\log_{10}$ p-values)\",\n    y=1.3,\n    fontsize=16,\n)"
      ]
    }
  ],
  "metadata": {
    "kernelspec": {
      "display_name": "Python 3",
      "language": "python",
      "name": "python3"
    },
    "language_info": {
      "codemirror_mode": {
        "name": "ipython",
        "version": 3
      },
      "file_extension": ".py",
      "mimetype": "text/x-python",
      "name": "python",
      "nbconvert_exporter": "python",
      "pygments_lexer": "ipython3",
      "version": "3.10.4"
    }
  },
  "nbformat": 4,
  "nbformat_minor": 0
}