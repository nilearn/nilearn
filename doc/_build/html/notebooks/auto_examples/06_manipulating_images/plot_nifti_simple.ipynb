{
  "cells": [
    {
      "cell_type": "code",
      "execution_count": null,
      "metadata": {
        "collapsed": false
      },
      "outputs": [],
      "source": [
        "%matplotlib inline"
      ]
    },
    {
      "cell_type": "markdown",
      "metadata": {},
      "source": [
        "\n# Simple example of NiftiMasker use\n\nHere is a simple example of automatic mask computation using the nifti masker.\nThe mask is computed and visualized.\n\n.. include:: ../../../examples/masker_note.rst\n"
      ]
    },
    {
      "cell_type": "markdown",
      "metadata": {},
      "source": [
        "Retrieve the brain development functional dataset\n\n"
      ]
    },
    {
      "cell_type": "code",
      "execution_count": null,
      "metadata": {
        "collapsed": false
      },
      "outputs": [],
      "source": [
        "from nilearn import datasets\ndataset = datasets.fetch_development_fmri(n_subjects=1)\nfunc_filename = dataset.func[0]\n\n# print basic information on the dataset\nprint('First functional nifti image (4D) is at: %s' % func_filename)"
      ]
    },
    {
      "cell_type": "markdown",
      "metadata": {},
      "source": [
        "Compute the mask\n\n"
      ]
    },
    {
      "cell_type": "code",
      "execution_count": null,
      "metadata": {
        "collapsed": false
      },
      "outputs": [],
      "source": [
        "from nilearn.maskers import NiftiMasker\n\n# As this is raw movie watching based EPI, the background is noisy and we\n# cannot rely on the 'background' masking strategy. We need to use the 'epi'\n# one\nnifti_masker = NiftiMasker(standardize=True, mask_strategy='epi',\n                           memory=\"nilearn_cache\", memory_level=2,\n                           smoothing_fwhm=8)\nnifti_masker.fit(func_filename)\nmask_img = nifti_masker.mask_img_"
      ]
    },
    {
      "cell_type": "markdown",
      "metadata": {},
      "source": [
        "Visualize the mask using the plot_roi method\n\n"
      ]
    },
    {
      "cell_type": "code",
      "execution_count": null,
      "metadata": {
        "collapsed": false
      },
      "outputs": [],
      "source": [
        "from nilearn.plotting import plot_roi\nfrom nilearn.image.image import mean_img\n\n# calculate mean image for the background\nmean_func_img = mean_img(func_filename)\n\nplot_roi(mask_img, mean_func_img, display_mode='y', cut_coords=4, title=\"Mask\")"
      ]
    },
    {
      "cell_type": "markdown",
      "metadata": {},
      "source": [
        "Visualize the mask using the 'generate_report' method\nThis report can be displayed in a Jupyter Notebook,\nopened in-browser using the .open_in_browser() method,\nor saved to a file using the .save_as_html(output_filepath) method.\n\n"
      ]
    },
    {
      "cell_type": "code",
      "execution_count": null,
      "metadata": {
        "collapsed": false
      },
      "outputs": [],
      "source": [
        "report = nifti_masker.generate_report()\nreport"
      ]
    },
    {
      "cell_type": "markdown",
      "metadata": {},
      "source": [
        "Preprocess data with the NiftiMasker\n\n"
      ]
    },
    {
      "cell_type": "code",
      "execution_count": null,
      "metadata": {
        "collapsed": false
      },
      "outputs": [],
      "source": [
        "nifti_masker.fit(func_filename)\nfmri_masked = nifti_masker.transform(func_filename)\n# fmri_masked is now a 2D matrix, (n_voxels x n_time_points)"
      ]
    },
    {
      "cell_type": "markdown",
      "metadata": {},
      "source": [
        "Run an algorithm\n\n"
      ]
    },
    {
      "cell_type": "code",
      "execution_count": null,
      "metadata": {
        "collapsed": false
      },
      "outputs": [],
      "source": [
        "from sklearn.decomposition import FastICA\nn_components = 10\nica = FastICA(n_components=n_components, random_state=42)\ncomponents_masked = ica.fit_transform(fmri_masked.T).T"
      ]
    },
    {
      "cell_type": "markdown",
      "metadata": {},
      "source": [
        "Reverse masking, and display the corresponding map\n\n"
      ]
    },
    {
      "cell_type": "code",
      "execution_count": null,
      "metadata": {
        "collapsed": false
      },
      "outputs": [],
      "source": [
        "components = nifti_masker.inverse_transform(components_masked)\n\n# Visualize results\nfrom nilearn.plotting import plot_stat_map, show\nfrom nilearn.image import index_img\nfrom nilearn.image.image import mean_img\n\n# calculate mean image for the background\nmean_func_img = mean_img(func_filename)\n\nplot_stat_map(index_img(components, 0), mean_func_img,\n              display_mode='y', cut_coords=4, title=\"Component 0\")\n\nshow()"
      ]
    }
  ],
  "metadata": {
    "kernelspec": {
      "display_name": "Python 3",
      "language": "python",
      "name": "python3"
    },
    "language_info": {
      "codemirror_mode": {
        "name": "ipython",
        "version": 3
      },
      "file_extension": ".py",
      "mimetype": "text/x-python",
      "name": "python",
      "nbconvert_exporter": "python",
      "pygments_lexer": "ipython3",
      "version": "3.10.4"
    }
  },
  "nbformat": 4,
  "nbformat_minor": 0
}