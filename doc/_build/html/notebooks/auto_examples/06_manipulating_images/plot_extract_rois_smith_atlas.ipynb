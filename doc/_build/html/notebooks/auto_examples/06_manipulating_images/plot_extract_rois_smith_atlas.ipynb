{
  "cells": [
    {
      "cell_type": "code",
      "execution_count": null,
      "metadata": {
        "collapsed": false
      },
      "outputs": [],
      "source": [
        "%matplotlib inline"
      ]
    },
    {
      "cell_type": "markdown",
      "metadata": {},
      "source": [
        "\n# Regions Extraction of Default Mode Networks using Smith Atlas\n\nThis simple example shows how to extract regions from Smith atlas\nresting state networks.\n\nIn particular, we show how Default Mode Network regions are extracted\nusing :class:`nilearn.regions.RegionExtractor` from regions module\n"
      ]
    },
    {
      "cell_type": "markdown",
      "metadata": {},
      "source": [
        "Fetching the smith ICA 10 RSN by importing datasets utilities\n\n"
      ]
    },
    {
      "cell_type": "code",
      "execution_count": null,
      "metadata": {
        "collapsed": false
      },
      "outputs": [],
      "source": [
        "from nilearn import datasets\n\nsmith_atlas = datasets.fetch_atlas_smith_2009()\natlas_networks = smith_atlas.rsn10"
      ]
    },
    {
      "cell_type": "markdown",
      "metadata": {},
      "source": [
        "Import region extractor to extract atlas networks\n\n"
      ]
    },
    {
      "cell_type": "code",
      "execution_count": null,
      "metadata": {
        "collapsed": false
      },
      "outputs": [],
      "source": [
        "from nilearn.regions import RegionExtractor\n\n# min_region_size in voxel volume mm^3\nextraction = RegionExtractor(atlas_networks, min_region_size=800,\n                             threshold=98, thresholding_strategy='percentile')\n\n# Just call fit() to execute region extraction procedure\nextraction.fit()\nregions_img = extraction.regions_img_"
      ]
    },
    {
      "cell_type": "markdown",
      "metadata": {},
      "source": [
        "Visualization\nShow region extraction results by importing image & plotting utilities\n\n"
      ]
    },
    {
      "cell_type": "code",
      "execution_count": null,
      "metadata": {
        "collapsed": false
      },
      "outputs": [],
      "source": [
        "from nilearn import plotting\nfrom nilearn.image import index_img\nfrom nilearn.plotting import find_xyz_cut_coords\n\n# Showing region extraction results using 4D maps visualization tool\nplotting.plot_prob_atlas(regions_img, display_mode='z', cut_coords=1,\n                         view_type='contours', title=\"Regions extracted.\")\n\n# To reduce the complexity, we choose to display all the regions\n# extracted from network 3\nimport numpy as np\n\nDMN_network = index_img(atlas_networks, 3)\nplotting.plot_stat_map(DMN_network, display_mode='z', cut_coords=1,\n                       title='Network 3', colorbar=False)\n\nregions_indices_network3 = np.where(np.array(extraction.index_) == 3)\nfor index in regions_indices_network3[0]:\n    cur_img = index_img(extraction.regions_img_, index)\n    coords = find_xyz_cut_coords(cur_img)\n    plotting.plot_stat_map(cur_img, display_mode='z', cut_coords=coords[2:3],\n                           title=\"Blob of network3\", colorbar=False)\n\nplotting.show()"
      ]
    }
  ],
  "metadata": {
    "kernelspec": {
      "display_name": "Python 3",
      "language": "python",
      "name": "python3"
    },
    "language_info": {
      "codemirror_mode": {
        "name": "ipython",
        "version": 3
      },
      "file_extension": ".py",
      "mimetype": "text/x-python",
      "name": "python",
      "nbconvert_exporter": "python",
      "pygments_lexer": "ipython3",
      "version": "3.10.4"
    }
  },
  "nbformat": 4,
  "nbformat_minor": 0
}