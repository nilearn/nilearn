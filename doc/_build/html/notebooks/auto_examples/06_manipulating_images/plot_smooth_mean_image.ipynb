{
  "cells": [
    {
      "cell_type": "code",
      "execution_count": null,
      "metadata": {
        "collapsed": false
      },
      "outputs": [],
      "source": [
        "%matplotlib inline"
      ]
    },
    {
      "cell_type": "markdown",
      "metadata": {},
      "source": [
        "\n# Smoothing an image\n\nHere we smooth a mean :term:`EPI` image and plot the result\n\nAs we vary the smoothing :term:`FWHM`, note how we decrease the amount\nof noise, but also lose spatial details. In general, the best amount\nof smoothing for a given analysis depends on the spatial extent of the\neffects that are expected.\n"
      ]
    },
    {
      "cell_type": "code",
      "execution_count": null,
      "metadata": {
        "collapsed": false
      },
      "outputs": [],
      "source": [
        "from nilearn import datasets, plotting, image\n\ndata = datasets.fetch_development_fmri(n_subjects=1)\n\n# Print basic information on the dataset\nprint('First subject functional nifti image (4D) are located at: %s' %\n      data.func[0])\n\nfirst_epi_file = data.func[0]\n\n# First the compute the mean image, from the 4D series of image\nmean_func = image.mean_img(first_epi_file)\n\n# Then we smooth, with a varying amount of smoothing, from none to 20mm\n# by increments of 5mm\nfor smoothing in range(0, 25, 5):\n    smoothed_img = image.smooth_img(mean_func, smoothing)\n    plotting.plot_epi(smoothed_img,\n                      title=\"Smoothing %imm\" % smoothing)\n\n\nplotting.show()"
      ]
    }
  ],
  "metadata": {
    "kernelspec": {
      "display_name": "Python 3",
      "language": "python",
      "name": "python3"
    },
    "language_info": {
      "codemirror_mode": {
        "name": "ipython",
        "version": 3
      },
      "file_extension": ".py",
      "mimetype": "text/x-python",
      "name": "python",
      "nbconvert_exporter": "python",
      "pygments_lexer": "ipython3",
      "version": "3.10.4"
    }
  },
  "nbformat": 4,
  "nbformat_minor": 0
}