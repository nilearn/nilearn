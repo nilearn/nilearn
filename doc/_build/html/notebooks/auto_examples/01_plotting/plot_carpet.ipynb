{
  "cells": [
    {
      "cell_type": "code",
      "execution_count": null,
      "metadata": {
        "collapsed": false
      },
      "outputs": [],
      "source": [
        "%matplotlib inline"
      ]
    },
    {
      "cell_type": "markdown",
      "metadata": {},
      "source": [
        "\n# Visualizing global patterns with a carpet plot\n\nA common quality control step for functional MRI data is to visualize the data\nover time in a carpet plot (also known as a Power plot or a grayplot).\n\nThe :func:`nilearn.plotting.plot_carpet()` function generates a carpet plot\nfrom a 4D functional image.\n"
      ]
    },
    {
      "cell_type": "markdown",
      "metadata": {},
      "source": [
        "## Fetching data from ADHD dataset\n\n"
      ]
    },
    {
      "cell_type": "code",
      "execution_count": null,
      "metadata": {
        "collapsed": false
      },
      "outputs": [],
      "source": [
        "from nilearn import datasets\n\nadhd_dataset = datasets.fetch_adhd(n_subjects=1)\n\n# plot_carpet can infer TR from the image header, but preprocessing can often\n# overwrite that particular header field, so we will be explicit.\nt_r = 2.\n\n# Print basic information on the dataset\nprint('First subject functional nifti image (4D) is at: %s' %\n      adhd_dataset.func[0])  # 4D data"
      ]
    },
    {
      "cell_type": "markdown",
      "metadata": {},
      "source": [
        "## Deriving a mask\n\n"
      ]
    },
    {
      "cell_type": "code",
      "execution_count": null,
      "metadata": {
        "collapsed": false
      },
      "outputs": [],
      "source": [
        "from nilearn import masking\n\n# Build an EPI-based mask because we have no anatomical data\nmask_img = masking.compute_epi_mask(adhd_dataset.func[0])"
      ]
    },
    {
      "cell_type": "markdown",
      "metadata": {},
      "source": [
        "## Visualizing global patterns over time\n\n"
      ]
    },
    {
      "cell_type": "code",
      "execution_count": null,
      "metadata": {
        "collapsed": false
      },
      "outputs": [],
      "source": [
        "import matplotlib.pyplot as plt\n\nfrom nilearn.plotting import plot_carpet\n\ndisplay = plot_carpet(adhd_dataset.func[0], mask_img, t_r=t_r)\n\ndisplay.show()"
      ]
    },
    {
      "cell_type": "markdown",
      "metadata": {},
      "source": [
        "## Deriving a label-based mask\nCreate a gray matter/white matter/cerebrospinal fluid mask from\nICBM152 tissue probability maps.\n\n"
      ]
    },
    {
      "cell_type": "code",
      "execution_count": null,
      "metadata": {
        "collapsed": false
      },
      "outputs": [],
      "source": [
        "import numpy as np\nfrom nilearn import image\n\natlas = datasets.fetch_icbm152_2009()\natlas_img = image.concat_imgs((atlas[\"gm\"], atlas[\"wm\"], atlas[\"csf\"]))\nmap_labels = {\"Gray Matter\": 1, \"White Matter\": 2, \"Cerebrospinal Fluid\": 3}\n\natlas_data = atlas_img.get_fdata()\ndiscrete_version = np.argmax(atlas_data, axis=3) + 1\ndiscrete_version[np.max(atlas_data, axis=3) == 0] = 0\ndiscrete_atlas_img = image.new_img_like(atlas_img, discrete_version)"
      ]
    },
    {
      "cell_type": "markdown",
      "metadata": {},
      "source": [
        "## Visualizing global patterns, separated by tissue type\n\n"
      ]
    },
    {
      "cell_type": "code",
      "execution_count": null,
      "metadata": {
        "collapsed": false
      },
      "outputs": [],
      "source": [
        "import matplotlib.pyplot as plt\n\nfrom nilearn.plotting import plot_carpet\n\nfig, ax = plt.subplots(figsize=(10, 10))\n\ndisplay = plot_carpet(\n    adhd_dataset.func[0],\n    discrete_atlas_img,\n    t_r=t_r,\n    mask_labels=map_labels,\n    axes=ax,\n    cmap=\"gray\",\n)\n\nfig.show()"
      ]
    }
  ],
  "metadata": {
    "kernelspec": {
      "display_name": "Python 3",
      "language": "python",
      "name": "python3"
    },
    "language_info": {
      "codemirror_mode": {
        "name": "ipython",
        "version": 3
      },
      "file_extension": ".py",
      "mimetype": "text/x-python",
      "name": "python",
      "nbconvert_exporter": "python",
      "pygments_lexer": "ipython3",
      "version": "3.10.4"
    }
  },
  "nbformat": 4,
  "nbformat_minor": 0
}