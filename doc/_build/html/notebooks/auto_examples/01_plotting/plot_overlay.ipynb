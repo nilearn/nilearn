{
  "cells": [
    {
      "cell_type": "code",
      "execution_count": null,
      "metadata": {
        "collapsed": false
      },
      "outputs": [],
      "source": [
        "%matplotlib inline"
      ]
    },
    {
      "cell_type": "markdown",
      "metadata": {},
      "source": [
        "\n# Visualizing a probabilistic atlas: the default mode in the MSDL atlas\n\nVisualizing a probabilistic atlas requires visualizing the different\nmaps that compose it.\n\nHere we represent the nodes constituting the default mode network in the\n[MSDL atlas](https://team.inria.fr/parietal/18-2/spatial_patterns/spatial-patterns-in-resting-state/).\n\nThe tools that we need to leverage are:\n\n * :func:`nilearn.image.index_img` to retrieve the various maps composing\n   the atlas\n\n * Adding overlays on an existing brain display, to plot each of these\n   maps\n\nAlternatively, :func:`nilearn.plotting.plot_prob_atlas` allows to plot the maps in one step that\nwith less control over the plot (see below)\n"
      ]
    },
    {
      "cell_type": "markdown",
      "metadata": {},
      "source": [
        "## Fetching probabilistic atlas - MSDL atlas\n\n"
      ]
    },
    {
      "cell_type": "code",
      "execution_count": null,
      "metadata": {
        "collapsed": false
      },
      "outputs": [],
      "source": [
        "from nilearn import datasets\n\natlas_data = datasets.fetch_atlas_msdl()\natlas_filename = atlas_data.maps"
      ]
    },
    {
      "cell_type": "markdown",
      "metadata": {},
      "source": [
        "## Visualizing a probabilistic atlas with plot_stat_map and add_overlay object\n\n"
      ]
    },
    {
      "cell_type": "code",
      "execution_count": null,
      "metadata": {
        "collapsed": false
      },
      "outputs": [],
      "source": [
        "from nilearn import plotting, image\n\n# First plot the map for the PCC: index 4 in the atlas\ndisplay = plotting.plot_stat_map(image.index_img(atlas_filename, 4),\n                                 colorbar=False,\n                                 title=\"DMN nodes in MSDL atlas\")\n\n# Now add as an overlay the maps for the ACC and the left and right\n# parietal nodes\ndisplay.add_overlay(image.index_img(atlas_filename, 5),\n                    cmap=plotting.cm.black_blue)\ndisplay.add_overlay(image.index_img(atlas_filename, 6),\n                    cmap=plotting.cm.black_green)\ndisplay.add_overlay(image.index_img(atlas_filename, 3),\n                    cmap=plotting.cm.black_pink)\n\nplotting.show()"
      ]
    },
    {
      "cell_type": "markdown",
      "metadata": {},
      "source": [
        "# Visualizing a probabilistic atlas with plot_prob_atlas\n\nAlternatively, we can create a new 4D-image by selecting the 3rd, 4th, 5th and 6th (zero-based) probabilistic map from atlas\nvia :func:`nilearn.image.index_img` and use :func:`nilearn.plotting.plot_prob_atlas` (added in version 0.2)\nto plot the selected nodes in one step.\n\nUnlike :func:`nilearn.plotting.plot_stat_map` this works with 4D images\n\n"
      ]
    },
    {
      "cell_type": "code",
      "execution_count": null,
      "metadata": {
        "collapsed": false
      },
      "outputs": [],
      "source": [
        "dmn_nodes = image.index_img(atlas_filename, [3, 4, 5, 6])\n# Note that dmn_node is now a 4D image\nprint(dmn_nodes.shape)"
      ]
    },
    {
      "cell_type": "code",
      "execution_count": null,
      "metadata": {
        "collapsed": false
      },
      "outputs": [],
      "source": [
        "display = plotting.plot_prob_atlas(dmn_nodes,\n                                   cut_coords=(0, -55, 29),\n                                   title=\"DMN nodes in MSDL atlas\")\nplotting.show()"
      ]
    }
  ],
  "metadata": {
    "kernelspec": {
      "display_name": "Python 3",
      "language": "python",
      "name": "python3"
    },
    "language_info": {
      "codemirror_mode": {
        "name": "ipython",
        "version": 3
      },
      "file_extension": ".py",
      "mimetype": "text/x-python",
      "name": "python",
      "nbconvert_exporter": "python",
      "pygments_lexer": "ipython3",
      "version": "3.10.4"
    }
  },
  "nbformat": 4,
  "nbformat_minor": 0
}