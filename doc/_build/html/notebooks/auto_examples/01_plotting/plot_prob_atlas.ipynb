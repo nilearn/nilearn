{
  "cells": [
    {
      "cell_type": "code",
      "execution_count": null,
      "metadata": {
        "collapsed": false
      },
      "outputs": [],
      "source": [
        "%matplotlib inline"
      ]
    },
    {
      "cell_type": "markdown",
      "metadata": {},
      "source": [
        "\n# Visualizing 4D probabilistic atlas maps\n\nThis example shows how to visualize probabilistic atlases made of 4D images.\nThere are 3 different display types:\n\n1. \"contours\", which means maps or ROIs are shown as contours delineated by     colored lines.\n\n2. \"filled_contours\", maps are shown as contours same as above but with     fillings inside the contours.\n\n3. \"continuous\", maps are shown as just color overlays.\n\nA colorbar can optionally be added.\n\nThe :func:`nilearn.plotting.plot_prob_atlas` function displays each map\nwith each different color which are picked randomly from the colormap\nwhich is already defined.\n\nSee `plotting` for more information to know how to tune the parameters.\n"
      ]
    },
    {
      "cell_type": "code",
      "execution_count": null,
      "metadata": {
        "collapsed": false
      },
      "outputs": [],
      "source": [
        "# Load 4D probabilistic atlases\nfrom nilearn import datasets\n\n# Harvard Oxford Atlasf\nharvard_oxford = datasets.fetch_atlas_harvard_oxford('cort-prob-2mm')\nharvard_oxford_sub = datasets.fetch_atlas_harvard_oxford('sub-prob-2mm')\n\n# Multi Subject Dictionary Learning Atlas\nmsdl = datasets.fetch_atlas_msdl()\n\n# Smith ICA Atlas and Brain Maps 2009\nsmith = datasets.fetch_atlas_smith_2009()\n\n# ICBM tissue probability\nicbm = datasets.fetch_icbm152_2009()\n\n# Allen RSN networks\nallen = datasets.fetch_atlas_allen_2011()\n\n# Pauli subcortical atlas\nsubcortex = datasets.fetch_atlas_pauli_2017()\n\n# Dictionaries of Functional Modes (\u201cDiFuMo\u201d) atlas\ndim = 64\nres = 2\ndifumo = datasets.fetch_atlas_difumo(\n    dimension=dim, resolution_mm=res, legacy_format=False\n)\n\n# Visualization\nfrom nilearn import plotting\n\natlas_types = {'Harvard_Oxford': harvard_oxford.maps,\n               'Harvard_Oxford sub': harvard_oxford_sub.maps,\n               'MSDL': msdl.maps, 'Smith 2009 10 RSNs': smith.rsn10,\n               'Smith2009 20 RSNs': smith.rsn20,\n               'Smith2009 70 RSNs': smith.rsn70,\n               'Smith2009 20 Brainmap': smith.bm20,\n               'Smith2009 70 Brainmap': smith.bm70,\n               'ICBM tissues': (icbm['wm'], icbm['gm'], icbm['csf']),\n               'Allen2011': allen.rsn28,\n               'Pauli2017 Subcortical Atlas': subcortex.maps,\n               'DiFuMo dimension {0} resolution {1}'.format(dim, res): difumo.maps,\n               }\n\nfor name, atlas in sorted(atlas_types.items()):\n    plotting.plot_prob_atlas(atlas, title=name)\n\n# An optional colorbar can be set\nplotting.plot_prob_atlas(smith.bm10, title='Smith2009 10 Brainmap (with'\n                                           ' colorbar)',\n                         colorbar=True)\nprint('ready')\nplotting.show()"
      ]
    }
  ],
  "metadata": {
    "kernelspec": {
      "display_name": "Python 3",
      "language": "python",
      "name": "python3"
    },
    "language_info": {
      "codemirror_mode": {
        "name": "ipython",
        "version": 3
      },
      "file_extension": ".py",
      "mimetype": "text/x-python",
      "name": "python",
      "nbconvert_exporter": "python",
      "pygments_lexer": "ipython3",
      "version": "3.10.4"
    }
  },
  "nbformat": 4,
  "nbformat_minor": 0
}