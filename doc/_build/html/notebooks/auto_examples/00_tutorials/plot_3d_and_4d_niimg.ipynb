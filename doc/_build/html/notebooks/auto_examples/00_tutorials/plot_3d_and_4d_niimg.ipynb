{
  "cells": [
    {
      "cell_type": "code",
      "execution_count": null,
      "metadata": {
        "collapsed": false
      },
      "outputs": [],
      "source": [
        "%matplotlib inline"
      ]
    },
    {
      "cell_type": "markdown",
      "metadata": {},
      "source": [
        "\n# 3D and 4D niimgs: handling and visualizing\n\nHere we discover how to work with 3D and 4D niimgs.\n"
      ]
    },
    {
      "cell_type": "markdown",
      "metadata": {},
      "source": [
        "## Downloading tutorial datasets from Internet\n\nNilearn comes with functions that download public data from Internet\n\nLet's first check where the data is downloaded on our disk:\n\n"
      ]
    },
    {
      "cell_type": "code",
      "execution_count": null,
      "metadata": {
        "collapsed": false
      },
      "outputs": [],
      "source": [
        "from nilearn import datasets\nprint('Datasets are stored in: %r' % datasets.get_data_dirs())"
      ]
    },
    {
      "cell_type": "markdown",
      "metadata": {},
      "source": [
        "Let's now retrieve a motor contrast from a Neurovault repository\n\n"
      ]
    },
    {
      "cell_type": "code",
      "execution_count": null,
      "metadata": {
        "collapsed": false
      },
      "outputs": [],
      "source": [
        "motor_images = datasets.fetch_neurovault_motor_task()\nmotor_images.images"
      ]
    },
    {
      "cell_type": "markdown",
      "metadata": {},
      "source": [
        "motor_images is a list of filenames. We need to take the first one\n\n"
      ]
    },
    {
      "cell_type": "code",
      "execution_count": null,
      "metadata": {
        "collapsed": false
      },
      "outputs": [],
      "source": [
        "tmap_filename = motor_images.images[0]"
      ]
    },
    {
      "cell_type": "markdown",
      "metadata": {},
      "source": [
        "## Visualizing a 3D file\n\nThe file contains a 3D volume, we can easily visualize it as a\nstatistical map:\n\n"
      ]
    },
    {
      "cell_type": "code",
      "execution_count": null,
      "metadata": {
        "collapsed": false
      },
      "outputs": [],
      "source": [
        "from nilearn import plotting\nplotting.plot_stat_map(tmap_filename)"
      ]
    },
    {
      "cell_type": "markdown",
      "metadata": {},
      "source": [
        "Visualizing works better with a threshold\n\n"
      ]
    },
    {
      "cell_type": "code",
      "execution_count": null,
      "metadata": {
        "collapsed": false
      },
      "outputs": [],
      "source": [
        "plotting.plot_stat_map(tmap_filename, threshold=3)"
      ]
    },
    {
      "cell_type": "markdown",
      "metadata": {},
      "source": [
        "## Visualizing one volume in a 4D file\n\nWe can download resting-state networks from the Smith 2009 study on\ncorrespondence between rest and task\n\n"
      ]
    },
    {
      "cell_type": "code",
      "execution_count": null,
      "metadata": {
        "collapsed": false
      },
      "outputs": [],
      "source": [
        "rsn = datasets.fetch_atlas_smith_2009()['rsn10']\nrsn"
      ]
    },
    {
      "cell_type": "markdown",
      "metadata": {},
      "source": [
        "It is a 4D nifti file. We load it into the memory to print its\nshape.\n\n"
      ]
    },
    {
      "cell_type": "code",
      "execution_count": null,
      "metadata": {
        "collapsed": false
      },
      "outputs": [],
      "source": [
        "from nilearn import image\nprint(image.load_img(rsn).shape)"
      ]
    },
    {
      "cell_type": "markdown",
      "metadata": {},
      "source": [
        "We can retrieve the first volume (note that Python indexing starts at 0):\n\n"
      ]
    },
    {
      "cell_type": "code",
      "execution_count": null,
      "metadata": {
        "collapsed": false
      },
      "outputs": [],
      "source": [
        "first_rsn = image.index_img(rsn, 0)\nprint(first_rsn.shape)"
      ]
    },
    {
      "cell_type": "markdown",
      "metadata": {},
      "source": [
        "first_rsn is a 3D image.\n\nWe can then plot it\n\n"
      ]
    },
    {
      "cell_type": "code",
      "execution_count": null,
      "metadata": {
        "collapsed": false
      },
      "outputs": [],
      "source": [
        "plotting.plot_stat_map(first_rsn)"
      ]
    },
    {
      "cell_type": "markdown",
      "metadata": {},
      "source": [
        "## Looping on all volumes in a 4D file\n\nIf we want to plot all the volumes in this 4D file, we can use iter_img\nto loop on them.\n\nThen we give a few arguments to plot_stat_map in order to have a more\ncompact display.\n\n"
      ]
    },
    {
      "cell_type": "code",
      "execution_count": null,
      "metadata": {
        "collapsed": false
      },
      "outputs": [],
      "source": [
        "for img in image.iter_img(rsn):\n    # img is now an in-memory 3D img\n    plotting.plot_stat_map(img, threshold=3, display_mode=\"z\", cut_coords=1,\n                           colorbar=False)"
      ]
    },
    {
      "cell_type": "markdown",
      "metadata": {},
      "source": [
        "## Looping through selected volumes in a 4D file\n\nIf we want to plot selected volumes in this 4D file, we can use index_img\nwith the `slice` constructor to select the desired volumes.\n\nAfterwards, we'll use iter_img to loop through them following the same\nformula as before.\n\n"
      ]
    },
    {
      "cell_type": "code",
      "execution_count": null,
      "metadata": {
        "collapsed": false
      },
      "outputs": [],
      "source": [
        "selected_volumes = image.index_img(rsn, slice(3, 5))"
      ]
    },
    {
      "cell_type": "markdown",
      "metadata": {},
      "source": [
        "If you're new to Python, one thing to note is that the slice constructor\nuses 0-based indexing. You can confirm this by matching these slices\nto the previous plot above.\n\n"
      ]
    },
    {
      "cell_type": "code",
      "execution_count": null,
      "metadata": {
        "collapsed": false
      },
      "outputs": [],
      "source": [
        "for img in image.iter_img(selected_volumes):\n    plotting.plot_stat_map(img)"
      ]
    },
    {
      "cell_type": "markdown",
      "metadata": {},
      "source": [
        "plotting.show is useful to force the display of figures when running\noutside IPython\n\n"
      ]
    },
    {
      "cell_type": "code",
      "execution_count": null,
      "metadata": {
        "collapsed": false
      },
      "outputs": [],
      "source": [
        "plotting.show()"
      ]
    },
    {
      "cell_type": "markdown",
      "metadata": {},
      "source": [
        "|\n\n______\n\nTo recap, neuroimaging images (niimgs as we call them) come in\ndifferent flavors:\n\n* 3D images, containing only one brain volume\n* 4D images, containing multiple brain volumes.\n\nMore details about the input formats in nilearn for 3D and 4D images is\ngiven in the documentation section: `loading_data`.\n\nFunctions accept either 3D or 4D images, and we need to use on the one\nhand :func:`nilearn.image.index_img` or :func:`nilearn.image.iter_img`\nto break down 4D images into 3D images, and on the other hand\n:func:`nilearn.image.concat_imgs` to group a list of 3D images into a 4D\nimage.\n\n"
      ]
    }
  ],
  "metadata": {
    "kernelspec": {
      "display_name": "Python 3",
      "language": "python",
      "name": "python3"
    },
    "language_info": {
      "codemirror_mode": {
        "name": "ipython",
        "version": 3
      },
      "file_extension": ".py",
      "mimetype": "text/x-python",
      "name": "python",
      "nbconvert_exporter": "python",
      "pygments_lexer": "ipython3",
      "version": "3.10.4"
    }
  },
  "nbformat": 4,
  "nbformat_minor": 0
}