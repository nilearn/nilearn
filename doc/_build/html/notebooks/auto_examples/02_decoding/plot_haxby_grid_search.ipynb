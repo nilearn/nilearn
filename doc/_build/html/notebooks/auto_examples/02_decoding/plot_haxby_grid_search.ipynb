{
  "cells": [
    {
      "cell_type": "code",
      "execution_count": null,
      "metadata": {
        "collapsed": false
      },
      "outputs": [],
      "source": [
        "%matplotlib inline"
      ]
    },
    {
      "cell_type": "markdown",
      "metadata": {},
      "source": [
        "# Setting a parameter by cross-validation\n\nHere we set the number of features selected in an Anova-SVC approach to\nmaximize the cross-validation score.\n\nAfter separating 2 sessions for validation, we vary that parameter and\nmeasure the cross-validation score. We also measure the prediction score\non the left-out validation data. As we can see, the two scores vary by a\nsignificant amount: this is due to sampling noise in cross validation,\nand choosing the parameter k to maximize the cross-validation score,\nmight not maximize the score on left-out data.\n\nThus using data to maximize a cross-validation score computed on that\nsame data is likely to optimistic and lead to an overfit.\n\nThe proper approach is known as a \"nested cross-validation\". It consists\nin doing cross-validation loops to set the model parameters inside the\ncross-validation loop used to judge the prediction performance: the\nparameters are set separately on each fold, never using the data used to\nmeasure performance.\n\nFor decoding task, in nilearn, this can be done using the\n:class:`nilearn.decoding.Decoder` object, that will automatically select\nthe best parameters of an estimator from a grid of parameter values.\n\nOne difficulty is that the Decoder object is a composite estimator: a\npipeline of feature selection followed by Support Vector Machine. Tuning\nthe SVM's parameters is already done automatically inside the Decoder, but\nperforming cross-validation for the feature selection must be done\nmanually.\n"
      ]
    },
    {
      "cell_type": "markdown",
      "metadata": {},
      "source": [
        "## Load the Haxby dataset\n\n"
      ]
    },
    {
      "cell_type": "code",
      "execution_count": null,
      "metadata": {
        "collapsed": false
      },
      "outputs": [],
      "source": [
        "from nilearn import datasets\n# by default 2nd subject data will be fetched on which we run our analysis\nhaxby_dataset = datasets.fetch_haxby()\nfmri_img = haxby_dataset.func[0]\nmask_img = haxby_dataset.mask\n\n# print basic information on the dataset\nprint('Mask nifti image (3D) is located at: %s' % haxby_dataset.mask)\nprint('Functional nifti image (4D) are located at: %s' % haxby_dataset.func[0])\n\n# Load the behavioral data\nimport pandas as pd\nlabels = pd.read_csv(haxby_dataset.session_target[0], sep=\" \")\ny = labels['labels']\n\n\n# Keep only data corresponding to shoes or bottles\nfrom nilearn.image import index_img\ncondition_mask = y.isin(['shoe', 'bottle'])\n\nfmri_niimgs = index_img(fmri_img, condition_mask)\ny = y[condition_mask]\nsession = labels['chunks'][condition_mask]"
      ]
    },
    {
      "cell_type": "markdown",
      "metadata": {},
      "source": [
        "## ANOVA pipeline with :class:`nilearn.decoding.Decoder` object\n\nNilearn Decoder object aims to provide smooth user experience by acting as a\npipeline of several tasks: preprocessing with NiftiMasker, reducing dimension\nby selecting only relevant features with ANOVA -- a classical univariate\nfeature selection based on F-test, and then decoding with different types of\nestimators (in this example is Support Vector Machine with a linear kernel)\non nested cross-validation.\n\n"
      ]
    },
    {
      "cell_type": "code",
      "execution_count": null,
      "metadata": {
        "collapsed": false
      },
      "outputs": [],
      "source": [
        "from nilearn.decoding import Decoder\n# Here screening_percentile is set to 2 percent, meaning around 800\n# features will be selected with ANOVA.\ndecoder = Decoder(estimator='svc', cv=5, mask=mask_img,\n                  smoothing_fwhm=4, standardize=True,\n                  screening_percentile=2)"
      ]
    },
    {
      "cell_type": "markdown",
      "metadata": {},
      "source": [
        "## Fit the Decoder and predict the responses\nAs a complete pipeline by itself, decoder will perform cross-validation\nfor the estimator, in this case Support Vector Machine. We can output the\nbest parameters selected for each cross-validation fold. See\nhttps://scikit-learn.org/stable/modules/cross_validation.html for an\nexcellent explanation of how cross-validation works.\n\nFirst we fit the Decoder\n\n"
      ]
    },
    {
      "cell_type": "code",
      "execution_count": null,
      "metadata": {
        "collapsed": false
      },
      "outputs": [],
      "source": [
        "decoder.fit(fmri_niimgs, y)\nfor i, (param, cv_score) in enumerate(zip(decoder.cv_params_['shoe']['C'],\n                                          decoder.cv_scores_['shoe'])):\n\n    print(\"Fold %d | Best SVM parameter: %.1f with score: %.3f\" % (i + 1,\n          param, cv_score))\n# Output the prediction with Decoder\ny_pred = decoder.predict(fmri_niimgs)"
      ]
    },
    {
      "cell_type": "markdown",
      "metadata": {},
      "source": [
        "## Compute prediction scores with different values of screening percentile\n\n"
      ]
    },
    {
      "cell_type": "code",
      "execution_count": null,
      "metadata": {
        "collapsed": false
      },
      "outputs": [],
      "source": [
        "import numpy as np\nscreening_percentile_range = [2, 4, 8, 16, 32, 64]\ncv_scores = []\nval_scores = []\n\nfor sp in screening_percentile_range:\n    decoder = Decoder(estimator='svc', mask=mask_img,\n                      smoothing_fwhm=4, cv=3, standardize=True,\n                      screening_percentile=sp)\n    decoder.fit(index_img(fmri_niimgs, session < 10),\n                y[session < 10])\n    cv_scores.append(np.mean(decoder.cv_scores_['bottle']))\n    print(\"Sreening Percentile: %.3f\" % sp)\n    print(\"Mean CV score: %.4f\" % cv_scores[-1])\n\n    y_pred = decoder.predict(index_img(fmri_niimgs, session == 10))\n    val_scores.append(np.mean(y_pred == y[session == 10]))\n    print(\"Validation score: %.4f\" % val_scores[-1])"
      ]
    },
    {
      "cell_type": "markdown",
      "metadata": {},
      "source": [
        "## Nested cross-validation\nWe are going to tune the parameter 'screening_percentile' in the\npipeline.\n\n"
      ]
    },
    {
      "cell_type": "code",
      "execution_count": null,
      "metadata": {
        "collapsed": false
      },
      "outputs": [],
      "source": [
        "from sklearn.model_selection import KFold\ncv = KFold(n_splits=3)\nnested_cv_scores = []\n\nfor train, test in cv.split(session):\n    y_train = np.array(y)[train]\n    y_test = np.array(y)[test]\n    val_scores = []\n\n    for sp in screening_percentile_range:\n        decoder = Decoder(estimator='svc', mask=mask_img,\n                          smoothing_fwhm=4, cv=3, standardize=True,\n                          screening_percentile=sp)\n        decoder.fit(index_img(fmri_niimgs, train), y_train)\n        y_pred = decoder.predict(index_img(fmri_niimgs, test))\n        val_scores.append(np.mean(y_pred == y_test))\n\n    nested_cv_scores.append(np.max(val_scores))\n\nprint(\"Nested CV score: %.4f\" % np.mean(nested_cv_scores))"
      ]
    },
    {
      "cell_type": "markdown",
      "metadata": {},
      "source": [
        "## Plot the prediction scores using matplotlib\n\n"
      ]
    },
    {
      "cell_type": "code",
      "execution_count": null,
      "metadata": {
        "collapsed": false
      },
      "outputs": [],
      "source": [
        "from matplotlib import pyplot as plt\nfrom nilearn.plotting import show\n\nplt.figure(figsize=(6, 4))\nplt.plot(cv_scores, label='Cross validation scores')\nplt.plot(val_scores, label='Left-out validation data scores')\nplt.xticks(np.arange(len(screening_percentile_range)),\n           screening_percentile_range)\nplt.axis('tight')\nplt.xlabel('ANOVA screening percentile')\n\nplt.axhline(np.mean(nested_cv_scores),\n            label='Nested cross-validation',\n            color='r')\n\nplt.legend(loc='best', frameon=False)\nshow()"
      ]
    }
  ],
  "metadata": {
    "kernelspec": {
      "display_name": "Python 3",
      "language": "python",
      "name": "python3"
    },
    "language_info": {
      "codemirror_mode": {
        "name": "ipython",
        "version": 3
      },
      "file_extension": ".py",
      "mimetype": "text/x-python",
      "name": "python",
      "nbconvert_exporter": "python",
      "pygments_lexer": "ipython3",
      "version": "3.10.4"
    }
  },
  "nbformat": 4,
  "nbformat_minor": 0
}