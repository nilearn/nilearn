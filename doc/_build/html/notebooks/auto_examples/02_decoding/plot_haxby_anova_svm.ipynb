{
  "cells": [
    {
      "cell_type": "code",
      "execution_count": null,
      "metadata": {
        "collapsed": false
      },
      "outputs": [],
      "source": [
        "%matplotlib inline"
      ]
    },
    {
      "cell_type": "markdown",
      "metadata": {},
      "source": [
        "\n# Decoding with ANOVA + SVM: face vs house in the Haxby dataset\n\nThis example does a simple but efficient decoding on the Haxby dataset:\nusing a feature selection, followed by an SVM.\n"
      ]
    },
    {
      "cell_type": "markdown",
      "metadata": {},
      "source": [
        "## Retrieve the files of the Haxby dataset\n\n"
      ]
    },
    {
      "cell_type": "code",
      "execution_count": null,
      "metadata": {
        "collapsed": false
      },
      "outputs": [],
      "source": [
        "from nilearn import datasets\n\n# By default 2nd subject will be fetched\nhaxby_dataset = datasets.fetch_haxby()\nfunc_img = haxby_dataset.func[0]\n# print basic information on the dataset\nprint('Mask nifti image (3D) is located at: %s' % haxby_dataset.mask)\nprint('Functional nifti image (4D) is located at: %s' %\n      func_img)"
      ]
    },
    {
      "cell_type": "markdown",
      "metadata": {},
      "source": [
        "## Load the behavioral data\n\n"
      ]
    },
    {
      "cell_type": "code",
      "execution_count": null,
      "metadata": {
        "collapsed": false
      },
      "outputs": [],
      "source": [
        "import pandas as pd\n\n# Load target information as string and give a numerical identifier to each\n\nbehavioral = pd.read_csv(haxby_dataset.session_target[0], sep=\" \")\nconditions = behavioral['labels']\n\n# Restrict the analysis to faces and places\nfrom nilearn.image import index_img\ncondition_mask = behavioral['labels'].isin(['face', 'house'])\nconditions = conditions[condition_mask]\nfunc_img = index_img(func_img, condition_mask)\n\n# Confirm that we now have 2 conditions\nprint(conditions.unique())\n\n# The number of the session is stored in the CSV file giving the behavioral\n# data. We have to apply our session mask, to select only faces and houses.\nsession_label = behavioral['chunks'][condition_mask]"
      ]
    },
    {
      "cell_type": "markdown",
      "metadata": {},
      "source": [
        "## ANOVA pipeline with :class:`nilearn.decoding.Decoder` object\n\nNilearn Decoder object aims to provide smooth user experience by acting as a\npipeline of several tasks: preprocessing with NiftiMasker, reducing dimension\nby selecting only relevant features with ANOVA -- a classical univariate\nfeature selection based on F-test, and then decoding with different types of\nestimators (in this example is Support Vector Machine with a linear kernel)\non nested cross-validation.\n\n"
      ]
    },
    {
      "cell_type": "code",
      "execution_count": null,
      "metadata": {
        "collapsed": false
      },
      "outputs": [],
      "source": [
        "from nilearn.decoding import Decoder\n# Here screening_percentile is set to 5 percent\nmask_img = haxby_dataset.mask\ndecoder = Decoder(estimator='svc', mask=mask_img, smoothing_fwhm=4,\n                  standardize=True, screening_percentile=5, scoring='accuracy')"
      ]
    },
    {
      "cell_type": "markdown",
      "metadata": {},
      "source": [
        "## Fit the decoder and predict\n\n"
      ]
    },
    {
      "cell_type": "code",
      "execution_count": null,
      "metadata": {
        "collapsed": false
      },
      "outputs": [],
      "source": [
        "decoder.fit(func_img, conditions)\ny_pred = decoder.predict(func_img)"
      ]
    },
    {
      "cell_type": "markdown",
      "metadata": {},
      "source": [
        "## Obtain prediction scores via cross validation\nDefine the cross-validation scheme used for validation. Here we use a\nLeaveOneGroupOut cross-validation on the session group which corresponds to a\nleave a session out scheme, then pass the cross-validator object to the cv\nparameter of decoder.leave-one-session-out For more details please take a\nlook at:\n[Measuring prediction scores using cross-validation\\](../00_tutorials/plot_decoding_tutorial.html#measuring-prediction-scores-using-cross-validation)\n\n"
      ]
    },
    {
      "cell_type": "code",
      "execution_count": null,
      "metadata": {
        "collapsed": false
      },
      "outputs": [],
      "source": [
        "from sklearn.model_selection import LeaveOneGroupOut\ncv = LeaveOneGroupOut()\n\ndecoder = Decoder(estimator='svc', mask=mask_img, standardize=True,\n                  screening_percentile=5, scoring='accuracy', cv=cv)\n# Compute the prediction accuracy for the different folds (i.e. session)\ndecoder.fit(func_img, conditions, groups=session_label)\n\n# Print the CV scores\nprint(decoder.cv_scores_['face'])"
      ]
    },
    {
      "cell_type": "markdown",
      "metadata": {},
      "source": [
        "## Visualize the results\nLook at the SVC's discriminating weights using\n:class:`nilearn.plotting.plot_stat_map`\n\n"
      ]
    },
    {
      "cell_type": "code",
      "execution_count": null,
      "metadata": {
        "collapsed": false
      },
      "outputs": [],
      "source": [
        "weight_img = decoder.coef_img_['face']\nfrom nilearn.plotting import plot_stat_map, show\nplot_stat_map(weight_img, bg_img=haxby_dataset.anat[0], title='SVM weights')\n\nshow()"
      ]
    },
    {
      "cell_type": "markdown",
      "metadata": {},
      "source": [
        "Or we can plot the weights using :class:`nilearn.plotting.view_img` as a\ndynamic html viewer\n\n"
      ]
    },
    {
      "cell_type": "code",
      "execution_count": null,
      "metadata": {
        "collapsed": false
      },
      "outputs": [],
      "source": [
        "from nilearn.plotting import view_img\nview_img(weight_img, bg_img=haxby_dataset.anat[0],\n         title=\"SVM weights\", dim=-1)"
      ]
    },
    {
      "cell_type": "markdown",
      "metadata": {},
      "source": [
        "Saving the results as a Nifti file may also be important\n\n"
      ]
    },
    {
      "cell_type": "code",
      "execution_count": null,
      "metadata": {
        "collapsed": false
      },
      "outputs": [],
      "source": [
        "weight_img.to_filename('haxby_face_vs_house.nii')"
      ]
    }
  ],
  "metadata": {
    "kernelspec": {
      "display_name": "Python 3",
      "language": "python",
      "name": "python3"
    },
    "language_info": {
      "codemirror_mode": {
        "name": "ipython",
        "version": 3
      },
      "file_extension": ".py",
      "mimetype": "text/x-python",
      "name": "python",
      "nbconvert_exporter": "python",
      "pygments_lexer": "ipython3",
      "version": "3.10.4"
    }
  },
  "nbformat": 4,
  "nbformat_minor": 0
}