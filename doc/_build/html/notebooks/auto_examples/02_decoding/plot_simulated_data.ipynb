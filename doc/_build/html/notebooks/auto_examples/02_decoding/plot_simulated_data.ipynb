{
  "cells": [
    {
      "cell_type": "code",
      "execution_count": null,
      "metadata": {
        "collapsed": false
      },
      "outputs": [],
      "source": [
        "%matplotlib inline"
      ]
    },
    {
      "cell_type": "markdown",
      "metadata": {},
      "source": [
        "\n# Example of pattern recognition on simulated data\n\nThis example simulates data according to a very simple sketch of brain\nimaging data and applies machine learning techniques to predict output\nvalues.\n\nWe use a very simple generating function to simulate data, as in [Michel\net al. 2012](http://dx.doi.org/10.1109/TMI.2011.2113378) , a linear\nmodel with a random design matrix **X**:\n\n\\begin{align}\\mathbf{y} = \\mathbf{X} \\mathbf{w} + \\mathbf{e}\\end{align}\n\n* **w**: the weights of the linear model correspond to the predictive\n  brain regions. Here, in the simulations, they form a 3D image with 5, four\n  of which in opposite corners and one in the middle, as plotted below.\n\n* **X**: the design matrix corresponds to the observed fMRI data. Here\n  we simulate random normal variables and smooth them as in Gaussian\n  fields.\n\n* **e** is random normal noise.\n"
      ]
    },
    {
      "cell_type": "code",
      "execution_count": null,
      "metadata": {
        "collapsed": false
      },
      "outputs": [],
      "source": [
        "# Licence : BSD\n\nprint(__doc__)\n\nfrom time import time\n\nimport numpy as np\nimport matplotlib.pyplot as plt\nfrom scipy import linalg\nfrom scipy.ndimage import gaussian_filter\n\nfrom sklearn import linear_model, svm\nfrom sklearn.utils import check_random_state\nfrom sklearn.model_selection import KFold\nfrom sklearn.feature_selection import f_regression\nfrom sklearn.preprocessing import StandardScaler\nfrom sklearn.pipeline import make_pipeline\n\nimport nibabel\n\nfrom nilearn import decoding\nimport nilearn.masking\nfrom nilearn.plotting import show"
      ]
    },
    {
      "cell_type": "markdown",
      "metadata": {},
      "source": [
        "## A function to generate data\n\n"
      ]
    },
    {
      "cell_type": "code",
      "execution_count": null,
      "metadata": {
        "collapsed": false
      },
      "outputs": [],
      "source": [
        "def create_simulation_data(snr=0, n_samples=2 * 100, size=12, random_state=1):\n    generator = check_random_state(random_state)\n    roi_size = 2  # size / 3\n    smooth_X = 1\n    # Coefs\n    w = np.zeros((size, size, size))\n    w[0:roi_size, 0:roi_size, 0:roi_size] = -0.6\n    w[-roi_size:, -roi_size:, 0:roi_size] = 0.5\n    w[0:roi_size, -roi_size:, -roi_size:] = -0.6\n    w[-roi_size:, 0:roi_size:, -roi_size:] = 0.5\n    w[(size - roi_size) // 2:(size + roi_size) // 2,\n    (size - roi_size) // 2:(size + roi_size) // 2,\n    (size - roi_size) // 2:(size + roi_size) // 2] = 0.5\n    w = w.ravel()\n    # Generate smooth background noise\n    XX = generator.randn(n_samples, size, size, size)\n    noise = []\n    for i in range(n_samples):\n        Xi = gaussian_filter(XX[i, :, :, :], smooth_X)\n        Xi = Xi.ravel()\n        noise.append(Xi)\n    noise = np.array(noise)\n    # Generate the signal y\n    y = generator.randn(n_samples)\n    X = np.dot(y[:, np.newaxis], w[np.newaxis])\n    norm_noise = linalg.norm(X, 2) / np.exp(snr / 20.)\n    noise_coef = norm_noise / linalg.norm(noise, 2)\n    noise *= noise_coef\n    snr = 20 * np.log(linalg.norm(X, 2) / linalg.norm(noise, 2))\n    print(\"SNR: %.1f dB\" % snr)\n    # Mixing of signal + noise and splitting into train/test\n    X += noise\n    X -= X.mean(axis=-1)[:, np.newaxis]\n    X /= X.std(axis=-1)[:, np.newaxis]\n    X_test = X[n_samples // 2:, :]\n    X_train = X[:n_samples // 2, :]\n    y_test = y[n_samples // 2:]\n    y = y[:n_samples // 2]\n\n    return X_train, X_test, y, y_test, snr, w, size"
      ]
    },
    {
      "cell_type": "markdown",
      "metadata": {},
      "source": [
        "## A simple function to plot slices\n\n"
      ]
    },
    {
      "cell_type": "code",
      "execution_count": null,
      "metadata": {
        "collapsed": false
      },
      "outputs": [],
      "source": [
        "def plot_slices(data, title=None):\n    plt.figure(figsize=(5.5, 2.2))\n    vmax = np.abs(data).max()\n    for i in (0, 6, 11):\n        plt.subplot(1, 3, i // 5 + 1)\n        plt.imshow(data[:, :, i], vmin=-vmax, vmax=vmax,\n                   interpolation=\"nearest\", cmap=plt.cm.RdBu_r)\n        plt.xticks(())\n        plt.yticks(())\n    plt.subplots_adjust(hspace=0.05, wspace=0.05, left=.03, right=.97, top=.9)\n    if title is not None:\n        plt.suptitle(title, y=.95)"
      ]
    },
    {
      "cell_type": "markdown",
      "metadata": {},
      "source": [
        "## Create data\n\n"
      ]
    },
    {
      "cell_type": "code",
      "execution_count": null,
      "metadata": {
        "collapsed": false
      },
      "outputs": [],
      "source": [
        "X_train, X_test, y_train, y_test, snr, coefs, size = \\\n    create_simulation_data(snr=-10, n_samples=100, size=12)\n\n# Create masks for SearchLight. process_mask is the voxels where SearchLight\n# computation is performed. It is a subset of the brain mask, just to reduce\n# computation time.\nmask = np.ones((size, size, size), dtype=bool)\nmask_img = nibabel.Nifti1Image(mask.astype(\"uint8\"), np.eye(4))\nprocess_mask = np.zeros((size, size, size), dtype=bool)\nprocess_mask[:, :, 0] = True\nprocess_mask[:, :, 6] = True\nprocess_mask[:, :, 11] = True\nprocess_mask_img = nibabel.Nifti1Image(process_mask.astype(\"uint8\"), np.eye(4))\n\ncoefs = np.reshape(coefs, [size, size, size])\nplot_slices(coefs, title=\"Ground truth\")"
      ]
    },
    {
      "cell_type": "markdown",
      "metadata": {},
      "source": [
        "## Run different estimators\n\n We can now run different estimators and look at their prediction score,\n as well as the feature maps that they recover. Namely, we will use\n\n * A support vector regression ([SVM](http://scikit-learn.org/stable/modules/svm.html))\n\n * An [elastic-net](http://scikit-learn.org/stable/modules/linear_model.html#elastic-net)\n\n * A *Bayesian* ridge estimator, i.e. a ridge estimator that sets its\n   parameter according to a metaprior\n\n * A ridge estimator that set its parameter by cross-validation\n\n Note that the `RidgeCV` and the `ElasticNetCV` have names ending in `CV`\n that stands for `cross-validation`: in the list of possible `alpha`\n values that they are given, they choose the best by cross-validation.\n\n"
      ]
    },
    {
      "cell_type": "code",
      "execution_count": null,
      "metadata": {
        "collapsed": false
      },
      "outputs": [],
      "source": [
        "bayesian_ridge = make_pipeline(\n    StandardScaler(), linear_model.BayesianRidge()\n)\n\nestimators = [\n    ('bayesian_ridge', bayesian_ridge),\n    ('enet_cv', linear_model.ElasticNetCV(alphas=[5, 1, 0.5, 0.1],\n                                          l1_ratio=0.05)),\n    ('ridge_cv', linear_model.RidgeCV(alphas=[100, 10, 1, 0.1], cv=5)),\n    ('svr', svm.SVR(kernel='linear', C=0.001)),\n    ('searchlight', decoding.SearchLight(mask_img,\n                                         process_mask_img=process_mask_img,\n                                         radius=2.7,\n                                         scoring='r2',\n                                         estimator=svm.SVR(kernel=\"linear\"),\n                                         cv=KFold(n_splits=4),\n                                         verbose=1,\n                                         n_jobs=1,\n                                         )\n     )\n]"
      ]
    },
    {
      "cell_type": "markdown",
      "metadata": {},
      "source": [
        "Run the estimators\n\nAs the estimators expose a fairly consistent API, we can all fit them in\na for loop: they all have a `fit` method for fitting the data, a `score`\nmethod to retrieve the prediction score, and because they are all linear\nmodels, a `coef_` attribute that stores the coefficients **w** estimated\n\n"
      ]
    },
    {
      "cell_type": "code",
      "execution_count": null,
      "metadata": {
        "collapsed": false
      },
      "outputs": [],
      "source": [
        "for name, estimator in estimators:\n    t1 = time()\n    if name != \"searchlight\":\n        estimator.fit(X_train, y_train)\n    else:\n        X = nilearn.masking.unmask(X_train, mask_img)\n        estimator.fit(X, y_train)\n        del X\n    elapsed_time = time() - t1\n\n    if name != 'searchlight':\n        if name == 'bayesian_ridge':\n            coefs = estimator.named_steps['bayesianridge'].coef_\n        else:\n            coefs = estimator.coef_\n        coefs = np.reshape(coefs, [size, size, size])\n        score = estimator.score(X_test, y_test)\n        title = '%s: prediction score %.3f, training time: %.2fs' % (\n            name, score, elapsed_time)\n\n    else:  # Searchlight\n        coefs = estimator.scores_\n        title = '%s: training time: %.2fs' % (\n            estimator.__class__.__name__,\n            elapsed_time)\n\n    # We use the plot_slices function provided in the example to\n    # plot the results\n    plot_slices(coefs, title=title)\n\n    print(title)\n\nf_values, p_values = f_regression(X_train, y_train)\np_values = np.reshape(p_values, (size, size, size))\np_values = -np.log10(p_values)\np_values[np.isnan(p_values)] = 0\np_values[p_values > 10] = 10\nplot_slices(p_values, title=\"f_regress\")\n\nshow()"
      ]
    },
    {
      "cell_type": "markdown",
      "metadata": {},
      "source": [
        "## An exercice to go further\n\n As an exercice, you can use recursive feature elimination (RFE) with\n the SVM\n\n Read the object's documentation to find out how to use RFE.\n\n **Performance tip**: increase the `step` parameter, or it will be very\n slow.\n\n"
      ]
    },
    {
      "cell_type": "code",
      "execution_count": null,
      "metadata": {
        "collapsed": false
      },
      "outputs": [],
      "source": [
        "from sklearn.feature_selection import RFE"
      ]
    }
  ],
  "metadata": {
    "kernelspec": {
      "display_name": "Python 3",
      "language": "python",
      "name": "python3"
    },
    "language_info": {
      "codemirror_mode": {
        "name": "ipython",
        "version": 3
      },
      "file_extension": ".py",
      "mimetype": "text/x-python",
      "name": "python",
      "nbconvert_exporter": "python",
      "pygments_lexer": "ipython3",
      "version": "3.10.4"
    }
  },
  "nbformat": 4,
  "nbformat_minor": 0
}