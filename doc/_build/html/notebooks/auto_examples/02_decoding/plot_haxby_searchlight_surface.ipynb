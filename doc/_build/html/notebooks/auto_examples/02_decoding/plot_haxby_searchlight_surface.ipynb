{
  "cells": [
    {
      "cell_type": "code",
      "execution_count": null,
      "metadata": {
        "collapsed": false
      },
      "outputs": [],
      "source": [
        "%matplotlib inline"
      ]
    },
    {
      "cell_type": "markdown",
      "metadata": {},
      "source": [
        "\n# Cortical surface-based searchlight decoding\n\nThis is a demo for surface-based searchlight decoding, as described in:\nChen, Y., Namburi, P., Elliott, L.T., Heinzle, J., Soon, C.S.,\nChee, M.W.L., and Haynes, J.-D. (2011). Cortical surface-based\nsearchlight decoding. NeuroImage 56, 582\u2013592.\n"
      ]
    },
    {
      "cell_type": "markdown",
      "metadata": {},
      "source": [
        "## Load Haxby dataset\n\n"
      ]
    },
    {
      "cell_type": "code",
      "execution_count": null,
      "metadata": {
        "collapsed": false
      },
      "outputs": [],
      "source": [
        "import pandas as pd\nfrom nilearn import datasets\n\n# We fetch 2nd subject from haxby datasets (which is default)\nhaxby_dataset = datasets.fetch_haxby()\n\nfmri_filename = haxby_dataset.func[0]\nlabels = pd.read_csv(haxby_dataset.session_target[0], sep=\" \")\ny = labels['labels']\nsession = labels['chunks']"
      ]
    },
    {
      "cell_type": "markdown",
      "metadata": {},
      "source": [
        "## Restrict to faces and houses\n\n"
      ]
    },
    {
      "cell_type": "code",
      "execution_count": null,
      "metadata": {
        "collapsed": false
      },
      "outputs": [],
      "source": [
        "from nilearn.image import index_img\ncondition_mask = y.isin(['face', 'house'])\n\nfmri_img = index_img(fmri_filename, condition_mask)\ny, session = y[condition_mask], session[condition_mask]"
      ]
    },
    {
      "cell_type": "markdown",
      "metadata": {},
      "source": [
        "## Surface bold response\n\n"
      ]
    },
    {
      "cell_type": "code",
      "execution_count": null,
      "metadata": {
        "collapsed": false
      },
      "outputs": [],
      "source": [
        "from nilearn import datasets, surface\nfrom sklearn import neighbors\n\n# Fetch a coarse surface of the left hemisphere only for speed\nfsaverage = datasets.fetch_surf_fsaverage(mesh='fsaverage5')\nhemi = 'left'\n\n# Average voxels 5 mm close to the 3d pial surface\nradius = 5.\npial_mesh = fsaverage['pial_' + hemi]\nX = surface.vol_to_surf(fmri_img, pial_mesh, radius=radius).T\n\n# To define the :term:`BOLD` responses to be included within each searchlight \"sphere\"\n# we define an adjacency matrix based on the inflated surface vertices such\n# that nearby surfaces are concatenated within the same searchlight.\n\ninfl_mesh = fsaverage['infl_' + hemi]\ncoords, _ = surface.load_surf_mesh(infl_mesh)\nradius = 3.\nnn = neighbors.NearestNeighbors(radius=radius)\nadjacency = nn.fit(coords).radius_neighbors_graph(coords).tolil()"
      ]
    },
    {
      "cell_type": "markdown",
      "metadata": {},
      "source": [
        "## Searchlight computation\n\n"
      ]
    },
    {
      "cell_type": "code",
      "execution_count": null,
      "metadata": {
        "collapsed": false
      },
      "outputs": [],
      "source": [
        "from sklearn.model_selection import KFold\nfrom sklearn.pipeline import make_pipeline\nfrom sklearn.preprocessing import StandardScaler\nfrom sklearn.linear_model import RidgeClassifier\nfrom nilearn.decoding.searchlight import search_light\n\n# Simple linear estimator preceded by a normalization step\nestimator = make_pipeline(StandardScaler(),\n                          RidgeClassifier(alpha=10.))\n\n# Define cross-validation scheme\ncv = KFold(n_splits=3, shuffle=False)\n\n# Cross-validated search light\nscores = search_light(X, y, estimator, adjacency, cv=cv, n_jobs=1)"
      ]
    },
    {
      "cell_type": "markdown",
      "metadata": {},
      "source": [
        "## Visualization\n\n"
      ]
    },
    {
      "cell_type": "code",
      "execution_count": null,
      "metadata": {
        "collapsed": false
      },
      "outputs": [],
      "source": [
        "from nilearn import plotting\nchance = .5\nplotting.plot_surf_stat_map(infl_mesh, scores - chance,\n                            view='medial', colorbar=True, threshold=0.1,\n                            bg_map=fsaverage['sulc_' + hemi],\n                            title='Accuracy map, left hemisphere')\nplotting.show()"
      ]
    }
  ],
  "metadata": {
    "kernelspec": {
      "display_name": "Python 3",
      "language": "python",
      "name": "python3"
    },
    "language_info": {
      "codemirror_mode": {
        "name": "ipython",
        "version": 3
      },
      "file_extension": ".py",
      "mimetype": "text/x-python",
      "name": "python",
      "nbconvert_exporter": "python",
      "pygments_lexer": "ipython3",
      "version": "3.10.4"
    }
  },
  "nbformat": 4,
  "nbformat_minor": 0
}