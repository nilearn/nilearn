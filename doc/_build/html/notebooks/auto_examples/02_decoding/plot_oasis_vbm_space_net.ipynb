{
  "cells": [
    {
      "cell_type": "code",
      "execution_count": null,
      "metadata": {
        "collapsed": false
      },
      "outputs": [],
      "source": [
        "%matplotlib inline"
      ]
    },
    {
      "cell_type": "markdown",
      "metadata": {},
      "source": [
        "\n# Voxel-Based Morphometry on Oasis dataset with Space-Net prior\n\nPredicting age from gray-matter concentration maps from OASIS\ndataset. Note that age is a continuous variable, we use the regressor\nhere, and not the classification object.\n\nSee also the documentation: `space_net`.\n"
      ]
    },
    {
      "cell_type": "markdown",
      "metadata": {},
      "source": [
        "## Load the Oasis VBM dataset\n\n"
      ]
    },
    {
      "cell_type": "code",
      "execution_count": null,
      "metadata": {
        "collapsed": false
      },
      "outputs": [],
      "source": [
        "import numpy as np\nfrom nilearn import datasets\nn_subjects = 200  # increase this number if you have more RAM on your box\ndataset_files = datasets.fetch_oasis_vbm(\n    n_subjects=n_subjects, legacy_format=False\n)\nage = dataset_files.ext_vars['age'].astype(float)\nage = np.array(age)\ngm_imgs = np.array(dataset_files.gray_matter_maps)\n\n\n# Split data into training set and test set\nfrom sklearn.utils import check_random_state\nfrom sklearn.model_selection import train_test_split\nrng = check_random_state(42)\ngm_imgs_train, gm_imgs_test, age_train, age_test = train_test_split(\n    gm_imgs, age, train_size=.6, random_state=rng)\n\n# Sort test data for better visualization (trend, etc.)\nperm = np.argsort(age_test)[::-1]\nage_test = age_test[perm]\ngm_imgs_test = gm_imgs_test[perm]"
      ]
    },
    {
      "cell_type": "markdown",
      "metadata": {},
      "source": [
        "## Fit the SpaceNet and predict with it\nTo save time (because these are anat images with many voxels), we include\nonly the 5-percent voxels most correlated with the age variable to fit.\nAlso, we set memory_level=2 so that more of the intermediate computations\nare cached. We used a graph-net penalty here but more beautiful results can\nbe obtained using the TV-l1 penalty, at the expense of longer runtimes.\nAlso, you may pass and n_jobs=<some_high_value> to the\nSpaceNetRegressor class, to take advantage of a multi-core system.\n\n\n"
      ]
    },
    {
      "cell_type": "code",
      "execution_count": null,
      "metadata": {
        "collapsed": false
      },
      "outputs": [],
      "source": [
        "from nilearn.decoding import SpaceNetRegressor\ndecoder = SpaceNetRegressor(memory=\"nilearn_cache\", penalty=\"graph-net\",\n                            screening_percentile=5., memory_level=2)\ndecoder.fit(gm_imgs_train, age_train)  # fit\ncoef_img = decoder.coef_img_\ny_pred = decoder.predict(gm_imgs_test).ravel()  # predict\nmse = np.mean(np.abs(age_test - y_pred))\nprint('Mean square error (MSE) on the predicted age: %.2f' % mse)"
      ]
    },
    {
      "cell_type": "markdown",
      "metadata": {},
      "source": [
        "## Visualize the decoding maps and quality of predictions\nVisualize the resulting maps\n\n"
      ]
    },
    {
      "cell_type": "code",
      "execution_count": null,
      "metadata": {
        "collapsed": false
      },
      "outputs": [],
      "source": [
        "from nilearn.plotting import plot_stat_map, show\n# weights map\nbackground_img = gm_imgs[0]\nplot_stat_map(coef_img, background_img, title=\"graph-net weights\",\n              display_mode=\"z\", cut_coords=1)\n\n# Plot the prediction errors.\nimport matplotlib.pyplot as plt\nplt.figure()\nplt.suptitle(\"graph-net: Mean Absolute Error %.2f years\" % mse)\nlinewidth = 3\nax1 = plt.subplot(211)\nax1.plot(age_test, label=\"True age\", linewidth=linewidth)\nax1.plot(y_pred, '--', c=\"g\", label=\"Predicted age\", linewidth=linewidth)\nax1.set_ylabel(\"age\")\nplt.legend(loc=\"best\")\nax2 = plt.subplot(212)\nax2.plot(age_test - y_pred, label=\"True age - predicted age\",\n         linewidth=linewidth)\nax2.set_xlabel(\"subject\")\nplt.legend(loc=\"best\")\n\nshow()"
      ]
    }
  ],
  "metadata": {
    "kernelspec": {
      "display_name": "Python 3",
      "language": "python",
      "name": "python3"
    },
    "language_info": {
      "codemirror_mode": {
        "name": "ipython",
        "version": 3
      },
      "file_extension": ".py",
      "mimetype": "text/x-python",
      "name": "python",
      "nbconvert_exporter": "python",
      "pygments_lexer": "ipython3",
      "version": "3.10.4"
    }
  },
  "nbformat": 4,
  "nbformat_minor": 0
}