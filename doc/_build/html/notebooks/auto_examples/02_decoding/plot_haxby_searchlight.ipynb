{
  "cells": [
    {
      "cell_type": "code",
      "execution_count": null,
      "metadata": {
        "collapsed": false
      },
      "outputs": [],
      "source": [
        "%matplotlib inline"
      ]
    },
    {
      "cell_type": "markdown",
      "metadata": {},
      "source": [
        "\n# Searchlight analysis of face vs house recognition\n\nSearchlight analysis requires fitting a classifier a large amount of\ntimes. As a result, it is an intrinsically slow method. In order to speed\nup computing, in this example, Searchlight is run only on one slice on\nthe :term:`fMRI` (see the generated figures).\n\n.. include:: ../../../examples/masker_note.rst\n"
      ]
    },
    {
      "cell_type": "markdown",
      "metadata": {},
      "source": [
        "## Load Haxby dataset\n\n"
      ]
    },
    {
      "cell_type": "code",
      "execution_count": null,
      "metadata": {
        "collapsed": false
      },
      "outputs": [],
      "source": [
        "import pandas as pd\nfrom nilearn import datasets\nfrom nilearn.image import new_img_like, load_img, get_data\n\n# We fetch 2nd subject from haxby datasets (which is default)\nhaxby_dataset = datasets.fetch_haxby()\n\n# print basic information on the dataset\nprint('Anatomical nifti image (3D) is located at: %s' % haxby_dataset.mask)\nprint('Functional nifti image (4D) is located at: %s' % haxby_dataset.func[0])\n\nfmri_filename = haxby_dataset.func[0]\nlabels = pd.read_csv(haxby_dataset.session_target[0], sep=\" \")\ny = labels['labels']\nsession = labels['chunks']"
      ]
    },
    {
      "cell_type": "markdown",
      "metadata": {},
      "source": [
        "## Restrict to faces and houses\n\n"
      ]
    },
    {
      "cell_type": "code",
      "execution_count": null,
      "metadata": {
        "collapsed": false
      },
      "outputs": [],
      "source": [
        "from nilearn.image import index_img\ncondition_mask = y.isin(['face', 'house'])\n\nfmri_img = index_img(fmri_filename, condition_mask)\ny, session = y[condition_mask], session[condition_mask]"
      ]
    },
    {
      "cell_type": "markdown",
      "metadata": {},
      "source": [
        "## Prepare masks\n- mask_img is the original mask\n- process_mask_img is a subset of mask_img, it contains the voxels that\n  should be processed (we only keep the slice z = 26 and the back of the\n  brain to speed up computation)\n\n"
      ]
    },
    {
      "cell_type": "code",
      "execution_count": null,
      "metadata": {
        "collapsed": false
      },
      "outputs": [],
      "source": [
        "import numpy as np\n\nmask_img = load_img(haxby_dataset.mask)\n\n# .astype() makes a copy.\nprocess_mask = get_data(mask_img).astype(int)\npicked_slice = 29\nprocess_mask[..., (picked_slice + 1):] = 0\nprocess_mask[..., :picked_slice] = 0\nprocess_mask[:, 30:] = 0\nprocess_mask_img = new_img_like(mask_img, process_mask)"
      ]
    },
    {
      "cell_type": "markdown",
      "metadata": {},
      "source": [
        "## Searchlight computation\n\n"
      ]
    },
    {
      "cell_type": "code",
      "execution_count": null,
      "metadata": {
        "collapsed": false
      },
      "outputs": [],
      "source": [
        "# Make processing parallel\n# /!\\ As each thread will print its progress, n_jobs > 1 could mess up the\n#     information output.\nn_jobs = 1\n\n# Define the cross-validation scheme used for validation.\n# Here we use a KFold cross-validation on the session, which corresponds to\n# splitting the samples in 4 folds and make 4 runs using each fold as a test\n# set once and the others as learning sets\nfrom sklearn.model_selection import KFold\ncv = KFold(n_splits=4)\n\nimport nilearn.decoding\n# The radius is the one of the Searchlight sphere that will scan the volume\nsearchlight = nilearn.decoding.SearchLight(\n    mask_img,\n    process_mask_img=process_mask_img,\n    radius=5.6, n_jobs=n_jobs,\n    verbose=1, cv=cv)\nsearchlight.fit(fmri_img, y)"
      ]
    },
    {
      "cell_type": "markdown",
      "metadata": {},
      "source": [
        "## F-scores computation\n\n"
      ]
    },
    {
      "cell_type": "code",
      "execution_count": null,
      "metadata": {
        "collapsed": false
      },
      "outputs": [],
      "source": [
        "from nilearn.maskers import NiftiMasker\n\n# For decoding, standardizing is often very important\nnifti_masker = NiftiMasker(mask_img=mask_img, runs=session,\n                           standardize=True, memory='nilearn_cache',\n                           memory_level=1)\nfmri_masked = nifti_masker.fit_transform(fmri_img)\n\nfrom sklearn.feature_selection import f_classif\nf_values, p_values = f_classif(fmri_masked, y)\np_values = -np.log10(p_values)\np_values[p_values > 10] = 10\np_unmasked = get_data(nifti_masker.inverse_transform(p_values))"
      ]
    },
    {
      "cell_type": "markdown",
      "metadata": {},
      "source": [
        "## Visualization\nUse the fmri mean image as a surrogate of anatomical data\n\n"
      ]
    },
    {
      "cell_type": "code",
      "execution_count": null,
      "metadata": {
        "collapsed": false
      },
      "outputs": [],
      "source": [
        "from nilearn import image\nmean_fmri = image.mean_img(fmri_img)\n\nfrom nilearn.plotting import plot_stat_map, plot_img, show\nsearchlight_img = new_img_like(mean_fmri, searchlight.scores_)\n\n# Because scores are not a zero-center test statistics, we cannot use\n# plot_stat_map\nplot_img(searchlight_img, bg_img=mean_fmri,\n         title=\"Searchlight\", display_mode=\"z\", cut_coords=[-9],\n         vmin=.42, cmap='hot', threshold=.2, black_bg=True)\n\n# F_score results\np_ma = np.ma.array(p_unmasked, mask=np.logical_not(process_mask))\nf_score_img = new_img_like(mean_fmri, p_ma)\nplot_stat_map(f_score_img, mean_fmri,\n              title=\"F-scores\", display_mode=\"z\",\n              cut_coords=[-9],\n              colorbar=False)\n\nshow()"
      ]
    }
  ],
  "metadata": {
    "kernelspec": {
      "display_name": "Python 3",
      "language": "python",
      "name": "python3"
    },
    "language_info": {
      "codemirror_mode": {
        "name": "ipython",
        "version": 3
      },
      "file_extension": ".py",
      "mimetype": "text/x-python",
      "name": "python",
      "nbconvert_exporter": "python",
      "pygments_lexer": "ipython3",
      "version": "3.10.4"
    }
  },
  "nbformat": 4,
  "nbformat_minor": 0
}