{
  "cells": [
    {
      "cell_type": "code",
      "execution_count": null,
      "metadata": {
        "collapsed": false
      },
      "outputs": [],
      "source": [
        "%matplotlib inline"
      ]
    },
    {
      "cell_type": "markdown",
      "metadata": {},
      "source": [
        "\n# Understanding NiftiMasker and mask computation\n\nIn this example, the Nifti masker is used to automatically compute a mask.\n\n* The default strategy is based on the background.\n\n* Another option is to use a template.\n\n* For raw EPI, as in resting-state or movie watching time series, we need to\n  use the 'epi' strategy of the NiftiMasker.\n\nIn addition, we show here how to tweak the different parameters of the\nunderlying routine that extract masks from EPI\n:func:`nilearn.masking.compute_epi_mask`.\n\n.. include:: ../../../examples/masker_note.rst\n"
      ]
    },
    {
      "cell_type": "code",
      "execution_count": null,
      "metadata": {
        "collapsed": false
      },
      "outputs": [],
      "source": [
        "from nilearn.maskers import NiftiMasker\nimport nilearn.image as image\nfrom nilearn.plotting import plot_roi, plot_epi, show"
      ]
    },
    {
      "cell_type": "markdown",
      "metadata": {},
      "source": [
        "## Computing a mask from the background\n\n The default strategy to compute a mask, eg in NiftiMasker is to try to\n detect the background.\n\n With data that has already been masked, this will work well, as it lies\n on a homogeneous background\n\n"
      ]
    },
    {
      "cell_type": "code",
      "execution_count": null,
      "metadata": {
        "collapsed": false
      },
      "outputs": [],
      "source": [
        "# Load Miyawaki dataset\nfrom nilearn import datasets\nmiyawaki_dataset = datasets.fetch_miyawaki2008()\n\n# print basic information on the dataset\nprint('First functional nifti image (4D) is located at: %s' %\n      miyawaki_dataset.func[0])  # 4D data\n\nmiyawaki_filename = miyawaki_dataset.func[0]\nmiyawaki_mean_img = image.mean_img(miyawaki_filename)\nplot_epi(miyawaki_mean_img, title='Mean EPI image')"
      ]
    },
    {
      "cell_type": "markdown",
      "metadata": {},
      "source": [
        "A NiftiMasker with the default strategy\n\n"
      ]
    },
    {
      "cell_type": "code",
      "execution_count": null,
      "metadata": {
        "collapsed": false
      },
      "outputs": [],
      "source": [
        "masker = NiftiMasker()\nmasker.fit(miyawaki_filename)\n\n# Plot the generated mask using the mask_img_ attribute\nplot_roi(masker.mask_img_, miyawaki_mean_img,\n         title=\"Mask from already masked data\")"
      ]
    },
    {
      "cell_type": "markdown",
      "metadata": {},
      "source": [
        "Plot the generated mask using the .generate_report method\n\n"
      ]
    },
    {
      "cell_type": "code",
      "execution_count": null,
      "metadata": {
        "collapsed": false
      },
      "outputs": [],
      "source": [
        "report = masker.generate_report()\nreport"
      ]
    },
    {
      "cell_type": "markdown",
      "metadata": {},
      "source": [
        "## Computing a mask from raw EPI data\n\n From raw EPI data, there is no uniform background, and a different\n strategy is necessary\n\n"
      ]
    },
    {
      "cell_type": "code",
      "execution_count": null,
      "metadata": {
        "collapsed": false
      },
      "outputs": [],
      "source": [
        "# Load movie watching based brain development fmri dataset\ndataset = datasets.fetch_development_fmri(n_subjects=1)\nepi_filename = dataset.func[0]\n\n# Restrict to 100 frames to speed up computation\nfrom nilearn.image import index_img\nepi_img = index_img(epi_filename, slice(0, 100))\n\n# To display the background\nmean_img = image.mean_img(epi_img)\nplot_epi(mean_img, title='Mean EPI image')"
      ]
    },
    {
      "cell_type": "markdown",
      "metadata": {},
      "source": [
        "Simple mask extraction from EPI images\nWe need to specify an 'epi' mask_strategy, as this is raw EPI data\n\n"
      ]
    },
    {
      "cell_type": "code",
      "execution_count": null,
      "metadata": {
        "collapsed": false
      },
      "outputs": [],
      "source": [
        "masker = NiftiMasker(mask_strategy='epi')\nmasker.fit(epi_img)\nreport = masker.generate_report()\nreport"
      ]
    },
    {
      "cell_type": "markdown",
      "metadata": {},
      "source": [
        "Generate mask with strong opening\n\nWe can fine-tune the outline of the mask by increasing the number of\nopening steps (`opening=10`) using the `mask_args` argument of the\nNiftiMasker. This effectively performs erosion and dilation\noperations on the outer voxel layers of the mask, which can for example\nremove remaining\nskull parts in the image.\n\n"
      ]
    },
    {
      "cell_type": "code",
      "execution_count": null,
      "metadata": {
        "collapsed": false
      },
      "outputs": [],
      "source": [
        "masker = NiftiMasker(mask_strategy='epi', mask_args=dict(opening=10))\nmasker.fit(epi_img)\nreport = masker.generate_report()\nreport"
      ]
    },
    {
      "cell_type": "markdown",
      "metadata": {},
      "source": [
        "Generate mask with a high lower cutoff\n\nThe NiftiMasker calls the nilearn.masking.compute_epi_mask function to\ncompute the mask from the EPI. It has two important parameters:\nlower_cutoff and upper_cutoff. These set the grey-value bounds in which\nthe masking algorithm will search for its threshold (0 being the\nminimum of the image and 1 the maximum). We will here increase the\nlower cutoff to enforce selection of those voxels that appear as bright\nin the EPI image.\n\n"
      ]
    },
    {
      "cell_type": "code",
      "execution_count": null,
      "metadata": {
        "collapsed": false
      },
      "outputs": [],
      "source": [
        "masker = NiftiMasker(mask_strategy='epi',\n                     mask_args=dict(upper_cutoff=.9, lower_cutoff=.8,\n                                    opening=False))\nmasker.fit(epi_img)\nreport = masker.generate_report()\nreport"
      ]
    },
    {
      "cell_type": "markdown",
      "metadata": {},
      "source": [
        "## Computing the mask from the MNI template\n\n A mask can also be computed from the MNI template. In this case, it is\n resampled to the target image. Three options are available:\n 'whole-brain-template', 'gm-template', and 'wm-template' depending on whether\n the whole-brain, gray matter, or white matter template should be used.\n\n"
      ]
    },
    {
      "cell_type": "code",
      "execution_count": null,
      "metadata": {
        "collapsed": false
      },
      "outputs": [],
      "source": [
        "masker = NiftiMasker(mask_strategy='whole-brain-template')\nmasker.fit(epi_img)\nreport = masker.generate_report()\nreport"
      ]
    },
    {
      "cell_type": "markdown",
      "metadata": {},
      "source": [
        "## Compute and resample a mask\n\n NiftiMasker also allows passing parameters directly to `image.resample_img`.\n We can specify a `target_affine`, a `target_shape`, or both.\n For more information on these arguments,\n see :doc:`plot_affine_transformation`.\n\n The NiftiMasker report allows us to see the mask before and after resampling.\n Simply hover over the report to see the mask from the original image.\n\n"
      ]
    },
    {
      "cell_type": "code",
      "execution_count": null,
      "metadata": {
        "collapsed": false
      },
      "outputs": [],
      "source": [
        "import numpy as np\n\nmasker = NiftiMasker(mask_strategy='epi', target_affine=np.eye(3) * 8)\nmasker.fit(epi_img)\nreport = masker.generate_report()\nreport"
      ]
    },
    {
      "cell_type": "markdown",
      "metadata": {},
      "source": [
        "## After mask computation: extracting time series\n\n Extract time series\n\n"
      ]
    },
    {
      "cell_type": "code",
      "execution_count": null,
      "metadata": {
        "collapsed": false
      },
      "outputs": [],
      "source": [
        "# trended vs detrended\ntrended = NiftiMasker(mask_strategy='epi')\ndetrended = NiftiMasker(mask_strategy='epi', detrend=True)\ntrended_data = trended.fit_transform(epi_img)\ndetrended_data = detrended.fit_transform(epi_img)\n\n# The timeseries are numpy arrays, so we can manipulate them with numpy\n\nprint(\"Trended: mean %.2f, std %.2f\" %\n      (np.mean(trended_data), np.std(trended_data)))\nprint(\"Detrended: mean %.2f, std %.2f\" %\n      (np.mean(detrended_data), np.std(detrended_data)))\n\nshow()"
      ]
    }
  ],
  "metadata": {
    "kernelspec": {
      "display_name": "Python 3",
      "language": "python",
      "name": "python3"
    },
    "language_info": {
      "codemirror_mode": {
        "name": "ipython",
        "version": 3
      },
      "file_extension": ".py",
      "mimetype": "text/x-python",
      "name": "python",
      "nbconvert_exporter": "python",
      "pygments_lexer": "ipython3",
      "version": "3.10.4"
    }
  },
  "nbformat": 4,
  "nbformat_minor": 0
}