{
  "cells": [
    {
      "cell_type": "code",
      "execution_count": null,
      "metadata": {
        "collapsed": false
      },
      "outputs": [],
      "source": [
        "%matplotlib inline"
      ]
    },
    {
      "cell_type": "markdown",
      "metadata": {},
      "source": [
        "\n# Voxel-Based Morphometry on Oasis dataset\n\nThis example uses Voxel-Based Morphometry (VBM) to study the relationship\nbetween aging and gray matter density.\n\nThe data come from the [OASIS](http://www.oasis-brains.org/) project.\nIf you use it, you need to agree with the data usage agreement available\non the website.\n\nIt has been run through a standard VBM pipeline (using SPM8 and\nNewSegment) to create VBM maps, which we study here.\n\n## Predictive modeling analysis: VBM bio-markers of aging?\n\nWe run a standard SVM-ANOVA nilearn pipeline to predict age from the VBM\ndata. We use only 100 subjects from the OASIS dataset to limit the memory\nusage.\n\nNote that for an actual predictive modeling study of aging, the study\nshould be ran on the full set of subjects. Also, all parameters should be set\nby cross-validation. This includes the smoothing applied to the data and the\nnumber of features selected by the ANOVA step. Indeed, even these\ndata-preparation parameter impact significantly the prediction score.\n\n\nAlso, parameters such as the smoothing should be applied to the data and the\nnumber of features selected by the ANOVA step should be set by nested\ncross-validation, as they impact significantly the prediction score.\n\n## Brain mapping with mass univariate\n\nSVM weights are very noisy, partly because heavy smoothing is detrimental\nfor the prediction here. A standard analysis using mass-univariate GLM\n(here permuted to have exact correction for multiple comparisons) gives a\nmuch clearer view of the important regions.\n\n____\n\n.. include:: ../../../examples/masker_note.rst\n"
      ]
    },
    {
      "cell_type": "code",
      "execution_count": null,
      "metadata": {
        "collapsed": false
      },
      "outputs": [],
      "source": [
        "# Authors: Elvis Dhomatob, <elvis.dohmatob@inria.fr>, Apr. 2014\n#          Virgile Fritsch, <virgile.fritsch@inria.fr>, Apr 2014\n#          Gael Varoquaux, Apr 2014\n#          Andres Hoyos-Idrobo, Apr 2017\nimport numpy as np\nimport matplotlib.pyplot as plt\nfrom nilearn import datasets\nfrom nilearn.maskers import NiftiMasker\nfrom nilearn.image import get_data\n\nn_subjects = 100  # more subjects requires more memory"
      ]
    },
    {
      "cell_type": "markdown",
      "metadata": {},
      "source": [
        "## Load Oasis dataset\n\n"
      ]
    },
    {
      "cell_type": "code",
      "execution_count": null,
      "metadata": {
        "collapsed": false
      },
      "outputs": [],
      "source": [
        "oasis_dataset = datasets.fetch_oasis_vbm(\n    n_subjects=n_subjects, legacy_format=False\n)\ngray_matter_map_filenames = oasis_dataset.gray_matter_maps\nage = oasis_dataset.ext_vars['age'].values\n\n# Split data into training set and test set\nfrom sklearn.model_selection import train_test_split\ngm_imgs_train, gm_imgs_test, age_train, age_test = train_test_split(\n    gray_matter_map_filenames, age, train_size=.6, random_state=0)\n\n# print basic information on the dataset\nprint('First gray-matter anatomy image (3D) is located at: %s' %\n      oasis_dataset.gray_matter_maps[0])  # 3D data\nprint('First white-matter anatomy image (3D) is located at: %s' %\n      oasis_dataset.white_matter_maps[0])  # 3D data"
      ]
    },
    {
      "cell_type": "markdown",
      "metadata": {},
      "source": [
        "## Preprocess data\n\n"
      ]
    },
    {
      "cell_type": "code",
      "execution_count": null,
      "metadata": {
        "collapsed": false
      },
      "outputs": [],
      "source": [
        "nifti_masker = NiftiMasker(\n    standardize=False,\n    smoothing_fwhm=2,\n    memory='nilearn_cache')  # cache options\ngm_maps_masked = nifti_masker.fit_transform(gm_imgs_train)\n\n# The features with too low between-subject variance are removed using\n# :class:`sklearn.feature_selection.VarianceThreshold`.\nfrom sklearn.feature_selection import VarianceThreshold\nvariance_threshold = VarianceThreshold(threshold=.01)\ngm_maps_thresholded = variance_threshold.fit_transform(gm_maps_masked)\n\n# Then we convert the data back to the mask image in order to use it for\n# decoding process\nmask = nifti_masker.inverse_transform(variance_threshold.get_support())"
      ]
    },
    {
      "cell_type": "markdown",
      "metadata": {},
      "source": [
        "Prediction pipeline with ANOVA and SVR using\n:class:`nilearn.decoding.DecoderRegressor` Object\n\n"
      ]
    },
    {
      "cell_type": "code",
      "execution_count": null,
      "metadata": {
        "collapsed": false
      },
      "outputs": [],
      "source": [
        "# In nilearn we can benefit from the built-in DecoderRegressor object to\n# do ANOVA with SVR instead of manually defining the whole pipeline.\n# This estimator also uses Cross Validation to select best models and ensemble\n# them. Furthermore, you can pass n_jobs=<some_high_value> to the\n# DecoderRegressor class to take advantage of a multi-core system.\n# To save time (because these are anat images with many voxels), we include\n# only the 1-percent voxels most correlated with the age variable to fit. We\n# also want to set mask hyperparameter to be the mask we just obtained above.\n\nfrom nilearn.decoding import DecoderRegressor\ndecoder = DecoderRegressor(estimator='svr', mask=mask,\n                           scoring='neg_mean_absolute_error',\n                           screening_percentile=1,\n                           n_jobs=1)\n# Fit and predict with the decoder\ndecoder.fit(gm_imgs_train, age_train)\n\n# Sort test data for better visualization (trend, etc.)\nperm = np.argsort(age_test)[::-1]\nage_test = age_test[perm]\ngm_imgs_test = np.array(gm_imgs_test)[perm]\nage_pred = decoder.predict(gm_imgs_test)\n\nprediction_score = -np.mean(decoder.cv_scores_['beta'])\n\nprint(\"=== DECODER ===\")\nprint(\"explained variance for the cross-validation: %f\" % prediction_score)\nprint()"
      ]
    },
    {
      "cell_type": "markdown",
      "metadata": {},
      "source": [
        "## Visualization\n\n"
      ]
    },
    {
      "cell_type": "code",
      "execution_count": null,
      "metadata": {
        "collapsed": false
      },
      "outputs": [],
      "source": [
        "weight_img = decoder.coef_img_['beta']\n\n# Create the figure\nfrom nilearn.plotting import plot_stat_map, show\nbg_filename = gray_matter_map_filenames[0]\nz_slice = 0\ndisplay = plot_stat_map(weight_img, bg_img=bg_filename,\n                        display_mode='z', cut_coords=[z_slice])\ndisplay.title(\"SVM weights\")\nshow()"
      ]
    },
    {
      "cell_type": "markdown",
      "metadata": {},
      "source": [
        "## Visualize the quality of predictions\n\n"
      ]
    },
    {
      "cell_type": "code",
      "execution_count": null,
      "metadata": {
        "collapsed": false
      },
      "outputs": [],
      "source": [
        "plt.figure(figsize=(6, 4.5))\nplt.suptitle(\"Decoder: Mean Absolute Error %.2f years\" % prediction_score)\nlinewidth = 3\nplt.plot(age_test, label=\"True age\", linewidth=linewidth)\nplt.plot(age_pred, '--', c=\"g\", label=\"Predicted age\", linewidth=linewidth)\nplt.ylabel(\"age\")\nplt.xlabel(\"subject\")\nplt.legend(loc=\"best\")\nplt.figure(figsize=(6, 4.5))\nplt.plot(age_test - age_pred, label=\"True age - predicted age\",\n         linewidth=linewidth)\nplt.xlabel(\"subject\")\nplt.legend(loc=\"best\")"
      ]
    },
    {
      "cell_type": "markdown",
      "metadata": {},
      "source": [
        "## Inference with massively univariate model\n\n"
      ]
    },
    {
      "cell_type": "code",
      "execution_count": null,
      "metadata": {
        "collapsed": false
      },
      "outputs": [],
      "source": [
        "print(\"Massively univariate model\")\n\ngm_maps_masked = NiftiMasker().fit_transform(gray_matter_map_filenames)\ndata = variance_threshold.fit_transform(gm_maps_masked)\n\n# Statistical inference\nfrom nilearn.mass_univariate import permuted_ols\nneg_log_pvals, t_scores_original_data, _ = permuted_ols(\n    age, data,  # + intercept as a covariate by default\n    n_perm=2000,  # 1,000 in the interest of time; 10000 would be better\n    verbose=1, # display progress bar\n    n_jobs=1)  # can be changed to use more CPUs\nsigned_neg_log_pvals = neg_log_pvals * np.sign(t_scores_original_data)\nsigned_neg_log_pvals_unmasked = nifti_masker.inverse_transform(\n    variance_threshold.inverse_transform(signed_neg_log_pvals))\n\n# Show results\nthreshold = -np.log10(0.1)  # 10% corrected\n\nfig = plt.figure(figsize=(5.5, 7.5), facecolor='k')\n\ndisplay = plot_stat_map(signed_neg_log_pvals_unmasked, bg_img=bg_filename,\n                        threshold=threshold, cmap=plt.cm.RdBu_r,\n                        display_mode='z', cut_coords=[z_slice],\n                        figure=fig)\ntitle = ('Negative $\\\\log_{10}$ p-values'\n         '\\n(Non-parametric + max-type correction)')\ndisplay.title(title, y=1.2)\n\nn_detections = (get_data(signed_neg_log_pvals_unmasked) > threshold).sum()\nprint('\\n%d detections' % n_detections)\n\nshow()"
      ]
    }
  ],
  "metadata": {
    "kernelspec": {
      "display_name": "Python 3",
      "language": "python",
      "name": "python3"
    },
    "language_info": {
      "codemirror_mode": {
        "name": "ipython",
        "version": 3
      },
      "file_extension": ".py",
      "mimetype": "text/x-python",
      "name": "python",
      "nbconvert_exporter": "python",
      "pygments_lexer": "ipython3",
      "version": "3.10.4"
    }
  },
  "nbformat": 4,
  "nbformat_minor": 0
}