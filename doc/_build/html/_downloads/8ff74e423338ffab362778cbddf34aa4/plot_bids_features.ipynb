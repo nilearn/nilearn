{
  "cells": [
    {
      "cell_type": "code",
      "execution_count": null,
      "metadata": {
        "collapsed": false
      },
      "outputs": [],
      "source": [
        "%matplotlib inline"
      ]
    },
    {
      "cell_type": "markdown",
      "metadata": {},
      "source": [
        "\n# First level analysis of a complete BIDS dataset from openneuro\n\n\nFull step-by-step example of fitting a GLM to perform a first level analysis\nin an openneuro :term:`BIDS` dataset. We demonstrate how :term:`BIDS`\nderivatives can be exploited to perform a simple one subject analysis with\nminimal code. Details about the :term:`BIDS` standard are available at\n[http://bids.neuroimaging.io/](http://bids.neuroimaging.io/).\nWe also demonstrate how to download individual groups of files from the\nOpenneuro s3 bucket.\n\nMore specifically:\n\n1. Download an :term:`fMRI` :term:`BIDS` dataset with derivatives from openneuro.\n2. Extract first level model objects automatically from the :term:`BIDS` dataset.\n3. Demonstrate Quality assurance of Nistats estimation against available FSL.\n   estimation in the openneuro dataset.\n4. Display contrast plot and uncorrected first level statistics table report.\n"
      ]
    },
    {
      "cell_type": "markdown",
      "metadata": {},
      "source": [
        "## Fetch openneuro BIDS dataset\nWe download one subject from the stopsignal task in the ds000030 V4 :term:`BIDS`\ndataset available in openneuro.\nThis dataset contains the necessary information to run a statistical analysis\nusing Nilearn. The dataset also contains statistical results from a previous\nFSL analysis that we can employ for comparison with the Nilearn estimation.\n\n"
      ]
    },
    {
      "cell_type": "code",
      "execution_count": null,
      "metadata": {
        "collapsed": false
      },
      "outputs": [],
      "source": [
        "from nilearn.datasets import (\n    fetch_ds000030_urls,\n    fetch_openneuro_dataset,\n    select_from_index,\n)\n\n_, urls = fetch_ds000030_urls()\n\nexclusion_patterns = ['*group*', '*phenotype*', '*mriqc*',\n                      '*parameter_plots*', '*physio_plots*',\n                      '*space-fsaverage*', '*space-T1w*',\n                      '*dwi*', '*beh*', '*task-bart*',\n                      '*task-rest*', '*task-scap*', '*task-task*']\nurls = select_from_index(\n    urls, exclusion_filters=exclusion_patterns, n_subjects=1)\n\ndata_dir, _ = fetch_openneuro_dataset(urls=urls)"
      ]
    },
    {
      "cell_type": "markdown",
      "metadata": {},
      "source": [
        "## Obtain FirstLevelModel objects automatically and fit arguments\nFrom the dataset directory we automatically obtain FirstLevelModel objects\nwith their subject_id filled from the :term:`BIDS` dataset. Moreover we obtain,\nfor each model, the list of run images and their respective events and\nconfound regressors. Those are inferred from the confounds.tsv files\navailable in the :term:`BIDS` dataset.\nTo get the first level models we have to specify the dataset directory,\nthe task_label and the space_label as specified in the file names.\nWe also have to provide the folder with the desired derivatives, that in this\ncase were produced by the :term:`fMRIPrep` :term:`BIDS` app.\n\n"
      ]
    },
    {
      "cell_type": "code",
      "execution_count": null,
      "metadata": {
        "collapsed": false
      },
      "outputs": [],
      "source": [
        "from nilearn.glm.first_level import first_level_from_bids\ntask_label = 'stopsignal'\nspace_label = 'MNI152NLin2009cAsym'\nderivatives_folder = 'derivatives/fmriprep'\nmodels, models_run_imgs, models_events, models_confounds = \\\n    first_level_from_bids(data_dir, task_label, space_label,\n                          smoothing_fwhm=5.0,\n                          derivatives_folder=derivatives_folder)"
      ]
    },
    {
      "cell_type": "markdown",
      "metadata": {},
      "source": [
        "Access the model and model arguments of the subject and process events.\n\n"
      ]
    },
    {
      "cell_type": "code",
      "execution_count": null,
      "metadata": {
        "collapsed": false
      },
      "outputs": [],
      "source": [
        "model, imgs, events, confounds = (\n    models[0], models_run_imgs[0], models_events[0], models_confounds[0])\nsubject = 'sub-' + model.subject_label\nmodel.minimize_memory = False  # override default\n\nimport os\nfrom nilearn.interfaces.fsl import get_design_from_fslmat\nfsl_design_matrix_path = os.path.join(\n    data_dir, 'derivatives', 'task', subject, 'stopsignal.feat', 'design.mat')\ndesign_matrix = get_design_from_fslmat(\n    fsl_design_matrix_path, column_names=None)"
      ]
    },
    {
      "cell_type": "markdown",
      "metadata": {},
      "source": [
        "We identify the columns of the Go and StopSuccess conditions of the\ndesign matrix inferred from the FSL file, to use them later for contrast\ndefinition.\n\n"
      ]
    },
    {
      "cell_type": "code",
      "execution_count": null,
      "metadata": {
        "collapsed": false
      },
      "outputs": [],
      "source": [
        "design_columns = ['cond_%02d' % i for i in range(len(design_matrix.columns))]\ndesign_columns[0] = 'Go'\ndesign_columns[4] = 'StopSuccess'\ndesign_matrix.columns = design_columns"
      ]
    },
    {
      "cell_type": "markdown",
      "metadata": {},
      "source": [
        "## First level model estimation (one subject)\nWe fit the first level model for one subject.\n\n"
      ]
    },
    {
      "cell_type": "code",
      "execution_count": null,
      "metadata": {
        "collapsed": false
      },
      "outputs": [],
      "source": [
        "model.fit(imgs, design_matrices=[design_matrix])"
      ]
    },
    {
      "cell_type": "markdown",
      "metadata": {},
      "source": [
        "Then we compute the StopSuccess - Go contrast. We can use the column names\nof the design matrix.\n\n"
      ]
    },
    {
      "cell_type": "code",
      "execution_count": null,
      "metadata": {
        "collapsed": false
      },
      "outputs": [],
      "source": [
        "z_map = model.compute_contrast('StopSuccess - Go')"
      ]
    },
    {
      "cell_type": "markdown",
      "metadata": {},
      "source": [
        "We show the agreement between the Nilearn estimation and the FSL estimation\navailable in the dataset.\n\n"
      ]
    },
    {
      "cell_type": "code",
      "execution_count": null,
      "metadata": {
        "collapsed": false
      },
      "outputs": [],
      "source": [
        "import nibabel as nib\nfsl_z_map = nib.load(\n    os.path.join(data_dir, 'derivatives', 'task', subject, 'stopsignal.feat',\n                 'stats', 'zstat12.nii.gz'))\n\nfrom nilearn import plotting\nimport matplotlib.pyplot as plt\nfrom scipy.stats import norm\nplotting.plot_glass_brain(z_map, colorbar=True, threshold=norm.isf(0.001),\n                          title='Nilearn Z map of \"StopSuccess - Go\" (unc p<0.001)',\n                          plot_abs=False, display_mode='ortho')\nplotting.plot_glass_brain(fsl_z_map, colorbar=True, threshold=norm.isf(0.001),\n                          title='FSL Z map of \"StopSuccess - Go\" (unc p<0.001)',\n                          plot_abs=False, display_mode='ortho')\nplt.show()\n\nfrom nilearn.plotting import plot_img_comparison\nplot_img_comparison([z_map], [fsl_z_map], model.masker_,\n                    ref_label='Nilearn', src_label='FSL')\nplt.show()"
      ]
    },
    {
      "cell_type": "markdown",
      "metadata": {},
      "source": [
        "## Simple statistical report of thresholded contrast\nWe display the contrast plot and table with cluster information\n\n"
      ]
    },
    {
      "cell_type": "code",
      "execution_count": null,
      "metadata": {
        "collapsed": false
      },
      "outputs": [],
      "source": [
        "from nilearn.plotting import plot_contrast_matrix\nplot_contrast_matrix('StopSuccess - Go', design_matrix)\nplotting.plot_glass_brain(z_map, colorbar=True, threshold=norm.isf(0.001),\n                          plot_abs=False, display_mode='z',\n                          figure=plt.figure(figsize=(4, 4)))\nplt.show()"
      ]
    },
    {
      "cell_type": "markdown",
      "metadata": {},
      "source": [
        "We can get a latex table from a Pandas Dataframe for display and publication\npurposes\n\n"
      ]
    },
    {
      "cell_type": "code",
      "execution_count": null,
      "metadata": {
        "collapsed": false
      },
      "outputs": [],
      "source": [
        "from nilearn.reporting import get_clusters_table\ntable = get_clusters_table(z_map, norm.isf(0.001), 10)\nprint(table.to_latex())"
      ]
    },
    {
      "cell_type": "markdown",
      "metadata": {},
      "source": [
        "## Generating a report\nUsing the computed FirstLevelModel and contrast information,\nwe can quickly create a summary report.\n\n"
      ]
    },
    {
      "cell_type": "code",
      "execution_count": null,
      "metadata": {
        "collapsed": false
      },
      "outputs": [],
      "source": [
        "from nilearn.reporting import make_glm_report\n\nreport = make_glm_report(model=model,\n                         contrasts='StopSuccess - Go',\n                         )"
      ]
    },
    {
      "cell_type": "markdown",
      "metadata": {},
      "source": [
        "We have several ways to access the report:\n\n"
      ]
    },
    {
      "cell_type": "code",
      "execution_count": null,
      "metadata": {
        "collapsed": false
      },
      "outputs": [],
      "source": [
        "# report  # This report can be viewed in a notebook\n# report.save_as_html('report.html')\n# report.open_in_browser()"
      ]
    },
    {
      "cell_type": "markdown",
      "metadata": {},
      "source": [
        "## Saving model outputs to disk\n\n"
      ]
    },
    {
      "cell_type": "code",
      "execution_count": null,
      "metadata": {
        "collapsed": false
      },
      "outputs": [],
      "source": [
        "from nilearn.interfaces.bids import save_glm_to_bids\n\nsave_glm_to_bids(\n    model,\n    contrasts='StopSuccess - Go',\n    contrast_types={'StopSuccess - Go': 't'},\n    out_dir='derivatives/nilearn_glm/',\n    prefix=subject + '_task-stopsignal',\n)"
      ]
    },
    {
      "cell_type": "markdown",
      "metadata": {},
      "source": [
        "View the generated files\n\n"
      ]
    },
    {
      "cell_type": "code",
      "execution_count": null,
      "metadata": {
        "collapsed": false
      },
      "outputs": [],
      "source": [
        "from glob import glob\n\nprint('\\n'.join(sorted(glob('derivatives/nilearn_glm/*'))))"
      ]
    }
  ],
  "metadata": {
    "kernelspec": {
      "display_name": "Python 3",
      "language": "python",
      "name": "python3"
    },
    "language_info": {
      "codemirror_mode": {
        "name": "ipython",
        "version": 3
      },
      "file_extension": ".py",
      "mimetype": "text/x-python",
      "name": "python",
      "nbconvert_exporter": "python",
      "pygments_lexer": "ipython3",
      "version": "3.10.4"
    }
  },
  "nbformat": 4,
  "nbformat_minor": 0
}