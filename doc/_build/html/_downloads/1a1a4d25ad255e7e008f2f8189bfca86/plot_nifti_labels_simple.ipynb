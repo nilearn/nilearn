{
  "cells": [
    {
      "cell_type": "code",
      "execution_count": null,
      "metadata": {
        "collapsed": false
      },
      "outputs": [],
      "source": [
        "%matplotlib inline"
      ]
    },
    {
      "cell_type": "markdown",
      "metadata": {},
      "source": [
        "\n# Extracting signals from brain regions using the NiftiLabelsMasker\n\nThis simple example shows how to extract signals from functional\n:term:`fMRI` data and brain regions defined through an atlas.\nMore precisely, this example shows how to use the\n:class:`~nilearn.maskers.NiftiLabelsMasker` object to perform this\noperation in just a few lines of code.\n\n.. include:: ../../../examples/masker_note.rst\n"
      ]
    },
    {
      "cell_type": "markdown",
      "metadata": {},
      "source": [
        "Retrieve the brain development functional dataset\n\nWe start by fetching the brain development functional dataset\nand we restrict the example to one subject only.\n\n"
      ]
    },
    {
      "cell_type": "code",
      "execution_count": null,
      "metadata": {
        "collapsed": false
      },
      "outputs": [],
      "source": [
        "from nilearn import datasets\ndataset = datasets.fetch_development_fmri(n_subjects=1)\nfunc_filename = dataset.func[0]\n\n# print basic information on the dataset\nprint('First functional nifti image (4D) is at: %s' % func_filename)"
      ]
    },
    {
      "cell_type": "markdown",
      "metadata": {},
      "source": [
        "Load an atlas\n\nWe then load the Harvard-Oxford atlas to define the brain regions\n\n"
      ]
    },
    {
      "cell_type": "code",
      "execution_count": null,
      "metadata": {
        "collapsed": false
      },
      "outputs": [],
      "source": [
        "atlas = datasets.fetch_atlas_harvard_oxford('cort-maxprob-thr25-2mm')\n\n# The first label correspond to the background\nprint('The atlas contains {} non-overlapping regions'.format(\n    len(atlas.labels) - 1))"
      ]
    },
    {
      "cell_type": "markdown",
      "metadata": {},
      "source": [
        "Instantiate the mask and visualize atlas\n\n\n"
      ]
    },
    {
      "cell_type": "code",
      "execution_count": null,
      "metadata": {
        "collapsed": false
      },
      "outputs": [],
      "source": [
        "from nilearn.maskers import NiftiLabelsMasker\n\n# Instantiate the masker with label image and label values\nmasker = NiftiLabelsMasker(atlas.maps,\n                           labels=atlas.labels,\n                           standardize=True)\n\n# Visualize the atlas\n# Note that we need to call fit prior to generating the mask\nmasker.fit()\n\n# At this point, no functional image has been provided to the masker.\n# We can still generate a report which can be displayed in a Jupyter\n# Notebook, opened in a browser using the .open_in_browser() method,\n# or saved to a file using the .save_as_html(output_filepath) method.\nreport = masker.generate_report()\nreport"
      ]
    },
    {
      "cell_type": "markdown",
      "metadata": {},
      "source": [
        "Fitting the mask and generating a report\n\n"
      ]
    },
    {
      "cell_type": "code",
      "execution_count": null,
      "metadata": {
        "collapsed": false
      },
      "outputs": [],
      "source": [
        "masker.fit(func_filename)\n\n# We can again generate a report, but this time, the provided functional\n# image is displayed with the ROI of the atlas.\n# The report also contains a summary table giving the region sizes in mm3\nreport = masker.generate_report()\nreport"
      ]
    },
    {
      "cell_type": "markdown",
      "metadata": {},
      "source": [
        "Process the data with the NiftiLablesMasker\n\nIn order to extract the signals, we need to call transform on the\nfunctional data\n\n"
      ]
    },
    {
      "cell_type": "code",
      "execution_count": null,
      "metadata": {
        "collapsed": false
      },
      "outputs": [],
      "source": [
        "signals = masker.transform(func_filename)\n# signals is a 2D matrix, (n_time_points x n_regions)\nsignals.shape"
      ]
    },
    {
      "cell_type": "markdown",
      "metadata": {},
      "source": [
        "Plot the signals\n\n"
      ]
    },
    {
      "cell_type": "code",
      "execution_count": null,
      "metadata": {
        "collapsed": false
      },
      "outputs": [],
      "source": [
        "import matplotlib.pyplot as plt\n\nfig = plt.figure(figsize=(15, 5))\nax = fig.add_subplot(111)\nfor label_idx in range(3):\n    ax.plot(signals[:, label_idx],\n            linewidth=2,\n            label=atlas.labels[label_idx + 1])  # 0 is background\nax.legend(loc=2)\nax.set_title(\"Signals for first 3 regions\")\nplt.show()"
      ]
    }
  ],
  "metadata": {
    "kernelspec": {
      "display_name": "Python 3",
      "language": "python",
      "name": "python3"
    },
    "language_info": {
      "codemirror_mode": {
        "name": "ipython",
        "version": 3
      },
      "file_extension": ".py",
      "mimetype": "text/x-python",
      "name": "python",
      "nbconvert_exporter": "python",
      "pygments_lexer": "ipython3",
      "version": "3.10.4"
    }
  },
  "nbformat": 4,
  "nbformat_minor": 0
}