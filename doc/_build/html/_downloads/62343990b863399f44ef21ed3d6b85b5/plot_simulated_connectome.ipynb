{
  "cells": [
    {
      "cell_type": "code",
      "execution_count": null,
      "metadata": {
        "collapsed": false
      },
      "outputs": [],
      "source": [
        "%matplotlib inline"
      ]
    },
    {
      "cell_type": "markdown",
      "metadata": {},
      "source": [
        "\n# Connectivity structure estimation on simulated data\n\nThis example shows a comparison of graph lasso and group-sparse covariance\nestimation of connectivity structure for a synthetic dataset.\n"
      ]
    },
    {
      "cell_type": "code",
      "execution_count": null,
      "metadata": {
        "collapsed": false
      },
      "outputs": [],
      "source": [
        "import matplotlib.pyplot as plt\n\n\n# Generate synthetic data\nfrom nilearn._utils.data_gen import generate_group_sparse_gaussian_graphs\nfrom nilearn.plotting import show\n\nn_subjects = 20  # number of subjects\nn_displayed = 3  # number of subjects displayed\nsubjects, precisions, topology = generate_group_sparse_gaussian_graphs(\n    n_subjects=n_subjects, n_features=10, min_n_samples=30, max_n_samples=50,\n    density=0.1)\n\nfrom nilearn import plotting\nfig = plt.figure(figsize=(10, 7))\nplt.subplots_adjust(hspace=0.4)\nfor n in range(n_displayed):\n    ax = plt.subplot(n_displayed, 4, 4 * n + 1)\n    max_precision = precisions[n].max()\n    plotting.plot_matrix(precisions[n], vmin=-max_precision,\n                         vmax=max_precision, axes=ax, colorbar=False)\n\n    if n == 0:\n        plt.title(\"ground truth\")\n    plt.ylabel(\"subject %d\" % n)\n\n\n# Run group-sparse covariance on all subjects\nfrom nilearn.connectome import GroupSparseCovarianceCV\ngsc = GroupSparseCovarianceCV(max_iter=50, verbose=1)\ngsc.fit(subjects)\n\nfor n in range(n_displayed):\n    ax = plt.subplot(n_displayed, 4, 4 * n + 2)\n    max_precision = gsc.precisions_[..., n].max()\n    plotting.plot_matrix(gsc.precisions_[..., n], axes=ax, vmin=-max_precision,\n                         vmax=max_precision, colorbar=False)\n    if n == 0:\n        plt.title(\"group-sparse\\n$\\\\alpha=%.2f$\" % gsc.alpha_)\n\n\n# Fit one graph lasso per subject\ntry:\n    from sklearn.covariance import GraphicalLassoCV\nexcept ImportError:\n    # for Scitkit-Learn < v0.20.0\n    from sklearn.covariance import GraphLassoCV as GraphicalLassoCV\n\ngl = GraphicalLassoCV(verbose=1)\n\nfor n, subject in enumerate(subjects[:n_displayed]):\n    gl.fit(subject)\n\n    ax = plt.subplot(n_displayed, 4, 4 * n + 3)\n    max_precision = gl.precision_.max()\n    plotting.plot_matrix(gl.precision_, axes=ax, vmin=-max_precision,\n                         vmax=max_precision, colorbar=False)\n    if n == 0:\n        plt.title(\"graph lasso\")\n    plt.ylabel(\"$\\\\alpha=%.2f$\" % gl.alpha_)\n\n\n# Fit one graph lasso for all subjects at once\nimport numpy as np\ngl.fit(np.concatenate(subjects))\n\nax = plt.subplot(n_displayed, 4, 4)\nmax_precision = gl.precision_.max()\nplotting.plot_matrix(gl.precision_, axes=ax, vmin=-max_precision,\n                     vmax=max_precision, colorbar=False)\nplt.title(\"graph lasso, all subjects\\n$\\\\alpha=%.2f$\" % gl.alpha_)\n\nshow()"
      ]
    }
  ],
  "metadata": {
    "kernelspec": {
      "display_name": "Python 3",
      "language": "python",
      "name": "python3"
    },
    "language_info": {
      "codemirror_mode": {
        "name": "ipython",
        "version": 3
      },
      "file_extension": ".py",
      "mimetype": "text/x-python",
      "name": "python",
      "nbconvert_exporter": "python",
      "pygments_lexer": "ipython3",
      "version": "3.10.4"
    }
  },
  "nbformat": 4,
  "nbformat_minor": 0
}