{
  "cells": [
    {
      "cell_type": "code",
      "execution_count": null,
      "metadata": {
        "collapsed": false
      },
      "outputs": [],
      "source": [
        "%matplotlib inline"
      ]
    },
    {
      "cell_type": "markdown",
      "metadata": {},
      "source": [
        "\n# Plot Haxby masks\n\nSmall script to plot the masks of the Haxby dataset.\n"
      ]
    },
    {
      "cell_type": "code",
      "execution_count": null,
      "metadata": {
        "collapsed": false
      },
      "outputs": [],
      "source": [
        "import matplotlib.pyplot as plt\n\nfrom nilearn import datasets\nhaxby_dataset = datasets.fetch_haxby()\n\n# print basic information on the dataset\nprint('First subject anatomical nifti image (3D) is at: %s' %\n      haxby_dataset.anat[0])\nprint('First subject functional nifti image (4D) is at: %s' %\n      haxby_dataset.func[0])  # 4D data\n\n# Build the mean image because we have no anatomic data\nfrom nilearn import image\nfunc_filename = haxby_dataset.func[0]\nmean_img = image.mean_img(func_filename)\n\nz_slice = -14\n\nfig = plt.figure(figsize=(4, 5.4), facecolor='k')\n\nfrom nilearn.plotting import plot_anat, show\ndisplay = plot_anat(mean_img, display_mode='z', cut_coords=[z_slice],\n                    figure=fig)\nmask_vt_filename = haxby_dataset.mask_vt[0]\nmask_house_filename = haxby_dataset.mask_house[0]\nmask_face_filename = haxby_dataset.mask_face[0]\ndisplay.add_contours(mask_vt_filename, contours=1, antialiased=False,\n                     linewidths=4., levels=[0], colors=['red'])\ndisplay.add_contours(mask_house_filename, contours=1, antialiased=False,\n                     linewidths=4., levels=[0], colors=['blue'])\ndisplay.add_contours(mask_face_filename, contours=1, antialiased=False,\n                     linewidths=4., levels=[0], colors=['limegreen'])\n\n# We generate a legend using the trick described on\n# http://matplotlib.sourceforge.net/users/legend_guide.httpml#using-proxy-artist\nfrom matplotlib.patches import Rectangle\np_v = Rectangle((0, 0), 1, 1, fc=\"red\")\np_h = Rectangle((0, 0), 1, 1, fc=\"blue\")\np_f = Rectangle((0, 0), 1, 1, fc=\"limegreen\")\nplt.legend([p_v, p_h, p_f], [\"vt\", \"house\", \"face\"])\n\nshow()"
      ]
    }
  ],
  "metadata": {
    "kernelspec": {
      "display_name": "Python 3",
      "language": "python",
      "name": "python3"
    },
    "language_info": {
      "codemirror_mode": {
        "name": "ipython",
        "version": 3
      },
      "file_extension": ".py",
      "mimetype": "text/x-python",
      "name": "python",
      "nbconvert_exporter": "python",
      "pygments_lexer": "ipython3",
      "version": "3.10.4"
    }
  },
  "nbformat": 4,
  "nbformat_minor": 0
}