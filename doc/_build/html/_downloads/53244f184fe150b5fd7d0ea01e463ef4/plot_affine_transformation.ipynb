{
  "cells": [
    {
      "cell_type": "code",
      "execution_count": null,
      "metadata": {
        "collapsed": false
      },
      "outputs": [],
      "source": [
        "%matplotlib inline"
      ]
    },
    {
      "cell_type": "markdown",
      "metadata": {},
      "source": [
        "\n# Visualization of affine resamplings\n\nThis example shows how an affine resampling works.\n\nA Nifti image contains, along with its 3D or 4D data content, a 4x4 matrix\nencoding an affine transformation that maps the data array into millimeter\nspace. If (i, j, k) encodes an integer position (voxel) with the data array,\nthen adding 1 as a fourth entry, (i, j, k, 1), and multiplying by the affine\nmatrix yields (x, y, z, 1), a 4-vector containing the millimeter position of\nthe voxel.\n\nThe resampling procedure in :func:`nilearn.image.resample_img` can attribute\na new affine matrix and a new shape to your Nifti image while keeping its\nrepresentation in millimeter space exactly the same (up to sampling error and\npossible clipping).\n\nThis example shows a 2D image in voxel space, and the position of the data in\nmillimeter space, as encoded by the affine matrix. The image is the resampled\nin 3 ways and displayed in millimeter space.\n\n1) 4x4 affine matrix and target shape given\n2) 3x3 transformation matrix (only new voxel axes, no offset)\n   given and no shape given\n3) 4x4 affine matrix given and no shape given\n\nWhile 1) needs no further explanation (it returns an image exactly as\nspecified, with a new view on the data in millimeter space), 2) and 3) are\nmissing some specification, which is subsequently inferred by `resample_img`:\nIf the affine offset is missing (3x3 transformation, case 2), then the new\nimage will be the closest bounding box possible around the data along the\nnew axes. If the affine offset is given, but no shape provided, the\nresulting image will be the closest bounding box around the union of the\ndata points and the affine offset.\n\nNote that specifying a shape without specifying a 3x3 transformation matrix\ncauses an error message, because `resample_img` will not know where to start\nthe bounding box (there is no intelligent way of inferring this given the\nbounding box shape).\n"
      ]
    },
    {
      "cell_type": "markdown",
      "metadata": {},
      "source": [
        "First make a simple synthetic image\n\n"
      ]
    },
    {
      "cell_type": "code",
      "execution_count": null,
      "metadata": {
        "collapsed": false
      },
      "outputs": [],
      "source": [
        "# Create the data with numpy\nimport numpy as np\nfrom nilearn.image import get_data\n\ngrid = np.mgrid[0:192, 0:128]\ncircle = np.sum(\n    (grid - np.array([32, 32])[:, np.newaxis, np.newaxis]) ** 2,\n    axis=0) < 256\ndiamond = np.sum(\n    np.abs(grid - np.array([128, 80])[:, np.newaxis, np.newaxis]),\n    axis=0) < 16\nrectangle = np.max(np.abs(\n    grid - np.array([64, 96])[:, np.newaxis, np.newaxis]), axis=0) < 16\n\nimage = np.zeros_like(circle)\nimage[16:160, 16:120] = 1.\nimage = image + 2 * circle + 3 * rectangle + 4 * diamond + 1\n\nvmax = image.max()\n\nsource_affine = np.eye(4)\n# Use canonical vectors for affine\n# Give the affine an offset\nsource_affine[:2, 3] = np.array([96, 64])\n\n# Rotate it slightly\nangle = np.pi / 180 * 15\nrotation_matrix = np.array([[np.cos(angle), -np.sin(angle)],\n                            [np.sin(angle), np.cos(angle)]])\nsource_affine[:2, :2] = rotation_matrix * 2.0  # 2.0mm voxel size\n\n# We need to turn this data into a nibabel image\nimport nibabel\nimg = nibabel.Nifti1Image(image[:, :, np.newaxis].astype(\"int32\"),\n                          affine=source_affine)"
      ]
    },
    {
      "cell_type": "markdown",
      "metadata": {},
      "source": [
        "Now resample the image\n\n"
      ]
    },
    {
      "cell_type": "code",
      "execution_count": null,
      "metadata": {
        "collapsed": false
      },
      "outputs": [],
      "source": [
        "from nilearn.image import resample_img\nimg_in_mm_space = resample_img(img, target_affine=np.eye(4),\n                               target_shape=(512, 512, 1))\n\ntarget_affine_3x3 = np.eye(3) * 2\ntarget_affine_4x4 = np.eye(4) * 2\ntarget_affine_4x4[3, 3] = 1.\nimg_3d_affine = resample_img(img, target_affine=target_affine_3x3)\nimg_4d_affine = resample_img(img, target_affine=target_affine_4x4)\ntarget_affine_mm_space_offset_changed = np.eye(4)\ntarget_affine_mm_space_offset_changed[:3, 3] = \\\n    img_3d_affine.affine[:3, 3]\n\nimg_3d_affine_in_mm_space = resample_img(\n    img_3d_affine,\n    target_affine=target_affine_mm_space_offset_changed,\n    target_shape=(np.array(img_3d_affine.shape) * 2).astype(int))\n\nimg_4d_affine_in_mm_space = resample_img(\n    img_4d_affine,\n    target_affine=np.eye(4),\n    target_shape=(np.array(img_4d_affine.shape) * 2).astype(int))"
      ]
    },
    {
      "cell_type": "markdown",
      "metadata": {},
      "source": [
        "Finally, visualize\n\n"
      ]
    },
    {
      "cell_type": "code",
      "execution_count": null,
      "metadata": {
        "collapsed": false
      },
      "outputs": [],
      "source": [
        "import matplotlib.pyplot as plt\nfrom nilearn.plotting import show\nplt.figure()\nplt.imshow(image, interpolation=\"nearest\", vmin=0, vmax=vmax)\nplt.title(\"The original data in voxel space\")\n\nplt.figure()\nplt.imshow(get_data(img_in_mm_space)[:, :, 0], vmin=0, vmax=vmax)\nplt.title(\"The original data in mm space\")\n\nplt.figure()\nplt.imshow(get_data(img_3d_affine_in_mm_space)[:, :, 0],\n           vmin=0, vmax=vmax)\nplt.title(\"Transformed using a 3x3 affine -\\n leads to \"\n          \"re-estimation of bounding box\")\n\nplt.figure()\nplt.imshow(get_data(img_4d_affine_in_mm_space)[:, :, 0],\n           vmin=0, vmax=vmax)\nplt.title(\"Transformed using a 4x4 affine -\\n Uses affine anchor \"\n          \"and estimates bounding box size\")\n\nshow()"
      ]
    }
  ],
  "metadata": {
    "kernelspec": {
      "display_name": "Python 3",
      "language": "python",
      "name": "python3"
    },
    "language_info": {
      "codemirror_mode": {
        "name": "ipython",
        "version": 3
      },
      "file_extension": ".py",
      "mimetype": "text/x-python",
      "name": "python",
      "nbconvert_exporter": "python",
      "pygments_lexer": "ipython3",
      "version": "3.10.4"
    }
  },
  "nbformat": 4,
  "nbformat_minor": 0
}