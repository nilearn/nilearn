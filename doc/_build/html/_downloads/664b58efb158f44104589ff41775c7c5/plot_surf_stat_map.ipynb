{
  "cells": [
    {
      "cell_type": "code",
      "execution_count": null,
      "metadata": {
        "collapsed": false
      },
      "outputs": [],
      "source": [
        "%matplotlib inline"
      ]
    },
    {
      "cell_type": "markdown",
      "metadata": {},
      "source": [
        "\n# Seed-based connectivity on the surface\n\nThe dataset that is a subset of the enhanced NKI Rockland sample\n(http://fcon_1000.projects.nitrc.org/indi/enhanced/, Nooner et al, 2012)\n\nResting state fMRI scans (TR=645ms) of 102 subjects were preprocessed\n(https://github.com/fliem/nki_nilearn) and projected onto the Freesurfer\nfsaverage5 template (Dale et al, 1999, Fischl et al, 1999). For this example\nwe use the time series of a single subject's left hemisphere.\n\nThe Destrieux parcellation (Destrieux et al, 2010) in fsaverage5 space as\ndistributed with Freesurfer is used to select a seed region in the posterior\ncingulate cortex.\n\nFunctional connectivity of the seed region to all other cortical nodes in the\nsame hemisphere is calculated using Pearson product-moment correlation\ncoefficient.\n\nThe :func:`nilearn.plotting.plot_surf_stat_map` function is used\nto plot the resulting statistical map on the (inflated) pial surface.\n\nSee also `for a similar example but using volumetric input data\n<sphx_glr_auto_examples_03_connectivity_plot_seed_to_voxel_correlation.py>`.\n\nSee `plotting` for more details on plotting tools.\n\n## References\n\nNooner et al, (2012). The NKI-Rockland Sample: A model for accelerating the\npace of discovery science in psychiatry. Frontiers in neuroscience 6, 152.\nURL http://dx.doi.org/10.3389/fnins.2012.00152\n\nDale et al, (1999). Cortical surface-based analysis.I. Segmentation and\nsurface reconstruction. Neuroimage 9.\nURL http://dx.doi.org/10.1006/nimg.1998.0395\n\nFischl et al, (1999). Cortical surface-based analysis. II: Inflation,\nflattening, and a surface-based coordinate system. Neuroimage 9.\nhttp://dx.doi.org/10.1006/nimg.1998.0396\n\nDestrieux et al, (2010). Automatic parcellation of human cortical gyri and\nsulci using standard anatomical nomenclature. NeuroImage, 53, 1.\nURL http://dx.doi.org/10.1016/j.neuroimage.2010.06.010.\n"
      ]
    },
    {
      "cell_type": "markdown",
      "metadata": {},
      "source": [
        "## Retrieving the data\n\n"
      ]
    },
    {
      "cell_type": "code",
      "execution_count": null,
      "metadata": {
        "collapsed": false
      },
      "outputs": [],
      "source": [
        "# NKI resting state data from nilearn\nfrom nilearn import datasets\n\nnki_dataset = datasets.fetch_surf_nki_enhanced(n_subjects=1)\n\n# The nki dictionary contains file names for the data\n# of all downloaded subjects.\nprint(('Resting state data of the first subjects on the '\n       'fsaverag5 surface left hemisphere is at: %s' %\n      nki_dataset['func_left'][0]))\n\n# Destrieux parcellation for left hemisphere in fsaverage5 space\ndestrieux_atlas = datasets.fetch_atlas_surf_destrieux()\nparcellation = destrieux_atlas['map_left']\nlabels = destrieux_atlas['labels']\n\n# Fsaverage5 surface template\nfsaverage = datasets.fetch_surf_fsaverage()\n\n# The fsaverage dataset contains file names pointing to\n# the file locations\nprint('Fsaverage5 pial surface of left hemisphere is at: %s' %\n      fsaverage['pial_left'])\nprint('Fsaverage5 inflated surface of left hemisphere is at: %s' %\n      fsaverage['infl_left'])\nprint('Fsaverage5 sulcal depth map of left hemisphere is at: %s' %\n      fsaverage['sulc_left'])"
      ]
    },
    {
      "cell_type": "markdown",
      "metadata": {},
      "source": [
        "## Extracting the seed time series\n\n"
      ]
    },
    {
      "cell_type": "code",
      "execution_count": null,
      "metadata": {
        "collapsed": false
      },
      "outputs": [],
      "source": [
        "# Load resting state time series from nilearn\nfrom nilearn import surface\n\ntimeseries = surface.load_surf_data(nki_dataset['func_left'][0])\n\n# Extract seed region via label\npcc_region = b'G_cingul-Post-dorsal'\n\nimport numpy as np\npcc_labels = np.where(parcellation == labels.index(pcc_region))[0]\n\n# Extract time series from seed region\nseed_timeseries = np.mean(timeseries[pcc_labels], axis=0)"
      ]
    },
    {
      "cell_type": "markdown",
      "metadata": {},
      "source": [
        "## Calculating seed-based functional connectivity\n\n"
      ]
    },
    {
      "cell_type": "code",
      "execution_count": null,
      "metadata": {
        "collapsed": false
      },
      "outputs": [],
      "source": [
        "# Calculate Pearson product-moment correlation coefficient between seed\n# time series and timeseries of all cortical nodes of the hemisphere\nfrom scipy import stats\n\nstat_map = np.zeros(timeseries.shape[0])\nfor i in range(timeseries.shape[0]):\n    stat_map[i] = stats.pearsonr(seed_timeseries, timeseries[i])[0]\n\n# Re-mask previously masked nodes (medial wall)\nstat_map[np.where(np.mean(timeseries, axis=1) == 0)] = 0"
      ]
    },
    {
      "cell_type": "markdown",
      "metadata": {},
      "source": [
        "Display ROI on surface\n\n"
      ]
    },
    {
      "cell_type": "code",
      "execution_count": null,
      "metadata": {
        "collapsed": false
      },
      "outputs": [],
      "source": [
        "# Transform ROI indices in ROI map\npcc_map = np.zeros(parcellation.shape[0], dtype=int)\npcc_map[pcc_labels] = 1\n\nfrom nilearn import plotting\n\nplotting.plot_surf_roi(fsaverage['pial_left'], roi_map=pcc_map,\n                       hemi='left', view='medial',\n                       bg_map=fsaverage['sulc_left'], bg_on_data=True,\n                       title='PCC Seed')"
      ]
    },
    {
      "cell_type": "markdown",
      "metadata": {},
      "source": [
        "Display unthresholded stat map with a slightly dimmed background\n\n"
      ]
    },
    {
      "cell_type": "code",
      "execution_count": null,
      "metadata": {
        "collapsed": false
      },
      "outputs": [],
      "source": [
        "plotting.plot_surf_stat_map(fsaverage['pial_left'], stat_map=stat_map,\n                            hemi='left', view='medial', colorbar=True,\n                            bg_map=fsaverage['sulc_left'], bg_on_data=True,\n                            darkness=.3, title='Correlation map')"
      ]
    },
    {
      "cell_type": "markdown",
      "metadata": {},
      "source": [
        "Many different options are available for plotting, for example thresholding,\nor using custom colormaps\n\n"
      ]
    },
    {
      "cell_type": "code",
      "execution_count": null,
      "metadata": {
        "collapsed": false
      },
      "outputs": [],
      "source": [
        "plotting.plot_surf_stat_map(fsaverage['pial_left'], stat_map=stat_map,\n                            hemi='left', view='medial', colorbar=True,\n                            bg_map=fsaverage['sulc_left'], bg_on_data=True,\n                            cmap='Spectral', threshold=.5,\n                            title='Threshold and colormap')"
      ]
    },
    {
      "cell_type": "markdown",
      "metadata": {},
      "source": [
        "Here the surface is plotted in a lateral view without a background map.\nTo capture 3D structure without depth information, the default is to plot a\nhalf transparent surface.\nNote that you can also control the transparency with a background map using\nthe alpha parameter.\n\n"
      ]
    },
    {
      "cell_type": "code",
      "execution_count": null,
      "metadata": {
        "collapsed": false
      },
      "outputs": [],
      "source": [
        "plotting.plot_surf_stat_map(fsaverage['pial_left'], stat_map=stat_map,\n                            hemi='left', view='lateral', colorbar=True,\n                            cmap='Spectral', threshold=.5,\n                            title='Plotting without background')"
      ]
    },
    {
      "cell_type": "markdown",
      "metadata": {},
      "source": [
        "The plots can be saved to file, in which case the display is closed after\ncreating the figure\n\n"
      ]
    },
    {
      "cell_type": "code",
      "execution_count": null,
      "metadata": {
        "collapsed": false
      },
      "outputs": [],
      "source": [
        "plotting.plot_surf_stat_map(fsaverage['infl_left'], stat_map=stat_map,\n                            hemi='left', bg_map=fsaverage['sulc_left'],\n                            bg_on_data=True, threshold=.5, colorbar=True,\n                            output_file='plot_surf_stat_map.png')\n\nplotting.show()"
      ]
    }
  ],
  "metadata": {
    "kernelspec": {
      "display_name": "Python 3",
      "language": "python",
      "name": "python3"
    },
    "language_info": {
      "codemirror_mode": {
        "name": "ipython",
        "version": 3
      },
      "file_extension": ".py",
      "mimetype": "text/x-python",
      "name": "python",
      "nbconvert_exporter": "python",
      "pygments_lexer": "ipython3",
      "version": "3.10.4"
    }
  },
  "nbformat": 4,
  "nbformat_minor": 0
}