{
  "cells": [
    {
      "cell_type": "code",
      "execution_count": null,
      "metadata": {
        "collapsed": false
      },
      "outputs": [],
      "source": [
        "%matplotlib inline"
      ]
    },
    {
      "cell_type": "markdown",
      "metadata": {},
      "source": [
        "# Technical point: Illustration of the volume to surface sampling schemes\n\nIn nilearn, :func:`nilearn.surface.vol_to_surf` allows us to measure values of\na 3d volume at the nodes of a cortical mesh, transforming it into surface data.\nThis data can then be plotted with :func:`nilearn.plotting.plot_surf_stat_map`\nfor example.\n\nThis script shows, on a toy example, where samples are drawn around each mesh\nvertex. Image values are interpolated at each sample location, then these\nsamples are averaged to produce a value for the vertex.\n\nThree strategies are available to choose sample locations: they can be spread\nbetween corresponding nodes when we have two nested surfaces (e.g. a white\nmatter and a pial surface), along the normal at each node, or inside a ball\naround each node. Don't worry too much about choosing one or the other: they\ntake a similar amount of time and give almost identical results for most\nimages. If you do have both pial and white matter surfaces (as for the\nfsaverage and fsaverage5 surfaces fetched by `nilearn.datasets`) we recommend\npassing both to `vol_to_surf`.\n"
      ]
    },
    {
      "cell_type": "code",
      "execution_count": null,
      "metadata": {
        "collapsed": false
      },
      "outputs": [],
      "source": [
        "import numpy as np\n\nimport matplotlib\nfrom matplotlib import pyplot as plt\n\nfrom nilearn.surface import surface\nfrom nilearn.plotting import show"
      ]
    },
    {
      "cell_type": "markdown",
      "metadata": {},
      "source": [
        "## Build a mesh (of a cylinder)\n\n"
      ]
    },
    {
      "cell_type": "code",
      "execution_count": null,
      "metadata": {
        "collapsed": false
      },
      "outputs": [],
      "source": [
        "N_Z = 5\nN_T = 10\nu, v = np.mgrid[:N_T, :N_Z]\ntriangulation = matplotlib.tri.Triangulation(u.flatten(), v.flatten())\nangles = u.flatten() * 2 * np.pi / N_T\nx, y = np.cos(angles), np.sin(angles)\nz = v.flatten() * 2 / N_Z\n\nmesh = [np.asarray([x, y, z]).T, triangulation.triangles]\ninner_mesh = [[.7, .7, 1.] * mesh[0], triangulation.triangles]"
      ]
    },
    {
      "cell_type": "markdown",
      "metadata": {},
      "source": [
        "## Get the locations from which vol_to_surf would draw its samples\n\n"
      ]
    },
    {
      "cell_type": "code",
      "execution_count": null,
      "metadata": {
        "collapsed": false
      },
      "outputs": [],
      "source": [
        "nested_sample_points = surface._sample_locations_between_surfaces(\n    mesh, inner_mesh, np.eye(4))\n\nline_sample_points = surface._line_sample_locations(\n    mesh, np.eye(4), segment_half_width=.2, n_points=6)\n\nball_sample_points = surface._ball_sample_locations(\n    mesh, np.eye(4), ball_radius=.15, n_points=20)"
      ]
    },
    {
      "cell_type": "markdown",
      "metadata": {},
      "source": [
        "## Plot the mesh and the sample locations\n\n"
      ]
    },
    {
      "cell_type": "code",
      "execution_count": null,
      "metadata": {
        "collapsed": false
      },
      "outputs": [],
      "source": [
        "fig = plt.figure()\nax = plt.subplot(projection='3d')\nax.view_init(67, -42)\nax.plot_trisurf(x, y, z, triangles=triangulation.triangles, alpha=.6)\nax.plot_trisurf(*inner_mesh[0].T, triangles=triangulation.triangles)\nax.scatter(*nested_sample_points.T, color='r')\n\nfor sample_points in [line_sample_points, ball_sample_points]:\n    fig = plt.figure()\n    ax = plt.subplot(projection='3d')\n    ax.view_init(67, -42)\n    ax.plot_trisurf(x, y, z, triangles=triangulation.triangles)\n    ax.scatter(*sample_points.T, color='r')"
      ]
    },
    {
      "cell_type": "markdown",
      "metadata": {},
      "source": [
        "## Adjust the sample locations\n For \"line\" and nested surfaces, the depth parameter allows adjusting the\n position of samples along the line\n\n"
      ]
    },
    {
      "cell_type": "code",
      "execution_count": null,
      "metadata": {
        "collapsed": false
      },
      "outputs": [],
      "source": [
        "nested_sample_points = surface._sample_locations_between_surfaces(\n    mesh, inner_mesh, np.eye(4), depth=[-.5, 0., .8, 1., 1.2])\nfig = plt.figure()\nax = plt.subplot(projection='3d')\nax.view_init(67, -42)\nax.plot_trisurf(x, y, z, triangles=triangulation.triangles, alpha=.6)\nax.plot_trisurf(*inner_mesh[0].T, triangles=triangulation.triangles)\nax.scatter(*nested_sample_points.T, color='r')\n\nshow()"
      ]
    }
  ],
  "metadata": {
    "kernelspec": {
      "display_name": "Python 3",
      "language": "python",
      "name": "python3"
    },
    "language_info": {
      "codemirror_mode": {
        "name": "ipython",
        "version": 3
      },
      "file_extension": ".py",
      "mimetype": "text/x-python",
      "name": "python",
      "nbconvert_exporter": "python",
      "pygments_lexer": "ipython3",
      "version": "3.10.4"
    }
  },
  "nbformat": 4,
  "nbformat_minor": 0
}