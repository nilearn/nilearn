{
  "cells": [
    {
      "cell_type": "code",
      "execution_count": null,
      "metadata": {
        "collapsed": false
      },
      "outputs": [],
      "source": [
        "%matplotlib inline"
      ]
    },
    {
      "cell_type": "markdown",
      "metadata": {},
      "source": [
        "\n# Loading and plotting of a cortical surface atlas\n\nThe Destrieux parcellation (Destrieux et al, 2010) in fsaverage5 space as\ndistributed with Freesurfer is used as the chosen atlas.\n\nThe :func:`nilearn.plotting.plot_surf_roi` function is used\nto plot the parcellation on the pial surface.\n\nSee `plotting` for more details.\n\n## References\n\nDestrieux et al, (2010). Automatic parcellation of human cortical gyri and\nsulci using standard anatomical nomenclature. NeuroImage, 53, 1.\nURL http://dx.doi.org/10.1016/j.neuroimage.2010.06.010.\n"
      ]
    },
    {
      "cell_type": "markdown",
      "metadata": {},
      "source": [
        "## Data fetcher\n\n"
      ]
    },
    {
      "cell_type": "code",
      "execution_count": null,
      "metadata": {
        "collapsed": false
      },
      "outputs": [],
      "source": [
        "# Retrieve destrieux parcellation in fsaverage5 space from nilearn\nfrom nilearn import datasets\n\ndestrieux_atlas = datasets.fetch_atlas_surf_destrieux()\n\n# The parcellation is already loaded into memory\nparcellation = destrieux_atlas['map_left']\n\n# Retrieve fsaverage5 surface dataset for the plotting background. It contains\n# the surface template as pial and inflated version and a sulcal depth maps\n# which is used for shading\nfsaverage = datasets.fetch_surf_fsaverage()\n\n# The fsaverage dataset contains file names pointing to the file locations\nprint('Fsaverage5 pial surface of left hemisphere is at: %s' %\n      fsaverage['pial_left'])\nprint('Fsaverage5 inflated surface of left hemisphere is at: %s' %\n      fsaverage['infl_left'])\nprint('Fsaverage5 sulcal depth map of left hemisphere is at: %s' %\n      fsaverage['sulc_left'])"
      ]
    },
    {
      "cell_type": "markdown",
      "metadata": {},
      "source": [
        "## Visualization\n\n"
      ]
    },
    {
      "cell_type": "code",
      "execution_count": null,
      "metadata": {
        "collapsed": false
      },
      "outputs": [],
      "source": [
        "# Display Destrieux parcellation on fsaverage5 pial surface using nilearn\nfrom nilearn import plotting\n\nplotting.plot_surf_roi(fsaverage['pial_left'], roi_map=parcellation,\n                       hemi='left', view='lateral',\n                       bg_map=fsaverage['sulc_left'], bg_on_data=True,\n                       darkness=.5)"
      ]
    },
    {
      "cell_type": "markdown",
      "metadata": {},
      "source": [
        "Display Destrieux parcellation on inflated fsaverage5 surface\n\n"
      ]
    },
    {
      "cell_type": "code",
      "execution_count": null,
      "metadata": {
        "collapsed": false
      },
      "outputs": [],
      "source": [
        "plotting.plot_surf_roi(fsaverage['infl_left'], roi_map=parcellation,\n                       hemi='left', view='lateral',\n                       bg_map=fsaverage['sulc_left'], bg_on_data=True,\n                       darkness=.5)"
      ]
    },
    {
      "cell_type": "markdown",
      "metadata": {},
      "source": [
        "Display Destrieux parcellation with different views: posterior\n\n"
      ]
    },
    {
      "cell_type": "code",
      "execution_count": null,
      "metadata": {
        "collapsed": false
      },
      "outputs": [],
      "source": [
        "plotting.plot_surf_roi(fsaverage['infl_left'], roi_map=parcellation,\n                       hemi='left', view='posterior',\n                       bg_map=fsaverage['sulc_left'], bg_on_data=True,\n                       darkness=.5)"
      ]
    },
    {
      "cell_type": "markdown",
      "metadata": {},
      "source": [
        "Display Destrieux parcellation with different views: ventral\n\n"
      ]
    },
    {
      "cell_type": "code",
      "execution_count": null,
      "metadata": {
        "collapsed": false
      },
      "outputs": [],
      "source": [
        "plotting.plot_surf_roi(fsaverage['infl_left'], roi_map=parcellation,\n                       hemi='left', view='ventral',\n                       bg_map=fsaverage['sulc_left'], bg_on_data=True,\n                       darkness=.5)\nplotting.show()"
      ]
    },
    {
      "cell_type": "markdown",
      "metadata": {},
      "source": [
        "Display connectome from surface parcellation\n\nThe following code extracts 3D coordinates of surface parcels (a.k.a. labels\nin the Freesurfer naming convention). To do so we load the pial surface\nof fsaverage subject, get the vertices contained in each parcel and compute\nthe mean location to obtain the coordinates.\n\n"
      ]
    },
    {
      "cell_type": "code",
      "execution_count": null,
      "metadata": {
        "collapsed": false
      },
      "outputs": [],
      "source": [
        "import numpy as np\nfrom nilearn import surface\n\natlas = destrieux_atlas\ncoordinates = []\nlabels = destrieux_atlas['labels']\nfor hemi in ['left', 'right']:\n    vert = destrieux_atlas['map_%s' % hemi]\n    rr, _ = surface.load_surf_mesh(fsaverage['pial_%s' % hemi])\n    for k, label in enumerate(labels):\n        if \"Unknown\" not in str(label):  # Omit the Unknown label.\n            # Compute mean location of vertices in label of index k\n            coordinates.append(np.mean(rr[vert == k], axis=0))\n\ncoordinates = np.array(coordinates)  # 3D coordinates of parcels\n\n# We now make a synthetic connectivity matrix that connects labels\n# between left and right hemispheres.\nn_parcels = len(coordinates)\ncorr = np.zeros((n_parcels, n_parcels))\nn_parcels_hemi = n_parcels // 2\ncorr[np.arange(n_parcels_hemi), np.arange(n_parcels_hemi) + n_parcels_hemi] = 1\ncorr = corr + corr.T\n\nplotting.plot_connectome(corr, coordinates,\n                         edge_threshold=\"90%\",\n                         title='fsaverage Destrieux atlas')\nplotting.show()"
      ]
    },
    {
      "cell_type": "markdown",
      "metadata": {},
      "source": [
        "## 3D visualization in a web browser\nAn alternative to :func:`nilearn.plotting.plot_surf_roi` is to use\n:func:`nilearn.plotting.view_surf` for more interactive\nvisualizations in a web browser. See `interactive-surface-plotting` for\nmore details.\n\n"
      ]
    },
    {
      "cell_type": "code",
      "execution_count": null,
      "metadata": {
        "collapsed": false
      },
      "outputs": [],
      "source": [
        "view = plotting.view_surf(fsaverage.infl_left, parcellation,\n                          cmap='gist_ncar', symmetric_cmap=False)\n# In a Jupyter notebook, if ``view`` is the output of a cell, it will\n# be displayed below the cell\n\nview"
      ]
    },
    {
      "cell_type": "code",
      "execution_count": null,
      "metadata": {
        "collapsed": false
      },
      "outputs": [],
      "source": [
        "# uncomment this to open the plot in a web browser:\n# view.open_in_browser()"
      ]
    },
    {
      "cell_type": "markdown",
      "metadata": {},
      "source": [
        "you can also use :func:`nilearn.plotting.view_connectome` to open an\ninteractive view of the connectome.\n\n"
      ]
    },
    {
      "cell_type": "code",
      "execution_count": null,
      "metadata": {
        "collapsed": false
      },
      "outputs": [],
      "source": [
        "view = plotting.view_connectome(corr, coordinates, edge_threshold='90%')\n# uncomment this to open the plot in a web browser:\n# view.open_in_browser()\nview"
      ]
    }
  ],
  "metadata": {
    "kernelspec": {
      "display_name": "Python 3",
      "language": "python",
      "name": "python3"
    },
    "language_info": {
      "codemirror_mode": {
        "name": "ipython",
        "version": 3
      },
      "file_extension": ".py",
      "mimetype": "text/x-python",
      "name": "python",
      "nbconvert_exporter": "python",
      "pygments_lexer": "ipython3",
      "version": "3.10.4"
    }
  },
  "nbformat": 4,
  "nbformat_minor": 0
}