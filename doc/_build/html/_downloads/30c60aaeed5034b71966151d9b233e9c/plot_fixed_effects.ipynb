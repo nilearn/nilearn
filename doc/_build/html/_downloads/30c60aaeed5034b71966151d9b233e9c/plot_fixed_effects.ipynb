{
  "cells": [
    {
      "cell_type": "code",
      "execution_count": null,
      "metadata": {
        "collapsed": false
      },
      "outputs": [],
      "source": [
        "%matplotlib inline"
      ]
    },
    {
      "cell_type": "markdown",
      "metadata": {},
      "source": [
        "# Example of explicit fixed effects fMRI model fitting\n\nThis example illustrates how to run a fixed effects model based on\npre-computed statistics. This is helpful when the initial models\nhave to be fit separately.\n\nFor details on the data, please see:\n\n    Dehaene-Lambertz G, Dehaene S, Anton JL, Campagne A, Ciuciu P, Dehaene\n        G, Denghien I, Jobert A, LeBihan D, Sigman M, Pallier C, Poline\n        JB. Functional segregation of cortical language areas by sentence\n        repetition. Hum Brain Mapp. 2006: 27:360--371.\n        http://www.pubmedcentral.nih.gov/articlerender.fcgi?artid=2653076#R11\n\nPlease see\n`sphx_glr_auto_examples_04_glm_first_level_plot_fiac_analysis.py`\nfor details.  The main difference is that\nthe fixed-effects model is run explicitly here,\nafter GLM fitting on two sessions.\n"
      ]
    },
    {
      "cell_type": "markdown",
      "metadata": {},
      "source": [
        "## Prepare data and analysis parameters\n\nInspecting 'data', we note that there are two sessions\n\n"
      ]
    },
    {
      "cell_type": "code",
      "execution_count": null,
      "metadata": {
        "collapsed": false
      },
      "outputs": [],
      "source": [
        "from nilearn.datasets import func\ndata = func.fetch_fiac_first_level()\nfmri_img = [data['func1'], data['func2']]"
      ]
    },
    {
      "cell_type": "markdown",
      "metadata": {},
      "source": [
        "Create a mean image for plotting purpose\n\n"
      ]
    },
    {
      "cell_type": "code",
      "execution_count": null,
      "metadata": {
        "collapsed": false
      },
      "outputs": [],
      "source": [
        "from nilearn.image import mean_img\nmean_img_ = mean_img(fmri_img[0])"
      ]
    },
    {
      "cell_type": "markdown",
      "metadata": {},
      "source": [
        "The design matrices were pre-computed, we simply put them in a list of\nDataFrames\n\n"
      ]
    },
    {
      "cell_type": "code",
      "execution_count": null,
      "metadata": {
        "collapsed": false
      },
      "outputs": [],
      "source": [
        "design_files = [data['design_matrix1'], data['design_matrix2']]\nimport pandas as pd\nimport numpy as np\ndesign_matrices = [pd.DataFrame(np.load(df)['X']) for df in design_files]"
      ]
    },
    {
      "cell_type": "markdown",
      "metadata": {},
      "source": [
        "## GLM estimation\nGLM specification. Note that the mask was provided in the dataset.\nSo we use it.\n\n"
      ]
    },
    {
      "cell_type": "code",
      "execution_count": null,
      "metadata": {
        "collapsed": false
      },
      "outputs": [],
      "source": [
        "from nilearn.glm.first_level import FirstLevelModel\nfmri_glm = FirstLevelModel(mask_img=data['mask'], smoothing_fwhm=5,\n                           minimize_memory=True)"
      ]
    },
    {
      "cell_type": "markdown",
      "metadata": {},
      "source": [
        "Compute fixed effects of the two runs and compute related images\nFor this, we first define the contrasts as we would do for a single session\n\n"
      ]
    },
    {
      "cell_type": "code",
      "execution_count": null,
      "metadata": {
        "collapsed": false
      },
      "outputs": [],
      "source": [
        "n_columns = design_matrices[0].shape[1]\ncontrast_val = np.hstack(([-1, -1, 1, 1], np.zeros(n_columns - 4)))"
      ]
    },
    {
      "cell_type": "markdown",
      "metadata": {},
      "source": [
        "Statistics for the first session\n\n"
      ]
    },
    {
      "cell_type": "code",
      "execution_count": null,
      "metadata": {
        "collapsed": false
      },
      "outputs": [],
      "source": [
        "from nilearn import plotting\ncut_coords = [-129, -126, 49]\ncontrast_id = 'DSt_minus_SSt'\n\nfmri_glm = fmri_glm.fit(fmri_img[0], design_matrices=design_matrices[0])\nsummary_statistics_session1 = fmri_glm.compute_contrast(\n    contrast_val, output_type='all')\nplotting.plot_stat_map(\n    summary_statistics_session1['z_score'],\n    bg_img=mean_img_, threshold=3.0, cut_coords=cut_coords,\n    title='{0}, first session'.format(contrast_id))"
      ]
    },
    {
      "cell_type": "markdown",
      "metadata": {},
      "source": [
        "Statistics for the second session\n\n"
      ]
    },
    {
      "cell_type": "code",
      "execution_count": null,
      "metadata": {
        "collapsed": false
      },
      "outputs": [],
      "source": [
        "fmri_glm = fmri_glm.fit(fmri_img[1], design_matrices=design_matrices[1])\nsummary_statistics_session2 = fmri_glm.compute_contrast(\n    contrast_val, output_type='all')\nplotting.plot_stat_map(\n    summary_statistics_session2['z_score'],\n    bg_img=mean_img_, threshold=3.0, cut_coords=cut_coords,\n    title='{0}, second session'.format(contrast_id))"
      ]
    },
    {
      "cell_type": "markdown",
      "metadata": {},
      "source": [
        "Fixed effects statistics\n\n"
      ]
    },
    {
      "cell_type": "code",
      "execution_count": null,
      "metadata": {
        "collapsed": false
      },
      "outputs": [],
      "source": [
        "from nilearn.glm.contrasts import compute_fixed_effects\n\ncontrast_imgs = [summary_statistics_session1['effect_size'],\n                 summary_statistics_session2['effect_size']]\nvariance_imgs = [summary_statistics_session1['effect_variance'],\n                 summary_statistics_session2['effect_variance']]\n\nfixed_fx_contrast, fixed_fx_variance, fixed_fx_stat = compute_fixed_effects(\n    contrast_imgs, variance_imgs, data['mask'])\nplotting.plot_stat_map(\n    fixed_fx_stat, bg_img=mean_img_, threshold=3.0, cut_coords=cut_coords,\n    title='{0}, fixed effects'.format(contrast_id))"
      ]
    },
    {
      "cell_type": "markdown",
      "metadata": {},
      "source": [
        "Not unexpectedly, the fixed effects version displays higher peaks than the\ninput sessions. Computing fixed effects enhances the signal-to-noise ratio of\nthe resulting brain maps\nNote however that, technically, the output maps of the fixed effects map is a\nt statistic (not a z statistic)\n\n"
      ]
    },
    {
      "cell_type": "code",
      "execution_count": null,
      "metadata": {
        "collapsed": false
      },
      "outputs": [],
      "source": [
        "plotting.show()"
      ]
    }
  ],
  "metadata": {
    "kernelspec": {
      "display_name": "Python 3",
      "language": "python",
      "name": "python3"
    },
    "language_info": {
      "codemirror_mode": {
        "name": "ipython",
        "version": 3
      },
      "file_extension": ".py",
      "mimetype": "text/x-python",
      "name": "python",
      "nbconvert_exporter": "python",
      "pygments_lexer": "ipython3",
      "version": "3.10.4"
    }
  },
  "nbformat": 4,
  "nbformat_minor": 0
}