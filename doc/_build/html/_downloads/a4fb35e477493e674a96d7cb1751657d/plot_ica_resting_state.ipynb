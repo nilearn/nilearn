{
  "cells": [
    {
      "cell_type": "code",
      "execution_count": null,
      "metadata": {
        "collapsed": false
      },
      "outputs": [],
      "source": [
        "%matplotlib inline"
      ]
    },
    {
      "cell_type": "markdown",
      "metadata": {},
      "source": [
        "\n# Multivariate decompositions: Independent component analysis of fMRI\n\n\nThis example is meant to demonstrate nilearn as a low-level tools used to\ncombine feature extraction with a multivariate decomposition algorithm\nfor movie-watching.\n\nThis example is a toy. To apply ICA to fmri timeseries data, it is advised\nto look at the example\n`sphx_glr_auto_examples_03_connectivity_plot_compare_decomposition.py`.\n\nThe example here applies the scikit-learn :term:`ICA` to movie watching\ntimeseries data. Note that following the code in the example, any unsupervised\ndecomposition model, or other latent-factor models, can be applied to\nthe data, as the scikit-learn API enables to exchange them as almost\nblack box (though the relevant parameter for brain maps might no longer\nbe given by a call to fit_transform).\n\n.. include:: ../../../examples/masker_note.rst\n"
      ]
    },
    {
      "cell_type": "markdown",
      "metadata": {},
      "source": [
        "Load movie watching dataset\n\n"
      ]
    },
    {
      "cell_type": "code",
      "execution_count": null,
      "metadata": {
        "collapsed": false
      },
      "outputs": [],
      "source": [
        "from nilearn import datasets\n# Here we use only single subject to get faster-running code.\ndataset = datasets.fetch_development_fmri(n_subjects=1)\nfunc_filename = dataset.func[0]\n\n# print basic information on the dataset\nprint('First subject functional nifti image (4D) is at: %s' %\n      dataset.func[0])  # 4D data"
      ]
    },
    {
      "cell_type": "markdown",
      "metadata": {},
      "source": [
        "Preprocess\n\n"
      ]
    },
    {
      "cell_type": "code",
      "execution_count": null,
      "metadata": {
        "collapsed": false
      },
      "outputs": [],
      "source": [
        "from nilearn.maskers import NiftiMasker\n\n# This is fmri timeseries data: the background has not been removed yet,\n# thus we need to use mask_strategy='epi' to compute the mask from the\n# EPI images\nmasker = NiftiMasker(smoothing_fwhm=8, memory='nilearn_cache', memory_level=1,\n                     mask_strategy='epi', standardize=True)\ndata_masked = masker.fit_transform(func_filename)"
      ]
    },
    {
      "cell_type": "markdown",
      "metadata": {},
      "source": [
        "Apply ICA\n\n"
      ]
    },
    {
      "cell_type": "code",
      "execution_count": null,
      "metadata": {
        "collapsed": false
      },
      "outputs": [],
      "source": [
        "from sklearn.decomposition import FastICA\nn_components = 10\nica = FastICA(n_components=n_components, random_state=42)\ncomponents_masked = ica.fit_transform(data_masked.T).T\n\n# Normalize estimated components, for thresholding to make sense\ncomponents_masked -= components_masked.mean(axis=0)\ncomponents_masked /= components_masked.std(axis=0)\n# Threshold\nimport numpy as np\ncomponents_masked[np.abs(components_masked) < .8] = 0\n\n# Now invert the masking operation, going back to a full 3D\n# representation\ncomponent_img = masker.inverse_transform(components_masked)"
      ]
    },
    {
      "cell_type": "markdown",
      "metadata": {},
      "source": [
        "Visualize the results\n\n"
      ]
    },
    {
      "cell_type": "code",
      "execution_count": null,
      "metadata": {
        "collapsed": false
      },
      "outputs": [],
      "source": [
        "# Show some interesting components\nfrom nilearn import image\nfrom nilearn.plotting import plot_stat_map, show\n\n# Use the mean as a background\nmean_img = image.mean_img(func_filename)\n\nplot_stat_map(image.index_img(component_img, 0), mean_img)\n\nplot_stat_map(image.index_img(component_img, 1), mean_img)\n\nshow()"
      ]
    }
  ],
  "metadata": {
    "kernelspec": {
      "display_name": "Python 3",
      "language": "python",
      "name": "python3"
    },
    "language_info": {
      "codemirror_mode": {
        "name": "ipython",
        "version": 3
      },
      "file_extension": ".py",
      "mimetype": "text/x-python",
      "name": "python",
      "nbconvert_exporter": "python",
      "pygments_lexer": "ipython3",
      "version": "3.10.4"
    }
  },
  "nbformat": 4,
  "nbformat_minor": 0
}