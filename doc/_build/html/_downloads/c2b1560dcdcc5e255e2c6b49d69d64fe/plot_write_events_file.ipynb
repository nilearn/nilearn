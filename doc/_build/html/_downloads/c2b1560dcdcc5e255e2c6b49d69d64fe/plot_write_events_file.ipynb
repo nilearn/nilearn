{
  "cells": [
    {
      "cell_type": "code",
      "execution_count": null,
      "metadata": {
        "collapsed": false
      },
      "outputs": [],
      "source": [
        "%matplotlib inline"
      ]
    },
    {
      "cell_type": "markdown",
      "metadata": {},
      "source": [
        "\n# Generate an events.tsv file for the NeuroSpin localizer task\n\nCreate a :term:`BIDS`-compatible events.tsv file from onset/trial-type\ninformation.\n\nThe protocol described is the so-called \"ARCHI Standard\" functional localizer\ntask.\n\nFor details on the task, please see:\n\nPinel, P., Thirion, B., Meriaux, S. et al.\nFast reproducible identification and large-scale databasing of individual\nfunctional cognitive networks.\nBMC Neurosci 8, 91 (2007). https://doi.org/10.1186/1471-2202-8-91\n"
      ]
    },
    {
      "cell_type": "code",
      "execution_count": null,
      "metadata": {
        "collapsed": false
      },
      "outputs": [],
      "source": [
        "print(__doc__)"
      ]
    },
    {
      "cell_type": "markdown",
      "metadata": {},
      "source": [
        "Define the onset times in seconds. These are typically extracted from\nthe stimulation software used, but we will use hardcoded values in this\nexample.\n\n"
      ]
    },
    {
      "cell_type": "code",
      "execution_count": null,
      "metadata": {
        "collapsed": false
      },
      "outputs": [],
      "source": [
        "import numpy as np\n\nonsets = np.array([\n    0., 2.4, 8.7, 11.4, 15., 18., 20.7, 23.7, 26.7, 29.7, 33., 35.4, 39.,\n    41.7, 44.7, 48., 56.4, 59.7, 62.4, 69., 71.4, 75., 83.4, 87., 89.7,\n    96., 108., 116.7, 119.4, 122.7, 125.4, 131.4, 135., 137.7, 140.4,\n    143.4, 146.7, 149.4, 153., 156., 159., 162., 164.4, 167.7, 170.4,\n    173.7, 176.7, 188.4, 191.7, 195., 198., 201., 203.7, 207., 210.,\n    212.7, 215.7, 218.7, 221.4, 224.7, 227.7, 230.7, 234., 236.7, 246.,\n    248.4, 251.7, 254.7, 257.4, 260.4, 264., 266.7, 269.7, 275.4, 278.4,\n    284.4, 288., 291., 293.4, 296.7,\n])"
      ]
    },
    {
      "cell_type": "markdown",
      "metadata": {},
      "source": [
        "Associated trial types: these are numbered between 0 and 9, hence\ncorresponding to 10 different conditions.\n\n"
      ]
    },
    {
      "cell_type": "code",
      "execution_count": null,
      "metadata": {
        "collapsed": false
      },
      "outputs": [],
      "source": [
        "trial_type_idx = np.array([\n    7, 7, 0, 2, 9, 4, 9, 3, 5, 9, 1, 6, 8, 8, 6, 6, 8, 0, 3, 4, 5, 8, 6,\n    2, 9, 1, 6, 5, 9, 1, 7, 8, 6, 6, 1, 2, 9, 0, 7, 1, 8, 2, 7, 8, 3, 6,\n    0, 0, 6, 8, 7, 7, 1, 1, 1, 5, 5, 0, 7, 0, 4, 2, 7, 9, 8, 0, 6, 3, 3,\n    7, 1, 0, 0, 4, 1, 9, 8, 4, 9, 9,\n])"
      ]
    },
    {
      "cell_type": "markdown",
      "metadata": {},
      "source": [
        "We may want to map these indices to explicit condition names.\nFor that, we define a list of 10 strings.\n\n"
      ]
    },
    {
      "cell_type": "code",
      "execution_count": null,
      "metadata": {
        "collapsed": false
      },
      "outputs": [],
      "source": [
        "condition_ids = [\n    'horizontal checkerboard',\n    'vertical checkerboard',\n    'right button press, auditory instructions',\n    'left button press, auditory instructions',\n    'right button press, visual instructions',\n    'left button press, visual instructions',\n    'mental computation, auditory instructions',\n    'mental computation, visual instructions',\n    'visual sentence',\n    'auditory sentence',\n]\n\ntrial_types = [condition_ids[i] for i in trial_type_idx]"
      ]
    },
    {
      "cell_type": "markdown",
      "metadata": {},
      "source": [
        "We must also define a duration (required by :term:`BIDS` conventions).\nIn this case, all trials lasted one second.\n\n"
      ]
    },
    {
      "cell_type": "code",
      "execution_count": null,
      "metadata": {
        "collapsed": false
      },
      "outputs": [],
      "source": [
        "durations = np.ones_like(onsets)"
      ]
    },
    {
      "cell_type": "markdown",
      "metadata": {},
      "source": [
        "Form a pandas DataFrame from this information.\n\n"
      ]
    },
    {
      "cell_type": "code",
      "execution_count": null,
      "metadata": {
        "collapsed": false
      },
      "outputs": [],
      "source": [
        "import pandas as pd\n\nevents = pd.DataFrame({\n    'trial_type': trial_types,\n    'onset': onsets,\n    'duration': durations,\n})"
      ]
    },
    {
      "cell_type": "markdown",
      "metadata": {},
      "source": [
        "Take a look at the new DataFrame\n\n"
      ]
    },
    {
      "cell_type": "code",
      "execution_count": null,
      "metadata": {
        "collapsed": false
      },
      "outputs": [],
      "source": [
        "events"
      ]
    },
    {
      "cell_type": "markdown",
      "metadata": {},
      "source": [
        "Export them to a tsv file.\n\n"
      ]
    },
    {
      "cell_type": "code",
      "execution_count": null,
      "metadata": {
        "collapsed": false
      },
      "outputs": [],
      "source": [
        "import os\noutdir = 'results'\nif not os.path.exists(outdir):\n    os.mkdir(outdir)\ntsvfile = outdir + '/localizer_events.tsv'\nevents.to_csv(tsvfile, sep='\\t', index=False)\nprint(f'The event information has been saved to {tsvfile}')"
      ]
    },
    {
      "cell_type": "markdown",
      "metadata": {},
      "source": [
        "Optionally, the events can be visualized using the\n:func:`~nilearn.plotting.plot_event` function.\n\n"
      ]
    },
    {
      "cell_type": "code",
      "execution_count": null,
      "metadata": {
        "collapsed": false
      },
      "outputs": [],
      "source": [
        "import matplotlib.pyplot as plt\nfrom nilearn.plotting import plot_event\n\nplot_event(events, figsize=(15, 5))\nplt.show()"
      ]
    }
  ],
  "metadata": {
    "kernelspec": {
      "display_name": "Python 3",
      "language": "python",
      "name": "python3"
    },
    "language_info": {
      "codemirror_mode": {
        "name": "ipython",
        "version": 3
      },
      "file_extension": ".py",
      "mimetype": "text/x-python",
      "name": "python",
      "nbconvert_exporter": "python",
      "pygments_lexer": "ipython3",
      "version": "3.10.4"
    }
  },
  "nbformat": 4,
  "nbformat_minor": 0
}