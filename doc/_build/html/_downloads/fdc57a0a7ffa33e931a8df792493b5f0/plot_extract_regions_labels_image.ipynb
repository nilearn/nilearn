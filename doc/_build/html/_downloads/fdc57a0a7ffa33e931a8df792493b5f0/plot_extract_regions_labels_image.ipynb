{
  "cells": [
    {
      "cell_type": "code",
      "execution_count": null,
      "metadata": {
        "collapsed": false
      },
      "outputs": [],
      "source": [
        "%matplotlib inline"
      ]
    },
    {
      "cell_type": "markdown",
      "metadata": {},
      "source": [
        "\n# Breaking an atlas of labels in separated regions\n\nThis example shows how to use\n:class:`nilearn.regions.connected_label_regions`\nto assign each spatially-separated region of the atlas a unique label.\n\nIndeed, often in a given atlas of labels, the same label (number) may\nbe used in different connected regions, for instance a region in each\nhemisphere. If we want to operate on regions and not networks (for\ninstance in signal extraction), it is useful to assign a different\nlabel to each region. We end up with a new atlas that has more labels,\nbut each one points to a single region.\n\nWe use the Yeo atlas as an example for labeling regions,\n:func:`nilearn.datasets.fetch_atlas_yeo_2011`\n"
      ]
    },
    {
      "cell_type": "markdown",
      "metadata": {},
      "source": [
        "## The original Yeo atlas\n\n"
      ]
    },
    {
      "cell_type": "code",
      "execution_count": null,
      "metadata": {
        "collapsed": false
      },
      "outputs": [],
      "source": [
        "# First we fetch the Yeo atlas\nfrom nilearn import datasets\n\natlas_yeo_2011 = datasets.fetch_atlas_yeo_2011()\natlas_yeo = atlas_yeo_2011.thick_7\n\n# Let's now plot it\nfrom nilearn import plotting\n\nplotting.plot_roi(atlas_yeo, title='Original Yeo atlas',\n                  cut_coords=(8, -4, 9), colorbar=True, cmap='Paired')"
      ]
    },
    {
      "cell_type": "markdown",
      "metadata": {},
      "source": [
        "The original Yeo atlas has 7 labels, that is indicated in the colorbar.\nThe colorbar also shows the correspondence between the color and the label\n\nNote that these 7 labels correspond actually to networks that comprise\nseveral regions. We are going to split them up.\n\n"
      ]
    },
    {
      "cell_type": "markdown",
      "metadata": {},
      "source": [
        "## Relabeling the atlas into separated regions\n\nNow we use the connected_label_regions to break apart the networks\nof the Yeo atlas into separated regions\n\n"
      ]
    },
    {
      "cell_type": "code",
      "execution_count": null,
      "metadata": {
        "collapsed": false
      },
      "outputs": [],
      "source": [
        "from nilearn.regions import connected_label_regions\nregion_labels = connected_label_regions(atlas_yeo)"
      ]
    },
    {
      "cell_type": "markdown",
      "metadata": {},
      "source": [
        "Plotting the new regions\n\n"
      ]
    },
    {
      "cell_type": "code",
      "execution_count": null,
      "metadata": {
        "collapsed": false
      },
      "outputs": [],
      "source": [
        "plotting.plot_roi(region_labels, title='Relabeled Yeo atlas',\n                  cut_coords=(8, -4, 9), colorbar=True, cmap='Paired')"
      ]
    },
    {
      "cell_type": "markdown",
      "metadata": {},
      "source": [
        "Note that the same cluster in original and labeled atlas could have\ndifferent color, so, you cannot directly compare colors.\n\nHowever, you can see that the regions in the left and right hemispheres\nnow have different colors. For some regions it is difficult to tell\napart visually, as the colors are too close on the colormap (eg in the\nblue: regions labeled around 3).\n\nAlso, we can see that there are many more labels: the colorbar goes up\nto 49. The 7 networks of the Yeo atlas are now broken up into 49\nROIs.\n\nYou can save the new atlas to a nifti file using to_filename method.\n\n"
      ]
    },
    {
      "cell_type": "code",
      "execution_count": null,
      "metadata": {
        "collapsed": false
      },
      "outputs": [],
      "source": [
        "region_labels.to_filename('relabeled_yeo_atlas.nii.gz')\n\n# The images are saved to the current folder. It is possible to specify the\n# folder for saving the results, i.e.\n# import os\n# region_labels.to_filename(os.path.join(folder_path,\n#                                        'relabeled_yeo_atlas.nii.gz'))"
      ]
    },
    {
      "cell_type": "markdown",
      "metadata": {},
      "source": [
        "## Different connectivity modes\n\nUsing the parameter connect_diag=False we separate in addition two regions\nthat are connected only along the diagonal.\n\n"
      ]
    },
    {
      "cell_type": "code",
      "execution_count": null,
      "metadata": {
        "collapsed": false
      },
      "outputs": [],
      "source": [
        "region_labels_not_diag = connected_label_regions(atlas_yeo,\n                                                 connect_diag=False)\n\nplotting.plot_roi(region_labels_not_diag,\n                  title='Relabeling and connect_diag=False',\n                  cut_coords=(8, -4, 9), colorbar=True, cmap='Paired')"
      ]
    },
    {
      "cell_type": "markdown",
      "metadata": {},
      "source": [
        "A consequence of using connect_diag=False is that we can get a lot of\nsmall regions, around 110 judging from the colorbar.\n\nHence we suggest use connect_diag=True\n\n"
      ]
    },
    {
      "cell_type": "markdown",
      "metadata": {},
      "source": [
        "## Parameter min_size\n\nIn the above, we get around 110 regions, but many of these are very\nsmall. We can remove them with the min_size parameter, keeping only the\nregions larger than 100mm^3.\n\n"
      ]
    },
    {
      "cell_type": "code",
      "execution_count": null,
      "metadata": {
        "collapsed": false
      },
      "outputs": [],
      "source": [
        "region_labels_min_size = connected_label_regions(atlas_yeo, min_size=100,\n                                                 connect_diag=False)\n\nplotting.plot_roi(region_labels_min_size, title='Relabeling and min_size',\n                  cut_coords=(8, -4, 9), colorbar=True, cmap='Paired')\n\nplotting.show()"
      ]
    }
  ],
  "metadata": {
    "kernelspec": {
      "display_name": "Python 3",
      "language": "python",
      "name": "python3"
    },
    "language_info": {
      "codemirror_mode": {
        "name": "ipython",
        "version": 3
      },
      "file_extension": ".py",
      "mimetype": "text/x-python",
      "name": "python",
      "nbconvert_exporter": "python",
      "pygments_lexer": "ipython3",
      "version": "3.10.4"
    }
  },
  "nbformat": 4,
  "nbformat_minor": 0
}