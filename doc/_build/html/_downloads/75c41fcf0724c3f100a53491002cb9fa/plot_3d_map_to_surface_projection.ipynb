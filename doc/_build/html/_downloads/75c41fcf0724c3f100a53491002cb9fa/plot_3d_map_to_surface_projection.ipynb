{
  "cells": [
    {
      "cell_type": "code",
      "execution_count": null,
      "metadata": {
        "collapsed": false
      },
      "outputs": [],
      "source": [
        "%matplotlib inline"
      ]
    },
    {
      "cell_type": "markdown",
      "metadata": {},
      "source": [
        "\n# Making a surface plot of a 3D statistical map\n\nIn this example, we will project a 3D statistical map onto a cortical mesh\nusing :func:`~nilearn.surface.vol_to_surf`, display a surface plot of the\nprojected map using :func:`~nilearn.plotting.plot_surf_stat_map` with\ndifferent plotting engines, and add contours of regions of interest using\n:func:`~nilearn.plotting.plot_surf_contours`.\n"
      ]
    },
    {
      "cell_type": "markdown",
      "metadata": {},
      "source": [
        "## Get a statistical map\n\n"
      ]
    },
    {
      "cell_type": "code",
      "execution_count": null,
      "metadata": {
        "collapsed": false
      },
      "outputs": [],
      "source": [
        "from nilearn import datasets\n\nmotor_images = datasets.fetch_neurovault_motor_task()\nstat_img = motor_images.images[0]"
      ]
    },
    {
      "cell_type": "markdown",
      "metadata": {},
      "source": [
        "## Get a cortical mesh\n\n"
      ]
    },
    {
      "cell_type": "code",
      "execution_count": null,
      "metadata": {
        "collapsed": false
      },
      "outputs": [],
      "source": [
        "fsaverage = datasets.fetch_surf_fsaverage()"
      ]
    },
    {
      "cell_type": "markdown",
      "metadata": {},
      "source": [
        "## Sample the 3D data around each node of the mesh\n\n"
      ]
    },
    {
      "cell_type": "code",
      "execution_count": null,
      "metadata": {
        "collapsed": false
      },
      "outputs": [],
      "source": [
        "from nilearn import surface\n\ntexture = surface.vol_to_surf(stat_img, fsaverage.pial_right)"
      ]
    },
    {
      "cell_type": "markdown",
      "metadata": {},
      "source": [
        "## Plot the result\n\nYou can visualize the texture on the surface using the function\n:func:`~nilearn.plotting.plot_surf_stat_map` which uses ``matplotlib``\nas the default plotting engine:\n\n"
      ]
    },
    {
      "cell_type": "code",
      "execution_count": null,
      "metadata": {
        "collapsed": false
      },
      "outputs": [],
      "source": [
        "from nilearn import plotting\n\nfig = plotting.plot_surf_stat_map(\n    fsaverage.infl_right, texture, hemi='right',\n    title='Surface right hemisphere', colorbar=True,\n    threshold=1., bg_map=fsaverage.sulc_right\n)\nfig.show()"
      ]
    },
    {
      "cell_type": "markdown",
      "metadata": {},
      "source": [
        "## Interactive plotting with Plotly\n\nIf you have a recent version of Nilearn (>=0.8.2), and if you have\n``plotly`` installed, you can easily configure\n:func:`~nilearn.plotting.plot_surf_stat_map` to use ``plotly`` instead\nof ``matplotlib``:\n\n"
      ]
    },
    {
      "cell_type": "code",
      "execution_count": null,
      "metadata": {
        "collapsed": false
      },
      "outputs": [],
      "source": [
        "engine = 'plotly'\n# If plotly is not installed, use matplotlib\ntry:\n    import plotly.graph_objects as go  # noqa: F401\nexcept ImportError:\n    engine = 'matplotlib'\n\nprint(f\"Using plotting engine {engine}.\")\n\nfig = plotting.plot_surf_stat_map(\n    fsaverage.infl_right, texture, hemi='right',\n    title='Surface right hemisphere', colorbar=True,\n    threshold=1., bg_map=fsaverage.sulc_right,\n    engine=engine  # Specify the plotting engine here\n)\nfig.show()  # Display the figure as with matplotlib figures"
      ]
    },
    {
      "cell_type": "markdown",
      "metadata": {},
      "source": [
        "When using ``matplolib`` as the plotting engine, a standard\n:class:`matplotlib.figure.Figure` is returned. With ``plotly`` as the\nplotting engine, a custom\n:class:`~nilearn.plotting.displays.PlotlySurfaceFigure` is returned which\nprovides a similar API to the :class:`~matplotlib.figure.Figure`.\nFor example, you can save a static version of the figure to file (this\noption requires to have ``kaleido`` installed):\n\n"
      ]
    },
    {
      "cell_type": "code",
      "execution_count": null,
      "metadata": {
        "collapsed": false
      },
      "outputs": [],
      "source": [
        "# Save the figure as we would do with a matplotlib figure\n# Uncomment the following line to save the previous figure to file\n# fig.savefig(\"right_hemisphere.png\")"
      ]
    },
    {
      "cell_type": "markdown",
      "metadata": {},
      "source": [
        "## Plot 3D image for comparison\n\n"
      ]
    },
    {
      "cell_type": "code",
      "execution_count": null,
      "metadata": {
        "collapsed": false
      },
      "outputs": [],
      "source": [
        "plotting.plot_glass_brain(stat_img, display_mode='r', plot_abs=False,\n                          title='Glass brain', threshold=2.)\n\nplotting.plot_stat_map(stat_img, display_mode='x', threshold=1.,\n                       cut_coords=range(0, 51, 10), title='Slices')"
      ]
    },
    {
      "cell_type": "markdown",
      "metadata": {},
      "source": [
        "## Use an atlas and choose regions to outline\n\n"
      ]
    },
    {
      "cell_type": "code",
      "execution_count": null,
      "metadata": {
        "collapsed": false
      },
      "outputs": [],
      "source": [
        "import numpy as np\n\ndestrieux_atlas = datasets.fetch_atlas_surf_destrieux()\nparcellation = destrieux_atlas['map_right']\n\n# these are the regions we want to outline\nregions_dict = {b'G_postcentral': 'Postcentral gyrus',\n                b'G_precentral': 'Precentral gyrus'}\n\n# get indices in atlas for these labels\nregions_indices = [np.where(np.array(destrieux_atlas['labels']) == region)[0][0]\n                   for region in regions_dict]\n\nlabels = list(regions_dict.values())"
      ]
    },
    {
      "cell_type": "markdown",
      "metadata": {},
      "source": [
        "## Display outlines of the regions of interest on top of a statistical map\n\n"
      ]
    },
    {
      "cell_type": "code",
      "execution_count": null,
      "metadata": {
        "collapsed": false
      },
      "outputs": [],
      "source": [
        "figure = plotting.plot_surf_stat_map(fsaverage.infl_right, texture, hemi='right',\n                                     title='Surface right hemisphere',\n                                     colorbar=True, threshold=1.,\n                                     bg_map=fsaverage.sulc_right)\n\nplotting.plot_surf_contours(fsaverage.infl_right, parcellation, labels=labels,\n                            levels=regions_indices, figure=figure, legend=True,\n                            colors=['g', 'k'])\nplotting.show()"
      ]
    },
    {
      "cell_type": "markdown",
      "metadata": {},
      "source": [
        "## Plot with higher-resolution mesh\n\n:func:`~nilearn.datasets.fetch_surf_fsaverage` takes a ``mesh`` argument\nwhich specifies whether to fetch the low-resolution ``fsaverage5`` mesh, or\nthe high-resolution fsaverage mesh. Using ``mesh=\"fsaverage\"`` will result\nin more memory usage and computation time, but finer visualizations.\n\n"
      ]
    },
    {
      "cell_type": "code",
      "execution_count": null,
      "metadata": {
        "collapsed": false
      },
      "outputs": [],
      "source": [
        "big_fsaverage = datasets.fetch_surf_fsaverage('fsaverage')\nbig_texture = surface.vol_to_surf(stat_img, big_fsaverage.pial_right)\n\nplotting.plot_surf_stat_map(big_fsaverage.infl_right,\n                            big_texture, hemi='right', colorbar=True,\n                            title='Surface right hemisphere: fine mesh',\n                            threshold=1., bg_map=big_fsaverage.sulc_right)"
      ]
    },
    {
      "cell_type": "markdown",
      "metadata": {},
      "source": [
        "## Plot multiple views of the 3D volume on a surface\n\n:func:`~nilearn.plotting.plot_img_on_surf` takes a statistical map and\nprojects it onto a surface. It supports multiple choices of orientations,\nand can plot either one or both hemispheres. If no ``surf_mesh`` is given,\n:func:`~nilearn.plotting.plot_img_on_surf` projects the images onto\n[FreeSurfer](https://surfer.nmr.mgh.harvard.edu/)\\'s fsaverage5.\n\n"
      ]
    },
    {
      "cell_type": "code",
      "execution_count": null,
      "metadata": {
        "collapsed": false
      },
      "outputs": [],
      "source": [
        "plotting.plot_img_on_surf(stat_img,\n                          views=['lateral', 'medial'],\n                          hemispheres=['left', 'right'],\n                          colorbar=True)\nplotting.show()"
      ]
    },
    {
      "cell_type": "markdown",
      "metadata": {},
      "source": [
        "## 3D visualization in a web browser\n\nAn alternative to :func:`nilearn.plotting.plot_surf_stat_map` is to use\n:func:`nilearn.plotting.view_surf` or\n:func:`nilearn.plotting.view_img_on_surf` that give more interactive\nvisualizations in a web browser. See `interactive-surface-plotting` for\nmore details.\n\n"
      ]
    },
    {
      "cell_type": "code",
      "execution_count": null,
      "metadata": {
        "collapsed": false
      },
      "outputs": [],
      "source": [
        "view = plotting.view_surf(fsaverage.infl_right, texture, threshold='90%',\n                          bg_map=fsaverage.sulc_right)\n\n# In a Jupyter notebook, if ``view`` is the output of a cell, it will\n# be displayed below the cell\nview"
      ]
    },
    {
      "cell_type": "code",
      "execution_count": null,
      "metadata": {
        "collapsed": false
      },
      "outputs": [],
      "source": [
        "# uncomment this to open the plot in a web browser:\n# view.open_in_browser()"
      ]
    },
    {
      "cell_type": "markdown",
      "metadata": {},
      "source": [
        "We don't need to do the projection ourselves, we can use\n:func:`~nilearn.plotting.view_img_on_surf`:\n\n"
      ]
    },
    {
      "cell_type": "code",
      "execution_count": null,
      "metadata": {
        "collapsed": false
      },
      "outputs": [],
      "source": [
        "view = plotting.view_img_on_surf(stat_img, threshold='90%')\n# view.open_in_browser()\n\nview"
      ]
    },
    {
      "cell_type": "markdown",
      "metadata": {},
      "source": [
        "## Impact of plot parameters on visualization\n\nYou can specify arguments to be passed on to the function\n:func:`nilearn.surface.vol_to_surf` using `vol_to_surf_kwargs`. This allows\nfine-grained control of how the input 3D image is resampled and interpolated -\nfor example if you are viewing a volumetric atlas, you would want to avoid\naveraging the labels between neighboring regions. Using nearest-neighbor\ninterpolation with zero radius will achieve this.\n\n"
      ]
    },
    {
      "cell_type": "code",
      "execution_count": null,
      "metadata": {
        "collapsed": false
      },
      "outputs": [],
      "source": [
        "destrieux = datasets.fetch_atlas_destrieux_2009(legacy_format=False)\n\nview = plotting.view_img_on_surf(\n    destrieux.maps,\n    surf_mesh=\"fsaverage\",\n    vol_to_surf_kwargs={\"n_samples\": 1, \"radius\": 0.0, \"interpolation\": \"nearest\"},\n    symmetric_cmap=False,\n)\n\n# view.open_in_browser()\nview"
      ]
    }
  ],
  "metadata": {
    "kernelspec": {
      "display_name": "Python 3",
      "language": "python",
      "name": "python3"
    },
    "language_info": {
      "codemirror_mode": {
        "name": "ipython",
        "version": 3
      },
      "file_extension": ".py",
      "mimetype": "text/x-python",
      "name": "python",
      "nbconvert_exporter": "python",
      "pygments_lexer": "ipython3",
      "version": "3.10.4"
    }
  },
  "nbformat": 4,
  "nbformat_minor": 0
}