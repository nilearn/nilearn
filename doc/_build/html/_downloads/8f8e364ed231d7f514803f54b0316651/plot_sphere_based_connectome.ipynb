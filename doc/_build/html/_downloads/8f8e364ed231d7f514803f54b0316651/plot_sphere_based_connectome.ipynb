{
  "cells": [
    {
      "cell_type": "code",
      "execution_count": null,
      "metadata": {
        "collapsed": false
      },
      "outputs": [],
      "source": [
        "%matplotlib inline"
      ]
    },
    {
      "cell_type": "markdown",
      "metadata": {},
      "source": [
        "\n# Extract signals on spheres and plot a connectome\n\nThis example shows how to extract signals from spherical regions.\nWe show how to build spheres around user-defined coordinates, as well as\ncentered on coordinates from the Power-264 atlas [1],\nand the Dosenbach-160 atlas [2].\n\n.. include:: ../../../examples/masker_note.rst\n\n**References**\n\n[1] Power, Jonathan D., et al. \"Functional network organization of the\nhuman brain.\" Neuron 72.4 (2011): 665-678.\n\n[2] Dosenbach N.U., Nardos B., et al. \"Prediction of individual brain maturity\nusing fMRI.\", 2010, Science 329, 1358-1361.\n\nWe estimate connectomes using two different methods: **sparse inverse\ncovariance** and **partial_correlation**, to recover the functional brain\n**networks structure**.\n\nWe'll start by extracting signals from Default Mode Network regions and\ncomputing a connectome from them.\n"
      ]
    },
    {
      "cell_type": "markdown",
      "metadata": {},
      "source": [
        "## Retrieve the brain development fmri dataset\n\nWe are going to use a subject from the development functional\nconnectivity dataset.\n\n"
      ]
    },
    {
      "cell_type": "code",
      "execution_count": null,
      "metadata": {
        "collapsed": false
      },
      "outputs": [],
      "source": [
        "from nilearn import datasets\ndataset = datasets.fetch_development_fmri(n_subjects=10)\n\n# print basic information on the dataset\nprint('First subject functional nifti image (4D) is at: %s' %\n      dataset.func[0])  # 4D data"
      ]
    },
    {
      "cell_type": "markdown",
      "metadata": {},
      "source": [
        "## Coordinates of Default Mode Network\n\n"
      ]
    },
    {
      "cell_type": "code",
      "execution_count": null,
      "metadata": {
        "collapsed": false
      },
      "outputs": [],
      "source": [
        "dmn_coords = [(0, -52, 18), (-46, -68, 32), (46, -68, 32), (1, 50, -5)]\nlabels = [\n    'Posterior Cingulate Cortex',\n    'Left Temporoparietal junction',\n    'Right Temporoparietal junction',\n    'Medial prefrontal cortex',\n]"
      ]
    },
    {
      "cell_type": "markdown",
      "metadata": {},
      "source": [
        "## Extracts signal from sphere around DMN seeds\n\nWe can compute the mean signal within **spheres** of a fixed radius\naround a sequence of (x, y, z) coordinates with the object\n:class:`nilearn.maskers.NiftiSpheresMasker`.\nThe resulting signal is then prepared by the masker object: Detrended,\nband-pass filtered and **standardized to 1 variance**.\n\n"
      ]
    },
    {
      "cell_type": "code",
      "execution_count": null,
      "metadata": {
        "collapsed": false
      },
      "outputs": [],
      "source": [
        "from nilearn.maskers import NiftiSpheresMasker\n\nmasker = NiftiSpheresMasker(\n    dmn_coords,\n    radius=8,\n    detrend=True,\n    standardize=True,\n    low_pass=0.1,\n    high_pass=0.01,\n    t_r=2,\n    memory='nilearn_cache',\n    memory_level=1,\n    verbose=2,\n    clean__butterworth__padtype='even',  # kwarg to modify Butterworth filter\n)\n\n# Additionally, we pass confound information to ensure our extracted\n# signal is cleaned from confounds.\n\nfunc_filename = dataset.func[0]\nconfounds_filename = dataset.confounds[0]\n\ntime_series = masker.fit_transform(func_filename,\n                                   confounds=[confounds_filename])"
      ]
    },
    {
      "cell_type": "markdown",
      "metadata": {},
      "source": [
        "## Display time series\n\n"
      ]
    },
    {
      "cell_type": "code",
      "execution_count": null,
      "metadata": {
        "collapsed": false
      },
      "outputs": [],
      "source": [
        "import matplotlib.pyplot as plt\n\nfor time_serie, label in zip(time_series.T, labels):\n    plt.plot(time_serie, label=label)\n\nplt.title('Default Mode Network Time Series')\nplt.xlabel('Scan number')\nplt.ylabel('Normalized signal')\nplt.legend()\nplt.tight_layout()"
      ]
    },
    {
      "cell_type": "markdown",
      "metadata": {},
      "source": [
        "## Compute partial correlation matrix\nUsing object :class:`nilearn.connectome.ConnectivityMeasure`: Its\ndefault covariance estimator is Ledoit-Wolf, allowing to obtain accurate\npartial correlations.\n\n"
      ]
    },
    {
      "cell_type": "code",
      "execution_count": null,
      "metadata": {
        "collapsed": false
      },
      "outputs": [],
      "source": [
        "from nilearn.connectome import ConnectivityMeasure\nconnectivity_measure = ConnectivityMeasure(kind='partial correlation')\npartial_correlation_matrix = connectivity_measure.fit_transform(\n    [time_series])[0]"
      ]
    },
    {
      "cell_type": "markdown",
      "metadata": {},
      "source": [
        "## Display connectome\n\nWe display the graph of connections with\n`:func: nilearn.plotting.plot_connectome`.\n\n"
      ]
    },
    {
      "cell_type": "code",
      "execution_count": null,
      "metadata": {
        "collapsed": false
      },
      "outputs": [],
      "source": [
        "from nilearn import plotting\n\nplotting.plot_connectome(partial_correlation_matrix, dmn_coords,\n                         title=\"Default Mode Network Connectivity\")"
      ]
    },
    {
      "cell_type": "markdown",
      "metadata": {},
      "source": [
        "Display connectome with hemispheric projections.\nNotice (0, -52, 18) is included in both hemispheres since x == 0.\n\n"
      ]
    },
    {
      "cell_type": "code",
      "execution_count": null,
      "metadata": {
        "collapsed": false
      },
      "outputs": [],
      "source": [
        "plotting.plot_connectome(partial_correlation_matrix, dmn_coords,\n                         title=\"Connectivity projected on hemispheres\",\n                         display_mode='lyrz')\n\nplotting.show()"
      ]
    },
    {
      "cell_type": "markdown",
      "metadata": {},
      "source": [
        "## 3D visualization in a web browser\nAn alternative to :func:`nilearn.plotting.plot_connectome` is to use\n:func:`nilearn.plotting.view_connectome`, which gives more interactive\nvisualizations in a web browser. See `interactive-connectome-plotting`\nfor more details.\n\n"
      ]
    },
    {
      "cell_type": "code",
      "execution_count": null,
      "metadata": {
        "collapsed": false
      },
      "outputs": [],
      "source": [
        "view = plotting.view_connectome(partial_correlation_matrix, dmn_coords)\n\n# In a Jupyter notebook, if ``view`` is the output of a cell, it will\n# be displayed below the cell\nview"
      ]
    },
    {
      "cell_type": "code",
      "execution_count": null,
      "metadata": {
        "collapsed": false
      },
      "outputs": [],
      "source": [
        "# uncomment this to open the plot in a web browser:\n# view.open_in_browser()"
      ]
    },
    {
      "cell_type": "markdown",
      "metadata": {},
      "source": [
        "## Extract signals on spheres from an atlas\n\nNext, instead of supplying our own coordinates, we will use coordinates\ngenerated at the center of mass of regions from two different atlases.\nThis time, we'll use a different correlation measure.\n\nFirst we fetch the coordinates of the Power atlas\n\n"
      ]
    },
    {
      "cell_type": "code",
      "execution_count": null,
      "metadata": {
        "collapsed": false
      },
      "outputs": [],
      "source": [
        "power = datasets.fetch_coords_power_2011(legacy_format=False)\nprint('Power atlas comes with {0}.'.format(power.keys()))"
      ]
    },
    {
      "cell_type": "markdown",
      "metadata": {},
      "source": [
        "<div class=\"alert alert-info\"><h4>Note</h4><p>You can retrieve the coordinates for any atlas, including atlases\n    not included in nilearn, using\n    :func:`nilearn.plotting.find_parcellation_cut_coords`.</p></div>\n\n"
      ]
    },
    {
      "cell_type": "markdown",
      "metadata": {},
      "source": [
        "## Compute within spheres averaged time-series\n\nWe collect the regions coordinates in a numpy array\n\n"
      ]
    },
    {
      "cell_type": "code",
      "execution_count": null,
      "metadata": {
        "collapsed": false
      },
      "outputs": [],
      "source": [
        "import numpy as np\n\ncoords = np.vstack((power.rois['x'], power.rois['y'], power.rois['z'])).T\n\nprint('Stacked power coordinates in array of shape {0}.'.format(coords.shape))"
      ]
    },
    {
      "cell_type": "markdown",
      "metadata": {},
      "source": [
        "and define spheres masker, with small enough radius to avoid regions overlap.\n\n"
      ]
    },
    {
      "cell_type": "code",
      "execution_count": null,
      "metadata": {
        "collapsed": false
      },
      "outputs": [],
      "source": [
        "spheres_masker = NiftiSpheresMasker(\n    seeds=coords, smoothing_fwhm=6, radius=5.,\n    detrend=True, standardize=True, low_pass=0.1, high_pass=0.01, t_r=2)\n\ntimeseries = spheres_masker.fit_transform(func_filename,\n                                          confounds=confounds_filename)"
      ]
    },
    {
      "cell_type": "markdown",
      "metadata": {},
      "source": [
        "## Estimate correlations\n\nWe start by estimating the signal **covariance** matrix. Here the\nnumber of ROIs exceeds the number of samples,\n\n"
      ]
    },
    {
      "cell_type": "code",
      "execution_count": null,
      "metadata": {
        "collapsed": false
      },
      "outputs": [],
      "source": [
        "print('time series has {0} samples'.format(timeseries.shape[0]))"
      ]
    },
    {
      "cell_type": "markdown",
      "metadata": {},
      "source": [
        "in which situation the graphical lasso **sparse inverse covariance**\nestimator captures well the covariance **structure**.\n\n"
      ]
    },
    {
      "cell_type": "code",
      "execution_count": null,
      "metadata": {
        "collapsed": false
      },
      "outputs": [],
      "source": [
        "try:\n    from sklearn.covariance import GraphicalLassoCV\nexcept ImportError:\n    # for Scitkit-Learn < v0.20.0\n    from sklearn.covariance import GraphLassoCV as GraphicalLassoCV\n\ncovariance_estimator = GraphicalLassoCV(cv=3, verbose=1)"
      ]
    },
    {
      "cell_type": "markdown",
      "metadata": {},
      "source": [
        "We just fit our regions signals into the `GraphicalLassoCV` object\n\n"
      ]
    },
    {
      "cell_type": "code",
      "execution_count": null,
      "metadata": {
        "collapsed": false
      },
      "outputs": [],
      "source": [
        "covariance_estimator.fit(timeseries)"
      ]
    },
    {
      "cell_type": "markdown",
      "metadata": {},
      "source": [
        "and get the ROI-to-ROI covariance matrix.\n\n"
      ]
    },
    {
      "cell_type": "code",
      "execution_count": null,
      "metadata": {
        "collapsed": false
      },
      "outputs": [],
      "source": [
        "matrix = covariance_estimator.covariance_\nprint('Covariance matrix has shape {0}.'.format(matrix.shape))"
      ]
    },
    {
      "cell_type": "markdown",
      "metadata": {},
      "source": [
        "## Plot matrix, graph, and strength\n\nWe use `:func: nilearn.plotting.plot_matrix` to visualize our correlation matrix\nand display the graph of connections with `nilearn.plotting.plot_connectome`.\n\n"
      ]
    },
    {
      "cell_type": "code",
      "execution_count": null,
      "metadata": {
        "collapsed": false
      },
      "outputs": [],
      "source": [
        "from nilearn import plotting\n\nplotting.plot_matrix(matrix, vmin=-1., vmax=1., colorbar=True,\n                     title='Power correlation matrix')\n\n# Tweak edge_threshold to keep only the strongest connections.\nplotting.plot_connectome(matrix, coords, title='Power correlation graph',\n                         edge_threshold='99.8%', node_size=20, colorbar=True)"
      ]
    },
    {
      "cell_type": "markdown",
      "metadata": {},
      "source": [
        "<div class=\"alert alert-info\"><h4>Note</h4><p>Note the 1. on the matrix diagonal: These are the signals variances, set\n    to 1. by the `spheres_masker`. Hence the covariance of the signal is a\n    correlation matrix.</p></div>\n\n"
      ]
    },
    {
      "cell_type": "markdown",
      "metadata": {},
      "source": [
        "Sometimes, the information in the correlation matrix is overwhelming and\naggregating edge strength from the graph would help. Use the function\n`nilearn.plotting.plot_markers` to visualize this information.\n\n"
      ]
    },
    {
      "cell_type": "code",
      "execution_count": null,
      "metadata": {
        "collapsed": false
      },
      "outputs": [],
      "source": [
        "# calculate normalized, absolute strength for each node\nnode_strength = np.sum(np.abs(matrix), axis=0)\nnode_strength /= np.max(node_strength)\n\nplotting.plot_markers(\n    node_strength,\n    coords,\n    title='Node strength for absolute value of edges for Power atlas',\n)"
      ]
    },
    {
      "cell_type": "markdown",
      "metadata": {},
      "source": [
        "From the correlation matrix, we observe that there is a positive and negative\nstructure. We could make two different plots, one for the positive and one for\nthe negative structure.\n\n"
      ]
    },
    {
      "cell_type": "code",
      "execution_count": null,
      "metadata": {
        "collapsed": false
      },
      "outputs": [],
      "source": [
        "from matplotlib.pyplot import cm\n\n# clip connectivity matrix to preserve positive and negative edges\npositive_edges = np.clip(matrix, 0, matrix.max())\nnegative_edges = np.clip(matrix, matrix.min(), 0)\n\n# calculate strength for positive edges\nnode_strength_positive = np.sum(np.abs(positive_edges), axis=0)\nnode_strength_positive /= np.max(node_strength_positive)\n\n# calculate strength for negative edges\nnode_strength_negative = np.sum(np.abs(negative_edges), axis=0)\nnode_strength_negative /= np.max(node_strength_negative)\n\n# plot nodes' strength for positive edges\nplotting.plot_markers(\n    node_strength_positive,\n    coords,\n    title='Node strength for the positive edges for Power atlas',\n    node_cmap=cm.YlOrRd\n)\n\n# plot nodes' strength for negative edges\nplotting.plot_markers(\n    node_strength_negative,\n    coords,\n    title='Node strength for the negative edges for Power atlas',\n    node_cmap=cm.PuBu\n)"
      ]
    },
    {
      "cell_type": "markdown",
      "metadata": {},
      "source": [
        "## Connectome extracted from Dosenbach's atlas\n\nWe repeat the same steps for Dosenbach's atlas.\n\n"
      ]
    },
    {
      "cell_type": "code",
      "execution_count": null,
      "metadata": {
        "collapsed": false
      },
      "outputs": [],
      "source": [
        "dosenbach = datasets.fetch_coords_dosenbach_2010(legacy_format=False)\n\ncoords = np.vstack((\n    dosenbach.rois['x'],\n    dosenbach.rois['y'],\n    dosenbach.rois['z'],\n)).T\n\nspheres_masker = NiftiSpheresMasker(\n    seeds=coords, smoothing_fwhm=6, radius=4.5,\n    detrend=True, standardize=True, low_pass=0.1, high_pass=0.01, t_r=2)\n\ntimeseries = spheres_masker.fit_transform(func_filename,\n                                          confounds=confounds_filename)\n\ncovariance_estimator = GraphicalLassoCV()\ncovariance_estimator.fit(timeseries)\nmatrix = covariance_estimator.covariance_\n\nplotting.plot_matrix(matrix, vmin=-1., vmax=1., colorbar=True,\n                     title='Dosenbach correlation matrix')\n\nplotting.plot_connectome(matrix, coords, title='Dosenbach correlation graph',\n                         edge_threshold=\"99.7%\", node_size=20, colorbar=True)\n\n\n# calculate average strength for each node\nnode_strength = np.sum(np.abs(matrix), axis=0)\nnode_strength /= np.max(node_strength)\n\nplotting.plot_markers(\n    node_strength,\n    coords,\n    title='Node strength for absolute value of edges for Dosenbach atlas',\n)\n\n# clip connectivity matrix to preserve positive and negative edges\npositive_edges = np.clip(matrix, 0, matrix.max())\nnegative_edges = np.clip(matrix, matrix.min(), 0)\n\n# calculate strength for positive and edges\nnode_strength_positive = np.sum(np.abs(positive_edges), axis=0)\nnode_strength_positive /= np.max(node_strength_positive)\nnode_strength_negative = np.sum(np.abs(negative_edges), axis=0)\nnode_strength_negative /= np.max(node_strength_negative)\n\n# plot nodes' strength for positive edges\nplotting.plot_markers(\n    node_strength_positive,\n    coords,\n    title='Node strength for the positive edges for Dosenbach atlas',\n    node_cmap=cm.YlOrRd\n)\n\n# plot nodes' strength for negative edges\nplotting.plot_markers(\n    node_strength_negative,\n    coords,\n    title='Node strength for the negative edges for Dosenbach atlas',\n    node_cmap=cm.PuBu\n)"
      ]
    },
    {
      "cell_type": "markdown",
      "metadata": {},
      "source": [
        "We can easily identify the Dosenbach's networks from the matrix blocks.\n\n"
      ]
    },
    {
      "cell_type": "code",
      "execution_count": null,
      "metadata": {
        "collapsed": false
      },
      "outputs": [],
      "source": [
        "print('Dosenbach networks names are {0}'.format(np.unique(dosenbach.networks)))\n\nplotting.show()"
      ]
    },
    {
      "cell_type": "markdown",
      "metadata": {},
      "source": [
        "## References\n\n.. footbibliography::\n\n## See also\n\n   * `sphx_glr_auto_examples_03_connectivity_plot_atlas_comparison.py`\n\n   * `sphx_glr_auto_examples_03_connectivity_plot_multi_subject_connectome.py`\n\n"
      ]
    }
  ],
  "metadata": {
    "kernelspec": {
      "display_name": "Python 3",
      "language": "python",
      "name": "python3"
    },
    "language_info": {
      "codemirror_mode": {
        "name": "ipython",
        "version": 3
      },
      "file_extension": ".py",
      "mimetype": "text/x-python",
      "name": "python",
      "nbconvert_exporter": "python",
      "pygments_lexer": "ipython3",
      "version": "3.10.4"
    }
  },
  "nbformat": 4,
  "nbformat_minor": 0
}