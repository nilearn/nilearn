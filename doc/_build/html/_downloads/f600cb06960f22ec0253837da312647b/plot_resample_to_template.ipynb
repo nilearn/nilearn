{
  "cells": [
    {
      "cell_type": "code",
      "execution_count": null,
      "metadata": {
        "collapsed": false
      },
      "outputs": [],
      "source": [
        "%matplotlib inline"
      ]
    },
    {
      "cell_type": "markdown",
      "metadata": {},
      "source": [
        "\n# Resample an image to a template\n\nThe goal of this example is to illustrate the use of the function\n:func:`nilearn.image.resample_to_img` to resample an image to a template.\nWe use the MNI152 template as the reference for resampling a t-map image.\nFunction :func:`nilearn.image.resample_img` could also be used to achieve this.\n"
      ]
    },
    {
      "cell_type": "markdown",
      "metadata": {},
      "source": [
        "First we load the required datasets using the nilearn datasets module.\n\n"
      ]
    },
    {
      "cell_type": "code",
      "execution_count": null,
      "metadata": {
        "collapsed": false
      },
      "outputs": [],
      "source": [
        "from nilearn.datasets import fetch_neurovault_motor_task\nfrom nilearn.datasets import load_mni152_template\n\ntemplate = load_mni152_template(resolution=2)\n\nmotor_images = fetch_neurovault_motor_task()\nstat_img = motor_images.images[0]"
      ]
    },
    {
      "cell_type": "markdown",
      "metadata": {},
      "source": [
        "Now, the localizer t-map image can be resampled to the MNI template image.\n\n"
      ]
    },
    {
      "cell_type": "code",
      "execution_count": null,
      "metadata": {
        "collapsed": false
      },
      "outputs": [],
      "source": [
        "from nilearn.image import resample_to_img\n\nresampled_stat_img = resample_to_img(stat_img, template)"
      ]
    },
    {
      "cell_type": "markdown",
      "metadata": {},
      "source": [
        "Let's check the shape and affine have been correctly updated.\n\n"
      ]
    },
    {
      "cell_type": "code",
      "execution_count": null,
      "metadata": {
        "collapsed": false
      },
      "outputs": [],
      "source": [
        "# First load the original t-map in memory:\nfrom nilearn.image import load_img\ntmap_img = load_img(stat_img)\n\noriginal_shape = tmap_img.shape\noriginal_affine = tmap_img.affine\n\nresampled_shape = resampled_stat_img.shape\nresampled_affine = resampled_stat_img.affine\n\ntemplate_img = load_img(template)\ntemplate_shape = template_img.shape\ntemplate_affine = template_img.affine\nprint(\"\"\"Shape comparison:\n- Original t-map image shape : {0}\n- Resampled t-map image shape: {1}\n- Template image shape       : {2}\n\"\"\".format(original_shape, resampled_shape, template_shape))\n\nprint(\"\"\"Affine comparison:\n- Original t-map image affine :\\n {0}\n- Resampled t-map image affine:\\n {1}\n- Template image affine       :\\n {2}\n\"\"\".format(original_affine, resampled_affine, template_affine))"
      ]
    },
    {
      "cell_type": "markdown",
      "metadata": {},
      "source": [
        "Finally, result images are displayed using nilearn plotting module.\n\n"
      ]
    },
    {
      "cell_type": "code",
      "execution_count": null,
      "metadata": {
        "collapsed": false
      },
      "outputs": [],
      "source": [
        "from nilearn import plotting\n\nplotting.plot_stat_map(stat_img,\n                       bg_img=template,\n                       cut_coords=(36, -27, 66),\n                       threshold=3,\n                       title=\"t-map in original resolution\")\nplotting.plot_stat_map(resampled_stat_img,\n                       bg_img=template,\n                       cut_coords=(36, -27, 66),\n                       threshold=3,\n                       title=\"Resampled t-map\")\nplotting.show()"
      ]
    }
  ],
  "metadata": {
    "kernelspec": {
      "display_name": "Python 3",
      "language": "python",
      "name": "python3"
    },
    "language_info": {
      "codemirror_mode": {
        "name": "ipython",
        "version": 3
      },
      "file_extension": ".py",
      "mimetype": "text/x-python",
      "name": "python",
      "nbconvert_exporter": "python",
      "pygments_lexer": "ipython3",
      "version": "3.10.4"
    }
  },
  "nbformat": 4,
  "nbformat_minor": 0
}