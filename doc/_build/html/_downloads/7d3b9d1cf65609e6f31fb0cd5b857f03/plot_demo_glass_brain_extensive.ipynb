{
  "cells": [
    {
      "cell_type": "code",
      "execution_count": null,
      "metadata": {
        "collapsed": false
      },
      "outputs": [],
      "source": [
        "%matplotlib inline"
      ]
    },
    {
      "cell_type": "markdown",
      "metadata": {},
      "source": [
        "\n# Glass brain plotting in nilearn (all options)\n\nThe first part of this example goes through different options of the\n:func:`~nilearn.plotting.plot_glass_brain` function (including plotting\nnegative values).\n\nThe second part goes through same options but selected of the same glass brain\nfunction but plotting is seen with contours.\n\nSee `plotting` for more plotting functionalities and\n`Section 4.3 <display_modules>` for more details about display objects\nin Nilearn.\n\nAlso, see :func:`nilearn.datasets.fetch_neurovault_motor_task` for details\nabout the plotting data and associated meta-data.\n"
      ]
    },
    {
      "cell_type": "markdown",
      "metadata": {},
      "source": [
        "## Retrieve the data\n\nNilearn comes with set of functions that download public data from Internet\n\nLet us first see where the data will be downloaded and stored on our disk:\n\n\n"
      ]
    },
    {
      "cell_type": "code",
      "execution_count": null,
      "metadata": {
        "collapsed": false
      },
      "outputs": [],
      "source": [
        "from nilearn import datasets\nprint('Datasets shipped with nilearn are stored in: %r' % datasets.get_data_dirs())"
      ]
    },
    {
      "cell_type": "markdown",
      "metadata": {},
      "source": [
        "Let us now retrieve a motor task contrast map\n\u00a0corresponding to a group one-sample t-test\n\n"
      ]
    },
    {
      "cell_type": "code",
      "execution_count": null,
      "metadata": {
        "collapsed": false
      },
      "outputs": [],
      "source": [
        "motor_images = datasets.fetch_neurovault_motor_task()\nstat_img = motor_images.images[0]\n# stat_img is just the name of the file that we downloaded\nstat_img"
      ]
    },
    {
      "cell_type": "markdown",
      "metadata": {},
      "source": [
        "## Demo glass brain plotting\n\nBy default, :func:`~nilearn.plotting.plot_glass_brain` uses a display mode\ncalled 'ortho' which results in three projections. It is equivalent to\nspecify ``display_mode='ortho'`` in\n:func:`~nilearn.plotting.plot_glass_brain`. Note that depending on the\nvalue of ``display_mode``, different display objects are returned. Here,\na :class:`~nilearn.plotting.displays.OrthoProjector` is returned.\n\n"
      ]
    },
    {
      "cell_type": "code",
      "execution_count": null,
      "metadata": {
        "collapsed": false
      },
      "outputs": [],
      "source": [
        "from nilearn import plotting\nfrom nilearn.plotting import plot_glass_brain\n\n# Whole brain sagittal cuts and map is thresholded at 3\nplot_glass_brain(stat_img, threshold=3)"
      ]
    },
    {
      "cell_type": "markdown",
      "metadata": {},
      "source": [
        "The same figure, with a colorbar, can be produced by\nsetting ``colorbar=True``.\n\n"
      ]
    },
    {
      "cell_type": "code",
      "execution_count": null,
      "metadata": {
        "collapsed": false
      },
      "outputs": [],
      "source": [
        "plot_glass_brain(stat_img, threshold=3, colorbar=True)"
      ]
    },
    {
      "cell_type": "markdown",
      "metadata": {},
      "source": [
        "Here, we show how to set a black background, and we only view sagittal and\naxial projections by setting ``display_mode='xz'``, which returns a\n:class:`~nilearn.plotting.displays.XZProjector`.\n\n"
      ]
    },
    {
      "cell_type": "code",
      "execution_count": null,
      "metadata": {
        "collapsed": false
      },
      "outputs": [],
      "source": [
        "plot_glass_brain(\n    stat_img, title='plot_glass_brain', black_bg=True,\n    display_mode='xz', threshold=3\n)"
      ]
    },
    {
      "cell_type": "markdown",
      "metadata": {},
      "source": [
        "We can also plot the sign of the activation by setting ``plot_abs=False``.\nAdditionally, we only visualize coronal and axial projections by setting\n``display_mode='yz'`` which returns a\n:class:`~nilearn.plotting.displays.YZProjector`.\n\n"
      ]
    },
    {
      "cell_type": "code",
      "execution_count": null,
      "metadata": {
        "collapsed": false
      },
      "outputs": [],
      "source": [
        "plot_glass_brain(\n    stat_img, threshold=0, colorbar=True, plot_abs=False, display_mode='yz'\n)"
      ]
    },
    {
      "cell_type": "markdown",
      "metadata": {},
      "source": [
        "Setting ``plot_abs=True`` and ``display_mode='yx'`` (returns a\n:class:`~nilearn.plotting.displays.YXProjector`).\n\n"
      ]
    },
    {
      "cell_type": "code",
      "execution_count": null,
      "metadata": {
        "collapsed": false
      },
      "outputs": [],
      "source": [
        "plot_glass_brain(\n    stat_img, threshold=3, colorbar=True, plot_abs=False, display_mode='yx'\n)"
      ]
    },
    {
      "cell_type": "markdown",
      "metadata": {},
      "source": [
        "## Different projections for the left and right hemispheres\n\nIn the previous section we saw a few projection modes, which are controlled\nby setting the argument ``display_mode`` of\n:func:`~nilearn.plotting.plot_glass_brain`. In this section, we will show\nsome additional possibilities. For example, setting ``display_mode='lzr'``\nenables an hemispheric sagittal view. The display object returned is then a\n:class:`~nilearn.plotting.displays.LZRProjector`.\n\n"
      ]
    },
    {
      "cell_type": "code",
      "execution_count": null,
      "metadata": {
        "collapsed": false
      },
      "outputs": [],
      "source": [
        "plot_glass_brain(\n    stat_img, title='plot_glass_brain with display_mode=\"lzr\"',\n    black_bg=True, display_mode='lzr', threshold=3\n)"
      ]
    },
    {
      "cell_type": "markdown",
      "metadata": {},
      "source": [
        "``display_mode='lyrz'`` returns a\n:class:`~nilearn.plotting.displays.LYRZProjector` object.\n\n"
      ]
    },
    {
      "cell_type": "code",
      "execution_count": null,
      "metadata": {
        "collapsed": false
      },
      "outputs": [],
      "source": [
        "plot_glass_brain(\n    stat_img, threshold=0, colorbar=True,\n    title='plot_glass_brain with display_mode=\"lyrz\"',\n    plot_abs=False, display_mode='lyrz'\n)"
      ]
    },
    {
      "cell_type": "markdown",
      "metadata": {},
      "source": [
        "If you are only interested in single projections, you can set\n``display_mode`` to 'x' (returns a\n:class:`~nilearn.plotting.displays.XProjector`), 'y' (returns a\n:class:`~nilearn.plotting.displays.YProjector`), 'z' (returns a\n:class:`~nilearn.plotting.displays.ZProjector`), 'l' (returns a\n:class:`~nilearn.plotting.displays.LProjector`), or 'r' (returns a\n:class:`~nilearn.plotting.displays.RProjector`).\n\n"
      ]
    },
    {
      "cell_type": "code",
      "execution_count": null,
      "metadata": {
        "collapsed": false
      },
      "outputs": [],
      "source": [
        "plot_glass_brain(\n    stat_img, threshold=0, colorbar=True, title='display_mode=\"x\"',\n    plot_abs=False, display_mode='x'\n)"
      ]
    },
    {
      "cell_type": "markdown",
      "metadata": {},
      "source": [
        "## Demo glass brain plotting with contours and with fillings\n\nThe display objects returned by :func:`~nilearn.plotting.plot_glass_brain`\nall inherit from the :class:`~nilearn.plotting.displays.OrthoProjector`\nand enable further customisation of the figures.\n\nIn this example, we focus on using methods\n:meth:`~nilearn.plotting.displays.OrthoProjector.add_contours` and\n:meth:`~nilearn.plotting.displays.OrthoProjector.title`. First, we\nsave the display object (here a\n:class:`~nilearn.plotting.displays.LZRYProjector`) into a variable named\n``display``. Note that we set the first argument to ``None`` since we\nwant an empty glass brain to plot the statistical maps with\n:meth:`~nilearn.plotting.displays.OrthoProjector.add_contours`.\n\n"
      ]
    },
    {
      "cell_type": "code",
      "execution_count": null,
      "metadata": {
        "collapsed": false
      },
      "outputs": [],
      "source": [
        "display = plot_glass_brain(None, display_mode='lzry')\n# Here, we project statistical maps\ndisplay.add_contours(stat_img)\n# and add a title\ndisplay.title('\"stat_img\" on glass brain without threshold')"
      ]
    },
    {
      "cell_type": "markdown",
      "metadata": {},
      "source": [
        "We can fill the contours by setting ``filled=True``. Note that we are not\nspecifying levels here\n\n"
      ]
    },
    {
      "cell_type": "code",
      "execution_count": null,
      "metadata": {
        "collapsed": false
      },
      "outputs": [],
      "source": [
        "display = plot_glass_brain(None, display_mode='lzry')\n# Here, we project statistical maps with filled=True\ndisplay.add_contours(stat_img, filled=True)\n# and add a title\ndisplay.title('Same map but with fillings in the contours')"
      ]
    },
    {
      "cell_type": "markdown",
      "metadata": {},
      "source": [
        "Here, we input a specific level (cut-off) in the statistical map.\nIn other words, we are thresholding our statistical map.\n\nWe set the threshold using a parameter of method\n:meth:`~nilearn.plotting.displays.OrthoProjector.add_contours` called\n``levels`` which value is given as a list and we choose the color to be red.\n\n"
      ]
    },
    {
      "cell_type": "code",
      "execution_count": null,
      "metadata": {
        "collapsed": false
      },
      "outputs": [],
      "source": [
        "display = plot_glass_brain(None, display_mode='lzry')\ndisplay.add_contours(stat_img, levels=[3.], colors='r')\ndisplay.title('\"stat_img\" on glass brain with threshold')"
      ]
    },
    {
      "cell_type": "markdown",
      "metadata": {},
      "source": [
        "Plotting with same demonstration but fill the contours (by setting\n``filled=True``).\n\n"
      ]
    },
    {
      "cell_type": "code",
      "execution_count": null,
      "metadata": {
        "collapsed": false
      },
      "outputs": [],
      "source": [
        "display = plot_glass_brain(None, display_mode='lzry')\ndisplay.add_contours(stat_img, filled=True, levels=[3.], colors='r')\ndisplay.title('Same demonstration but using fillings inside contours')"
      ]
    },
    {
      "cell_type": "markdown",
      "metadata": {},
      "source": [
        "Plotting with black background, ``black_bg`` should be set to ``True``\nthrough :func:`~nilearn.plotting.plot_glass_brain`.\n\n"
      ]
    },
    {
      "cell_type": "code",
      "execution_count": null,
      "metadata": {
        "collapsed": false
      },
      "outputs": [],
      "source": [
        "# We can set black background using black_bg=True\ndisplay = plot_glass_brain(None, black_bg=True)\ndisplay.add_contours(stat_img, levels=[3.], colors='g')\ndisplay.title('\"stat_img\" on glass brain with black background')"
      ]
    },
    {
      "cell_type": "markdown",
      "metadata": {},
      "source": [
        "Black background plotting with filled in contours.\n\n"
      ]
    },
    {
      "cell_type": "code",
      "execution_count": null,
      "metadata": {
        "collapsed": false
      },
      "outputs": [],
      "source": [
        "display = plot_glass_brain(None, black_bg=True)\ndisplay.add_contours(stat_img, filled=True, levels=[3.], colors='g')\ndisplay.title('Glass brain with black background and filled in contours')"
      ]
    },
    {
      "cell_type": "markdown",
      "metadata": {},
      "source": [
        "## Display contour projections in both hemispheres\n\nThe key argument to vary here is ``display_mode`` for hemispheric plotting.\nHere, we set ``display_mode='lr'`` for both hemispheric plots. Note that a\n:class:`~nilearn.plotting.displays.LRProjector` is returned.\n\n"
      ]
    },
    {
      "cell_type": "code",
      "execution_count": null,
      "metadata": {
        "collapsed": false
      },
      "outputs": [],
      "source": [
        "display = plot_glass_brain(None, display_mode='lr')\ndisplay.add_contours(stat_img, levels=[3.], colors='r')\ndisplay.title('\"stat_img\" on glass brain only \"l\" \"r\" hemispheres')"
      ]
    },
    {
      "cell_type": "markdown",
      "metadata": {},
      "source": [
        "Filled contours in both hemispheric plotting, by adding ``filled=True``.\n\n"
      ]
    },
    {
      "cell_type": "code",
      "execution_count": null,
      "metadata": {
        "collapsed": false
      },
      "outputs": [],
      "source": [
        "display = plot_glass_brain(None, display_mode='lr')\ndisplay.add_contours(stat_img, filled=True, levels=[3.], colors='r')\ndisplay.title('Filled contours on glass brain only \"l\" \"r\" hemispheres')"
      ]
    },
    {
      "cell_type": "markdown",
      "metadata": {},
      "source": [
        "With positive and negative signs of activations with ``plot_abs`` in\n:func:`~nilearn.plotting.plot_glass_brain`.\n\nBy default parameter ``plot_abs`` is ``True`` and sign of activations\ncan be displayed by changing ``plot_abs`` to ``False``. Note that we also\nspecify ``display_mode='lyr'`` which returns a\n:class:`~nilearn.plotting.displays.LYRProjector` display object.\n\n"
      ]
    },
    {
      "cell_type": "code",
      "execution_count": null,
      "metadata": {
        "collapsed": false
      },
      "outputs": [],
      "source": [
        "display = plot_glass_brain(None, plot_abs=False, display_mode='lyr')\ndisplay.add_contours(stat_img)\ndisplay.title(\"Contours with both sign of activations without threshold\")"
      ]
    },
    {
      "cell_type": "markdown",
      "metadata": {},
      "source": [
        "Now, adding ``filled=True`` to get positive and negative sign activations\nwith fillings in the contours.\n\n"
      ]
    },
    {
      "cell_type": "code",
      "execution_count": null,
      "metadata": {
        "collapsed": false
      },
      "outputs": [],
      "source": [
        "display = plot_glass_brain(None, plot_abs=False, display_mode='lyr')\ndisplay.add_contours(stat_img, filled=True)\ndisplay.title(\n    \"Filled contours with both sign of activations without threshold\"\n)"
      ]
    },
    {
      "cell_type": "markdown",
      "metadata": {},
      "source": [
        "Displaying both signs (positive and negative) of activations with threshold\nmeaning thresholding by adding an argument ``levels`` in method\n:meth:`~nilearn.plotting.displays.OrthoProjector.add_contours`.\n\nWe give two values through the argument ``levels`` which corresponds to the\nthresholds of the contour we want to draw: One is positive and the other one\nis negative. We give a list of ``colors`` as argument to associate a\ndifferent color to each contour. Additionally, we also choose to plot\ncontours with thick line widths. For ``linewidths``, one value would be\nenough so that same value is used for both contours.\n\n"
      ]
    },
    {
      "cell_type": "code",
      "execution_count": null,
      "metadata": {
        "collapsed": false
      },
      "outputs": [],
      "source": [
        "import numpy as np\ndisplay = plot_glass_brain(None, plot_abs=False, display_mode='lzry')\ndisplay.add_contours(\n    stat_img, levels=[-2.8, 3.], colors=['b', 'r'], linewidths=4.\n)\ndisplay.title('Contours with sign of activations with threshold')"
      ]
    },
    {
      "cell_type": "markdown",
      "metadata": {},
      "source": [
        "Same display demonstration as above but adding ``filled=True`` to get\nfillings inside the contours.\n\nUnlike in previous plot, here we specify each sign at a time. We call\nnegative values display first followed by positive values display.\n\nFirst, we fetch our display object with same parameters used as above.\nThen, we plot negative sign of activation with levels given as negative\nactivation value in a list. Upper bound should be kept to -infinity.\nNext, using the same display object, we plot positive sign of activation.\n\n"
      ]
    },
    {
      "cell_type": "code",
      "execution_count": null,
      "metadata": {
        "collapsed": false
      },
      "outputs": [],
      "source": [
        "display = plot_glass_brain(None, plot_abs=False, display_mode='lzry')\ndisplay.add_contours(\n    stat_img, filled=True, levels=[-np.inf, -2.8], colors='b'\n)\ndisplay.add_contours(\n    stat_img, filled=True, levels=[3.], colors='r'\n)\ndisplay.title('Now same plotting but with filled contours')\n# Finally, displaying them\nplotting.show()"
      ]
    }
  ],
  "metadata": {
    "kernelspec": {
      "display_name": "Python 3",
      "language": "python",
      "name": "python3"
    },
    "language_info": {
      "codemirror_mode": {
        "name": "ipython",
        "version": 3
      },
      "file_extension": ".py",
      "mimetype": "text/x-python",
      "name": "python",
      "nbconvert_exporter": "python",
      "pygments_lexer": "ipython3",
      "version": "3.10.4"
    }
  },
  "nbformat": 4,
  "nbformat_minor": 0
}