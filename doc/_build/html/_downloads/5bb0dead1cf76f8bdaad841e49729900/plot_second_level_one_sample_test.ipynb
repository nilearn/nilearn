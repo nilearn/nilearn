{
  "cells": [
    {
      "cell_type": "code",
      "execution_count": null,
      "metadata": {
        "collapsed": false
      },
      "outputs": [],
      "source": [
        "%matplotlib inline"
      ]
    },
    {
      "cell_type": "markdown",
      "metadata": {},
      "source": [
        "\n# Second-level fMRI model: one sample test\n\nFull step-by-step example of fitting a :term:`GLM` to perform a second-level\nanalysis (one-sample test) and visualizing the results.\n\nMore specifically:\n\n1. A sequence of subject :term:`fMRI` button press contrasts is downloaded.\n2. A mask of the useful brain volume is computed.\n3. A one-sample t-test is applied to the brain maps.\n\nWe focus on a given contrast of the localizer dataset: the motor response to\nleft versus right button press. Both at the individual and group level, this is\nexpected to elicit activity in the motor cortex (positive in the right\nhemisphere, negative in the left hemisphere).\n"
      ]
    },
    {
      "cell_type": "markdown",
      "metadata": {},
      "source": [
        "## Fetch dataset\nWe download a list of left vs right button press :term:`contrasts<contrast>`\nfrom a localizer dataset. Note that we fetch individual t-maps that represent\nthe :term:`BOLD` activity estimate divided by the uncertainty about\nthis estimate.\n\n"
      ]
    },
    {
      "cell_type": "code",
      "execution_count": null,
      "metadata": {
        "collapsed": false
      },
      "outputs": [],
      "source": [
        "from nilearn.datasets import fetch_localizer_contrasts\n\nn_subjects = 16\ndata = fetch_localizer_contrasts(\n    ['left vs right button press'],\n    n_subjects,\n    get_tmaps=True,\n    legacy_format=False,\n)"
      ]
    },
    {
      "cell_type": "markdown",
      "metadata": {},
      "source": [
        "## Display subject t_maps\nWe plot a grid with all the subjects t-maps thresholded at t = 2 for simple\nvisualization purposes. The button press effect is visible among all\nsubjects.\n\n"
      ]
    },
    {
      "cell_type": "code",
      "execution_count": null,
      "metadata": {
        "collapsed": false
      },
      "outputs": [],
      "source": [
        "from nilearn import plotting\nimport matplotlib.pyplot as plt\n\nsubjects = data['ext_vars']['participant_id'].tolist()\nfig, axes = plt.subplots(nrows=4, ncols=4)\nfor cidx, tmap in enumerate(data['tmaps']):\n    plotting.plot_glass_brain(\n        tmap,\n        colorbar=False,\n        threshold=2.0,\n        title=subjects[cidx],\n        axes=axes[int(cidx / 4), int(cidx % 4)],\n        plot_abs=False,\n        display_mode='z',\n    )\nfig.suptitle('subjects t_map left-right button press')\nplt.show()"
      ]
    },
    {
      "cell_type": "markdown",
      "metadata": {},
      "source": [
        "## Estimate second level model\nWe wish to perform a one-sample test.\nIn order to do so, we need to create a design matrix that determines how\nthe analysis will be performed.\nFor a one-sample test, all we need to include in the design matrix is a\nsingle column of ones, corresponding to the model intercept.\n\n"
      ]
    },
    {
      "cell_type": "code",
      "execution_count": null,
      "metadata": {
        "collapsed": false
      },
      "outputs": [],
      "source": [
        "import pandas as pd\n\nsecond_level_input = data['cmaps']\ndesign_matrix = pd.DataFrame(\n    [1] * len(second_level_input),\n    columns=['intercept'],\n)"
      ]
    },
    {
      "cell_type": "markdown",
      "metadata": {},
      "source": [
        "Next, we specify the model and fit it.\n\n"
      ]
    },
    {
      "cell_type": "code",
      "execution_count": null,
      "metadata": {
        "collapsed": false
      },
      "outputs": [],
      "source": [
        "from nilearn.glm.second_level import SecondLevelModel\n\nsecond_level_model = SecondLevelModel(smoothing_fwhm=8.0)\nsecond_level_model = second_level_model.fit(\n    second_level_input,\n    design_matrix=design_matrix,\n)"
      ]
    },
    {
      "cell_type": "markdown",
      "metadata": {},
      "source": [
        "To estimate the :term:`contrast` is very simple. We can just provide the\ncolumn name of the design matrix.\n\n"
      ]
    },
    {
      "cell_type": "code",
      "execution_count": null,
      "metadata": {
        "collapsed": false
      },
      "outputs": [],
      "source": [
        "z_map = second_level_model.compute_contrast(\n    second_level_contrast='intercept',\n    output_type='z_score',\n)"
      ]
    },
    {
      "cell_type": "markdown",
      "metadata": {},
      "source": [
        "We threshold the second level contrast at uncorrected p < 0.001 and plot it.\n\n"
      ]
    },
    {
      "cell_type": "code",
      "execution_count": null,
      "metadata": {
        "collapsed": false
      },
      "outputs": [],
      "source": [
        "from scipy.stats import norm\n\np_val = 0.001\np001_unc = norm.isf(p_val)\ndisplay = plotting.plot_glass_brain(\n    z_map,\n    threshold=p001_unc,\n    colorbar=True,\n    display_mode='z',\n    plot_abs=False,\n    title='group left-right button press (unc p<0.001)',\n)\nplotting.show()"
      ]
    },
    {
      "cell_type": "markdown",
      "metadata": {},
      "source": [
        "As expected, we find the motor cortex.\n\n"
      ]
    },
    {
      "cell_type": "markdown",
      "metadata": {},
      "source": [
        "Next, we compute the (corrected) p-values with a parametric test to compare\nthem with the results from a nonparametric test.\n\n"
      ]
    },
    {
      "cell_type": "code",
      "execution_count": null,
      "metadata": {
        "collapsed": false
      },
      "outputs": [],
      "source": [
        "import numpy as np\nfrom nilearn.image import get_data, math_img\n\np_val = second_level_model.compute_contrast(output_type='p_value')\nn_voxels = np.sum(get_data(second_level_model.masker_.mask_img_))\n# Correcting the p-values for multiple testing and taking negative logarithm\nneg_log_pval = math_img(\n    '-np.log10(np.minimum(1, img * {}))'.format(str(n_voxels)),\n    img=p_val,\n)"
      ]
    },
    {
      "cell_type": "markdown",
      "metadata": {},
      "source": [
        "Now, we compute the (corrected) p-values with a permutation test.\n\nWe will use :func:`~nilearn.glm.second_level.non_parametric_inference` for\nthis step, although :func:`~nilearn.mass_univariate.permuted_ols` could be\nused as well (pending additional steps to mask and reformat the inputs).\n\n.. important::\n  One key difference between\n  :obj:`~nilearn.glm.second_level.SecondLevelModel` and\n  :func:`~nilearn.glm.second_level.non_parametric_inference`/\n  :func:`~nilearn.mass_univariate.permuted_ols`\n  is that the one-sample test in non_parametric_inference/permuted_ols\n  assumes that the distribution is symmetric about 0,\n  which is is weaker than the SecondLevelModel's assumption that\n  the null distribution is Gaussian and centered about 0.\n\n.. important::\n  In this example, ``threshold`` is set to 0.001, which enables\n  cluster-level inference.\n  Performing cluster-level inference will increase the computation time of\n  the permutation procedure.\n  Increasing the number of parallel jobs (``n_jobs``) can reduce the time\n  cost.\n\n.. hint::\n  If you wish to only run voxel-level correction, set ``threshold`` to None\n  (the default).\n\n"
      ]
    },
    {
      "cell_type": "code",
      "execution_count": null,
      "metadata": {
        "collapsed": false
      },
      "outputs": [],
      "source": [
        "from nilearn.glm.second_level import non_parametric_inference\n\nout_dict = non_parametric_inference(\n    second_level_input,\n    design_matrix=design_matrix,\n    model_intercept=True,\n    n_perm=500,  # 500 for the sake of time. Ideally, this should be 10,000.\n    two_sided_test=False,\n    smoothing_fwhm=8.0,\n    n_jobs=1,\n    threshold=0.001,\n)"
      ]
    },
    {
      "cell_type": "markdown",
      "metadata": {},
      "source": [
        "Let us plot the (corrected) negative log p-values for the both tests.\n\nWe will use a negative log10 p threshold of 1, which corresponds to p<0.1.\nThis threshold indicates that there is less than 10% probability to make a\nsingle false discovery (90% chance that we make no false discovery at all).\nThis threshold is much more conservative than an uncorrected threshold, but\nis still more liberal than a typical corrected threshold for this kind of\nanalysis, which tends to be ~0.05.\n\nWe will also cap the negative log10 p-values at 2.69, because this is the\nmaximum observable value for the nonparametric tests, which were run with\nonly 500 permutations.\n\n"
      ]
    },
    {
      "cell_type": "code",
      "execution_count": null,
      "metadata": {
        "collapsed": false
      },
      "outputs": [],
      "source": [
        "threshold = 1  # p < 0.1\nvmax = 2.69  # ~= -np.log10(1 / 500)\n\ncut_coords = [0]\n\nIMAGES = [\n    neg_log_pval,\n    out_dict['logp_max_t'],\n    out_dict['logp_max_size'],\n    out_dict['logp_max_mass'],\n]\nTITLES = [\n    'Parametric Test',\n    'Permutation Test\\n(Voxel-Level Error Control)',\n    'Permutation Test\\n(Cluster-Size Error Control)',\n    'Permutation Test\\n(Cluster-Mass Error Control)',\n]\n\nfig, axes = plt.subplots(figsize=(8, 8), nrows=2, ncols=2)\nimg_counter = 0\nfor i_row in range(2):\n    for j_col in range(2):\n        ax = axes[i_row, j_col]\n        plotting.plot_glass_brain(\n            IMAGES[img_counter],\n            colorbar=True,\n            vmax=vmax,\n            display_mode='z',\n            plot_abs=False,\n            cut_coords=cut_coords,\n            threshold=threshold,\n            figure=fig,\n            axes=ax,\n        )\n        ax.set_title(TITLES[img_counter])\n        img_counter += 1\n\nfig.suptitle('Group left-right button press\\n(negative log10 p-values)')\nplt.show()"
      ]
    },
    {
      "cell_type": "markdown",
      "metadata": {},
      "source": [
        "The nonparametric test yields many more discoveries and is more powerful than\nthe usual parametric procedure.\nEven within the nonparametric test, the different correction metrics produce\ndifferent results.\nThe voxel-level correction is more conservative than the cluster-size or\ncluster-mass corrections, which are very similar to one another.\n\n"
      ]
    }
  ],
  "metadata": {
    "kernelspec": {
      "display_name": "Python 3",
      "language": "python",
      "name": "python3"
    },
    "language_info": {
      "codemirror_mode": {
        "name": "ipython",
        "version": 3
      },
      "file_extension": ".py",
      "mimetype": "text/x-python",
      "name": "python",
      "nbconvert_exporter": "python",
      "pygments_lexer": "ipython3",
      "version": "3.10.4"
    }
  },
  "nbformat": 4,
  "nbformat_minor": 0
}