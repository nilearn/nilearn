{
  "cells": [
    {
      "cell_type": "code",
      "execution_count": null,
      "metadata": {
        "collapsed": false
      },
      "outputs": [],
      "source": [
        "%matplotlib inline"
      ]
    },
    {
      "cell_type": "markdown",
      "metadata": {},
      "source": [
        "\n# Classification of age groups using functional connectivity\n\nThis example compares different kinds of functional connectivity between\nregions of interest : correlation, partial correlation, and tangent space\nembedding.\n\nThe resulting connectivity coefficients can be used to\ndiscriminate children from adults. In general, the tangent space embedding\n**outperforms** the standard correlations: see [Dadi et al 2019](https://www.sciencedirect.com/science/article/pii/S1053811919301594)\nfor a careful study.\n\n.. include:: ../../../examples/masker_note.rst\n"
      ]
    },
    {
      "cell_type": "markdown",
      "metadata": {},
      "source": [
        "## Load brain development fMRI dataset and MSDL atlas\nWe study only 30 subjects from the dataset, to save computation time.\n\n"
      ]
    },
    {
      "cell_type": "code",
      "execution_count": null,
      "metadata": {
        "collapsed": false
      },
      "outputs": [],
      "source": [
        "from nilearn import datasets\n\ndevelopment_dataset = datasets.fetch_development_fmri(n_subjects=30)"
      ]
    },
    {
      "cell_type": "markdown",
      "metadata": {},
      "source": [
        "We use probabilistic regions of interest (ROIs) from the MSDL atlas.\n\n"
      ]
    },
    {
      "cell_type": "code",
      "execution_count": null,
      "metadata": {
        "collapsed": false
      },
      "outputs": [],
      "source": [
        "msdl_data = datasets.fetch_atlas_msdl()\nmsdl_coords = msdl_data.region_coords\nn_regions = len(msdl_coords)\nprint('MSDL has {0} ROIs, part of the following networks :\\n{1}.'.format(\n    n_regions, msdl_data.networks))"
      ]
    },
    {
      "cell_type": "markdown",
      "metadata": {},
      "source": [
        "## Region signals extraction\nTo extract regions time series, we instantiate a\n:class:`nilearn.maskers.NiftiMapsMasker` object and pass the atlas the\nfile name to it, as well as filtering band-width and detrending option.\n\n"
      ]
    },
    {
      "cell_type": "code",
      "execution_count": null,
      "metadata": {
        "collapsed": false
      },
      "outputs": [],
      "source": [
        "from nilearn.maskers import NiftiMapsMasker\n\nmasker = NiftiMapsMasker(\n    msdl_data.maps, resampling_target=\"data\", t_r=2, detrend=True,\n    low_pass=.1, high_pass=.01, memory='nilearn_cache', memory_level=1).fit()"
      ]
    },
    {
      "cell_type": "markdown",
      "metadata": {},
      "source": [
        "Then we compute region signals and extract useful phenotypic information.\n\n"
      ]
    },
    {
      "cell_type": "code",
      "execution_count": null,
      "metadata": {
        "collapsed": false
      },
      "outputs": [],
      "source": [
        "children = []\npooled_subjects = []\ngroups = []  # child or adult\nfor func_file, confound_file, phenotypic in zip(\n        development_dataset.func,\n        development_dataset.confounds,\n        development_dataset.phenotypic):\n    time_series = masker.transform(func_file, confounds=confound_file)\n    pooled_subjects.append(time_series)\n    if phenotypic['Child_Adult'] == 'child':\n        children.append(time_series)\n    groups.append(phenotypic['Child_Adult'])\n\nprint('Data has {0} children.'.format(len(children)))"
      ]
    },
    {
      "cell_type": "markdown",
      "metadata": {},
      "source": [
        "## ROI-to-ROI correlations of children\nThe simpler and most commonly used kind of connectivity is correlation. It\nmodels the full (marginal) connectivity between pairwise ROIs. We can\nestimate it using :class:`nilearn.connectome.ConnectivityMeasure`.\n\n"
      ]
    },
    {
      "cell_type": "code",
      "execution_count": null,
      "metadata": {
        "collapsed": false
      },
      "outputs": [],
      "source": [
        "from nilearn.connectome import ConnectivityMeasure\n\ncorrelation_measure = ConnectivityMeasure(kind='correlation')"
      ]
    },
    {
      "cell_type": "markdown",
      "metadata": {},
      "source": [
        "From the list of ROIs time-series for children, the\n`correlation_measure` computes individual correlation matrices.\n\n"
      ]
    },
    {
      "cell_type": "code",
      "execution_count": null,
      "metadata": {
        "collapsed": false
      },
      "outputs": [],
      "source": [
        "correlation_matrices = correlation_measure.fit_transform(children)\n\n# All individual coefficients are stacked in a unique 2D matrix.\nprint('Correlations of children are stacked in an array of shape {0}'\n      .format(correlation_matrices.shape))"
      ]
    },
    {
      "cell_type": "markdown",
      "metadata": {},
      "source": [
        "as well as the average correlation across all fitted subjects.\n\n"
      ]
    },
    {
      "cell_type": "code",
      "execution_count": null,
      "metadata": {
        "collapsed": false
      },
      "outputs": [],
      "source": [
        "mean_correlation_matrix = correlation_measure.mean_\nprint('Mean correlation has shape {0}.'.format(mean_correlation_matrix.shape))"
      ]
    },
    {
      "cell_type": "markdown",
      "metadata": {},
      "source": [
        "We display the connectome matrices of the first 3 children\n\n"
      ]
    },
    {
      "cell_type": "code",
      "execution_count": null,
      "metadata": {
        "collapsed": false
      },
      "outputs": [],
      "source": [
        "from nilearn import plotting\nfrom matplotlib import pyplot as plt\n\n_, axes = plt.subplots(1, 3, figsize=(15, 5))\nfor i, (matrix, ax) in enumerate(zip(correlation_matrices, axes)):\n    plotting.plot_matrix(matrix, tri='lower', colorbar=False, axes=ax,\n                         title='correlation, child {}'.format(i))"
      ]
    },
    {
      "cell_type": "markdown",
      "metadata": {},
      "source": [
        "The blocks structure that reflect functional networks are visible.\n\n"
      ]
    },
    {
      "cell_type": "markdown",
      "metadata": {},
      "source": [
        "Now we display as a connectome the mean correlation matrix over all children.\n\n"
      ]
    },
    {
      "cell_type": "code",
      "execution_count": null,
      "metadata": {
        "collapsed": false
      },
      "outputs": [],
      "source": [
        "plotting.plot_connectome(mean_correlation_matrix, msdl_coords,\n                         title='mean correlation over all children')"
      ]
    },
    {
      "cell_type": "markdown",
      "metadata": {},
      "source": [
        "## Studying partial correlations\nWe can also study **direct connections**, revealed by partial correlation\ncoefficients. We just change the `ConnectivityMeasure` kind\n\n"
      ]
    },
    {
      "cell_type": "code",
      "execution_count": null,
      "metadata": {
        "collapsed": false
      },
      "outputs": [],
      "source": [
        "partial_correlation_measure = ConnectivityMeasure(kind='partial correlation')\npartial_correlation_matrices = partial_correlation_measure.fit_transform(\n    children)"
      ]
    },
    {
      "cell_type": "markdown",
      "metadata": {},
      "source": [
        "Most of direct connections are weaker than full connections.\n\n"
      ]
    },
    {
      "cell_type": "code",
      "execution_count": null,
      "metadata": {
        "collapsed": false
      },
      "outputs": [],
      "source": [
        "_, axes = plt.subplots(1, 3, figsize=(15, 5))\nfor i, (matrix, ax) in enumerate(zip(partial_correlation_matrices, axes)):\n    plotting.plot_matrix(matrix, tri='lower', colorbar=False, axes=ax,\n                         title='partial correlation, child {}'.format(i))"
      ]
    },
    {
      "cell_type": "code",
      "execution_count": null,
      "metadata": {
        "collapsed": false
      },
      "outputs": [],
      "source": [
        "plotting.plot_connectome(\n    partial_correlation_measure.mean_, msdl_coords,\n    title='mean partial correlation over all children')"
      ]
    },
    {
      "cell_type": "markdown",
      "metadata": {},
      "source": [
        "## Extract subjects variabilities around a group connectivity\nWe can use **both** correlations and partial correlations to capture\nreproducible connectivity patterns at the group-level.\nThis is done by the tangent space embedding.\n\n"
      ]
    },
    {
      "cell_type": "code",
      "execution_count": null,
      "metadata": {
        "collapsed": false
      },
      "outputs": [],
      "source": [
        "tangent_measure = ConnectivityMeasure(kind='tangent')"
      ]
    },
    {
      "cell_type": "markdown",
      "metadata": {},
      "source": [
        "We fit our children group and get the group connectivity matrix stored as\nin `tangent_measure.mean_`, and individual deviation matrices of each subject\nfrom it.\n\n"
      ]
    },
    {
      "cell_type": "code",
      "execution_count": null,
      "metadata": {
        "collapsed": false
      },
      "outputs": [],
      "source": [
        "tangent_matrices = tangent_measure.fit_transform(children)"
      ]
    },
    {
      "cell_type": "markdown",
      "metadata": {},
      "source": [
        "`tangent_matrices` model individual connectivities as\n**perturbations** of the group connectivity matrix `tangent_measure.mean_`.\nKeep in mind that these subjects-to-group variability matrices do not\ndirectly reflect individual brain connections. For instance negative\ncoefficients can not be interpreted as anticorrelated regions.\n\n"
      ]
    },
    {
      "cell_type": "code",
      "execution_count": null,
      "metadata": {
        "collapsed": false
      },
      "outputs": [],
      "source": [
        "_, axes = plt.subplots(1, 3, figsize=(15, 5))\nfor i, (matrix, ax) in enumerate(zip(tangent_matrices, axes)):\n    plotting.plot_matrix(matrix, tri='lower', colorbar=False, axes=ax,\n                         title='tangent offset, child {}'.format(i))"
      ]
    },
    {
      "cell_type": "markdown",
      "metadata": {},
      "source": [
        "The average tangent matrix cannot be interpreted, as individual matrices\nrepresent deviations from the mean, which is set to 0.\n\n"
      ]
    },
    {
      "cell_type": "markdown",
      "metadata": {},
      "source": [
        "## What kind of connectivity is most powerful for classification?\nWe will use connectivity matrices as features to distinguish children from\nadults. We use cross-validation and measure classification accuracy to\ncompare the different kinds of connectivity matrices.\nWe use random splits of the subjects into training/testing sets.\nStratifiedShuffleSplit allows preserving the proportion of children in the\ntest set.\n\n"
      ]
    },
    {
      "cell_type": "code",
      "execution_count": null,
      "metadata": {
        "collapsed": false
      },
      "outputs": [],
      "source": [
        "from sklearn.svm import LinearSVC\nfrom sklearn.model_selection import StratifiedShuffleSplit\nfrom sklearn.metrics import accuracy_score\nimport numpy as np\n\nkinds = ['correlation', 'partial correlation', 'tangent']\n_, classes = np.unique(groups, return_inverse=True)\ncv = StratifiedShuffleSplit(n_splits=15, random_state=0, test_size=5)\npooled_subjects = np.asarray(pooled_subjects)\n\nscores = {}\nfor kind in kinds:\n    scores[kind] = []\n    for train, test in cv.split(pooled_subjects, classes):\n        # *ConnectivityMeasure* can output the estimated subjects coefficients\n        # as a 1D arrays through the parameter *vectorize*.\n        connectivity = ConnectivityMeasure(kind=kind, vectorize=True)\n        # build vectorized connectomes for subjects in the train set\n        connectomes = connectivity.fit_transform(pooled_subjects[train])\n        # fit the classifier\n        classifier = LinearSVC().fit(connectomes, classes[train])\n        # make predictions for the left-out test subjects\n        predictions = classifier.predict(\n            connectivity.transform(pooled_subjects[test]))\n        # store the accuracy for this cross-validation fold\n        scores[kind].append(accuracy_score(classes[test], predictions))"
      ]
    },
    {
      "cell_type": "markdown",
      "metadata": {},
      "source": [
        "display the results\n\n"
      ]
    },
    {
      "cell_type": "code",
      "execution_count": null,
      "metadata": {
        "collapsed": false
      },
      "outputs": [],
      "source": [
        "mean_scores = [np.mean(scores[kind]) for kind in kinds]\nscores_std = [np.std(scores[kind]) for kind in kinds]\n\nplt.figure(figsize=(6, 4))\npositions = np.arange(len(kinds)) * .1 + .1\nplt.barh(positions, mean_scores, align='center', height=.05, xerr=scores_std)\nyticks = [k.replace(' ', '\\n') for k in kinds]\nplt.yticks(positions, yticks)\nplt.gca().grid(True)\nplt.gca().set_axisbelow(True)\nplt.gca().axvline(.8, color='red', linestyle='--')\nplt.xlabel('Classification accuracy\\n(red line = chance level)')\nplt.tight_layout()"
      ]
    },
    {
      "cell_type": "markdown",
      "metadata": {},
      "source": [
        "This is a small example to showcase nilearn features. In practice such\ncomparisons need to be performed on much larger cohorts and several\ndatasets.\n[Dadi et al 2019](https://www.sciencedirect.com/science/article/pii/S1053811919301594)\nShowed that across many cohorts and clinical questions, the tangent\nkind should be preferred.\n\n"
      ]
    },
    {
      "cell_type": "code",
      "execution_count": null,
      "metadata": {
        "collapsed": false
      },
      "outputs": [],
      "source": [
        "plotting.show()"
      ]
    }
  ],
  "metadata": {
    "kernelspec": {
      "display_name": "Python 3",
      "language": "python",
      "name": "python3"
    },
    "language_info": {
      "codemirror_mode": {
        "name": "ipython",
        "version": 3
      },
      "file_extension": ".py",
      "mimetype": "text/x-python",
      "name": "python",
      "nbconvert_exporter": "python",
      "pygments_lexer": "ipython3",
      "version": "3.10.4"
    }
  },
  "nbformat": 4,
  "nbformat_minor": 0
}