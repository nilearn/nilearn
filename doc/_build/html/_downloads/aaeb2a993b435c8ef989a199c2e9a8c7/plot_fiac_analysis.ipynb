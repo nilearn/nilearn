{
  "cells": [
    {
      "cell_type": "code",
      "execution_count": null,
      "metadata": {
        "collapsed": false
      },
      "outputs": [],
      "source": [
        "%matplotlib inline"
      ]
    },
    {
      "cell_type": "markdown",
      "metadata": {},
      "source": [
        "# Simple example of two-session fMRI model fitting\n\nHere, we will go through a full step-by-step example of fitting a GLM to\nexperimental data and visualizing the results. This is done on two runs of one\nsubject of the FIAC dataset.\n\nFor details on the data, please see:\n\nDehaene-Lambertz G, Dehaene S, Anton JL, Campagne A, Ciuciu P, Dehaene\nG, Denghien I, Jobert A, LeBihan D, Sigman M, Pallier C, Poline\nJB. Functional segregation of cortical language areas by sentence\nrepetition. Hum Brain Mapp. 2006: 27:360--371.\nhttp://www.pubmedcentral.nih.gov/articlerender.fcgi?artid=2653076#R11\n\nMore specifically:\n\n1. A sequence of fMRI volumes is loaded.\n2. A design matrix describing all the effects related to the data is computed.\n3. A mask of the useful brain volume is computed.\n4. A GLM is applied to the dataset (effect/covariance,\n   then contrast estimation).\n\nTechnically, this example shows how to handle two sessions that contain the\nsame experimental conditions. The model directly returns a fixed effect of the\nstatistics across the two sessions.\n"
      ]
    },
    {
      "cell_type": "markdown",
      "metadata": {},
      "source": [
        "Create a write directory to work,\nit will be a 'results' subdirectory of the current directory.\n\n"
      ]
    },
    {
      "cell_type": "code",
      "execution_count": null,
      "metadata": {
        "collapsed": false
      },
      "outputs": [],
      "source": [
        "from os import mkdir, path, getcwd\nwrite_dir = path.join(getcwd(), 'results')\nif not path.exists(write_dir):\n    mkdir(write_dir)"
      ]
    },
    {
      "cell_type": "markdown",
      "metadata": {},
      "source": [
        "## Prepare data and analysis parameters\n\nNote that there are two sessions.\n\n"
      ]
    },
    {
      "cell_type": "code",
      "execution_count": null,
      "metadata": {
        "collapsed": false
      },
      "outputs": [],
      "source": [
        "from nilearn.datasets import func\ndata = func.fetch_fiac_first_level()\nfmri_img = [data['func1'], data['func2']]"
      ]
    },
    {
      "cell_type": "markdown",
      "metadata": {},
      "source": [
        "Create a mean image for plotting purpose.\n\n"
      ]
    },
    {
      "cell_type": "code",
      "execution_count": null,
      "metadata": {
        "collapsed": false
      },
      "outputs": [],
      "source": [
        "from nilearn.image import mean_img\nmean_img_ = mean_img(fmri_img[0])"
      ]
    },
    {
      "cell_type": "markdown",
      "metadata": {},
      "source": [
        "The design matrices were pre-computed, we simply put them in a list of\nDataFrames.\n\n"
      ]
    },
    {
      "cell_type": "code",
      "execution_count": null,
      "metadata": {
        "collapsed": false
      },
      "outputs": [],
      "source": [
        "design_files = [data['design_matrix1'], data['design_matrix2']]\nimport pandas as pd\nimport numpy as np\ndesign_matrices = [pd.DataFrame(np.load(df)['X']) for df in design_files]"
      ]
    },
    {
      "cell_type": "markdown",
      "metadata": {},
      "source": [
        "## GLM estimation\nGLM specification. Note that the mask was provided in the dataset. So we use it.\n\n"
      ]
    },
    {
      "cell_type": "code",
      "execution_count": null,
      "metadata": {
        "collapsed": false
      },
      "outputs": [],
      "source": [
        "from nilearn.glm.first_level import FirstLevelModel\nfmri_glm = FirstLevelModel(mask_img=data['mask'], minimize_memory=True)"
      ]
    },
    {
      "cell_type": "markdown",
      "metadata": {},
      "source": [
        "Let's fit the GLM.\n\n"
      ]
    },
    {
      "cell_type": "code",
      "execution_count": null,
      "metadata": {
        "collapsed": false
      },
      "outputs": [],
      "source": [
        "fmri_glm = fmri_glm.fit(fmri_img, design_matrices=design_matrices)"
      ]
    },
    {
      "cell_type": "markdown",
      "metadata": {},
      "source": [
        "Compute fixed effects of the two runs and compute related images.\nFor this, we first define the contrasts as we would do for a single session.\n\n"
      ]
    },
    {
      "cell_type": "code",
      "execution_count": null,
      "metadata": {
        "collapsed": false
      },
      "outputs": [],
      "source": [
        "n_columns = design_matrices[0].shape[1]\n\ndef pad_vector(contrast_, n_columns):\n    \"\"\"A small routine to append zeros in contrast vectors\"\"\"\n    return np.hstack((contrast_, np.zeros(n_columns - len(contrast_))))"
      ]
    },
    {
      "cell_type": "markdown",
      "metadata": {},
      "source": [
        "Contrast specification\n\n"
      ]
    },
    {
      "cell_type": "code",
      "execution_count": null,
      "metadata": {
        "collapsed": false
      },
      "outputs": [],
      "source": [
        "contrasts = {'SStSSp_minus_DStDSp': pad_vector([1, 0, 0, -1], n_columns),\n             'DStDSp_minus_SStSSp': pad_vector([-1, 0, 0, 1], n_columns),\n             'DSt_minus_SSt': pad_vector([-1, -1, 1, 1], n_columns),\n             'DSp_minus_SSp': pad_vector([-1, 1, -1, 1], n_columns),\n             'DSt_minus_SSt_for_DSp': pad_vector([0, -1, 0, 1], n_columns),\n             'DSp_minus_SSp_for_DSt': pad_vector([0, 0, -1, 1], n_columns),\n             'Deactivation': pad_vector([-1, -1, -1, -1, 4], n_columns),\n             'Effects_of_interest': np.eye(n_columns)[:5]}"
      ]
    },
    {
      "cell_type": "markdown",
      "metadata": {},
      "source": [
        "Next, we compute and plot the statistics.\n\n"
      ]
    },
    {
      "cell_type": "code",
      "execution_count": null,
      "metadata": {
        "collapsed": false
      },
      "outputs": [],
      "source": [
        "from nilearn import plotting\nprint('Computing contrasts...')\nfor index, (contrast_id, contrast_val) in enumerate(contrasts.items()):\n    print('  Contrast % 2i out of %i: %s' % (\n        index + 1, len(contrasts), contrast_id))\n    # Estimate the contasts. Note that the model implicitly computes a fixed\n    # effect across the two sessions\n    z_map = fmri_glm.compute_contrast(\n        contrast_val, output_type='z_score')\n\n    # write the resulting stat images to file\n    z_image_path = path.join(write_dir, '%s_z_map.nii.gz' % contrast_id)\n    z_map.to_filename(z_image_path)"
      ]
    },
    {
      "cell_type": "markdown",
      "metadata": {},
      "source": [
        "We can then compare session-specific and fixed effects.\nHere, we compare the activation mas produced from each session separately and\nthen the fixed effects version.\n\n"
      ]
    },
    {
      "cell_type": "code",
      "execution_count": null,
      "metadata": {
        "collapsed": false
      },
      "outputs": [],
      "source": [
        "contrast_id = 'Effects_of_interest'"
      ]
    },
    {
      "cell_type": "markdown",
      "metadata": {},
      "source": [
        "Compute the statistics for the first session.\n\n"
      ]
    },
    {
      "cell_type": "code",
      "execution_count": null,
      "metadata": {
        "collapsed": false
      },
      "outputs": [],
      "source": [
        "fmri_glm = fmri_glm.fit(fmri_img[0], design_matrices=design_matrices[0])\nz_map = fmri_glm.compute_contrast(\n    contrasts[contrast_id], output_type='z_score')\nplotting.plot_stat_map(\n    z_map, bg_img=mean_img_, threshold=3.0,\n    title='%s, first session' % contrast_id)"
      ]
    },
    {
      "cell_type": "markdown",
      "metadata": {},
      "source": [
        "Compute the statistics for the second session.\n\n"
      ]
    },
    {
      "cell_type": "code",
      "execution_count": null,
      "metadata": {
        "collapsed": false
      },
      "outputs": [],
      "source": [
        "fmri_glm = fmri_glm.fit(fmri_img[1], design_matrices=design_matrices[1])\nz_map = fmri_glm.compute_contrast(\n    contrasts[contrast_id], output_type='z_score')\nplotting.plot_stat_map(\n    z_map, bg_img=mean_img_, threshold=3.0,\n    title='%s, second session' % contrast_id)"
      ]
    },
    {
      "cell_type": "markdown",
      "metadata": {},
      "source": [
        "Compute the Fixed effects statistics.\n\n"
      ]
    },
    {
      "cell_type": "code",
      "execution_count": null,
      "metadata": {
        "collapsed": false
      },
      "outputs": [],
      "source": [
        "fmri_glm = fmri_glm.fit(fmri_img, design_matrices=design_matrices)\nz_map = fmri_glm.compute_contrast(\n    contrasts[contrast_id], output_type='z_score')\nplotting.plot_stat_map(\n    z_map, bg_img=mean_img_, threshold=3.0,\n    title='%s, fixed effects' % contrast_id)\n\nplotting.show()"
      ]
    },
    {
      "cell_type": "markdown",
      "metadata": {},
      "source": [
        "Not unexpectedly, the fixed effects version displays higher peaks than the\ninput sessions. Computing fixed effects enhances the signal-to-noise ratio of\nthe resulting brain maps.\n\n"
      ]
    },
    {
      "cell_type": "markdown",
      "metadata": {},
      "source": [
        "## Generating a report\nSince we have already computed the FirstLevelModel and\nand have the contrast, we can quickly create a summary report.\n\n"
      ]
    },
    {
      "cell_type": "code",
      "execution_count": null,
      "metadata": {
        "collapsed": false
      },
      "outputs": [],
      "source": [
        "from nilearn.reporting import make_glm_report\n\nreport = make_glm_report(fmri_glm,\n                         contrasts,\n                         bg_img=mean_img_,\n                         )"
      ]
    },
    {
      "cell_type": "markdown",
      "metadata": {},
      "source": [
        "We have several ways to access the report:\n\n"
      ]
    },
    {
      "cell_type": "code",
      "execution_count": null,
      "metadata": {
        "collapsed": false
      },
      "outputs": [],
      "source": [
        "# report  # This report can be viewed in a notebook\n# report.save_as_html('report.html')\n# report.open_in_browser()"
      ]
    }
  ],
  "metadata": {
    "kernelspec": {
      "display_name": "Python 3",
      "language": "python",
      "name": "python3"
    },
    "language_info": {
      "codemirror_mode": {
        "name": "ipython",
        "version": 3
      },
      "file_extension": ".py",
      "mimetype": "text/x-python",
      "name": "python",
      "nbconvert_exporter": "python",
      "pygments_lexer": "ipython3",
      "version": "3.10.4"
    }
  },
  "nbformat": 4,
  "nbformat_minor": 0
}