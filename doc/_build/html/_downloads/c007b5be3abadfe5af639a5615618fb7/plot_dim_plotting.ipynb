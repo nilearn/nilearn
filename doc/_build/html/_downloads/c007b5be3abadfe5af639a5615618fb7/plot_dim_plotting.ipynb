{
  "cells": [
    {
      "cell_type": "code",
      "execution_count": null,
      "metadata": {
        "collapsed": false
      },
      "outputs": [],
      "source": [
        "%matplotlib inline"
      ]
    },
    {
      "cell_type": "markdown",
      "metadata": {},
      "source": [
        "\n# Controlling the contrast of the background when plotting\n\nThe `dim` argument controls the contrast of the background.\n\n*dim* modifies the contrast of this image: dim=0 leaves the image\nunchanged, negative values of *dim* enhance it, and positive values\ndecrease it (dim the background).\n\nThis *dim* argument may also be useful for the plot_roi function used to\ndisplay ROIs on top of a background image.\n"
      ]
    },
    {
      "cell_type": "markdown",
      "metadata": {},
      "source": [
        "## Retrieve the data: the localizer dataset with contrast maps\n\n"
      ]
    },
    {
      "cell_type": "code",
      "execution_count": null,
      "metadata": {
        "collapsed": false
      },
      "outputs": [],
      "source": [
        "from nilearn import datasets\n\nlocalizer_dataset = datasets.fetch_localizer_button_task(legacy_format=False)\n# Contrast map of motor task\nlocalizer_tmap_filename = localizer_dataset.tmap\n# Subject specific anatomical image\nlocalizer_anat_filename = localizer_dataset.anat"
      ]
    },
    {
      "cell_type": "markdown",
      "metadata": {},
      "source": [
        "## Plotting with enhancement of background image with dim=-.5\n\n"
      ]
    },
    {
      "cell_type": "code",
      "execution_count": null,
      "metadata": {
        "collapsed": false
      },
      "outputs": [],
      "source": [
        "from nilearn import plotting\nplotting.plot_stat_map(localizer_tmap_filename,\n                       bg_img=localizer_anat_filename,\n                       cut_coords=(36, -27, 66),\n                       threshold=3, title=\"dim=-.5\",\n                       dim=-.5)"
      ]
    },
    {
      "cell_type": "markdown",
      "metadata": {},
      "source": [
        "## Plotting with no change of contrast in background image with dim=0\n\n"
      ]
    },
    {
      "cell_type": "code",
      "execution_count": null,
      "metadata": {
        "collapsed": false
      },
      "outputs": [],
      "source": [
        "plotting.plot_stat_map(localizer_tmap_filename,\n                       bg_img=localizer_anat_filename,\n                       cut_coords=(36, -27, 66),\n                       threshold=3, title=\"dim=0\",\n                       dim=0)"
      ]
    },
    {
      "cell_type": "markdown",
      "metadata": {},
      "source": [
        "## Plotting with decrease of contrast in background image with dim=.5\n\n"
      ]
    },
    {
      "cell_type": "code",
      "execution_count": null,
      "metadata": {
        "collapsed": false
      },
      "outputs": [],
      "source": [
        "plotting.plot_stat_map(localizer_tmap_filename,\n                       bg_img=localizer_anat_filename,\n                       cut_coords=(36, -27, 66),\n                       threshold=3, title=\"dim=.5\",\n                       dim=.5)"
      ]
    },
    {
      "cell_type": "markdown",
      "metadata": {},
      "source": [
        "## Plotting with more decrease in contrast with dim=1\n\n"
      ]
    },
    {
      "cell_type": "code",
      "execution_count": null,
      "metadata": {
        "collapsed": false
      },
      "outputs": [],
      "source": [
        "plotting.plot_stat_map(localizer_tmap_filename,\n                       bg_img=localizer_anat_filename,\n                       cut_coords=(36, -27, 66),\n                       threshold=3, title=\"dim=1\",\n                       dim=1)\n\nplotting.show()"
      ]
    }
  ],
  "metadata": {
    "kernelspec": {
      "display_name": "Python 3",
      "language": "python",
      "name": "python3"
    },
    "language_info": {
      "codemirror_mode": {
        "name": "ipython",
        "version": 3
      },
      "file_extension": ".py",
      "mimetype": "text/x-python",
      "name": "python",
      "nbconvert_exporter": "python",
      "pygments_lexer": "ipython3",
      "version": "3.10.4"
    }
  },
  "nbformat": 4,
  "nbformat_minor": 0
}