{
  "cells": [
    {
      "cell_type": "code",
      "execution_count": null,
      "metadata": {
        "collapsed": false
      },
      "outputs": [],
      "source": [
        "%matplotlib inline"
      ]
    },
    {
      "cell_type": "markdown",
      "metadata": {},
      "source": [
        "\n# Region Extraction using a t-statistical map (3D)\n\nThis example shows how to extract regions or separate the regions\nfrom a statistical map.\n\nWe use localizer t-statistic maps from\n:func:`nilearn.datasets.fetch_neurovault_auditory_computation_task`\nas an input image.\n\nThe idea is to threshold an image to get foreground objects using a\nfunction :func:`nilearn.image.threshold_img` and extract objects using a function\n:func:`nilearn.regions.connected_regions`.\n"
      ]
    },
    {
      "cell_type": "markdown",
      "metadata": {},
      "source": [
        "Fetching t-statistic image of localizer contrasts by loading from datasets\nutilities\n\n"
      ]
    },
    {
      "cell_type": "code",
      "execution_count": null,
      "metadata": {
        "collapsed": false
      },
      "outputs": [],
      "source": [
        "from nilearn import datasets\n\nlocalizer = datasets.fetch_neurovault_auditory_computation_task()\ntmap_filename = localizer.images[0]"
      ]
    },
    {
      "cell_type": "markdown",
      "metadata": {},
      "source": [
        "Threshold the t-statistic image by importing threshold function\n\n"
      ]
    },
    {
      "cell_type": "code",
      "execution_count": null,
      "metadata": {
        "collapsed": false
      },
      "outputs": [],
      "source": [
        "from nilearn.image import threshold_img\n\n# Two types of strategies can be used from this threshold function\n# Type 1: strategy used will be based on scoreatpercentile\nthreshold_percentile_img = threshold_img(tmap_filename, threshold='97%', copy=False)\n\n\n# Type 2: threshold strategy used will be based on image intensity\n# Here, threshold value should be within the limits i.e. less than max value.\nthreshold_value_img = threshold_img(tmap_filename, threshold=3.0, copy=False)"
      ]
    },
    {
      "cell_type": "markdown",
      "metadata": {},
      "source": [
        "Visualization\nShowing thresholding results by importing plotting modules and its utilities\n\n"
      ]
    },
    {
      "cell_type": "code",
      "execution_count": null,
      "metadata": {
        "collapsed": false
      },
      "outputs": [],
      "source": [
        "from nilearn import plotting\n\n# Showing percentile threshold image\nplotting.plot_stat_map(threshold_percentile_img, display_mode='z', cut_coords=5,\n                       title='Threshold image with string percentile', colorbar=False)\n\n# Showing intensity threshold image\nplotting.plot_stat_map(threshold_value_img, display_mode='z', cut_coords=5,\n                       title='Threshold image with intensity value', colorbar=False)"
      ]
    },
    {
      "cell_type": "markdown",
      "metadata": {},
      "source": [
        "Extracting the regions by importing connected regions function\n\n"
      ]
    },
    {
      "cell_type": "code",
      "execution_count": null,
      "metadata": {
        "collapsed": false
      },
      "outputs": [],
      "source": [
        "from nilearn.regions import connected_regions\n\nregions_percentile_img, index = connected_regions(threshold_percentile_img,\n                                                  min_region_size=1500)\n\nregions_value_img, index = connected_regions(threshold_value_img,\n                                             min_region_size=1500)"
      ]
    },
    {
      "cell_type": "markdown",
      "metadata": {},
      "source": [
        "Visualizing region extraction results\n\n"
      ]
    },
    {
      "cell_type": "code",
      "execution_count": null,
      "metadata": {
        "collapsed": false
      },
      "outputs": [],
      "source": [
        "title = (\"ROIs using percentile thresholding. \"\n         \"\\n Each ROI in same color is an extracted region\")\nplotting.plot_prob_atlas(regions_percentile_img, bg_img=tmap_filename,\n                         view_type='contours', display_mode='z',\n                         cut_coords=5, title=title)\ntitle = (\"ROIs using image intensity thresholding. \"\n         \"\\n Each ROI in same color is an extracted region\")\nplotting.plot_prob_atlas(regions_value_img, bg_img=tmap_filename,\n                         view_type='contours', display_mode='z',\n                         cut_coords=5, title=title)\nplotting.show()"
      ]
    }
  ],
  "metadata": {
    "kernelspec": {
      "display_name": "Python 3",
      "language": "python",
      "name": "python3"
    },
    "language_info": {
      "codemirror_mode": {
        "name": "ipython",
        "version": 3
      },
      "file_extension": ".py",
      "mimetype": "text/x-python",
      "name": "python",
      "nbconvert_exporter": "python",
      "pygments_lexer": "ipython3",
      "version": "3.10.4"
    }
  },
  "nbformat": 4,
  "nbformat_minor": 0
}