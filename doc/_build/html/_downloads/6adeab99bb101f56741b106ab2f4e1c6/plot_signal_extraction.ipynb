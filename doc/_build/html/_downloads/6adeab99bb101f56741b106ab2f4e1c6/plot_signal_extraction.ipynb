{
  "cells": [
    {
      "cell_type": "code",
      "execution_count": null,
      "metadata": {
        "collapsed": false
      },
      "outputs": [],
      "source": [
        "%matplotlib inline"
      ]
    },
    {
      "cell_type": "markdown",
      "metadata": {},
      "source": [
        "\n# Extracting signals from a brain parcellation\n\nHere we show how to extract signals from a brain parcellation and compute\na correlation matrix.\n\nWe also show the importance of defining good confounds signals: the\nfirst correlation matrix is computed after regressing out simple\nconfounds signals: movement regressors, white matter and CSF signals, ...\nThe second one is without any confounds: all regions are connected to each\nother. Finally we demonstrated the functionality of\n:func:`nilearn.interfaces.fmriprep.load_confounds` to flexibly select confound\nvariables from :term:`fMRIPrep` outputs while following some implementation\nguideline of :term:`fMRIPrep` confounds documentation\n[](https://fmriprep.org/en/stable/outputs.html#confounds).\n\nOne reference that discusses the importance of confounds is [Varoquaux and\nCraddock, Learning and comparing functional connectomes across subjects,\nNeuroImage 2013](http://www.sciencedirect.com/science/article/pii/S1053811913003340).\n\nThis is just a code example, see the `corresponding section in the\ndocumentation <parcellation_time_series>` for more.\n\n<div class=\"alert alert-info\"><h4>Note</h4><p>This example needs SciPy >= 1.0.0 for the reordering of the matrix.</p></div>\n\n.. include:: ../../../examples/masker_note.rst\n"
      ]
    },
    {
      "cell_type": "markdown",
      "metadata": {},
      "source": [
        "## Retrieve the atlas and the data\n\n"
      ]
    },
    {
      "cell_type": "code",
      "execution_count": null,
      "metadata": {
        "collapsed": false
      },
      "outputs": [],
      "source": [
        "from nilearn import datasets\n\ndataset = datasets.fetch_atlas_harvard_oxford('cort-maxprob-thr25-2mm')\natlas_filename = dataset.maps\nlabels = dataset.labels\n\nprint('Atlas ROIs are located in nifti image (4D) at: %s' %\n      atlas_filename)  # 4D data\n\n# One subject of brain development fmri data\ndata = datasets.fetch_development_fmri(n_subjects=1, reduce_confounds=True)\nfmri_filenames = data.func[0]\nreduced_confounds = data.confounds[0]  # This is a preselected set of confounds"
      ]
    },
    {
      "cell_type": "markdown",
      "metadata": {},
      "source": [
        "## Extract signals on a parcellation defined by labels\nUsing the NiftiLabelsMasker\n\n"
      ]
    },
    {
      "cell_type": "code",
      "execution_count": null,
      "metadata": {
        "collapsed": false
      },
      "outputs": [],
      "source": [
        "from nilearn.maskers import NiftiLabelsMasker\nmasker = NiftiLabelsMasker(labels_img=atlas_filename, standardize=True,\n                           memory='nilearn_cache', verbose=5)\n\n# Here we go from nifti files to the signal time series in a numpy\n# array. Note how we give confounds to be regressed out during signal\n# extraction\ntime_series = masker.fit_transform(fmri_filenames, confounds=reduced_confounds)"
      ]
    },
    {
      "cell_type": "markdown",
      "metadata": {},
      "source": [
        "## Compute and display a correlation matrix\n\n"
      ]
    },
    {
      "cell_type": "code",
      "execution_count": null,
      "metadata": {
        "collapsed": false
      },
      "outputs": [],
      "source": [
        "from nilearn.connectome import ConnectivityMeasure\ncorrelation_measure = ConnectivityMeasure(kind='correlation')\ncorrelation_matrix = correlation_measure.fit_transform([time_series])[0]\n\n# Plot the correlation matrix\nimport numpy as np\nfrom nilearn import plotting\n# Make a large figure\n# Mask the main diagonal for visualization:\nnp.fill_diagonal(correlation_matrix, 0)\n# The labels we have start with the background (0), hence we skip the\n# first label\n# matrices are ordered for block-like representation\nplotting.plot_matrix(correlation_matrix, figure=(10, 8), labels=labels[1:],\n                     vmax=0.8, vmin=-0.8, title=\"Confounds\",\n                     reorder=True)"
      ]
    },
    {
      "cell_type": "markdown",
      "metadata": {},
      "source": [
        "## Extract signals and compute a connectivity matrix without confounds removal\nAfter covering the basic of signal extraction and functional connectivity\nmatrix presentation, let's look into the impact of confounds to :term:`fMRI`\nsignal and functional connectivity. Firstly let's find out what a functional\nconnectivity matrix looks like without confound removal.\n\n"
      ]
    },
    {
      "cell_type": "code",
      "execution_count": null,
      "metadata": {
        "collapsed": false
      },
      "outputs": [],
      "source": [
        "time_series = masker.fit_transform(fmri_filenames)\n# Note how we did not specify confounds above. This is bad!\n\ncorrelation_matrix = correlation_measure.fit_transform([time_series])[0]\n\nnp.fill_diagonal(correlation_matrix, 0)\n\nplotting.plot_matrix(correlation_matrix, figure=(10, 8), labels=labels[1:],\n                     vmax=0.8, vmin=-0.8, title='No confounds', reorder=True)"
      ]
    },
    {
      "cell_type": "markdown",
      "metadata": {},
      "source": [
        "## Load confounds from file using a flexible strategy with fmriprep interface\nThe :func:`nilearn.interfaces.fmriprep.load_confounds` function provides\nflexible  parameters to retrieve the relevant columns from the TSV file\ngenerated by :term:`fMRIPrep`.\n:func:`nilearn.interfaces.fmriprep.load_confounds` ensures two things:\n\n1. The correct regressors are selected with provided strategy, and\n\n2. Volumes such as non-steady-state and/or high motion volumes are masked\n   out correctly.\n\nLet's try a simple strategy removing motion, white matter signal,\ncerebrospinal fluid signal with high-pass filtering.\n\n"
      ]
    },
    {
      "cell_type": "code",
      "execution_count": null,
      "metadata": {
        "collapsed": false
      },
      "outputs": [],
      "source": [
        "from nilearn.interfaces.fmriprep import load_confounds\nconfounds_simple, sample_mask = load_confounds(\n    fmri_filenames,\n    strategy=[\"high_pass\", \"motion\", \"wm_csf\"],\n    motion=\"basic\", wm_csf=\"basic\")\n\nprint(\"The shape of the confounds matrix is:\", confounds_simple.shape)\nprint(confounds_simple.columns)\n\ntime_series = masker.fit_transform(fmri_filenames,\n                                   confounds=confounds_simple,\n                                   sample_mask=sample_mask)\n\ncorrelation_matrix = correlation_measure.fit_transform([time_series])[0]\n\nnp.fill_diagonal(correlation_matrix, 0)\n\nplotting.plot_matrix(correlation_matrix, figure=(10, 8), labels=labels[1:],\n                     vmax=0.8, vmin=-0.8, title='Motion, WM, CSF',\n                     reorder=True)"
      ]
    },
    {
      "cell_type": "markdown",
      "metadata": {},
      "source": [
        "## Motion-based scrubbing\nWith a scrubbing-based strategy,\n:func:`~nilearn.interfaces.fmriprep.load_confounds` returns a `sample_mask`\nthat removes the index of volumes exceeding the framewise displacement and\nstandardised DVARS threshold, and all the continuous segment with less than\nfive volumes. Before applying scrubbing, it's important to access the\npercentage of volumns scrubbed. Scrubbing is not a suitable strategy for\ndatasets with too many high motion subjects.\nOn top of the simple strategy above, let's add scrubbing to our\nstrategy.\n\n"
      ]
    },
    {
      "cell_type": "code",
      "execution_count": null,
      "metadata": {
        "collapsed": false
      },
      "outputs": [],
      "source": [
        "confounds_scrub, sample_mask = load_confounds(\n    fmri_filenames,\n    strategy=[\"high_pass\", \"motion\", \"wm_csf\", \"scrub\"],\n    motion=\"basic\", wm_csf=\"basic\",\n    scrub=5, fd_threshold=0.2, std_dvars_threshold=3)\n\nprint(\"After scrubbing, {} out of {} volumes remains\".format(\n    sample_mask.shape[0], confounds_scrub.shape[0]))\nprint(\"The shape of the confounds matrix is:\", confounds_simple.shape)\nprint(confounds_scrub.columns)\n\ntime_series = masker.fit_transform(fmri_filenames,\n                                   confounds=confounds_scrub,\n                                   sample_mask=sample_mask)\n\ncorrelation_matrix = correlation_measure.fit_transform([time_series])[0]\n\nnp.fill_diagonal(correlation_matrix, 0)\n\nplotting.plot_matrix(correlation_matrix, figure=(10, 8), labels=labels[1:],\n                     vmax=0.8, vmin=-0.8,\n                     title='Motion, WM, CSF, Scrubbing',\n                     reorder=True)"
      ]
    },
    {
      "cell_type": "markdown",
      "metadata": {},
      "source": [
        "## The impact of global signal removal\nGlobal signal removes the grand mean from your signal. The benefit is that\nit can remove impacts of physiological artifacts with minimal impact on the\ndegrees of freedom. The downside is that one cannot get insight into variance\nexplained by certain sources of noise. Now let's add global signal to the\nsimple strategy and see its impact.\n\n"
      ]
    },
    {
      "cell_type": "code",
      "execution_count": null,
      "metadata": {
        "collapsed": false
      },
      "outputs": [],
      "source": [
        "confounds_minimal_no_gsr, sample_mask = load_confounds(\n    fmri_filenames,\n    strategy=[\"high_pass\", \"motion\", \"wm_csf\", \"global_signal\"],\n    motion=\"basic\", wm_csf=\"basic\", global_signal=\"basic\")\nprint(\"The shape of the confounds matrix is:\",\n      confounds_minimal_no_gsr.shape)\nprint(confounds_minimal_no_gsr.columns)\n\ntime_series = masker.fit_transform(fmri_filenames,\n                                   confounds=confounds_minimal_no_gsr,\n                                   sample_mask=sample_mask)\n\ncorrelation_matrix = correlation_measure.fit_transform([time_series])[0]\n\nnp.fill_diagonal(correlation_matrix, 0)\n\nplotting.plot_matrix(correlation_matrix, figure=(10, 8), labels=labels[1:],\n                     vmax=0.8, vmin=-0.8,\n                     title='Motion, WM, CSF, GSR',\n                     reorder=True)"
      ]
    },
    {
      "cell_type": "markdown",
      "metadata": {},
      "source": [
        "## Using predefined strategies\nInstead of customising the strategy through\n:func:`nilearn.interfaces.fmriprep.load_confounds`, one can use a predefined\nstrategy with :func:`nilearn.interfaces.fmriprep.load_confounds_strategy`.\nBased on the confound variables generated through :term:`fMRIPrep`, and past\nbenchmarks studies (:footcite:`Ciric2017`, :footcite:`Parker2018`): `simple`,\n`scrubbing`, `compcor`, `ica_aroma`.\nThe following examples shows how to use the `simple` strategy and overwrite\nthe motion default to basic.\n\n"
      ]
    },
    {
      "cell_type": "code",
      "execution_count": null,
      "metadata": {
        "collapsed": false
      },
      "outputs": [],
      "source": [
        "from nilearn.interfaces.fmriprep import load_confounds_strategy\n\n# use default parameters\nconfounds, sample_mask = load_confounds_strategy(\n    fmri_filenames, denoise_strategy=\"simple\", motion=\"basic\"\n)\ntime_series = masker.fit_transform(fmri_filenames,\n                                   confounds=confounds,\n                                   sample_mask=sample_mask)\n\ncorrelation_matrix = correlation_measure.fit_transform([time_series])[0]\n\nnp.fill_diagonal(correlation_matrix, 0)\n\nplotting.plot_matrix(correlation_matrix, figure=(10, 8), labels=labels[1:],\n                     vmax=0.8, vmin=-0.8,\n                     title='simple',\n                     reorder=True)\n\n# add optional parameter global signal\nconfounds, sample_mask = load_confounds_strategy(\n    fmri_filenames, denoise_strategy=\"simple\",\n    motion=\"basic\", global_signal=\"basic\"\n)\ntime_series = masker.fit_transform(fmri_filenames,\n                                   confounds=confounds,\n                                   sample_mask=sample_mask)\n\ncorrelation_matrix = correlation_measure.fit_transform([time_series])[0]\n\nnp.fill_diagonal(correlation_matrix, 0)\n\nplotting.plot_matrix(correlation_matrix, figure=(10, 8), labels=labels[1:],\n                     vmax=0.8, vmin=-0.8,\n                     title='simple with global signal',\n                     reorder=True)\n\nplotting.show()"
      ]
    },
    {
      "cell_type": "markdown",
      "metadata": {},
      "source": [
        "## References\n\n.. footbibliography::\n\n"
      ]
    }
  ],
  "metadata": {
    "kernelspec": {
      "display_name": "Python 3",
      "language": "python",
      "name": "python3"
    },
    "language_info": {
      "codemirror_mode": {
        "name": "ipython",
        "version": 3
      },
      "file_extension": ".py",
      "mimetype": "text/x-python",
      "name": "python",
      "nbconvert_exporter": "python",
      "pygments_lexer": "ipython3",
      "version": "3.10.4"
    }
  },
  "nbformat": 4,
  "nbformat_minor": 0
}