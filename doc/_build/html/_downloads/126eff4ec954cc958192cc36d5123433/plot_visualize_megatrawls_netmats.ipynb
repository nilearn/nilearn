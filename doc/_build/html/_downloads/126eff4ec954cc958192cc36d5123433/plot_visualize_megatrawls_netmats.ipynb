{
  "cells": [
    {
      "cell_type": "code",
      "execution_count": null,
      "metadata": {
        "collapsed": false
      },
      "outputs": [],
      "source": [
        "%matplotlib inline"
      ]
    },
    {
      "cell_type": "markdown",
      "metadata": {},
      "source": [
        "\n# Visualizing Megatrawls Network Matrices from Human Connectome Project\n\nThis example shows how to fetch network matrices data from HCP beta-release\nof the Functional Connectivity Megatrawl project.\n\nSee :func:`nilearn.datasets.fetch_megatrawls_netmats` documentation for more details.\n"
      ]
    },
    {
      "cell_type": "markdown",
      "metadata": {},
      "source": [
        "## Fetching the Megatrawls Network matrices\nFetching the partial correlation matrices of dimensionality d=300 with\ntimeseries method 'eigen regression'\n\n"
      ]
    },
    {
      "cell_type": "code",
      "execution_count": null,
      "metadata": {
        "collapsed": false
      },
      "outputs": [],
      "source": [
        "from nilearn import datasets\n\nnetmats = datasets.fetch_megatrawls_netmats(dimensionality=300,\n                                            timeseries='eigen_regression',\n                                            matrices='partial_correlation')\n# Partial correlation matrices array of size (300, 300) are stored in the name\n# of 'correlation_matrices'\npartial_correlation = netmats.correlation_matrices"
      ]
    },
    {
      "cell_type": "markdown",
      "metadata": {},
      "source": [
        "## Visualization\nImport nilearn plotting modules to use its utilities for plotting\ncorrelation matrices\n\n"
      ]
    },
    {
      "cell_type": "code",
      "execution_count": null,
      "metadata": {
        "collapsed": false
      },
      "outputs": [],
      "source": [
        "from nilearn import plotting\n\ntitle = \"Partial correlation matrices\\n for d=300\"\ndisplay = plotting.plot_matrix(partial_correlation, colorbar=True,\n                               title=title)\nplotting.show()"
      ]
    }
  ],
  "metadata": {
    "kernelspec": {
      "display_name": "Python 3",
      "language": "python",
      "name": "python3"
    },
    "language_info": {
      "codemirror_mode": {
        "name": "ipython",
        "version": 3
      },
      "file_extension": ".py",
      "mimetype": "text/x-python",
      "name": "python",
      "nbconvert_exporter": "python",
      "pygments_lexer": "ipython3",
      "version": "3.10.4"
    }
  },
  "nbformat": 4,
  "nbformat_minor": 0
}