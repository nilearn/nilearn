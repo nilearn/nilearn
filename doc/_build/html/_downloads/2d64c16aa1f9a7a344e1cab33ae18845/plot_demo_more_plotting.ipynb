{
  "cells": [
    {
      "cell_type": "code",
      "execution_count": null,
      "metadata": {
        "collapsed": false
      },
      "outputs": [],
      "source": [
        "%matplotlib inline"
      ]
    },
    {
      "cell_type": "markdown",
      "metadata": {},
      "source": [
        "\n# More plotting tools from nilearn\n\nIn this example, we show how to use some plotting options available with\nplotting functions of nilearn. These techniques are essential for\nvisualizing brain image analysis results.\n\nPlotting functions of Nilearn, such as\n:func:`~nilearn.plotting.plot_stat_map`, have a few useful parameters\nwhich control what type of display object will be\nreturned, as well as how many cuts will be shown for example.\n\nAs we will see in the first part of this example, depending on the values of\nthe parameters ``display_mode`` and ``cut_coords``, plotting functions return\ndifferent display objects, all subclasses of\n:class:`nilearn.plotting.displays.OrthoSlicer`.\n\nThese objects implement various methods to interact with the figures. In the\nsecond part of this example, we show how to use these methods to further\ncustomize the figures obtained with plotting functions. More precisely, we\nwill show how to use :meth:`~nilearn.plotting.displays.OrthoSlicer.add_edges`,\n:meth:`~nilearn.plotting.displays.OrthoSlicer.add_contours`, and\n:meth:`~nilearn.plotting.displays.OrthoSlicer.add_markers`, all essential\nin visualizing regions of interest images, or mask images overlaying on\nsubject specific anatomical / :term:`EPI` image.\n\nThe parameter ``display_mode`` is used to draw brain slices along given\nspecific directions, where directions can be one of 'ortho',\n'tiled', 'mosaic', 'x', 'y', 'z', 'yx', 'xz', 'yz'. Whereas parameter\n``cut_coords`` is used to specify a limited number of slices to visualize\nalong given specific slice direction.\n\nThe parameter ``cut_coords`` can also be used to draw the specific cuts in\nthe slices by giving its particular coordinates in :term:`MNI` space\naccordingly with particular slice direction. This helps us point to the\nactivation specific location of the brain slices.\n\nSee `plotting` for more details.\n"
      ]
    },
    {
      "cell_type": "markdown",
      "metadata": {},
      "source": [
        "## First, we retrieve data from nilearn provided (general-purpose) datasets\n\n"
      ]
    },
    {
      "cell_type": "code",
      "execution_count": null,
      "metadata": {
        "collapsed": false
      },
      "outputs": [],
      "source": [
        "from nilearn import datasets\n\n# haxby dataset to have anatomical image, EPI images and masks\nhaxby_dataset = datasets.fetch_haxby()\nhaxby_anat_filename = haxby_dataset.anat[0]\nhaxby_mask_filename = haxby_dataset.mask_vt[0]\nhaxby_func_filename = haxby_dataset.func[0]\n\n# localizer dataset to have contrast maps\nmotor_images = datasets.fetch_neurovault_motor_task()\nstat_img = motor_images.images[0]"
      ]
    },
    {
      "cell_type": "markdown",
      "metadata": {},
      "source": [
        "Now, we show from here how to visualize the retrieved datasets using plotting\ntools from nilearn.\n\n"
      ]
    },
    {
      "cell_type": "code",
      "execution_count": null,
      "metadata": {
        "collapsed": false
      },
      "outputs": [],
      "source": [
        "from nilearn import plotting"
      ]
    },
    {
      "cell_type": "markdown",
      "metadata": {},
      "source": [
        "## Visualizing in - 'sagittal', 'coronal' and 'axial' with given coordinates\n\nThe first argument ``stat_img`` is a path to the filename of a contrast map.\nThe optional argument ``display_mode`` is given as a string 'ortho' to\nvisualize the map in three specific directions xyz. Because of this, the\nplotting function returns a :class:`~nilearn.plotting.displays.OrthoSlicer`\nobject. The optional ``cut_coords`` argument is specified here as a list of\nintegers representing coordinates of each slice in the order [x, y, z].\nBy default the ``colorbar`` argument is set to ``True`` in\n:func:`~nilearn.plotting.plot_stat_map`.\n\n"
      ]
    },
    {
      "cell_type": "code",
      "execution_count": null,
      "metadata": {
        "collapsed": false
      },
      "outputs": [],
      "source": [
        "plotting.plot_stat_map(stat_img, display_mode='ortho',\n                       cut_coords=[36, -27, 60],\n                       title=\"display_mode='ortho', cut_coords=[36, -27, 60]\")"
      ]
    },
    {
      "cell_type": "markdown",
      "metadata": {},
      "source": [
        "## Visualizing in - single view 'axial' with number of cuts=5\n\nFor axial visualization, we set ``display_mode='z'``. As a\nconsequence :func:`~nilearn.plotting.plot_stat_map` returns a\n:class:`~nilearn.plotting.displays.ZSlicer` object.\nThe parameter ``cut_coords`` is provided here as an integer (5) rather than\na list, which implies that the number of cuts in the slices should be 5\nmaximum. Note that the coordinates used to cut the slices are selected\nautomatically.\n\n"
      ]
    },
    {
      "cell_type": "code",
      "execution_count": null,
      "metadata": {
        "collapsed": false
      },
      "outputs": [],
      "source": [
        "plotting.plot_stat_map(stat_img, display_mode='z', cut_coords=5,\n                       title=\"display_mode='z', cut_coords=5\")"
      ]
    },
    {
      "cell_type": "markdown",
      "metadata": {},
      "source": [
        "## Visualizing in - single view 'sagittal' with only two slices\n\nFor sagittal visualization, we set ``display_mode='x'`` which returns a\n:class:`~nilearn.plotting.displays.XSlicer` object.\nAdditionally, we provide the coordinates of the slices as a list of\nintegers.\n\n"
      ]
    },
    {
      "cell_type": "code",
      "execution_count": null,
      "metadata": {
        "collapsed": false
      },
      "outputs": [],
      "source": [
        "plotting.plot_stat_map(stat_img, display_mode='x',\n                       cut_coords=[-36, 36],\n                       title=\"display_mode='x', cut_coords=[-36, 36]\")"
      ]
    },
    {
      "cell_type": "markdown",
      "metadata": {},
      "source": [
        "## Visualizing in - 'coronal' view with single cut\n\nFor coronal view, we set ``display_mode='y'`` which returns a\n:class:`~nilearn.plotting.displays.YSlicer` object.\n``cut_coords`` is provided as an integer (1), and the coordinates are,\nagain, selected automatically.\n\n"
      ]
    },
    {
      "cell_type": "code",
      "execution_count": null,
      "metadata": {
        "collapsed": false
      },
      "outputs": [],
      "source": [
        "plotting.plot_stat_map(stat_img, display_mode='y', cut_coords=1,\n                       title=\"display_mode='y', cut_coords=1\")"
      ]
    },
    {
      "cell_type": "markdown",
      "metadata": {},
      "source": [
        "## Visualizing without a colorbar on the right side\n\nThe argument ``colorbar`` should be set to ``False`` to show plots without\na colorbar on the right side.\n\n"
      ]
    },
    {
      "cell_type": "code",
      "execution_count": null,
      "metadata": {
        "collapsed": false
      },
      "outputs": [],
      "source": [
        "plotting.plot_stat_map(stat_img, display_mode='z',\n                       cut_coords=1, colorbar=False,\n                       title=\"display_mode='z', cut_coords=1, colorbar=False\")"
      ]
    },
    {
      "cell_type": "markdown",
      "metadata": {},
      "source": [
        "## Visualize in - two views 'sagittal' and 'axial' with given coordinates\n\nIn order to visualize both sagittal and axial views, we set\n``display_mode='xz'``, where 'x' stands for sagittal and 'z' for axial view.\nFunction :func:`~nilearn.plotting.plot_stat_map` thus returns a\n:class:`~nilearn.plotting.displays.XZSlicer` object.\nFinally, the argument ``cut_coords`` should match with the input number of\nviews (two here). It is provided as a list of integers here to select the\nslices to be displayed.\n\n"
      ]
    },
    {
      "cell_type": "code",
      "execution_count": null,
      "metadata": {
        "collapsed": false
      },
      "outputs": [],
      "source": [
        "plotting.plot_stat_map(stat_img, display_mode='xz',\n                       cut_coords=[36, 60],\n                       title=\"display_mode='xz', cut_coords=[36, 60]\")"
      ]
    },
    {
      "cell_type": "markdown",
      "metadata": {},
      "source": [
        "## Changing the views to 'coronal', 'sagittal' views with coordinates\n\nSimilarly, we can set ``display_mode='yx'`` for combining a coronal with a\nsagittal view, which will return a\n:class:`~nilearn.plotting.displays.YXSlicer` object.\nThe coordinates will be assigned in the order of direction as [x, y, z].\n\n"
      ]
    },
    {
      "cell_type": "code",
      "execution_count": null,
      "metadata": {
        "collapsed": false
      },
      "outputs": [],
      "source": [
        "plotting.plot_stat_map(stat_img, display_mode='yx',\n                       cut_coords=[-27, 36],\n                       title=\"display_mode='yx', cut_coords=[-27, 36]\")"
      ]
    },
    {
      "cell_type": "markdown",
      "metadata": {},
      "source": [
        "## Now, views are changed to 'coronal' and 'axial' views with coordinates\n\nWe can set ``display_mode='yz'`` to combine a coronal with an axial\nview, which will return a :class:`~nilearn.plotting.displays.YZSlicer`\nobject.\n\n"
      ]
    },
    {
      "cell_type": "code",
      "execution_count": null,
      "metadata": {
        "collapsed": false
      },
      "outputs": [],
      "source": [
        "plotting.plot_stat_map(stat_img, display_mode='yz',\n                       cut_coords=[-27, 60],\n                       title=\"display_mode='yz', cut_coords=[-27, 60]\")"
      ]
    },
    {
      "cell_type": "markdown",
      "metadata": {},
      "source": [
        "## Visualizing three views in 2x2 fashion\n\nIf we want to combine three views in a 2x2 way, we can set\n``display_mode='tiled'``, which will combine sagittal, coronal, and axial\nviews. In this case, :func:`~nilearn.plotting.plot_stat_map` will return\na :class:`~nilearn.plotting.displays.TiledSlicer` object.\n\n"
      ]
    },
    {
      "cell_type": "code",
      "execution_count": null,
      "metadata": {
        "collapsed": false
      },
      "outputs": [],
      "source": [
        "plotting.plot_stat_map(stat_img, display_mode='tiled',\n                       cut_coords=[36, -27, 60],\n                       title=\"display_mode='tiled'\")"
      ]
    },
    {
      "cell_type": "markdown",
      "metadata": {},
      "source": [
        "## Visualizing three views along multiple rows and columns\n\nIf we set ``display_mode='mosaic'``, we can easily combine sagittal,\ncoronal, and axial views with different rows and columns. In this\nsituation, :func:`~nilearn.plotting.plot_stat_map` returns a\n:class:`~nilearn.plotting.displays.MosaicSlicer` object.\nIn addition, we show here the default option ``cut_coords=None``.\n\n"
      ]
    },
    {
      "cell_type": "code",
      "execution_count": null,
      "metadata": {
        "collapsed": false
      },
      "outputs": [],
      "source": [
        "plotting.plot_stat_map(stat_img, display_mode='mosaic',\n                       title=\"display_mode='mosaic' default cut_coords\")"
      ]
    },
    {
      "cell_type": "markdown",
      "metadata": {},
      "source": [
        "## Now, changing the number of slices along columns\n\nHere, we still set ``display_mode='mosaic'``, but we set the number of\nslices to be the same across views. In this case, we can specify it as\nan integer, i.e. ``cut_coords=3``.\n\n"
      ]
    },
    {
      "cell_type": "code",
      "execution_count": null,
      "metadata": {
        "collapsed": false
      },
      "outputs": [],
      "source": [
        "plotting.plot_stat_map(stat_img, display_mode='mosaic',\n                       cut_coords=3,\n                       title=\"display_mode='mosaic' with cut_coords=3\")"
      ]
    },
    {
      "cell_type": "markdown",
      "metadata": {},
      "source": [
        "## Now, another way of limiting the number of slices along rows and columns\n\nIt can be the case that we want to display a different number of cuts in\neach view. In this situation, we still set ``display_mode='mosaic'``, but\nwe specify the number of slices as a tuple of length 3.\n\n"
      ]
    },
    {
      "cell_type": "code",
      "execution_count": null,
      "metadata": {
        "collapsed": false
      },
      "outputs": [],
      "source": [
        "plotting.plot_stat_map(stat_img, display_mode='mosaic',\n                       cut_coords=(5, 4, 10),\n                       title=\"display_mode='mosaic' with cut_coords as tuple\")"
      ]
    },
    {
      "cell_type": "markdown",
      "metadata": {},
      "source": [
        "## Demonstrating various display features\n\nIn this second part, we demonstrate how to interact with the obtained\nfigures. More precisely, we will show how to use specific methods of the\ndisplay objects which can be helpful in projecting brain imaging results\nfor further interpretation.\n\n"
      ]
    },
    {
      "cell_type": "code",
      "execution_count": null,
      "metadata": {
        "collapsed": false
      },
      "outputs": [],
      "source": [
        "# Import image processing tool for basic processing of functional brain image\nfrom nilearn import image\n\n# Compute voxel-wise mean functional image across time dimension. Now we have\n# functional image in 3D assigned in mean_haxby_img\nmean_haxby_img = image.mean_img(haxby_func_filename)"
      ]
    },
    {
      "cell_type": "markdown",
      "metadata": {},
      "source": [
        "## Showing how to use `add_edges`\n\nNow let us see how to use the method\n:meth:`~nilearn.plotting.displays.OrthoSlicer.add_edges` for checking\ncoregistration by overlaying anatomical image as edges (red) on top of\nmean functional image (background), both being of same subject.\n\nFirst, we call the :func:`nilearn.plotting.plot_anat` plotting function,\nwith a background image as first argument, in this case the mean\n:term:`fMRI` image.\n\nWe then use the :meth:`~nilearn.plotting.displays.OrthoSlicer.add_edges`\nmethod. The first argument is the anatomical image and, by default,\nedges will be displayed in red ('r'). To choose a different color, use\nthe ``color`` argument.\n\n"
      ]
    },
    {
      "cell_type": "code",
      "execution_count": null,
      "metadata": {
        "collapsed": false
      },
      "outputs": [],
      "source": [
        "display = plotting.plot_anat(mean_haxby_img, title=\"add_edges\")\ndisplay.add_edges(haxby_anat_filename, color='r')"
      ]
    },
    {
      "cell_type": "markdown",
      "metadata": {},
      "source": [
        "## How to use `add_contours`\n\nHere, we show how to plot the outline of a mask (in red) on top of the\nmean :term:`EPI` image with the method\n:meth:`~nilearn.plotting.displays.OrthoSlicer.add_contours`.\nThis method is useful for region specific interpretation of brain images\n\nAs before, we call the :func:`~nilearn.plotting.plot_anat` function with a\nbackground image as first argument, in this case the mean :term:`fMRI`\nimage, and argument ``cut_coords`` as a list for manual cuts with coordinates\npointing at masked brain regions.\n\nWe then use the :meth:`~nilearn.plotting.displays.OrthoSlicer.add_contours`\nmethod of the display object returned by\n:func:`~nilearn.plotting.plot_anat`. We provide the path to a mask image\nfrom the Haxby dataset as the first argument, and we provide ``levels`` as\na list of values to select particular levels in the contour to display.\nWe also specify ``colors='r'`` to display edges in red (See function\n:func:`~matplotlib.pyplot.contour` to use more options).\n\n"
      ]
    },
    {
      "cell_type": "code",
      "execution_count": null,
      "metadata": {
        "collapsed": false
      },
      "outputs": [],
      "source": [
        "display = plotting.plot_anat(mean_haxby_img, title=\"add_contours\",\n                             cut_coords=[-34, -39, -9])\n\ndisplay.add_contours(haxby_mask_filename, levels=[0.5], colors='r')"
      ]
    },
    {
      "cell_type": "markdown",
      "metadata": {},
      "source": [
        "Here, we plot the outline of the mask (in blue) with color fillings using\nthe same method :meth:`~nilearn.plotting.displays.OrthoSlicer.add_contours`.\n\nBy default, no color fillings will be shown using\n:meth:`~nilearn.plotting.displays.OrthoSlicer.add_contours`. To see\ncontours with color fillings, use argument ``filled=True``. Here, contour\ncolors are changed to blue 'b', and we specify ``alpha=0.7`` to set the\ntransparency of the fillings.\nSee function :func:`~matplotlib.pyplot.contourf` to use more options (given\nthat ``filled`` should be ``True``).\n\n"
      ]
    },
    {
      "cell_type": "code",
      "execution_count": null,
      "metadata": {
        "collapsed": false
      },
      "outputs": [],
      "source": [
        "display = plotting.plot_anat(mean_haxby_img,\n                             title=\"add_contours with filled=True\",\n                             cut_coords=[-34, -39, -9])\n\ndisplay.add_contours(haxby_mask_filename, filled=True, alpha=0.7,\n                     levels=[0.5], colors='b')"
      ]
    },
    {
      "cell_type": "markdown",
      "metadata": {},
      "source": [
        "## Plotting seeds using `add_markers`\n\nPlotting seed regions of interest as spheres using method\n:meth:`~nilearn.plotting.displays.OrthoSlicer.add_markers`\nwith :term:`MNI` coordinates of interest.\n\nThe coordinates of the seed regions should be specified as the first\nargument, and second argument ``marker_color`` is used to denote the\ncolor of the sphere (in this case yellow 'y'). The third argument\n``marker_size`` is used to control the size of the sphere.\n\n"
      ]
    },
    {
      "cell_type": "code",
      "execution_count": null,
      "metadata": {
        "collapsed": false
      },
      "outputs": [],
      "source": [
        "display = plotting.plot_anat(mean_haxby_img, title=\"add_markers\",\n                             cut_coords=[-34, -39, -9])\ncoords = [(-34, -39, -9)]\ndisplay.add_markers(coords, marker_color='y', marker_size=100)"
      ]
    },
    {
      "cell_type": "markdown",
      "metadata": {},
      "source": [
        "## Annotating plots\n\nIt is possible to alter the default annotations of plots, using the\nmethod :meth:`~nilearn.plotting.displays.OrthoSlicer.annotate` of the\ndisplay objects. For example, we can add a scale bar at the bottom\nright of each view:\n\n"
      ]
    },
    {
      "cell_type": "code",
      "execution_count": null,
      "metadata": {
        "collapsed": false
      },
      "outputs": [],
      "source": [
        "display = plotting.plot_anat(mean_haxby_img,\n                             title=\"adding a scale bar\",\n                             cut_coords=[-34, -39, -9])\ndisplay.annotate(scalebar=True)"
      ]
    },
    {
      "cell_type": "markdown",
      "metadata": {},
      "source": [
        "Further configuration can be achieved by setting ``scale_*`` keyword args.\nFor instance, we can change the ``units`` to ``mm``, or use a different\nscale bar size.\n\n"
      ]
    },
    {
      "cell_type": "code",
      "execution_count": null,
      "metadata": {
        "collapsed": false
      },
      "outputs": [],
      "source": [
        "display = plotting.plot_anat(mean_haxby_img,\n                             title=\"adding a scale bar\",\n                             cut_coords=[-34, -39, -9])\ndisplay.annotate(scalebar=True, scale_size=25, scale_units='mm')"
      ]
    },
    {
      "cell_type": "markdown",
      "metadata": {},
      "source": [
        "## Saving plots to file\n\nFinally, we can save a plot to file in two different ways:\n\nFirst, we can save the contrast maps plotted with the function\n:func:`nilearn.plotting.plot_stat_map` using the built-in parameter\n``output_file``. We provide the filename and the file extension as\na string (supported extensions are .png, .pdf, .svg).\n\n"
      ]
    },
    {
      "cell_type": "code",
      "execution_count": null,
      "metadata": {
        "collapsed": false
      },
      "outputs": [],
      "source": [
        "plotting.plot_stat_map(stat_img,\n                       title='Using plot_stat_map output_file',\n                       output_file='plot_stat_map.png')"
      ]
    },
    {
      "cell_type": "markdown",
      "metadata": {},
      "source": [
        "A second way to save plots is by using the method\n:meth:`~nilearn.plotting.displays.OrthoSlicer.savefig` of the display\nobject returned.\n\n"
      ]
    },
    {
      "cell_type": "code",
      "execution_count": null,
      "metadata": {
        "collapsed": false
      },
      "outputs": [],
      "source": [
        "display = plotting.plot_stat_map(stat_img,\n                                 title='Using display savefig')\n\ndisplay.savefig('plot_stat_map_from_display.png')\n\n# In non-interactive settings make sure you close your displays\ndisplay.close()\n\nplotting.show()"
      ]
    }
  ],
  "metadata": {
    "kernelspec": {
      "display_name": "Python 3",
      "language": "python",
      "name": "python3"
    },
    "language_info": {
      "codemirror_mode": {
        "name": "ipython",
        "version": 3
      },
      "file_extension": ".py",
      "mimetype": "text/x-python",
      "name": "python",
      "nbconvert_exporter": "python",
      "pygments_lexer": "ipython3",
      "version": "3.10.4"
    }
  },
  "nbformat": 4,
  "nbformat_minor": 0
}