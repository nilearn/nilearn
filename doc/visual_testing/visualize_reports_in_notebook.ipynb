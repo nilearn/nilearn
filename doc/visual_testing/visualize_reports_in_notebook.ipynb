{
 "cells": [
  {
   "cell_type": "markdown",
   "id": "ac01f1a3-b34d-40df-92ed-051d44b14d6a",
   "metadata": {},
   "source": [
    "# Test rendering of maskers in notebook"
   ]
  },
  {
   "cell_type": "code",
   "execution_count": 1,
   "id": "70e4a5a8-44bf-4d6e-a1f8-7749575da282",
   "metadata": {
    "execution": {
     "iopub.execute_input": "2025-01-03T19:33:57.650231Z",
     "iopub.status.busy": "2025-01-03T19:33:57.649941Z",
     "iopub.status.idle": "2025-01-03T19:33:59.577789Z",
     "shell.execute_reply": "2025-01-03T19:33:59.577029Z",
     "shell.execute_reply.started": "2025-01-03T19:33:57.650198Z"
    },
    "tags": []
   },
   "outputs": [],
   "source": [
    "from reporter_visual_inspection_suite import (\n",
    "    report_flm_adhd_dmn,\n",
    "    report_flm_bids_features,\n",
    "    report_flm_fiac,\n",
    "    report_multi_nifti_labels_masker,\n",
    "    report_multi_nifti_maps_masker,\n",
    "    report_multi_nifti_masker,\n",
    "    report_nifti_labels_masker,\n",
    "    report_nifti_maps_masker,\n",
    "    report_nifti_masker,\n",
    "    report_slm_oasis,\n",
    "    report_surface_glm,\n",
    ")"
   ]
  },
  {
   "cell_type": "markdown",
   "id": "a33bff1f-46c6-408b-9fd8-4fde2d4d5f2b",
   "metadata": {},
   "source": [
    "## Maskers reports"
   ]
  },
  {
   "cell_type": "code",
   "execution_count": null,
   "id": "16945cb2-f391-4b64-99ca-6eb2f07ab9f2",
   "metadata": {
    "scrolled": true
   },
   "outputs": [],
   "source": [
    "report = report_nifti_masker()\n",
    "report"
   ]
  },
  {
   "cell_type": "code",
   "execution_count": null,
   "id": "beb696e9-7d30-4376-b12a-858f2917be13",
   "metadata": {},
   "outputs": [],
   "source": [
    "report = report_nifti_maps_masker()\n",
    "report"
   ]
  },
  {
   "cell_type": "code",
   "execution_count": null,
   "id": "d54e9adc-8f12-4c58-bda6-f6fd189526d6",
   "metadata": {},
   "outputs": [],
   "source": [
    "report = report_nifti_labels_masker()\n",
    "report"
   ]
  },
  {
   "cell_type": "code",
   "execution_count": null,
   "id": "a5f68c05-64de-4622-9236-ba13aa344947",
   "metadata": {},
   "outputs": [],
   "source": [
    "empty_report, report = report_multi_nifti_masker()\n",
    "empty_report"
   ]
  },
  {
   "cell_type": "code",
   "execution_count": null,
   "id": "bf7a8e5c-c1b7-4e8d-a313-ae89dc070728",
   "metadata": {},
   "outputs": [],
   "source": [
    "report = report_multi_nifti_labels_masker()\n",
    "report"
   ]
  },
  {
   "cell_type": "code",
   "execution_count": null,
   "id": "a9d75bea-b367-4f55-8daa-56824680d98a",
   "metadata": {},
   "outputs": [],
   "source": [
    "empty_report, report = report_multi_nifti_maps_masker()\n",
    "empty_report"
   ]
  },
  {
   "cell_type": "code",
   "execution_count": null,
   "id": "5709ff13",
   "metadata": {},
   "outputs": [],
   "source": [
    "report"
   ]
  },
  {
   "cell_type": "markdown",
   "id": "50bc2503-ab16-479e-8c03-c2f3b17a3d51",
   "metadata": {},
   "source": [
    "## GLM reports"
   ]
  },
  {
   "cell_type": "code",
   "execution_count": 2,
   "id": "f4105050",
   "metadata": {
    "execution": {
     "iopub.execute_input": "2025-01-03T19:34:02.338632Z",
     "iopub.status.busy": "2025-01-03T19:34:02.337884Z",
     "iopub.status.idle": "2025-01-03T19:34:02.378229Z",
     "shell.execute_reply": "2025-01-03T19:34:02.377661Z",
     "shell.execute_reply.started": "2025-01-03T19:34:02.338570Z"
    },
    "tags": []
   },
   "outputs": [],
   "source": [
    "report_flm_empty, report_slm_empty = report_surface_glm(build_type=\"partial\")"
   ]
  },
  {
   "cell_type": "code",
   "execution_count": null,
   "id": "a95628e7",
   "metadata": {
    "execution": {
     "iopub.execute_input": "2025-01-03T19:34:08.232712Z",
     "iopub.status.busy": "2025-01-03T19:34:08.232361Z",
     "iopub.status.idle": "2025-01-03T19:34:08.239637Z",
     "shell.execute_reply": "2025-01-03T19:34:08.238967Z",
     "shell.execute_reply.started": "2025-01-03T19:34:08.232684Z"
    },
    "tags": []
   },
   "outputs": [],
   "source": [
    "report_slm_empty"
   ]
  },
  {
   "cell_type": "code",
   "execution_count": null,
   "id": "69f2893a-1dc6-43a4-985b-34ff81ea59f8",
   "metadata": {},
   "outputs": [],
   "source": [
    "report = report_flm_bids_features()\n",
    "report"
   ]
  },
  {
   "cell_type": "code",
   "execution_count": null,
   "id": "8b0e6ee9-98ab-4e60-851e-540a91120c94",
   "metadata": {},
   "outputs": [],
   "source": [
    "report = report_flm_fiac()\n",
    "report"
   ]
  },
  {
   "cell_type": "code",
   "execution_count": null,
   "id": "7723bf59-9f5b-439a-aac8-2bd1a79187f9",
   "metadata": {},
   "outputs": [],
   "source": [
    "report = report_slm_oasis()\n",
    "report"
   ]
  },
  {
   "cell_type": "code",
   "execution_count": null,
   "id": "baa1642b-c421-4ea1-a322-33cc5c32733f",
   "metadata": {},
   "outputs": [],
   "source": [
    "masker_report, glm_report = report_flm_adhd_dmn()\n",
    "masker_report"
   ]
  },
  {
   "cell_type": "code",
   "execution_count": null,
   "id": "5911e463-c0f0-40b2-87ed-b3abae952221",
   "metadata": {},
   "outputs": [],
   "source": [
    "glm_report"
   ]
  }
 ],
 "metadata": {
  "kernelspec": {
   "display_name": "base",
   "language": "python",
   "name": "python3"
  },
  "language_info": {
   "codemirror_mode": {
    "name": "ipython",
    "version": 3
   },
   "file_extension": ".py",
   "mimetype": "text/x-python",
   "name": "python",
   "nbconvert_exporter": "python",
   "pygments_lexer": "ipython3",
   "version": "3.12.3"
  }
 },
 "nbformat": 4,
 "nbformat_minor": 5
}
